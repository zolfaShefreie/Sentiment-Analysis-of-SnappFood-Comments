{
  "nbformat": 4,
  "nbformat_minor": 0,
  "metadata": {
    "colab": {
      "name": "snappfood_comments.ipynb",
      "provenance": [],
      "collapsed_sections": [
        "3eRhI2aU5eDo"
      ],
      "authorship_tag": "ABX9TyN5z4DRG0w7XgXa9JX5fqZQ",
      "include_colab_link": true
    },
    "kernelspec": {
      "name": "python3",
      "display_name": "Python 3"
    },
    "language_info": {
      "name": "python"
    },
    "gpuClass": "standard",
    "accelerator": "GPU"
  },
  "cells": [
    {
      "cell_type": "markdown",
      "metadata": {
        "id": "view-in-github",
        "colab_type": "text"
      },
      "source": [
        "<a href=\"https://colab.research.google.com/github/zolfaShefreie/Sentiment-Analysis-of-SnappFood-Comments/blob/main/model_using_fasttext_word2vec.ipynb\" target=\"_parent\"><img src=\"https://colab.research.google.com/assets/colab-badge.svg\" alt=\"Open In Colab\"/></a>"
      ]
    },
    {
      "cell_type": "code",
      "source": [
        "from google.colab import drive\n",
        "drive.mount(\"/content/drive/\")"
      ],
      "metadata": {
        "colab": {
          "base_uri": "https://localhost:8080/"
        },
        "id": "r0jDQsInDaNt",
        "outputId": "e042dc46-c4ba-4bb8-9f9b-c0ef7b7a98b8"
      },
      "execution_count": 1,
      "outputs": [
        {
          "output_type": "stream",
          "name": "stdout",
          "text": [
            "Mounted at /content/drive/\n"
          ]
        }
      ]
    },
    {
      "cell_type": "markdown",
      "source": [
        "#install packages"
      ],
      "metadata": {
        "id": "3eRhI2aU5eDo"
      }
    },
    {
      "cell_type": "code",
      "source": [
        "!pip install parsivar"
      ],
      "metadata": {
        "colab": {
          "base_uri": "https://localhost:8080/"
        },
        "id": "lmX8qN5g5I6Z",
        "outputId": "8e88a038-a388-4779-bbaf-4a4798117e44"
      },
      "execution_count": 2,
      "outputs": [
        {
          "output_type": "stream",
          "name": "stdout",
          "text": [
            "Looking in indexes: https://pypi.org/simple, https://us-python.pkg.dev/colab-wheels/public/simple/\n",
            "Collecting parsivar\n",
            "  Downloading parsivar-0.2.3.tar.gz (36.2 MB)\n",
            "\u001b[K     |████████████████████████████████| 36.2 MB 219 kB/s \n",
            "\u001b[?25hCollecting nltk==3.4.5\n",
            "  Downloading nltk-3.4.5.zip (1.5 MB)\n",
            "\u001b[K     |████████████████████████████████| 1.5 MB 20.9 MB/s \n",
            "\u001b[?25hRequirement already satisfied: six in /usr/local/lib/python3.7/dist-packages (from nltk==3.4.5->parsivar) (1.15.0)\n",
            "Building wheels for collected packages: parsivar, nltk\n",
            "  Building wheel for parsivar (setup.py) ... \u001b[?25l\u001b[?25hdone\n",
            "  Created wheel for parsivar: filename=parsivar-0.2.3-py3-none-any.whl size=36492972 sha256=199aed47812fbe6dd7758cf14d3f43c05cd42e6678f5e4fa17c3ae2d69568220\n",
            "  Stored in directory: /root/.cache/pip/wheels/ae/67/7a/49cbf08f64d3f76a26eceaf0e481a40e233f05d4356875cbed\n",
            "  Building wheel for nltk (setup.py) ... \u001b[?25l\u001b[?25hdone\n",
            "  Created wheel for nltk: filename=nltk-3.4.5-py3-none-any.whl size=1449922 sha256=7cb365e82bb4513cc580d05129ad039ccdef21e2bbf4bbcc4485ad9186ac0c56\n",
            "  Stored in directory: /root/.cache/pip/wheels/48/8b/7f/473521e0c731c6566d631b281f323842bbda9bd819eb9a3ead\n",
            "Successfully built parsivar nltk\n",
            "Installing collected packages: nltk, parsivar\n",
            "  Attempting uninstall: nltk\n",
            "    Found existing installation: nltk 3.7\n",
            "    Uninstalling nltk-3.7:\n",
            "      Successfully uninstalled nltk-3.7\n",
            "Successfully installed nltk-3.4.5 parsivar-0.2.3\n"
          ]
        }
      ]
    },
    {
      "cell_type": "code",
      "source": [
        "!pip install hazm"
      ],
      "metadata": {
        "colab": {
          "base_uri": "https://localhost:8080/"
        },
        "id": "D-dP_kMX5Mb8",
        "outputId": "64db40d0-f4af-4d59-a7b1-19c5ec07020d"
      },
      "execution_count": 3,
      "outputs": [
        {
          "output_type": "stream",
          "name": "stdout",
          "text": [
            "Looking in indexes: https://pypi.org/simple, https://us-python.pkg.dev/colab-wheels/public/simple/\n",
            "Collecting hazm\n",
            "  Downloading hazm-0.7.0-py3-none-any.whl (316 kB)\n",
            "\u001b[K     |████████████████████████████████| 316 kB 4.3 MB/s \n",
            "\u001b[?25hCollecting libwapiti>=0.2.1\n",
            "  Downloading libwapiti-0.2.1.tar.gz (233 kB)\n",
            "\u001b[K     |████████████████████████████████| 233 kB 49.0 MB/s \n",
            "\u001b[?25hCollecting nltk==3.3\n",
            "  Downloading nltk-3.3.0.zip (1.4 MB)\n",
            "\u001b[K     |████████████████████████████████| 1.4 MB 40.1 MB/s \n",
            "\u001b[?25hRequirement already satisfied: six in /usr/local/lib/python3.7/dist-packages (from nltk==3.3->hazm) (1.15.0)\n",
            "Building wheels for collected packages: nltk, libwapiti\n",
            "  Building wheel for nltk (setup.py) ... \u001b[?25l\u001b[?25hdone\n",
            "  Created wheel for nltk: filename=nltk-3.3-py3-none-any.whl size=1394487 sha256=df1a360aa9bd1ddabac981109b8c5414d14e1ab68c5f41345a8a56f782c7bd46\n",
            "  Stored in directory: /root/.cache/pip/wheels/9b/fd/0c/d92302c876e5de87ebd7fc0979d82edb93e2d8d768bf71fac4\n",
            "  Building wheel for libwapiti (setup.py) ... \u001b[?25l\u001b[?25hdone\n",
            "  Created wheel for libwapiti: filename=libwapiti-0.2.1-cp37-cp37m-linux_x86_64.whl size=154171 sha256=4803a3b9c6db3f03a2ff9c9b57b9c981e605a99b68217b84c39acb5c33e3aa5d\n",
            "  Stored in directory: /root/.cache/pip/wheels/ab/b2/5b/0fe4b8f5c0e65341e8ea7bb3f4a6ebabfe8b1ac31322392dbf\n",
            "Successfully built nltk libwapiti\n",
            "Installing collected packages: nltk, libwapiti, hazm\n",
            "  Attempting uninstall: nltk\n",
            "    Found existing installation: nltk 3.4.5\n",
            "    Uninstalling nltk-3.4.5:\n",
            "      Successfully uninstalled nltk-3.4.5\n",
            "\u001b[31mERROR: pip's dependency resolver does not currently take into account all the packages that are installed. This behaviour is the source of the following dependency conflicts.\n",
            "parsivar 0.2.3 requires nltk==3.4.5, but you have nltk 3.3 which is incompatible.\u001b[0m\n",
            "Successfully installed hazm-0.7.0 libwapiti-0.2.1 nltk-3.3\n"
          ]
        }
      ]
    },
    {
      "cell_type": "code",
      "source": [
        "!pip install googletrans==4.0.0-rc1"
      ],
      "metadata": {
        "colab": {
          "base_uri": "https://localhost:8080/"
        },
        "id": "1zfziRam5Tar",
        "outputId": "167a61f9-24af-456a-cfea-3efc99235bd6"
      },
      "execution_count": 4,
      "outputs": [
        {
          "output_type": "stream",
          "name": "stdout",
          "text": [
            "Looking in indexes: https://pypi.org/simple, https://us-python.pkg.dev/colab-wheels/public/simple/\n",
            "Collecting googletrans==4.0.0-rc1\n",
            "  Downloading googletrans-4.0.0rc1.tar.gz (20 kB)\n",
            "Collecting httpx==0.13.3\n",
            "  Downloading httpx-0.13.3-py3-none-any.whl (55 kB)\n",
            "\u001b[K     |████████████████████████████████| 55 kB 2.2 MB/s \n",
            "\u001b[?25hRequirement already satisfied: certifi in /usr/local/lib/python3.7/dist-packages (from httpx==0.13.3->googletrans==4.0.0-rc1) (2022.6.15)\n",
            "Requirement already satisfied: chardet==3.* in /usr/local/lib/python3.7/dist-packages (from httpx==0.13.3->googletrans==4.0.0-rc1) (3.0.4)\n",
            "Collecting sniffio\n",
            "  Downloading sniffio-1.2.0-py3-none-any.whl (10 kB)\n",
            "Collecting httpcore==0.9.*\n",
            "  Downloading httpcore-0.9.1-py3-none-any.whl (42 kB)\n",
            "\u001b[K     |████████████████████████████████| 42 kB 1.3 MB/s \n",
            "\u001b[?25hCollecting rfc3986<2,>=1.3\n",
            "  Downloading rfc3986-1.5.0-py2.py3-none-any.whl (31 kB)\n",
            "Requirement already satisfied: idna==2.* in /usr/local/lib/python3.7/dist-packages (from httpx==0.13.3->googletrans==4.0.0-rc1) (2.10)\n",
            "Collecting hstspreload\n",
            "  Downloading hstspreload-2021.12.1-py3-none-any.whl (1.3 MB)\n",
            "\u001b[K     |████████████████████████████████| 1.3 MB 9.0 MB/s \n",
            "\u001b[?25hCollecting h2==3.*\n",
            "  Downloading h2-3.2.0-py2.py3-none-any.whl (65 kB)\n",
            "\u001b[K     |████████████████████████████████| 65 kB 3.4 MB/s \n",
            "\u001b[?25hCollecting h11<0.10,>=0.8\n",
            "  Downloading h11-0.9.0-py2.py3-none-any.whl (53 kB)\n",
            "\u001b[K     |████████████████████████████████| 53 kB 2.1 MB/s \n",
            "\u001b[?25hCollecting hpack<4,>=3.0\n",
            "  Downloading hpack-3.0.0-py2.py3-none-any.whl (38 kB)\n",
            "Collecting hyperframe<6,>=5.2.0\n",
            "  Downloading hyperframe-5.2.0-py2.py3-none-any.whl (12 kB)\n",
            "Building wheels for collected packages: googletrans\n",
            "  Building wheel for googletrans (setup.py) ... \u001b[?25l\u001b[?25hdone\n",
            "  Created wheel for googletrans: filename=googletrans-4.0.0rc1-py3-none-any.whl size=17416 sha256=ed727d73089d63e8e33bf493d1a413f526afa030fe0c58474e4e2f45749df044\n",
            "  Stored in directory: /root/.cache/pip/wheels/43/34/00/4fe71786ea6d12314b29037620c36d857e5d104ac2748bf82a\n",
            "Successfully built googletrans\n",
            "Installing collected packages: hyperframe, hpack, sniffio, h2, h11, rfc3986, httpcore, hstspreload, httpx, googletrans\n",
            "Successfully installed googletrans-4.0.0rc1 h11-0.9.0 h2-3.2.0 hpack-3.0.0 hstspreload-2021.12.1 httpcore-0.9.1 httpx-0.13.3 hyperframe-5.2.0 rfc3986-1.5.0 sniffio-1.2.0\n"
          ]
        }
      ]
    },
    {
      "cell_type": "code",
      "source": [
        "!pip install finglish"
      ],
      "metadata": {
        "colab": {
          "base_uri": "https://localhost:8080/"
        },
        "id": "j1HjqWvB5Z_h",
        "outputId": "8a44e53b-4f0d-456e-fed2-de154587bbba"
      },
      "execution_count": 5,
      "outputs": [
        {
          "output_type": "stream",
          "name": "stdout",
          "text": [
            "Looking in indexes: https://pypi.org/simple, https://us-python.pkg.dev/colab-wheels/public/simple/\n",
            "Collecting finglish\n",
            "  Downloading finglish-1.5.1-py3-none-any.whl (2.4 MB)\n",
            "\u001b[K     |████████████████████████████████| 2.4 MB 4.2 MB/s \n",
            "\u001b[?25hInstalling collected packages: finglish\n",
            "Successfully installed finglish-1.5.1\n"
          ]
        }
      ]
    },
    {
      "cell_type": "code",
      "source": [
        "!pip install langdetect"
      ],
      "metadata": {
        "colab": {
          "base_uri": "https://localhost:8080/"
        },
        "id": "concDVmJgBRM",
        "outputId": "b1144c9e-af0b-4b6c-c965-4fea4c5db15a"
      },
      "execution_count": 6,
      "outputs": [
        {
          "output_type": "stream",
          "name": "stdout",
          "text": [
            "Looking in indexes: https://pypi.org/simple, https://us-python.pkg.dev/colab-wheels/public/simple/\n",
            "Collecting langdetect\n",
            "  Downloading langdetect-1.0.9.tar.gz (981 kB)\n",
            "\u001b[K     |████████████████████████████████| 981 kB 4.3 MB/s \n",
            "\u001b[?25hRequirement already satisfied: six in /usr/local/lib/python3.7/dist-packages (from langdetect) (1.15.0)\n",
            "Building wheels for collected packages: langdetect\n",
            "  Building wheel for langdetect (setup.py) ... \u001b[?25l\u001b[?25hdone\n",
            "  Created wheel for langdetect: filename=langdetect-1.0.9-py3-none-any.whl size=993242 sha256=727b283ce861359b0ffbb968bcfdd1d4f640732cedc8b9a16ab2642ea84a8666\n",
            "  Stored in directory: /root/.cache/pip/wheels/c5/96/8a/f90c59ed25d75e50a8c10a1b1c2d4c402e4dacfa87f3aff36a\n",
            "Successfully built langdetect\n",
            "Installing collected packages: langdetect\n",
            "Successfully installed langdetect-1.0.9\n"
          ]
        }
      ]
    },
    {
      "cell_type": "code",
      "source": [
        "# !pip install -U textblob\n",
        "# !python -m textblob.download_corpora"
      ],
      "metadata": {
        "id": "9yZa7ngZKaBC"
      },
      "execution_count": 7,
      "outputs": []
    },
    {
      "cell_type": "code",
      "source": [
        "!pip install transformers"
      ],
      "metadata": {
        "colab": {
          "base_uri": "https://localhost:8080/"
        },
        "id": "IvHYaGZlsw1j",
        "outputId": "b6169619-00d6-4ce3-bc55-f31f48306395"
      },
      "execution_count": 8,
      "outputs": [
        {
          "output_type": "stream",
          "name": "stdout",
          "text": [
            "Looking in indexes: https://pypi.org/simple, https://us-python.pkg.dev/colab-wheels/public/simple/\n",
            "Collecting transformers\n",
            "  Downloading transformers-4.20.1-py3-none-any.whl (4.4 MB)\n",
            "\u001b[K     |████████████████████████████████| 4.4 MB 4.1 MB/s \n",
            "\u001b[?25hCollecting pyyaml>=5.1\n",
            "  Downloading PyYAML-6.0-cp37-cp37m-manylinux_2_5_x86_64.manylinux1_x86_64.manylinux_2_12_x86_64.manylinux2010_x86_64.whl (596 kB)\n",
            "\u001b[K     |████████████████████████████████| 596 kB 59.7 MB/s \n",
            "\u001b[?25hCollecting huggingface-hub<1.0,>=0.1.0\n",
            "  Downloading huggingface_hub-0.8.1-py3-none-any.whl (101 kB)\n",
            "\u001b[K     |████████████████████████████████| 101 kB 9.5 MB/s \n",
            "\u001b[?25hRequirement already satisfied: regex!=2019.12.17 in /usr/local/lib/python3.7/dist-packages (from transformers) (2022.6.2)\n",
            "Requirement already satisfied: tqdm>=4.27 in /usr/local/lib/python3.7/dist-packages (from transformers) (4.64.0)\n",
            "Requirement already satisfied: requests in /usr/local/lib/python3.7/dist-packages (from transformers) (2.23.0)\n",
            "Collecting tokenizers!=0.11.3,<0.13,>=0.11.1\n",
            "  Downloading tokenizers-0.12.1-cp37-cp37m-manylinux_2_12_x86_64.manylinux2010_x86_64.whl (6.6 MB)\n",
            "\u001b[K     |████████████████████████████████| 6.6 MB 46.8 MB/s \n",
            "\u001b[?25hRequirement already satisfied: importlib-metadata in /usr/local/lib/python3.7/dist-packages (from transformers) (4.11.4)\n",
            "Requirement already satisfied: filelock in /usr/local/lib/python3.7/dist-packages (from transformers) (3.7.1)\n",
            "Requirement already satisfied: numpy>=1.17 in /usr/local/lib/python3.7/dist-packages (from transformers) (1.21.6)\n",
            "Requirement already satisfied: packaging>=20.0 in /usr/local/lib/python3.7/dist-packages (from transformers) (21.3)\n",
            "Requirement already satisfied: typing-extensions>=3.7.4.3 in /usr/local/lib/python3.7/dist-packages (from huggingface-hub<1.0,>=0.1.0->transformers) (4.1.1)\n",
            "Requirement already satisfied: pyparsing!=3.0.5,>=2.0.2 in /usr/local/lib/python3.7/dist-packages (from packaging>=20.0->transformers) (3.0.9)\n",
            "Requirement already satisfied: zipp>=0.5 in /usr/local/lib/python3.7/dist-packages (from importlib-metadata->transformers) (3.8.0)\n",
            "Requirement already satisfied: urllib3!=1.25.0,!=1.25.1,<1.26,>=1.21.1 in /usr/local/lib/python3.7/dist-packages (from requests->transformers) (1.24.3)\n",
            "Requirement already satisfied: idna<3,>=2.5 in /usr/local/lib/python3.7/dist-packages (from requests->transformers) (2.10)\n",
            "Requirement already satisfied: chardet<4,>=3.0.2 in /usr/local/lib/python3.7/dist-packages (from requests->transformers) (3.0.4)\n",
            "Requirement already satisfied: certifi>=2017.4.17 in /usr/local/lib/python3.7/dist-packages (from requests->transformers) (2022.6.15)\n",
            "Installing collected packages: pyyaml, tokenizers, huggingface-hub, transformers\n",
            "  Attempting uninstall: pyyaml\n",
            "    Found existing installation: PyYAML 3.13\n",
            "    Uninstalling PyYAML-3.13:\n",
            "      Successfully uninstalled PyYAML-3.13\n",
            "Successfully installed huggingface-hub-0.8.1 pyyaml-6.0 tokenizers-0.12.1 transformers-4.20.1\n"
          ]
        }
      ]
    },
    {
      "cell_type": "markdown",
      "source": [
        "#imports"
      ],
      "metadata": {
        "id": "iD2AUR7V5hwO"
      }
    },
    {
      "cell_type": "code",
      "source": [
        "from googletrans import Translator\n",
        "import parsivar\n",
        "from finglish import f2p\n",
        "import hazm\n",
        "import requests\n",
        "import io\n",
        "from textblob import Word\n",
        "import os\n",
        "from langdetect import detect"
      ],
      "metadata": {
        "colab": {
          "base_uri": "https://localhost:8080/"
        },
        "id": "GpZDqRoz5jxx",
        "outputId": "2c660784-2923-473b-9a98-a07e0766583f"
      },
      "execution_count": 9,
      "outputs": [
        {
          "output_type": "stream",
          "name": "stdout",
          "text": [
            "Loading converters...\n",
            "Loading persian word list...\n",
            "Loading dictionary...\n"
          ]
        }
      ]
    },
    {
      "cell_type": "code",
      "source": [
        "import pandas as pd\n",
        "import numpy as np\n",
        "import tensorflow as tf\n",
        "from matplotlib import pyplot as plt\n",
        "from sklearn.metrics import f1_score, precision_score, recall_score, confusion_matrix, classification_report"
      ],
      "metadata": {
        "id": "98hCv8qLszip"
      },
      "execution_count": 10,
      "outputs": []
    },
    {
      "cell_type": "code",
      "source": [
        "from tensorflow.keras.preprocessing.text import Tokenizer\n",
        "from tensorflow.keras.preprocessing.sequence import pad_sequences\n",
        "from tensorflow.keras.layers import Embedding, Input, Conv1D, MaxPooling1D, LSTM, Dense, Dropout, GlobalMaxPooling1D\n",
        "from tensorflow.keras import Model\n",
        "import keras"
      ],
      "metadata": {
        "id": "-gZRhP-ws3Y9"
      },
      "execution_count": 11,
      "outputs": []
    },
    {
      "cell_type": "code",
      "source": [
        "from transformers import BertTokenizer, TFBertModel"
      ],
      "metadata": {
        "id": "bACL8kWls6tQ"
      },
      "execution_count": 12,
      "outputs": []
    },
    {
      "cell_type": "code",
      "source": [
        "tf.__version__, keras.__version__"
      ],
      "metadata": {
        "colab": {
          "base_uri": "https://localhost:8080/"
        },
        "id": "ok5B2TjMS2jd",
        "outputId": "c73b7eda-7411-41ed-a2d9-780d80bfd76b"
      },
      "execution_count": 13,
      "outputs": [
        {
          "output_type": "execute_result",
          "data": {
            "text/plain": [
              "('2.8.2', '2.8.0')"
            ]
          },
          "metadata": {},
          "execution_count": 13
        }
      ]
    },
    {
      "cell_type": "markdown",
      "source": [
        "#utility"
      ],
      "metadata": {
        "id": "f1aKnuR852AK"
      }
    },
    {
      "cell_type": "code",
      "source": [
        "def get_stopwords():\n",
        "  url = \"https://raw.githubusercontent.com/zolfaShefreie/Sentiment-Analysis-of-SnappFood-Comments/main/persian_stopword\"\n",
        "  content = requests.get(url).content.decode(\"utf-8\") \n",
        "  return set([w for w in content.split('\\n') if w])\n"
      ],
      "metadata": {
        "id": "CtebCU0DA48Z"
      },
      "execution_count": 14,
      "outputs": []
    },
    {
      "cell_type": "code",
      "source": [
        "class TextCleaner:\n",
        "    punc = '''!()-[]{.};:'\"\\,<>/?@#$%^&*_~`|’“”…—–'''\n",
        "    normalizer = parsivar.Normalizer(date_normalizing_needed=True, \n",
        "                                     statistical_space_correction=True)\n",
        "    stemmer = parsivar.FindStems()\n",
        "    lemmatizer = hazm.Lemmatizer()\n",
        "    tokenizer = parsivar.Tokenizer()\n",
        "    translator = Translator()\n",
        "    stopwords = get_stopwords()\n",
        "\n",
        "    @classmethod\n",
        "    def normalize(cls, text):\n",
        "        \"\"\"\n",
        "        convert to persian and normlize the text\n",
        "        \"\"\"\n",
        "        if detect(text) == \"en\":\n",
        "            text = cls.translator.translate(text, src=\"en\", dest=\"fa\").text\n",
        "        elif detect(text) != \"fa\":\n",
        "            text = f2p(text)\n",
        "        text = cls.normalizer.normalize(text)\n",
        "        return text\n",
        "    \n",
        "    @classmethod\n",
        "    def remove_punc(cls, text):\n",
        "        for each in cls.punc:\n",
        "            text = text.replace(each, ' ')\n",
        "        return text\n",
        "    \n",
        "    @classmethod\n",
        "    def stem_lemmet_word(cls, word):\n",
        "        \"\"\"\n",
        "        apply stem and lemmet on word\n",
        "        \"\"\"\n",
        "        new_word = word.strip()\n",
        "        new_word = cls.stemmer.convert_to_stem(new_word)\n",
        "        if '&' in new_word:\n",
        "            new_word = new_word.split('&')[0]\n",
        "        new_word = cls.lemmatizer.lemmatize(new_word)\n",
        "        if '#' in new_word:\n",
        "            new_word = new_word.split('#')[0]\n",
        "        return new_word\n",
        "        \n",
        "\n",
        "    @classmethod\n",
        "    def word_cleaning(cls, text, use_stemm=True, use_lemmet=True, \n",
        "                      remove_stopword=True):\n",
        "      tokens = cls.tokenizer.tokenize_words(text)\n",
        "      new_text = str()\n",
        "      for token in tokens:\n",
        "          if use_stemm:\n",
        "              token = cls.stemmer.convert_to_stem(token)\n",
        "              if '&' in token:\n",
        "                  token = token.split('&')[0]\n",
        "          if use_lemmet:\n",
        "              token = cls.lemmatizer.lemmatize(token)\n",
        "              if '#' in token:\n",
        "                  token = token.split('#')[0]\n",
        "          if remove_stopword and token in cls.stopwords:\n",
        "              continue\n",
        "          new_text += \" \" + token\n",
        "      return new_text\n",
        "    \n",
        "    @classmethod\n",
        "    def clean_text(cls, text, use_stemm=False, use_lemmet=False, \n",
        "                   remove_stopword=False):\n",
        "\n",
        "        text = cls.normalize(text)\n",
        "        text = cls.remove_punc(text)\n",
        "        text = cls.word_cleaning(text, use_stemm, use_lemmet, remove_stopword)\n",
        "        text = text.replace('‌', ' ')\n",
        "        text = \" \".join(text.split())\n",
        "        return text\n"
      ],
      "metadata": {
        "id": "NDzfAvuu4JIZ"
      },
      "execution_count": 15,
      "outputs": []
    },
    {
      "cell_type": "code",
      "source": [
        "def load_vectors(fname):\n",
        "    fin = io.open(fname, 'r', encoding='utf-8', newline='\\n', errors='ignore')\n",
        "    n, d = map(int, fin.readline().split())\n",
        "    data = {}\n",
        "    for line in fin:\n",
        "        tokens = line.rstrip().split(' ')\n",
        "        data[tokens[0]] = map(float, tokens[1:])\n",
        "    return data"
      ],
      "metadata": {
        "id": "_lz4NakJI1Vw"
      },
      "execution_count": 16,
      "outputs": []
    },
    {
      "cell_type": "code",
      "source": [
        "def get_embedding_matrix(word_index, embedding_index, embed_dim, check_word_clean=True):\n",
        "    \"\"\"\n",
        "    create matrix besed on word_index\n",
        "    \"\"\"\n",
        "    embedding_matrix = np.zeros((len(word_index) + 1, embed_dim))\n",
        "    miss_word = set()\n",
        "    for word, i in word_index.items():\n",
        "        embedding_vector = embedding_index.get(word, None)\n",
        "        if embedding_vector is None:\n",
        "            embedding_vector = embedding_index.get(TextCleaner.stem_lemmet_word(word), None)\n",
        "        if embedding_vector is not None:\n",
        "            try:\n",
        "                embedding_matrix[i] = np.fromiter(embedding_vector, dtype='float32')\n",
        "            except:\n",
        "                pass\n",
        "        else:\n",
        "            miss_word.add(word)\n",
        "    return embedding_matrix, miss_word"
      ],
      "metadata": {
        "id": "yzW1G3gXSG8S"
      },
      "execution_count": 17,
      "outputs": []
    },
    {
      "cell_type": "markdown",
      "source": [
        "#load dataset"
      ],
      "metadata": {
        "id": "5CnhP_CWIVjS"
      }
    },
    {
      "cell_type": "code",
      "source": [
        "train_file_path = \"/content/drive/MyDrive/snappfood_comment/train.csv\"\n",
        "validation_file_path = \"/content/drive/MyDrive/snappfood_comment/dev.csv\"\n",
        "need_clean_train = False\n",
        "need_cleean_validation = False\n",
        "if not os.path.exists(train_file_path):\n",
        "    train_file_path = \"/content/drive/MyDrive/DM/train.csv\"\n",
        "    need_clean_train = True\n",
        "if not os.path.exists(validation_file_path):\n",
        "    validation_file_path = \"/content/drive/MyDrive/DM/dev.csv\"\n",
        "    need_cleean_validation = True"
      ],
      "metadata": {
        "id": "wRXF9TKoHcaD"
      },
      "execution_count": 18,
      "outputs": []
    },
    {
      "cell_type": "code",
      "source": [
        "train_df = pd.read_csv(train_file_path, delimiter='\\t' if need_clean_train else None , index_col=0)\n",
        "validation_df = pd.read_csv(validation_file_path, delimiter='\\t' if need_clean_train else None, index_col=0)"
      ],
      "metadata": {
        "id": "yxe-IE9WHe5N"
      },
      "execution_count": 19,
      "outputs": []
    },
    {
      "cell_type": "code",
      "source": [
        "if need_clean_train:\n",
        "    train_df['clean_comment'] = train_df['comment'].apply(TextCleaner.clean_text)\n",
        "    train_df.to_csv(\"/content/drive/MyDrive/snappfood_comment/train.csv\")"
      ],
      "metadata": {
        "id": "6wPz4w9Nah0v"
      },
      "execution_count": 20,
      "outputs": []
    },
    {
      "cell_type": "code",
      "source": [
        "if need_cleean_validation:\n",
        "    validation_df['clean_comment'] = validation_df['comment'].apply(TextCleaner.clean_text)\n",
        "    validation_df.to_csv(\"/content/drive/MyDrive/snappfood_comment/dev.csv\")"
      ],
      "metadata": {
        "id": "uy0U703jiUYX"
      },
      "execution_count": 21,
      "outputs": []
    },
    {
      "cell_type": "code",
      "source": [
        "train_df"
      ],
      "metadata": {
        "id": "DF8AwVPUHgyG",
        "colab": {
          "base_uri": "https://localhost:8080/",
          "height": 0
        },
        "outputId": "7936b4b5-7460-4d57-a7ba-fab39289ab33"
      },
      "execution_count": 22,
      "outputs": [
        {
          "output_type": "execute_result",
          "data": {
            "text/plain": [
              "                                                 comment  label  label_id  \\\n",
              "0        واقعا حیف وقت که بنویسم سرویس دهیتون شده افتضاح    SAD         1   \n",
              "1      قرار بود ۱ ساعته برسه ولی نیم ساعت زودتر از مو...  HAPPY         0   \n",
              "2      قیمت این مدل اصلا با کیفیتش سازگاری نداره، فقط...    SAD         1   \n",
              "3      عالللی بود همه چه درست و به اندازه و کیفیت خوب...  HAPPY         0   \n",
              "4                          شیرینی وانیلی فقط یک مدل بود.  HAPPY         0   \n",
              "...                                                  ...    ...       ...   \n",
              "56695  یک تیکه کم فرستاده بودن و با تماس من در کمترین...  HAPPY         0   \n",
              "56696  عالی بود همه چیز ممنونم پیک هم خیلی مرتب و به ...  HAPPY         0   \n",
              "56697  مثل همیشه عالی، من چندمین باره سفارش میدم و هر...  HAPPY         0   \n",
              "56698      دلستر استوایی خواسته بودم اما لیمویی فرستادند  HAPPY         0   \n",
              "56699  جای مرغ گریل شده ناگت بود، به این نمی‌گن چیکن ...    SAD         1   \n",
              "\n",
              "                                           clean_comment  \n",
              "0        واقعا حیف وقت که بنویسم سرویس دهیتون شده افتضاح  \n",
              "1      قرار بود 1 ساعته برسه ولی نیم ساعت زودتر از مو...  \n",
              "2      قیمت این مدل اصلا با کیفیتش سازگاری نداره ، فق...  \n",
              "3      عالللی بود همه چه درست و به اندازه و کیفیت خوب...  \n",
              "4                            شیرینی وانیلی فقط 1 مدل بود  \n",
              "...                                                  ...  \n",
              "56695  1 تیکه کم فرستاده بودن و با تماس من در کمترین ...  \n",
              "56696  عالی بود همه چیز ممنونم پیک هم خیلی مرتب و به ...  \n",
              "56697  مثل همیشه عالی ، من چندمین باره سفارش میدم و ه...  \n",
              "56698      دلستر استوایی خواسته بودم اما لیمویی فرستادند  \n",
              "56699  جای مرغ گریل شده ناگت بود ، به این نمی گن چیکن...  \n",
              "\n",
              "[56700 rows x 4 columns]"
            ],
            "text/html": [
              "\n",
              "  <div id=\"df-e03b9f00-9134-4a60-b8d4-7bd18aa771bf\">\n",
              "    <div class=\"colab-df-container\">\n",
              "      <div>\n",
              "<style scoped>\n",
              "    .dataframe tbody tr th:only-of-type {\n",
              "        vertical-align: middle;\n",
              "    }\n",
              "\n",
              "    .dataframe tbody tr th {\n",
              "        vertical-align: top;\n",
              "    }\n",
              "\n",
              "    .dataframe thead th {\n",
              "        text-align: right;\n",
              "    }\n",
              "</style>\n",
              "<table border=\"1\" class=\"dataframe\">\n",
              "  <thead>\n",
              "    <tr style=\"text-align: right;\">\n",
              "      <th></th>\n",
              "      <th>comment</th>\n",
              "      <th>label</th>\n",
              "      <th>label_id</th>\n",
              "      <th>clean_comment</th>\n",
              "    </tr>\n",
              "  </thead>\n",
              "  <tbody>\n",
              "    <tr>\n",
              "      <th>0</th>\n",
              "      <td>واقعا حیف وقت که بنویسم سرویس دهیتون شده افتضاح</td>\n",
              "      <td>SAD</td>\n",
              "      <td>1</td>\n",
              "      <td>واقعا حیف وقت که بنویسم سرویس دهیتون شده افتضاح</td>\n",
              "    </tr>\n",
              "    <tr>\n",
              "      <th>1</th>\n",
              "      <td>قرار بود ۱ ساعته برسه ولی نیم ساعت زودتر از مو...</td>\n",
              "      <td>HAPPY</td>\n",
              "      <td>0</td>\n",
              "      <td>قرار بود 1 ساعته برسه ولی نیم ساعت زودتر از مو...</td>\n",
              "    </tr>\n",
              "    <tr>\n",
              "      <th>2</th>\n",
              "      <td>قیمت این مدل اصلا با کیفیتش سازگاری نداره، فقط...</td>\n",
              "      <td>SAD</td>\n",
              "      <td>1</td>\n",
              "      <td>قیمت این مدل اصلا با کیفیتش سازگاری نداره ، فق...</td>\n",
              "    </tr>\n",
              "    <tr>\n",
              "      <th>3</th>\n",
              "      <td>عالللی بود همه چه درست و به اندازه و کیفیت خوب...</td>\n",
              "      <td>HAPPY</td>\n",
              "      <td>0</td>\n",
              "      <td>عالللی بود همه چه درست و به اندازه و کیفیت خوب...</td>\n",
              "    </tr>\n",
              "    <tr>\n",
              "      <th>4</th>\n",
              "      <td>شیرینی وانیلی فقط یک مدل بود.</td>\n",
              "      <td>HAPPY</td>\n",
              "      <td>0</td>\n",
              "      <td>شیرینی وانیلی فقط 1 مدل بود</td>\n",
              "    </tr>\n",
              "    <tr>\n",
              "      <th>...</th>\n",
              "      <td>...</td>\n",
              "      <td>...</td>\n",
              "      <td>...</td>\n",
              "      <td>...</td>\n",
              "    </tr>\n",
              "    <tr>\n",
              "      <th>56695</th>\n",
              "      <td>یک تیکه کم فرستاده بودن و با تماس من در کمترین...</td>\n",
              "      <td>HAPPY</td>\n",
              "      <td>0</td>\n",
              "      <td>1 تیکه کم فرستاده بودن و با تماس من در کمترین ...</td>\n",
              "    </tr>\n",
              "    <tr>\n",
              "      <th>56696</th>\n",
              "      <td>عالی بود همه چیز ممنونم پیک هم خیلی مرتب و به ...</td>\n",
              "      <td>HAPPY</td>\n",
              "      <td>0</td>\n",
              "      <td>عالی بود همه چیز ممنونم پیک هم خیلی مرتب و به ...</td>\n",
              "    </tr>\n",
              "    <tr>\n",
              "      <th>56697</th>\n",
              "      <td>مثل همیشه عالی، من چندمین باره سفارش میدم و هر...</td>\n",
              "      <td>HAPPY</td>\n",
              "      <td>0</td>\n",
              "      <td>مثل همیشه عالی ، من چندمین باره سفارش میدم و ه...</td>\n",
              "    </tr>\n",
              "    <tr>\n",
              "      <th>56698</th>\n",
              "      <td>دلستر استوایی خواسته بودم اما لیمویی فرستادند</td>\n",
              "      <td>HAPPY</td>\n",
              "      <td>0</td>\n",
              "      <td>دلستر استوایی خواسته بودم اما لیمویی فرستادند</td>\n",
              "    </tr>\n",
              "    <tr>\n",
              "      <th>56699</th>\n",
              "      <td>جای مرغ گریل شده ناگت بود، به این نمی‌گن چیکن ...</td>\n",
              "      <td>SAD</td>\n",
              "      <td>1</td>\n",
              "      <td>جای مرغ گریل شده ناگت بود ، به این نمی گن چیکن...</td>\n",
              "    </tr>\n",
              "  </tbody>\n",
              "</table>\n",
              "<p>56700 rows × 4 columns</p>\n",
              "</div>\n",
              "      <button class=\"colab-df-convert\" onclick=\"convertToInteractive('df-e03b9f00-9134-4a60-b8d4-7bd18aa771bf')\"\n",
              "              title=\"Convert this dataframe to an interactive table.\"\n",
              "              style=\"display:none;\">\n",
              "        \n",
              "  <svg xmlns=\"http://www.w3.org/2000/svg\" height=\"24px\"viewBox=\"0 0 24 24\"\n",
              "       width=\"24px\">\n",
              "    <path d=\"M0 0h24v24H0V0z\" fill=\"none\"/>\n",
              "    <path d=\"M18.56 5.44l.94 2.06.94-2.06 2.06-.94-2.06-.94-.94-2.06-.94 2.06-2.06.94zm-11 1L8.5 8.5l.94-2.06 2.06-.94-2.06-.94L8.5 2.5l-.94 2.06-2.06.94zm10 10l.94 2.06.94-2.06 2.06-.94-2.06-.94-.94-2.06-.94 2.06-2.06.94z\"/><path d=\"M17.41 7.96l-1.37-1.37c-.4-.4-.92-.59-1.43-.59-.52 0-1.04.2-1.43.59L10.3 9.45l-7.72 7.72c-.78.78-.78 2.05 0 2.83L4 21.41c.39.39.9.59 1.41.59.51 0 1.02-.2 1.41-.59l7.78-7.78 2.81-2.81c.8-.78.8-2.07 0-2.86zM5.41 20L4 18.59l7.72-7.72 1.47 1.35L5.41 20z\"/>\n",
              "  </svg>\n",
              "      </button>\n",
              "      \n",
              "  <style>\n",
              "    .colab-df-container {\n",
              "      display:flex;\n",
              "      flex-wrap:wrap;\n",
              "      gap: 12px;\n",
              "    }\n",
              "\n",
              "    .colab-df-convert {\n",
              "      background-color: #E8F0FE;\n",
              "      border: none;\n",
              "      border-radius: 50%;\n",
              "      cursor: pointer;\n",
              "      display: none;\n",
              "      fill: #1967D2;\n",
              "      height: 32px;\n",
              "      padding: 0 0 0 0;\n",
              "      width: 32px;\n",
              "    }\n",
              "\n",
              "    .colab-df-convert:hover {\n",
              "      background-color: #E2EBFA;\n",
              "      box-shadow: 0px 1px 2px rgba(60, 64, 67, 0.3), 0px 1px 3px 1px rgba(60, 64, 67, 0.15);\n",
              "      fill: #174EA6;\n",
              "    }\n",
              "\n",
              "    [theme=dark] .colab-df-convert {\n",
              "      background-color: #3B4455;\n",
              "      fill: #D2E3FC;\n",
              "    }\n",
              "\n",
              "    [theme=dark] .colab-df-convert:hover {\n",
              "      background-color: #434B5C;\n",
              "      box-shadow: 0px 1px 3px 1px rgba(0, 0, 0, 0.15);\n",
              "      filter: drop-shadow(0px 1px 2px rgba(0, 0, 0, 0.3));\n",
              "      fill: #FFFFFF;\n",
              "    }\n",
              "  </style>\n",
              "\n",
              "      <script>\n",
              "        const buttonEl =\n",
              "          document.querySelector('#df-e03b9f00-9134-4a60-b8d4-7bd18aa771bf button.colab-df-convert');\n",
              "        buttonEl.style.display =\n",
              "          google.colab.kernel.accessAllowed ? 'block' : 'none';\n",
              "\n",
              "        async function convertToInteractive(key) {\n",
              "          const element = document.querySelector('#df-e03b9f00-9134-4a60-b8d4-7bd18aa771bf');\n",
              "          const dataTable =\n",
              "            await google.colab.kernel.invokeFunction('convertToInteractive',\n",
              "                                                     [key], {});\n",
              "          if (!dataTable) return;\n",
              "\n",
              "          const docLinkHtml = 'Like what you see? Visit the ' +\n",
              "            '<a target=\"_blank\" href=https://colab.research.google.com/notebooks/data_table.ipynb>data table notebook</a>'\n",
              "            + ' to learn more about interactive tables.';\n",
              "          element.innerHTML = '';\n",
              "          dataTable['output_type'] = 'display_data';\n",
              "          await google.colab.output.renderOutput(dataTable, element);\n",
              "          const docLink = document.createElement('div');\n",
              "          docLink.innerHTML = docLinkHtml;\n",
              "          element.appendChild(docLink);\n",
              "        }\n",
              "      </script>\n",
              "    </div>\n",
              "  </div>\n",
              "  "
            ]
          },
          "metadata": {},
          "execution_count": 22
        }
      ]
    },
    {
      "cell_type": "code",
      "source": [
        "validation_df"
      ],
      "metadata": {
        "colab": {
          "base_uri": "https://localhost:8080/",
          "height": 0
        },
        "id": "T5E5WcQ9L_U4",
        "outputId": "9802b4ed-f566-49db-e48d-5bd471d22321"
      },
      "execution_count": 23,
      "outputs": [
        {
          "output_type": "execute_result",
          "data": {
            "text/plain": [
              "                                                comment  label  label_id  \\\n",
              "0     همه ساندویچ‌ها سرد بود متاسفانه در صورتی که فا...    SAD         1   \n",
              "1                                تشکر، عالی‌تر از همیشه  HAPPY         0   \n",
              "2     مرغ و کدو رو دوس نداشتم ولی کلا ساندویچهای خوش...  HAPPY         0   \n",
              "3        نمیدونم هزینه بسته بندی به چه دلیل گرفته شد؟؟؟    SAD         1   \n",
              "4     یک نوشابه کم ارسال شد و تاخیر فراوان و غذای نس...    SAD         1   \n",
              "...                                                 ...    ...       ...   \n",
              "6295  سلام من به فاکتور غذاهایی که سفارش میدم احتیاج...    SAD         1   \n",
              "6296  سایز پیتزا نسبت به سفارشاتی که قبلا گذشتم کم ش...    SAD         1   \n",
              "6297  من قارچ اضافه رو اضافه کرده بودم بودم اما اگر ...  HAPPY         0   \n",
              "6298  همرو بعد ۲ساعت تاخیر اشتباه آوردن پولشم رفت رو...    SAD         1   \n",
              "6299                             فلفلش خییییلی تند بود.  HAPPY         0   \n",
              "\n",
              "                                          clean_comment  \n",
              "0     همه ساندویچ ها سرد بود متاسفانه در صورتی که فا...  \n",
              "1                               تشکر ، عالی تر از همیشه  \n",
              "2     مرغ و کدو رو دوس نداشتم ولی کلا ساندویچهای خوش...  \n",
              "3       نمیدونم هزینه بسته بندی به چه دلیل گرفته شد ؟؟؟  \n",
              "4     1 نوشابه کم ارسال شد و تاخیر فراوان و غذای نسب...  \n",
              "...                                                 ...  \n",
              "6295  سلام من به فاکتور غذاهایی که سفارش میدم احتیاج...  \n",
              "6296  سایز پیتزا نسبت به سفارشاتی که قبلا گذشتم کم ش...  \n",
              "6297  من قارچ اضافه رو اضافه کرده بودم بودم اما اگر ...  \n",
              "6298  همرو بعد 2ساعت تاخیر اشتباه آوردن پولشم رفت رو...  \n",
              "6299                              فلفلش خییییلی تند بود  \n",
              "\n",
              "[6300 rows x 4 columns]"
            ],
            "text/html": [
              "\n",
              "  <div id=\"df-669c92b3-faec-4649-a4bd-ce31090dfd1c\">\n",
              "    <div class=\"colab-df-container\">\n",
              "      <div>\n",
              "<style scoped>\n",
              "    .dataframe tbody tr th:only-of-type {\n",
              "        vertical-align: middle;\n",
              "    }\n",
              "\n",
              "    .dataframe tbody tr th {\n",
              "        vertical-align: top;\n",
              "    }\n",
              "\n",
              "    .dataframe thead th {\n",
              "        text-align: right;\n",
              "    }\n",
              "</style>\n",
              "<table border=\"1\" class=\"dataframe\">\n",
              "  <thead>\n",
              "    <tr style=\"text-align: right;\">\n",
              "      <th></th>\n",
              "      <th>comment</th>\n",
              "      <th>label</th>\n",
              "      <th>label_id</th>\n",
              "      <th>clean_comment</th>\n",
              "    </tr>\n",
              "  </thead>\n",
              "  <tbody>\n",
              "    <tr>\n",
              "      <th>0</th>\n",
              "      <td>همه ساندویچ‌ها سرد بود متاسفانه در صورتی که فا...</td>\n",
              "      <td>SAD</td>\n",
              "      <td>1</td>\n",
              "      <td>همه ساندویچ ها سرد بود متاسفانه در صورتی که فا...</td>\n",
              "    </tr>\n",
              "    <tr>\n",
              "      <th>1</th>\n",
              "      <td>تشکر، عالی‌تر از همیشه</td>\n",
              "      <td>HAPPY</td>\n",
              "      <td>0</td>\n",
              "      <td>تشکر ، عالی تر از همیشه</td>\n",
              "    </tr>\n",
              "    <tr>\n",
              "      <th>2</th>\n",
              "      <td>مرغ و کدو رو دوس نداشتم ولی کلا ساندویچهای خوش...</td>\n",
              "      <td>HAPPY</td>\n",
              "      <td>0</td>\n",
              "      <td>مرغ و کدو رو دوس نداشتم ولی کلا ساندویچهای خوش...</td>\n",
              "    </tr>\n",
              "    <tr>\n",
              "      <th>3</th>\n",
              "      <td>نمیدونم هزینه بسته بندی به چه دلیل گرفته شد؟؟؟</td>\n",
              "      <td>SAD</td>\n",
              "      <td>1</td>\n",
              "      <td>نمیدونم هزینه بسته بندی به چه دلیل گرفته شد ؟؟؟</td>\n",
              "    </tr>\n",
              "    <tr>\n",
              "      <th>4</th>\n",
              "      <td>یک نوشابه کم ارسال شد و تاخیر فراوان و غذای نس...</td>\n",
              "      <td>SAD</td>\n",
              "      <td>1</td>\n",
              "      <td>1 نوشابه کم ارسال شد و تاخیر فراوان و غذای نسب...</td>\n",
              "    </tr>\n",
              "    <tr>\n",
              "      <th>...</th>\n",
              "      <td>...</td>\n",
              "      <td>...</td>\n",
              "      <td>...</td>\n",
              "      <td>...</td>\n",
              "    </tr>\n",
              "    <tr>\n",
              "      <th>6295</th>\n",
              "      <td>سلام من به فاکتور غذاهایی که سفارش میدم احتیاج...</td>\n",
              "      <td>SAD</td>\n",
              "      <td>1</td>\n",
              "      <td>سلام من به فاکتور غذاهایی که سفارش میدم احتیاج...</td>\n",
              "    </tr>\n",
              "    <tr>\n",
              "      <th>6296</th>\n",
              "      <td>سایز پیتزا نسبت به سفارشاتی که قبلا گذشتم کم ش...</td>\n",
              "      <td>SAD</td>\n",
              "      <td>1</td>\n",
              "      <td>سایز پیتزا نسبت به سفارشاتی که قبلا گذشتم کم ش...</td>\n",
              "    </tr>\n",
              "    <tr>\n",
              "      <th>6297</th>\n",
              "      <td>من قارچ اضافه رو اضافه کرده بودم بودم اما اگر ...</td>\n",
              "      <td>HAPPY</td>\n",
              "      <td>0</td>\n",
              "      <td>من قارچ اضافه رو اضافه کرده بودم بودم اما اگر ...</td>\n",
              "    </tr>\n",
              "    <tr>\n",
              "      <th>6298</th>\n",
              "      <td>همرو بعد ۲ساعت تاخیر اشتباه آوردن پولشم رفت رو...</td>\n",
              "      <td>SAD</td>\n",
              "      <td>1</td>\n",
              "      <td>همرو بعد 2ساعت تاخیر اشتباه آوردن پولشم رفت رو...</td>\n",
              "    </tr>\n",
              "    <tr>\n",
              "      <th>6299</th>\n",
              "      <td>فلفلش خییییلی تند بود.</td>\n",
              "      <td>HAPPY</td>\n",
              "      <td>0</td>\n",
              "      <td>فلفلش خییییلی تند بود</td>\n",
              "    </tr>\n",
              "  </tbody>\n",
              "</table>\n",
              "<p>6300 rows × 4 columns</p>\n",
              "</div>\n",
              "      <button class=\"colab-df-convert\" onclick=\"convertToInteractive('df-669c92b3-faec-4649-a4bd-ce31090dfd1c')\"\n",
              "              title=\"Convert this dataframe to an interactive table.\"\n",
              "              style=\"display:none;\">\n",
              "        \n",
              "  <svg xmlns=\"http://www.w3.org/2000/svg\" height=\"24px\"viewBox=\"0 0 24 24\"\n",
              "       width=\"24px\">\n",
              "    <path d=\"M0 0h24v24H0V0z\" fill=\"none\"/>\n",
              "    <path d=\"M18.56 5.44l.94 2.06.94-2.06 2.06-.94-2.06-.94-.94-2.06-.94 2.06-2.06.94zm-11 1L8.5 8.5l.94-2.06 2.06-.94-2.06-.94L8.5 2.5l-.94 2.06-2.06.94zm10 10l.94 2.06.94-2.06 2.06-.94-2.06-.94-.94-2.06-.94 2.06-2.06.94z\"/><path d=\"M17.41 7.96l-1.37-1.37c-.4-.4-.92-.59-1.43-.59-.52 0-1.04.2-1.43.59L10.3 9.45l-7.72 7.72c-.78.78-.78 2.05 0 2.83L4 21.41c.39.39.9.59 1.41.59.51 0 1.02-.2 1.41-.59l7.78-7.78 2.81-2.81c.8-.78.8-2.07 0-2.86zM5.41 20L4 18.59l7.72-7.72 1.47 1.35L5.41 20z\"/>\n",
              "  </svg>\n",
              "      </button>\n",
              "      \n",
              "  <style>\n",
              "    .colab-df-container {\n",
              "      display:flex;\n",
              "      flex-wrap:wrap;\n",
              "      gap: 12px;\n",
              "    }\n",
              "\n",
              "    .colab-df-convert {\n",
              "      background-color: #E8F0FE;\n",
              "      border: none;\n",
              "      border-radius: 50%;\n",
              "      cursor: pointer;\n",
              "      display: none;\n",
              "      fill: #1967D2;\n",
              "      height: 32px;\n",
              "      padding: 0 0 0 0;\n",
              "      width: 32px;\n",
              "    }\n",
              "\n",
              "    .colab-df-convert:hover {\n",
              "      background-color: #E2EBFA;\n",
              "      box-shadow: 0px 1px 2px rgba(60, 64, 67, 0.3), 0px 1px 3px 1px rgba(60, 64, 67, 0.15);\n",
              "      fill: #174EA6;\n",
              "    }\n",
              "\n",
              "    [theme=dark] .colab-df-convert {\n",
              "      background-color: #3B4455;\n",
              "      fill: #D2E3FC;\n",
              "    }\n",
              "\n",
              "    [theme=dark] .colab-df-convert:hover {\n",
              "      background-color: #434B5C;\n",
              "      box-shadow: 0px 1px 3px 1px rgba(0, 0, 0, 0.15);\n",
              "      filter: drop-shadow(0px 1px 2px rgba(0, 0, 0, 0.3));\n",
              "      fill: #FFFFFF;\n",
              "    }\n",
              "  </style>\n",
              "\n",
              "      <script>\n",
              "        const buttonEl =\n",
              "          document.querySelector('#df-669c92b3-faec-4649-a4bd-ce31090dfd1c button.colab-df-convert');\n",
              "        buttonEl.style.display =\n",
              "          google.colab.kernel.accessAllowed ? 'block' : 'none';\n",
              "\n",
              "        async function convertToInteractive(key) {\n",
              "          const element = document.querySelector('#df-669c92b3-faec-4649-a4bd-ce31090dfd1c');\n",
              "          const dataTable =\n",
              "            await google.colab.kernel.invokeFunction('convertToInteractive',\n",
              "                                                     [key], {});\n",
              "          if (!dataTable) return;\n",
              "\n",
              "          const docLinkHtml = 'Like what you see? Visit the ' +\n",
              "            '<a target=\"_blank\" href=https://colab.research.google.com/notebooks/data_table.ipynb>data table notebook</a>'\n",
              "            + ' to learn more about interactive tables.';\n",
              "          element.innerHTML = '';\n",
              "          dataTable['output_type'] = 'display_data';\n",
              "          await google.colab.output.renderOutput(dataTable, element);\n",
              "          const docLink = document.createElement('div');\n",
              "          docLink.innerHTML = docLinkHtml;\n",
              "          element.appendChild(docLink);\n",
              "        }\n",
              "      </script>\n",
              "    </div>\n",
              "  </div>\n",
              "  "
            ]
          },
          "metadata": {},
          "execution_count": 23
        }
      ]
    },
    {
      "cell_type": "markdown",
      "source": [
        "#Model with fasttext and word2vec"
      ],
      "metadata": {
        "id": "hEI21YB1poWb"
      }
    },
    {
      "cell_type": "markdown",
      "source": [
        "##tokenizer"
      ],
      "metadata": {
        "id": "DfdrqLfhsH23"
      }
    },
    {
      "cell_type": "code",
      "source": [
        "tokenizer = Tokenizer(20000)\n",
        "#fit based on validation and train dataset\n",
        "tokenizer.fit_on_texts(train_df.clean_comment)"
      ],
      "metadata": {
        "id": "h3lfa5ZUHmN0"
      },
      "execution_count": 24,
      "outputs": []
    },
    {
      "cell_type": "code",
      "source": [
        "word_index = tokenizer.word_index\n",
        "len(word_index)"
      ],
      "metadata": {
        "id": "hYgMJA1NHqn6",
        "colab": {
          "base_uri": "https://localhost:8080/"
        },
        "outputId": "2a82e80b-d1f5-4af3-de3c-d8251c5cc251"
      },
      "execution_count": 25,
      "outputs": [
        {
          "output_type": "execute_result",
          "data": {
            "text/plain": [
              "25399"
            ]
          },
          "metadata": {},
          "execution_count": 25
        }
      ]
    },
    {
      "cell_type": "code",
      "source": [
        "train_sequences = tokenizer.texts_to_sequences(train_df.clean_comment)\n",
        "validation_sequences = tokenizer.texts_to_sequences(validation_df.clean_comment)\n",
        "# max_len = len(max(train_sequences + validation_sequences, key=len))\n",
        "max_len = 128\n",
        "train_data = pad_sequences(train_sequences, maxlen=max_len)\n",
        "validation_data = pad_sequences(validation_sequences, maxlen=max_len)"
      ],
      "metadata": {
        "id": "vJvpCQkGZQdD"
      },
      "execution_count": 26,
      "outputs": []
    },
    {
      "cell_type": "markdown",
      "source": [
        "##Model using fasttext"
      ],
      "metadata": {
        "id": "fkWTCzx4NAAQ"
      }
    },
    {
      "cell_type": "markdown",
      "source": [
        "###pre-trained weights"
      ],
      "metadata": {
        "id": "ee0wvZF_smOw"
      }
    },
    {
      "cell_type": "code",
      "execution_count": 27,
      "metadata": {
        "colab": {
          "base_uri": "https://localhost:8080/"
        },
        "id": "wMRzfXJ97Nue",
        "outputId": "98ef4999-115f-4f52-9b4f-2c041032ffe8"
      },
      "outputs": [
        {
          "output_type": "stream",
          "name": "stdout",
          "text": [
            "--2022-06-25 05:12:31--  https://dl.fbaipublicfiles.com/fasttext/vectors-wiki/wiki.fa.vec\n",
            "Resolving dl.fbaipublicfiles.com (dl.fbaipublicfiles.com)... 104.22.74.142, 172.67.9.4, 104.22.75.142, ...\n",
            "Connecting to dl.fbaipublicfiles.com (dl.fbaipublicfiles.com)|104.22.74.142|:443... connected.\n",
            "HTTP request sent, awaiting response... 200 OK\n",
            "Length: 1105157170 (1.0G) [binary/octet-stream]\n",
            "Saving to: ‘wiki.fa.vec’\n",
            "\n",
            "wiki.fa.vec         100%[===================>]   1.03G  6.91MB/s    in 4m 41s  \n",
            "\n",
            "2022-06-25 05:17:13 (3.75 MB/s) - ‘wiki.fa.vec’ saved [1105157170/1105157170]\n",
            "\n"
          ]
        }
      ],
      "source": [
        "!wget https://dl.fbaipublicfiles.com/fasttext/vectors-wiki/wiki.fa.vec"
      ]
    },
    {
      "cell_type": "code",
      "source": [
        "vector_embed_file = \"/content/wiki.fa.vec\"\n",
        "embed_dim = 300"
      ],
      "metadata": {
        "id": "w5JfkAccRi7I"
      },
      "execution_count": 28,
      "outputs": []
    },
    {
      "cell_type": "code",
      "source": [
        "embeddings_index = load_vectors(vector_embed_file)\n",
        "len(embeddings_index)"
      ],
      "metadata": {
        "id": "_tDvHn8jJCoY",
        "colab": {
          "base_uri": "https://localhost:8080/"
        },
        "outputId": "94fd252f-a781-4856-c568-db940cba647a"
      },
      "execution_count": 29,
      "outputs": [
        {
          "output_type": "execute_result",
          "data": {
            "text/plain": [
              "420084"
            ]
          },
          "metadata": {},
          "execution_count": 29
        }
      ]
    },
    {
      "cell_type": "code",
      "source": [
        "embedding_matrix, miss_word = get_embedding_matrix(word_index, embeddings_index, embed_dim)\n",
        "del embeddings_index\n",
        "print(len(miss_word))"
      ],
      "metadata": {
        "colab": {
          "base_uri": "https://localhost:8080/"
        },
        "id": "cZ0BliuRK7Lb",
        "outputId": "b36bbc44-0221-4aa0-f8bf-12ebfb067adb"
      },
      "execution_count": 30,
      "outputs": [
        {
          "output_type": "stream",
          "name": "stdout",
          "text": [
            "11001\n"
          ]
        }
      ]
    },
    {
      "cell_type": "code",
      "source": [
        "print(miss_word)"
      ],
      "metadata": {
        "colab": {
          "base_uri": "https://localhost:8080/"
        },
        "id": "lywQK2oKPWrD",
        "outputId": "71103ba7-2e1e-4f1d-8d8e-879acfadcb7c"
      },
      "execution_count": 31,
      "outputs": [
        {
          "output_type": "stream",
          "name": "stdout",
          "text": [
            "{'کلناراضی', '2420', 'برخورادر', 'بنجل', 'دلستربود', '1کوچولو', 'همهههه', 'torshi', 'بدستتون', 'پاچیده', 'نالکس', 'ولذید', 'بندیهابهتر', 'زمینیهاشون', 'چرررررب', 'ایراده', 'عالیییییییییییییه', 'هیچیز', 'وبتی', 'بزرررگ', 'میشداز', 'مبکنید', 'مقدارس', 'هاخوب', 'مطمئنتری', 'غیرموجود', 'میبریدین', 'نمیرفتن', 'یخجال', 'وبرا', 'متاسفانهتعداد', 'نمیخورن', 'اینجودی', 'کاهووگوجه', 'هییییچ', 'تگری', 'هاشده', 'وپرسرعت', 'انسانیتون', 'بودمخصوا', '3امتیاز', 'گارمیت', 'محششششره', 'خودشونم', 'پیتزامو', '2٪', 'چیکارش', 'تاخیره', 'لوفتون', 'منطورشون', 'ناموجوده', 'لیمونادا', 'براموون', 'گریپسی', 'غذااااااااااااتون', 'عاااالیییی', 'برثدی', 'نظیررررررر', 'بددددد', 'ظهربهتر', 'کالایابرندکالابه', 'شوندباعث', 'چشامونو', '2900', 'درکتون', 'بیییییییییی', 'پاقرصش', 'مرغمو', 'واقعاااا', 'برمجموعه', 'میفرسه', 'ستری', 'افتضاححححححح', 'بودواقعا', 'سرسعم', 'سامدویچم', '1ستاره', 'ازپیک', 'سرررررررد', 'تااون', 'روسکر', '110000', 'پامپی', '1سیب', 'نیداد', 'ماسکشونو', 'چحوری', 'دندونام', 'فرقشون', 'کاغذیو', 'پدرتون', 'سعیتونو', 'دوغذا', 'سفتو', 'دوستداشتم', 'بدترینننننن', 'سالاداصلا', 'فروشندش', 'بارسفارش', 'کارملی', 'مالیاتتو', 'y0m2d2', 'باحالید', 'غیردبهداشتی', 'درستهدمتون', 'شفتهئ', 'خمیشه', 'دونرکبابهای', 'سردویخ', 'بامقدارکم', 'پیراشمی', 'شکموا', 'مخافاتش', 'مخلفاتو', 'حالتونو', 'طبخشه', 'جلادهنده', 'سالادسزار', 'خریدهامو', 'کراکفش', 'واقعابرای', 'فسنجونای', 'ذوقمون', 'خوشون', 'وقشنگ', 'اندومی', 'مخری', 'ونعنا', 'مارگاریتاش', 'دیرپز', 'اغشته', 'ودمشون', '220', '2000تومان', 'عااااالللللی', 'دوساندویچ', 'اندازهآن', 'الهاده', 'چندباریم', 'بدپن', 'قنادیتون', 'پیتزامثل', 'پرپیاز', 'فکذ', '8500', 'سفارشاتتون', 'هرگزززززز', 'اتدازه', 'هایچ', 'خیارسرکه', 'بیسکوییتها', 'نباشیدخدمت', 'طولاتی', 'کردتا', 'لاکچری', 'تجدیدنظرمی', 'دیروزه', 'مهمونمون', 'ایسپک', 'افتضاحححححححححححححححح', 'دورچین', 'اینقدررررر', 'بوداصلاهیچ', 'behtaro', '4روز', 'درکشوری', 'وربات', 'وقتشو', 'زرزرزرزرزرزره', 'وتماس', 'بیگن', 'فرنگیشو', '6تومن', 'پشتببانی', 'شکید', 'کنم40سانتی', 'زمینیا', 'xsblue', 'لیمونعناعی', 'بمبه', 'نخونن', 'بستع', 'قیمتشون', 'توووپی', 'hame', 'دایمه', 'اشپزیش', 'عطرو', 'کلااا', 'ادامسا', 'پولمون', 'نوشابمونو', 'داحل', 'ماکروفری', '،؟؟؟', 'a4', 'برندارسالی', 'لیسشون', 'چیزشو', 'رسترن', 'گوشتارو', 'سپای', '580', 'سوپتون', 'دروچین', 'متنایب', 'سابقونداشت', '؟؟؟؟؟؟؟؟؟؟؟؟؟', 'نزرا', 'هالوپ', 'پشبمون', 'فودیم', 'برنجاش', 'تحویله', 'سبوبسدار', 'پایبنی', 'کوچیکتره', 'وتایم', 'سنگککی', 'درخواستیمون', 'کارمیکنه', 'و5امتیازحقشه', 'y0m6d29', 'دیزاینش', 'سرجاش', 'افتضاححححح', 'نبودبیشتر', 'آصلا', 'بندازمشون', 'یخچالمون', '51', 'اسانسوره', 'resine', 'دعوامون', 'ناگته', 'آبروبر', 'یدمره', 'سوپمم', 'بخوووری', 'آرومتر', 'انگارخونگی', '360', 'تنوعبسیار', 'زیادهست', 'paiin', 'زوخمش', 'mesle', 'y0m9d5', 'کینوای', 'چسیده', 'شمارشونو', 'حسدمیکنم', '11500', '25٪', 'همیشگیشون', 'تخمهئ', 'خاهمه', 'ریختنه', 'ترتیلا', '30دقیقه', 'پذیریشون', 'گلتون', 'واااقعا', '63', 'dafe', 'مدغشو', '7تومن', 'اسپایسیه', 'وایساده', 'rooham', 'عاااااااااااااااااالییییییییی', 'میخچان', '80درصد', 'سووخته', 'برگرخوب', '500متری', 'گررررررررررم', 'بهجز', '150تا200گرم', 'اسفویلیو', 'نامعقوله', 'تمومی', 'پیچوندن', '5تاش', 'پیکتن', 'اییتونم', 'تینقدر', 'زده3500', 'واقعااا', 'چیپسه', 'پیگیریتون', 'پلاتسک', 'حسنشو', 'افتضاااااح', 'نداشتمش', 'مدنظرشونه', 'سفارشدکمی', 'ماسنتر', 'همکارتون', 'ادرسمون', 'y0m24d6', 'احیل', 'کمیتتون', 'پشیمو', 'چراکهانگار', 'ممنکن', 'بهتریناس', 'نگذاشتین', 'دلسترها', 'پروویتاش', '8300', 'توماندهم', 'خداییبا', 'موقغ', 'درمیارید', 'کردنیتون', 'گوگولیاشون', 'چهارتد', 'اسپاتگی', 'کردکیفیت', 'جاییه', 'همکاریشون', 'خواستمش', 'واقعاااااااا', 'رژیمیتون', 'bashe', 'ننننمیدم', 'قابلتوجه', 'قیمتهاتون', 'کزفیتتون', 'آخرمه', 'کنسر', 'شکلاتا', 'روزتون', 'ازنظرکیفیت', 'تازهئ', '4تادونه', 'مخصولات', 'عااااالیه', 'دوزچین', 'بارخ', 'بسکوییت', 'غذاهه', 'میکستونو', 'پاژان', 'هردوهم', 'هاتونم', 'دوکوچه', 'خودحلیم', '4راه', 'اندخت', 'کنارتش', 'ترتمیز', 'باموتور', 'وازلحاظ', 'مییچسبد', 'افتخارداریم', 'غذااومده', 'خرماییشو', 'زیادس', 'زمانشو', 'نصفست', 'مزخرفیه', 'مطمینم', 'عخیلی', 'نداشتو', 'کجاهست', 'چیباتا', 'دادع', 'محشرههه', 'چندبارشیرینی', 'واقغا', 'اراسل', '300گرمی', 'گندگی', 'همجیع', 'بودومزه', 'معتبریه', 'نوسابه', 'نیوورده', 'بالایه', '5500حساب', 'شددرحالیکه', 'نبودنشه', 'خششششک', 'چندتاشون', 'ژامپ', 'وچیزهایی', 'کنیدچون', 'لنتخاب', 'bandi', 'اصلاوابداخرید', 'سرکوچمون', '1نون', 'داغووون', 'نمیکنمممم', 'بوود', 'آنچیلادا', 'محترماته', 'اسماشونو', 'آلودگیا', 'نیادحتما', 'عدده', '18950', '700گرم', 'سیرشودوست', 'دودفعه', '14000', 'طمعشون', 'لجناسی', 'واقعیه', 'فزستادین', 'gharche', 'کردید220گرم', 'خیارشورم', 'سبزیشو', 'بوریتو', 'ومختصز', 'بودوسریع', 'متخصصه', 'جدیدرابه', 'اونموقع', 'سوپرخریدمیکردم', 'دففه', 'آومد', 'جوشوندن', 'کاتاش', 'خانوادست', 'خشکبارنوروز', 'میتونستن', '200متر', 'سموسه', 'نپزه', 'نمیکشین', 'استریوس', 'برگرشون', 'مداریتون', 'مسخرست', 'مالاگانوتلا', 'ایییییین', 'پاستاس', 'گرسنگیرو', 'بروانی', 'داغو', 'غذابسیارطولانی', 'ماانداختیم', 'نمیگن', 'لاواتزا', 'میدیدن', 'توعکس', 'عصاب', 'غافلگیرتون', 'دوکیلویی', 'نمیاوردین', 'نتونسم', 'میکنمو', 'وافله', 'بچکه', 'با4', 'khoshmaze', 'فرایزی', 'سبزیخیلی', 'پنیرتون', 'شکونده', 'بینظیرررررری', 'آبروتون', 'نباشیدسوسیس', 'پولشون', 'مبذم', 'دقیییقا', 'ماهشام', '1عدد', 'نمیفرسته', '74500', 'بخاطرنظرات', 'امافکر', 'پیکاشو', '183', 'اچن', 'بانونه', 'دایمیشون', 'رررررررررپیک', 'برگردوندمش', 'ممنمون', 'keyfiate', 'برگراتورم', 'سنپع', '2کوچه', 'پیتزهاا', 'ونامرتب', 'مهمونام', 'بپذیره', 'پلوبا', '89', '280', 'شمعمم', 'مقدارشو', 'پرگوشته', 'درصدس', 'خوراکاتون', 'دلپ', 'برگراتون', 'اونش', 'دارنو', 'اسپیرایت', 'کدومو', 'فورماجیو', 'اونقد', 'پبک', 'بسیییییار', 'نیشاب', 'ازمدیریت', 'نداشتش', 'ایشونه', 'زمینیتون', 'ساندویخ', 'برخلافه', 'بسییییییار', 'میگیرررم', 'قسمتایه', 'همونچیزایی', 'ازبابت', 'مجبورا', 'تومنی', 'بطورئ', 'خداروشکرمشتری', 'هادت', 'مدیرتشون', 'چقدررررر', 'وظیفم', 'فروشگاهتون', 'خودتونم', 'بیکنو', 'لاکتیکی', 'بودممنونم', 'بودتش', 'موبایلتونو', 'بندازمش', 'سردهه', 'مشتریاتونو', 'ژوکو', 'گوجم', 'سردتحویل', 'میگیرین', 'لقمخ', 'تعداد20تایی', 'انارداشت', 'فنتا', 'کزه', 'رفتارمحترمانه', '86', 'sosesh', 'عذاش', '56', 'تمن', 'تیستند', 'غذابسیاربسیارپایین', 'سرازی', 'آمولای', 'نیخواد', 'دراوردنش', '1٥', 'افتابگردانی', 'ووزنش', '3050', 'خوابمون', 'میذاشتم', 'اونقدرا', 'مدیرییتع', 'دیربازگشت', 'بهترتون', 'نزاشتین', 'بستشو', 'خودخیلی', '100٪', 'کوجه', 'هامثل', 'اسمس', 'واقعاااااااااا', 'قانونهاتون', 'سماغ', 'افتضاحححح', 'جوحه', 'دستشو', 'باباته', 'بخاطره', 'البالوپلو', 'قدردانشون', 'غذاسرد', 'گرندگوشت', 'تاخیرداشت', 'وسوختگی', 'نبودوغذاسردتحویل', 'گشنمه', 'ببکین', '2رو', 'شدبا', 'دستپم', 'ومحترمانه', 'inke', 'انگارپیتزا', 'سزاره', 'ومطلوب', 'ابلیمویی', 'دهدیم', 'افتخاردارم', 'خوشمزا', 'مربعیه', 'رستورن', 'امیزه', 'سوپرایزتون', 'کنسرور', 'وقتیبه', 'برنید', 'nazaram', 'نخوردیمش', 'نشینه', 'دورچینمش', 'ولوتش', 'همسرمن', 'کیفیفتش', 'نفروشین', 'تشکرمیکنم', 'ازاینهمه', 'عالییییییی', 'اسنکها', 'عاولیه', 'بهاشو', 'تحویلاتون', 'مزاحمتون', 'ابداا', 'کوچیکترین', 'قبلیتون', '18تومن', 'برگرتون', 'نمیخوای', 'پرسیتون', '7', 'نیمپز', 'وسس', 'افتضاحبود', 'بددددددد', 'فرستادع', 'پشیمون', 'شیرازیتون', 'یوفتم', 'باچون', 'مافینها', 'همونو', '8باره', 'وااااقعا', 'مخلوطتون', 'وراضی', 'ازپیگیریتون', 'اشتفاده', 'تعم', 'تارتی', '720', 'نبودولی', 'قنادیو', 'اهان', 'انقلابه', 'هرساعتی', 'آوکادو', 'وااااقعاا', 'مرغاشون', 'بپرسه', 'نمیدادن', '55', 'نگیرین', 'سالادسس', 'تخفیفاتشو', 'نوشاه', 'راحتیمشتریان', 'ورسیدگی', 'دااااغ', 'خوشطعم', 'نازوک', 'یبارمصرفم', '27000ت', '5ستاره', 'مالیاتو', 'پشیمونی', 'ناراصی', 'سالمونی', 'اپم', 'کاپریچیوزا', 'مخرف', 'انقددددددررررر', 'میبردن', 'مجددوقت', 'باربکیویی', 'فزودن', 'ازموادمانده', 'y0m3d1', 'آفم', 'خدمتشون', 'سنگگ', 'فیلینگ', 'موقه', 'تجدیدنظرکنید', 'داشتاما', 'پیسنهادش', 'اوردنه', 'گوشتتون', 'تویل', 'اکبرجوجه', 'نجاتمون', 'امتاز', 'رستورا', 'ذاشتن', 'خویدم', 'افتضااااااااح', 'فشارمون', 'زسیدن', 'غذاهاس', 'خورا', 'کیفور', 'پیتزاتون', 'طلبکارا', 'مییشه', '1000', 'وایستادیم', 'اخرمه', 'میذاشتید', 'اشتباهشون', 'برگرونید', 'ممنووووون', 'مقداربسیار', 'ساندویچارو', 'میموندم', '32', 'درخواستایی', 'تووو', 'حقشون', 'کاااااملاااااا', 'گیشاست', 'بودبیار', 'میخواستن', 'راضیماما', '120', '75گرنی', 'y0m30d1', 'تاشیرینی', 'حجتو', 'کاااااملا', 'میذارید', 'بوداگه', 'گیفیت', 'موعدبه', 'shode', 'فرنگیا', 'نمیگذاشتتد', 'مامل', 'قاشقو', 'بغلاش', '70', 'قیمتونو', 'کردیمش', 'خونمون', 'نداشتت', 'اسنبپ', '16500', 'omade', 'ناهاره', 'چندام', 'نمیتونین', 'بدترییییین', 'هزارتومنم', 'بغلتونه', '39000000', 'برداشتمشون', 'بقبولونن', 'قیمیای', 'چداربود', 'ارساله', 'ازهمون', 'کبفیت', 'برگردوندند', 'نامسب', 'لندولیعصر', '6500', 'مشتریشونو', 'برگبو', 'y0m2018d10', 'بارژو', '6روز', 'باگتتتت', 'برمیگشتیم', 'ژامیون', 'اسپرایتشم', 'تمییزبود', 'چسپید', 'تعدادرونداشتن', 'یبار', 'وسفارش', 'خیلیل', 'خیلذ', 'فودوتمام', 'ونپختگی', 'هااا', 'یچخال', 'دستتمون', 'بردممممممممم', 'پارامسان', 'خداشکر', 'دارتون', 'راباعکس', 'دیگتون', 'گذاشتیت', '8000تومنی', 'ثامنا', 'بشیندرضمن', 'جاخوردم', 'جومانه', '3هزارتومن', 'میتونستی', 'بعدیه', 'گذاستن', 'خیارمثل', 'الپارو', 'پیتزاهش', '13500', 'از15', 'دهیتون', 'خوشمزهههه', 'میتونستین', 'چسبونده', '16', 'ترشیه', 'مامانبزرگمو', 'عیباش', 'چراپیک', 'قوطیو', 'شمارتون', 'بپرسن', 'ذاشتین', 'حشده', 'درانتخاب', 'بذاریدخیلی', 'میگری', 'رسف', 'ابکش', 'همممش', 'ییسکوییت', 'گوجش', 'عااااااااااااااااااالی', 'سوپریمش', 'عااااااااااااالللللللللللللیییی', 'کوفتشو', 'میررزا', 'امدمه', 'فط', 'واغ', 'بودرو', 'مجبوره', 'غذارودیرارسال', 'وسوپر', 'محصولاتتون', 'نندازه', 'سیبزمینیشون', 'سوخنه', 'دیزیشو', 'علائ', 'کلشو', 'رمضونی', 'پیتاز', 'قارچسفارش', 'قیکه', 'ندیدین', 'ریخیتم', 'میپختن', '1500تومن', 'زودبه', 'سغارش', 'roze', 'بهترنمیشد', 'تحویلمون', 'آشپزخونه', 'مخلافتش', 'ننشده', 'اینقدز', 'میثل', 'رصایتو', 'هزشتع', '٥00گرمی', 'ژعم', 'نامظبوع', 'روحذف', 'y0m4d7', 'سوختری', 'اثردهید', 'یاغذا', 'البالوهای', '133', 'ظرفاتون', 'آخریه', 'خردنشده', 'میپرسیدین', 'پیتزاهاتون', 'تقزیبا', 'نزدیکمونه', 'ماراسبانی', 'حدودن', 'چیزبزگر', 'بندیا', '30ثانیه', 'خیابونمون', 'فودو', '96', 'بدومزمینی', 'آوردیدلطفاتوجه', 'همونجوری', '1000تومانی', 'کاملادسرد', 'قراوان', 'غداخوب', 'میچکید21', 'متاسانه', 'زیااادی', 'سازتون', 'دتره', 'برگردونه', 'یکذره', 'چیزله', 'نمیبرین', 'نیکنه', 'ارزانتروروغن', 'بودویکساعت', 'قنادباشی', 'مخاطبه', 'مارکتهای', 'هردوتاش', 'نوبرشو', 'میخوریتا', 'وفلفلی', 'میرختید', 'لطفاهمینجوری', 'هرسری', 'فیمت', 'بندریا', 'سفارشاتون', 'بودنشونو', 'اخهه', 'نمیخره', 'سایرغذاها', 'دلسترهایی', 'باگته', 'حدوا', 'حدفش', 'ااشیرینی', 'شنسل', 'توپن', 'ساندویجها', 'مهمونها', 'ماازاسنپ', '1325', 'گندکشیده', 'صداقتتون', 'مرگریتشم', 'کملا', 'بسیاار', 'کنهست', 'ممنووونم', 'شوررررر', 'نبوووووووووده', 'خوشبرخورد', 'رفتاد', 'تعریفتونو', 'ارزونه', 'پیتزر', 'دیگرانو', 'اصصصصصلا', 'dandon', 'وبطری', 'دیییر', 'دایجستیوی', 'ازشماغذانمیگیرم', 'باقیمتش', 'سالادددددم', 'تیکیه', 'ماازشماراضی', 'همبرگرا', 'ابداااا', '50تا', 'نخلفات', 'رمضونه', 'ارسالیتون', 'فسفود', 'اینشکلیه', 'تندیملایم', 'اسکوپش', 'غذاهاکیفیت', 'ا4', 'کالباسیه', 'صلاحه', 'جوونم', 'y98m10d17', 'امااااا', 'غذااستفاده', 'اولشون', 'پولتونو', 'دیررسید', 'ابراد', 'فارچ', 'سرویسشون', 'لبالب', 'طودانی', 'سپارش', '2800', 'شیربنی', 'پیازاهاشو', 'حدودابین', 'دیگرثبت', 'کیلیو', 'بدیهیه', 'بابارحیم', '0', 'گردوییتون', 'بهمحل', 'سفالیشون', 'کاملاااااا', 'وابدا', 'مرعشم', 'وشامی', 'یفیت', 'میومدن', '36ت', 'میکنمش', 'حجیمه', 'پیداد', 'غذاهاتونم', '2جعبه', 'راهشو', 'سپااااس', 'دلشته', 'باااورم', 'بودبرگر', 'ندتشتن', 'برشششته', 'شوکورول', 'داع', 'وگدر', 'پیکنم', 'تهرانن', 'حجمو', 'کذاشتن', 'بوووی', 'پارمازان', 'برنگردوندم', 'کفیتتون', 'بپره', 'تولیدشون', 'بیشترید', 'عاااااااللیییییییی', '9124546519', '14آبان', 'برخاطر', 'زیربارنرفتن', 'ازبعضی', 'بودلطفا', 'باسلیقه', 'استخوانتون', '4', 'دادمو', 'سوپرمارکتای', 'تهرانو', 'متتسفم', 'سیرشه', 'سوپرترنج', 'ننم', '2300', 'بودمممممممم', 'کوبیدشون', 'بخورمشنه', 'چلومرغی', '0وبرای', 'مررررررسی', 'قیمتشو', 'میفرستادین', 'اریو', 'قبلتون', 'عاااااااااااااااااااالی', 'زردارسال', 'حرومتون', 'ببسنه', 'انقدربی', 'میشههمه', 'برنمیگرده', '9تایی', 'بسیارسریع', 'همکارا', 'فودم', 'نخوندیم', 'پیدزا', 'pitza', 'میسپاره', 'زرشکهارو', 'نسوره', 'ماجرارو', 'نخوردمش', 'وشکر', 'وبرکت', 'طعمدار', '2دفعه', 'قدبم', 'یوخ', 'نبوودم', 'خوددن', 'دوووو', '37000', 'رستوووران', 'نزاشتم', 'تاثیرنداره', 'طولیه', 'وکش', 'نطیرن', 'شببه', 'شیر2روزپیش', 'ساندویچاش', 'ثابتشونیم', 'فرچیز', 'خیارگلخانه', 'بعدازتحویل', '17500', 'فقت', 'ابگیری', 'السیروعالی', '1کیلو', 'اسپشیالشم', 'یقیقا', 'ماکارانی', 'فسفودیای', 'میعی', 'یساعت', 'کراسان', 'خوذدن', 'مالیدین', '10ام', 'آلفردویی', 'بیشار', 'بودددددددد', 'علاقمه', 'لحظاتمون', 'خساسست', 'بزرگن', 'ناجیز', 'متاسفانع', '395', 'باراست', 'اندازن', 'جنسو', 'وقارچش', 'امکاناتمون', '23', 'نعناهای', '24000بشه', 'شیرشکلاتی', 'حیارشوری', 'پیتزائی', 'بودواینکه', 'کوجیک', 'نگهداره', 'دریافت6هزارتومن', 'درصمن', 'کروسانها', 'حعبع', 'گذاشتنو', 'ذحمت', 'درستمون', 'خیلیییییییییییییی', 'دارشده', 'جداو', 'ییییخخخخ', '20100', 'بایذ', 'اعلامیشون', 'وپرچرب', 'حوردن', 'خربزهایی', 'بهترینست', 'بارژ', 'شدنشو', 'شیرموزها', 'بودماما', 'moteasefane', 'نبردیده', 'کاملامشخصه', 'سلیقگیتون', 'میشه20تومن', 'اوردنش', 'مخلفاتم', 'کرمدار', 'kolli', 'بوددددددددددددد', 'اندازشم', 'نبودمم', 'طلقش', 'متاسفتانه', 'مارسید', 'انلاینم', 'نتاسفانه', 'پرپروکم', 'عالیییییییه', 'موردهارو', 'مهموناش', 'تاحالامشکلی', 'عااااالییییی', 'بنسبتن', 'شرکته', 'وقعا', 'واصلاوابداشبیه', 'بودتد', 'ساندویچیه', 'پروک', 'بیشتردوست', 'کارمندا', 'تخوردم', 'سزاروسس', 'جاهایه', 'زحماتتوون', 'احوالا', 'خوشمزشون', 'سسو', 'ازکلیه', 'دقعه', 'nadare', 'رسیتوران', 'باتعهد', 'متعارفه', 'بودسپاسگذارم', 'ممنوووووووون', '38000', 'تومانه', 'کیفیتیو', 'انسال', 'ونخود', 'سوخاریه', 'شدمعاشقتم', 'فودهایی', 'وااااای', '6و50دقیقه', 'میفتم', 'بیشترشیرینی', 'انتخابهامه', 'بروبچز', 'دیلیوری', 'وهردو', 'بشددددت', 'انبارو', 'مکررسوپرهربارجهت', 'بایدونه', 'زیادددد', 'چوریتسو', 'بسیارربسیار', 'سیرشو', 'امادس', 'وهویج', 'الومینیومی', 'زرچوبه', 'تازس', 'قارچام', 'خوووووب', 'اسنتپ', 'فروشا', 'شدتتتتت', 'میباشدحتما', 'نوستاژی', 'اونقدری', 'باماندگاری', 'خوبشونو', 'از4عدد', 'محلمون', 'متتظر', 'هاام', 'مختلفاتی', 'باتشکرازمدیریم', 'besbat', 'ازسفارشم', 'خاااام', 'داخلشون', 'فسنجونش', 'ازمشتریان', 'فرمندی', 'رادویاسه', 'یچیزی', 'کردههه', 'تعمن', 'حاملا', 'سالادتون', 'بشرته', 'چنتاشونم', 'زیادشو', 'رفتارشون', 'قزم', 'اعصابمو', 'کنااار', 'دولارم', 'نظارتتون', 'کامکوات', 'یرویس', 'واقا', 'اعتبارتون', 'شددددت', 'دومیکا', 'مبوی', 'مهمونا', 'رنگشون', 'سالهاااا', 'قووول', 'اریال', 'شبیرینی', 'لیتره', 'فروشگاهه', 'کپن', 'پورشن', 'اسنکی', 'نپختگی', 'خونواده', 'تیکس', 'ضعفه', 'ععااللییی', 'واجناس', 'فرصتا', 'تخوش', 'دلایلمو', 'انچیزی', 'mmnon', 'خیسه', '14900', '45', 'مهمونم', 'وکمیت', 'خوشحالمون', 'خواهشما', 'گافیست', 'اصلاکیفیت', 'دندانشکن', 'عاااالی', 'ساعت23', 'اوردنشون', 'هیمنجوری', 'ساعت22', 'دهندس', 'توتفرنگیهاش', 'فودسرعت', 'ناچارآ', 'بعداز30', 'اختلاففففففففف', 'پایانتون', 'پکحینگش', 'چیمس', 'میمیره', 'ساندویچهاتون', '75دقیقه', 'داخلشو', 'بودم0', 'بالل', 'ررگ', 'زیادبرشته', '2دلیل', 'شوکووان', '15غذاروسفارش', 'وپنیرشو', 'میرشد', 'نسوختن', 'یخخخخ', 'ماهیچیه', 'لیموشو', 'امامتاسفانه', '100گرم', 'کبیده', 'خریدمش', 'اخرسر', 'چرااااااا', 'ممونم', 'اماخیلی', 'وظبف', 'خیلللی', 'پیشبود', 'وسوسیس', 'نرمو', 'گیریه', 'پیتزاسوخته', 'حیوون', 'زمینیییییییی', 'نکنهنان', 'هاریبوی', 'تازگیا', 'y0m7d98', 'لهیده', 'چکون', 'چیع', 'سایزشه', 'دوفر', 'خمیرپیتزا', '4بار', 'دوبازه', 'موادخوب', 'مشتریست', 'وتوانمند', 'عالیهو', 'وبدمزه', '2گوجه', 'خشمزست', 'سزارسفارش', 'چندتیکه', 'ندارمشون', 'میتکنید', 'چیییییز20', 'میرسوندم', 'وجواب', 'سربع', 'ههههههههه', 'زیاااااد', 'بزوم', 'وچنگال', '8600', 'بسیارتازه', 'صفرررر', 'سیب360', '550', 'متاسفاناه', 'همکارانتون', 'اصلامهم', 'برگرایی', 'تخفیفاتتون', 'غذامونو', 'مخصوصاشیروماست', '8', 'پاقرص', 'دلسترشو', '12عدد', 'تیاکو', 'حلاله', 'ظیفه', 'شد0', 'هاتداگ', 'هریدم', 'چانکی', '300000', 'یلداتون', 'خکبتون', 'گرفتمش', 'قبل1', 'سیمیتاش', 'حضورتون', 'افزودس', '800000', 'وقطعا', '3تومن', 'شاعت', 'انلاینی', 'بیاااا', 'برکتشون', 'متفین', 'عالییییییه', 'بهههه', '20دقیقه', 'یودند', '40گرم', 'همبرگرشون', 'وبهداشتی', 'تحویلو', 'اونهاست', 'شیرموز', 'بایدجدامیکردم', 'اژدهها', 'بازبود', 'یدفعه', 'گاناش', 'پنیرماسیده', 'محاله', 'دوسداشتم', 'نزاره', 'بچسبونم', 'قیمتا', 'پتجره', 'تجربش', '6200', 'افتزاح', 'اشتباست', 'شوووووربختانه', 'همنیاوردن', 'زندگیتون', 'پوستتون', 'متاسفانا', 'انتقادبه', '100000', 'بزرگیه', 'راببرم', 'عاللللی', 'وواینکه', 'یروز', 'میویفته', 'وممنون', 'فینگرفود', 'پاستاام', 'روزنکردن', 'توپاکت', 'عالیییییییییییییی', 'صفاشو', 'ابوالفظل', 'کردنو', 'نمییده', 'الوچه', 'فودش', 'ازنطر', 'روزبخیر', 'دورچینه', 'فرستادا', 'khodaee', 'بینظره', 'رودرش', 'وزن1600', 'اناناسشم', 'وبعدازپیگیری', 'نذاشتمش', 'بسییییار', 'پتیتو', 'ضمنامن', 'pokhte', 'سیگاراتون', 'وصدگرم', 'تعجم', 'خمیرنشده', 'مسیرغذا', 'سرطانزاست', 'گوشیه', 'ازاکبرجوجه', '8هزار', 'چرخوندن', 'y13m9d97', 'ناچیزه', 'دانمادکی', 'دیگست', 'اونچیزی', 'مشکلمون', 'ناااااراضی', 'قبت', '65', 'نذاشتیم', 'ناپلیونیه', 'هزیته', 'رغیبه', 'قیت', '8قلم', 'کنسلش', 'قاتی', 'رانداشت', 'ادنم', 'بدمش', 'قطغذا', 'دانماریش', 'همسایش', '60٪', 'متکارونی', 'سلفونی', 'بسیارممنون', 'یکسانه', 'داستانا', 'ارسالشون', 'گندمکی', 'میرسیه', 'پوبش', 'میخواستمو', 'امااااااااااااااااااااا', 'باقلواتون', 'برخوردخودشون', 'یوبس', 'رستورانیو', 'بگهشما', 'نبودمزه', 'پاستاهاتون', 'سرواکنی', 'میشکوند', 'بلشید', 'اماشیرباید', 'تکهرهای', 'ساندوسچ', 'کبابشون', 'قلیون', 'بزارمد', 'میچینه', 'میدیدین', 'خواستمو', 'حتماااا', 'khosh', 'قرارباشه', 'میرسونین', 'ثابتشون', 'تاخیرشون', 'وقن', 'سساش', 'پاکخ', 'ماندیدیم', '4500ت', 'دیگع', 'بادمجاااااااااااااااان', 'غدات', 'بیشترازدوقاشق', 'مظر', 'روخمیر', 'متفاوتیه', 'نایلنش', '20رسید', '30', 'فقطبه', 'نایلو', 'داستیم', '13000ت', 'کنیددددد', 'غذابسیارسرد', 'حالاخوردم', 'سردیییییی', 'قهوع', 'سفارشگذاری', 'کیپیااااییهام', 'برایاین', 'سرتایم', 'انقضاشه', 'همیشون', 'تارسیده', 'خمشو', 'سدوخته', '200ولی', 'نبایدخریدکرد', 'انداختین', '140', 'گاقعا', 'نهاااایت', 'کریپسی', 'ولی2', 'گردادنده', 'فریزره', 'بابرخورد', 'مجموووع', 'بیشتد', 'شیریبی', 'تهفیف', 'فودپارتی', 'داذ', 'kalbasash', 'خاطراتمون', 'میلفوی', '370', 'پنجتا', 'واقعاراضی', 'پیتزاعه', 'فبول', 'کیکایی', 'بچگیا', 'رلضی', 'ژامبوناش', 'ناپلونیش', 'تابستنی', '5تومنی', 'سسسسسرررررد', 'زیاددارند', 'آبشده', 'اتیشه', 'پیگسری', 'بدمزس', 'اشانیتون', 'ایندفه', 'بسیارررر', 'اتاقیام', 'دوبرش', 'ساعن', 'اوزیرا', 'خیلس', 'دادشیرینی', 'qarar', 'تازست', 'آیفن', 'محترمو', 'کنتری', 'ظرفاشونم', 'ببابت', 'چیزعالی', 'کالباسا', 'نفرآبرو', 'سرخشده', 'بیرووون', 'شمرونی', 'کرفتید', 'دیفریز', '5400', '2٥00', 'کاکایویی', 'پییزا', 'اسنپفودم', '87900', 'جالبتون', 'ومحترمش', 'مرسومه', 'سردبودن', 'سردشون', 'مرغشو', 'مارتادلا', '49', 'حرفاست', 'نربخته', 'پرخمیر', 'اینورا', 'کااااااااملا', 'خیلیییییییییییییییییییییییییییییییییییییی', 'مف', 'ماسیدگی', 'بارایحه', 'پنیرپیتزا', 'سراشپزشونه', 'واقعااااااا', 'اخرشم', 'برازندشه', 'ممنونمممم', 'کوچیککک', 'ازمسول', 'افتضااااااح', 'خییلیی', 'عجییه', 'وژه', '5ساعت', 'باوهمون', '1000تومان', 'y0m8d3', 'عذاها', 'رسیدباکلی', 'مرغاین', 'سفترش', 'خودنو', 'y0m2d1', 'ریحته', '30000', '؟؟،', 'بسیارکیفیت', 'کفدست', 'nabood', 'همینطورسالم', 'زودتادیروقت', 'میخوادسیربشه', 'غیرگوشتی', 'میراشکیش', 'سلیقس', 'تمنس', 'علاده', 'پررر', '2500گرمی', 'جورنبودن', 'اذییت', 'یذونه', 'مشتریشو', 'استخوونه', 'سیبیه', 'میزدین', 'سستون', 'مرغهاحداکثر', 'روزیمون', 'بنطر', 'y0m12d2', 'بودسپاس', 'تبادر', 'ماکردفر', 'عااااااالیییییی', 'y0m8d13', 'نذارند', 'اعریف', 'تخیف', 'شماونیروهای', 'حلالشون', 'اشپزخونه', 'غوق', 'ساندویچه', 'شیرهویج', 'آوران4000', 'استثنی', 'قاسق', 'بسیکوییت', 'پرکنجده', 'تویحات', 'نصفشون', 'انتظارمون', 'دیروزشون', 'رسیدوطعم', '5تا', 'جاشنی', 'سپرمارکتها', 'عالللللللللللللللللللللی', 'پیتزاسبزیجاتی', 'ارزونن', 'نگینیه', 'بدمون', 'هنیشه', 'رادحفظ', 'دنییبیببیا', 'oکیفیت', 'ازینی', 'تاخیرا', 'میرسونن', '13000', 'سراغتون', 'ودقیقا', 'غذا5دقیقه', 'مزهدخاصی', 'پیتزاهاتونو', 'شادشدیم', 'سیمست', 'نمیفرستادین', 'معندی', 'میفروشه', 'دونفرس', 'شاهکارا', 'ساتدویچ', 'شکلانی', 'انصافانفهمیدم', 'وخداقوت', 'وطعمشون', 'زعفرونم', 'یکتون', 'فردامو', 'sibzamini', 'وقوام', 'مهماناتون', 'خونگیو', '470', 'فودکه', '1٥هزار', 'ارزونتره', 'تندیه', 'دادهشده', 'خبریه', 'مقع', 'وپاستافیله', 'قارچه', 'موندید', 'کرنبریش', 'سالاداسفناج', 'ندارنم', 'راحتتون', 'اختلافشه', 'بسیارراضی', 'نریزه', 'قارچا', '1فیله', 'نودلی', 'سعارش', '40دیقه', 'همیشگیه', 'ورداشت', 'زینگراتور', 'واااقعن', 'جنسیو', 'رسیبد', 'وسپاسگزار', 'مافنین', 'فصلتون', 'اصلامعلوم', 'نمیدونیم', 'وتوقع', 'مشتریتون', 'رولتهارو', '1ع', 'توانشو', 'دادیمو', '3000تومانی', 'کردست', 'هرپنشنبه', 'واصلا', 'عااالی', 'نگهبانیه', 'سفیدشو', 'دسید', 'مجمومه', 'خوسمزه', 'رسیدیعنی2ساعت', 'گذینه', 'درصدپایین', 'بعصضی', 'کاااملا', 'سسهاتون', 'هاذشیرموزی', 'شده2', 'pish', 'نوبد', 'زتگ', 'سردمو', 'وانیلیه', 'قود', 'وریختم', 'جونتون', 'جذابه', 'ررگر', 'خورشتشون', 'رولتهاتون', 'کبابارو', 'انقددددددددددددددددددددر', 'تولیدروزباشه', 'وبرام', 'حضوریشون', 'انداحتیم', 'اندازع', 'خوشمره', '1ساندویچ', 'سوممه', 'اانگار', 'تعداش', 'راضب', 'امتهان', 'بقیوشو', 'ثبلا', 'اانتخاب', 'الحول', 'البله', 'چیزکیکی', 'کاملتره', 'حلیمشون', 'ازنظرمن', 'اندازین', 'ماکارونیشم', 'دورشون', 'اورئو', 'بدخورد', 'بزارشون', 'باقاوا', 'کیفیتشووووووو', 'خمیرو', 'فوقعلاده', 'گشنشون', 'بکوشیدتا', 'گذاشتیدهمراش', 'عددسس', 'میلکشکع', 'حالاسه', 'نباشیدمیگم', 'میموند', 'بعدیا', 'راتغییرداده', '35دقیقه', 'شدموچیز', 'جدیدترمیخواستم', 'اسنپو', 'پیروزو', 'عذزخواهی', 'افتضااااححه', 'بفروشن', 'درحدی', 'زورشون', 'ghablie', 'فامیلیمو', 'صداشون', 'نکنیدو', 'انداختمشون', 'وامکانا', 'بودکمتر', 'کوفتتون', '4000تومان', 'طرفداراش', 'منونوشته', 'کباباش', 'poore', 'اصلاگوشت', 'دازم', 'شماهستیم', '٥0', 'بفرستین', 'ظخم', 'khoban', 'ویتامینشو', 'یودم', 'مائالشعیر1500', 'پیازداخ', 'خورما', '30سانتی', 'ردبولها', 'وااااااااای', 'هیجی', 'یژدی', 'بپزن', 'بودمرغش', 'دوستون', 'آناناسو', 'بلخره', 'باسفارشاتم', 'بددن', 'موجودیو', 'حروم', 'دقیقتون', 'نمیدیم', 'mizadin', 'خوشمزهههههه', 'وخامه', '6تاتخم', 'بادنجون', '485گرمی', 'باهماهنگی', 'نچخته', 'پراشکیا', 'جدیدشون', 'جاداره', 'ناسالمه', 'لوبیاپلوسفارش', 'نفرستادن', 'کوچیکتون', 'قبولتون', 'کجابود', 'فشنی', 'واشنباه', 'منفاوت', 'غذارو', 'المینیومی', 'ازرستورانهای', 'جائ', 'فلافلاش', 'اصیله', 'y0m6d7', 'هر3نفر', '4جعبه', 'دوبارت', 'درخریدهای', 'نمشد', 'درخواستو', 'تهرانید', 'غلیط', 'ازاونی', 'موهبتو', 'روسفیدمون', 'بیسته', 'همینحور', 'عالیییییپیک', 'یونانیتون', 'چیزبرگز', 'شییرینی', 'فودیتون', 'برگریه', 'جاهااااا', 'طولااااانی', 'وجوجه', 'خمیرپیتزاخیلی', 'asheghe', 'نوسات', 'پیتزازسرد', 'اززحمتی', 'ایتالیاییه', 'هردفعه', 'جانیافتاده', 'خیییییلی', 'استریپز', 'اجیل', 'شدیییییدا', 'نمگیرم', 'بودنمون', '150گرم', 'زیاااد', 'باسیر', 'پشیمووووون', 'نمیدی', 'الانشم', 'وجترن', 'هرکدومشون', 'نرنین', 'خواهیشو', 'توضیحاتگفتهبودم', 'غداش', '10بار', '2تا', 'نزاشتند', '،،،،', 'مقدارژامبونش', 'ونسبتا', '86الی', 'خیالمو', 'میپرسین', 'اینقدی', 'اوقاتم', 'اونجگر', 'پیگیزی', 'y0m1d24', 'باریست', 'پنیرهاباعث', 'بیانز', 'مدنظره', 'ارزونترن', 'استافدکراست', 'افتضاححححححححح', 'مزشون', 'عاالیه', 'لطفاشیر', 'بیشتراز1ساعت', 'تخفیفه', 'نرسونده', 'وبسختی', 'ولعاب', 'نباشیددددد', 'ایچش', 'برسن', 'مینوشتین', 'تاپیتزا', 'ظرفتون', 'عااالییی', '8000', 'کنتکاکی', 'دلیوری', 'چهارروز', '1کیلوبزرگ', 'نونایه', 'استیکره', 'داداچ', 'mohtaram', 'y0m0d94', 'دورریختم', 'چیزکیکش', 'چرااینقدر', 'وجگر', 'روغنتونم', 'سمتا', 'سالادشیرازی', 'جداگانس', 'نظراتمون', 'لاغرو', '40', 'سالمتره', 'وژامبونش', 'محلمونه', 'پرروغن', 'دورپیتزا', 'به3', 'میکمه', 'انهارابه', 'بپیچین', 'نمیکنین', 'هدفونشون', 'گقتن', 'باتشکراز', 'بدهمستاره', 'انگشتاشم', 'تونستیم', 'بوددیم', 'بودد', 'میارند', 'میخوردیش', 'آوریه', 'قعا', 'ساندویچهاشون', 'جفتتون', 'سوناب', 'نداشین', 'سوگود', 'غذاهاتون', 'باقلواهاتون', 'خداقل', 'نیووردید', 'تکشو', 'رستبیف', 'از5', 'مداریشون', '84', 'مصرفا', '6هزار', 'جیکن', 'هماهمنگی', 'سقارشات', 'انقدددددددر', '3ستاره', 'غن', 'جعبش', 'سوخاریتونو', 'صابقه', 'میذاریدباوجودی', 'میارید', 'پاسخگوییشون', '80', 'سفازش', 'shiko', 'keifiat', '240گرم', 'عاشقتون', 'عااالیه', 'مدیریتتون', 'باکلاسی', 'پاتونم', '2و', 'جداآوردند', 'دمتگرم', 'bemoonin', 'جاییزه', 'کیفیک', 'مبگیریم', 'چرابه', 'خمیرمانند', 'تعریفتون', 'شکلاتشون', '18هزار', 'پیتزایه', 'حیروون', 'کساییکه', 'غذاهم', 'باییر', 'ازینا', 'گردوندم', 'عالللییی', 'وخرده', 'تشنم', 'بوووووووووووووووود', 'میافته', 'عاااالیههه', 'مغزوزبان', 'جیبشونن', 'بعدازسرخ', 'میوفتاد', 'ضخم', 'چندومین', 'نمیزازید', 'لاوربرگر', 'دسرشونم', 'هموتیی', 'عاااااللللللللیییییییییی', 'نمریزن', 'خوشمون', 'بخوردن', 'فقطططططط', 'میفروشن', 'ولی90درصد', 'ازآبمیوه', '24عددی', 'قیمتاش', 'عاقای', 'غذاهار', 'اااا', 'برمیدارید', 'سکلاتیش', 'دوتاام', 'محصولاتشون', 'اونیکه', 'میکسشون', 'معمولیو', 'صبحه', 'قویتون', 'کالاهش', '45ساعت', '250گرمی', 'همسایمون', 'نع', 'امرغها', 'ظرفاشم', 'تاکیدا', '48700', 'فودهای', '4000', 'تستکی', 'وترد', 'سنپفود', 'شادباشد', 'اومدش', 'گریله', 'اینسفارش', 'گراتن', '30000تومان', 'بودهیچ', 'زودفود', 'قربونش', 'میاوردم', 'سگنیچر', 'سخاریشم', 'نعناها', 'باکیفیته', 'نپاشه', '16900', 'فشردس', '2سلعت', 'نامرقوب', 'حساااابی', 'نزاشته', 'میگذاشتن', 'چیزخوب', 'پیتزاگذاشته', 'وظایفمونو', 'باگپ', 'جداگونه', 'خوشحالمممممم', 'ولی3000ت', 'انقدررررر', 'سبزیتون', 'درخواسته', 'هژارتومن', 'انتخابام', 'ازفتیرها', 'موجودداخلش', 'زامبون', 'ختمه', 'قرمزکمتربزنید', '2100', 'العادسسسس', 'مرغذسوخاری', 'برانگیزه', 'تنهادلیل', 'وخمیر', 'افتتضاح', 'تلللللخ', 'نداررررریم', 'عاخه', 'ازطعم', 'کیفیتاتون', 'درارم', 'دوجور', 'ماهاست', 'لکسپرس', 'y0m45d1', 'مرطوبه', 'ظرفایی', 'همشه', 'هاتداگو', 'پرووووووو', 'میگرفتن', 'عدای', 'تکونش', 'صعیفتری', 'وضعه', 'ازسوپرشکیبایی', 'بیزحمت', 'محترمشون', 'اینترنتیتون', 'افتضااااح', 'نمیکشوندن', 'چیییی', 'آمدتون', 'آردسوخاری', 'شکلاتیشون', 'دلوری', '٥تکه', 'سفارشامو', 'بستنه', '18', 'رسوندنع', '4400', 'چلوه', 'رچی', 'کاملامضرهست', 'زوکت', 'ماهیشو', 'دوغشون', 'اونوقتا', 'یابا', 'نبودیه', 'motasefane', '23سفارش', 'پستوک', 'مدییریت', 'خوراکیاتون', 'خریدحضوری', '1پیتزای', 'غذامو', 'رانداشتید', 'حایی', 'شرکتیا', 'جوابشون', 'بودبسیار', 'سفارششون', 'بسسسیاد', 'چربیه', 'جاااااان', 'وبهتربودباسس', 'y0m11d29', 'یارزید', '42سفارش', 'عجیبیه', 'استثنائدرتمام', 'وکالا', '45000', 'روغت', 'برشتوک', 'غذارا', 'دیگهسفارش', 'مظیره', 'دیشبیه', 'پلونی', 'زحمتاتون', 'کننذ', 'خوشزه', 'بودجوجه', '7000', 'خییییییلی', '16هزار', 'شیرنارگیل', '5تومن', 'رشتهپلو', 'برنمیدارم', 'درمنیو', 'فروشگاهشون', 'قیمتارومناسب', 'برخورو', 'darin', 'موادبیشتر', '7تا', 'نمیندزن', 'یوفکای', 'ریریخته', 'طعه', 'واسادم', 'توتفرنگی', 'وسالمتر', 'قولتون', 'inghad', 'ازبس', 'معق', 'نفرستان', 'اگرر', 'رسیدنشون', 'قبلتونو', 'اصلاخوشمزه', 'پبیک', 'مهمولی', 'وضعیتیه', 'کنحدی', 'عموض', 'دورچینم', 'بلوکمون', 'سیسگار', 'چراااااا', 'اشتراکشون', 'دوتاقطعه', 'هولستون', '3٥هزار', 'ننیدونم', 'درخاست', 'پلمبیر', 'سیبذزمینی', '6کیلو', 'میخاسم', 'نعمته', 'خریدام', '5تیکه', 'مارکت4', 'زیاااااااااااااااااااااده', 'ومشکلی', 'سوحاری', 'بییرن', 'نیاواردن', 'میپردازین', 'خرن', 'تاپلئونی', 'وخرد', 'شیرنیو', '23500', 'پاهاشون', 'دازه', 'کامنتارو', '22هزار', 'نیمد', 'پکتون', 'بیشترازبنده', 'عملکردتون', 'نیکردین', 'عشقههههههه', 'گوشیشو', 'بهدگفته', 'جهانو', 'اماغذا', 'خریدغذا', 'مفتم', 'توتذفرنگی', '650', 'کبفبت', 'میدونستید', 'حلیمجای', 'فودای', 'چگنال', 'باسلاموخسته', 'تکنه', '40ت', 'تهرونه', 'تندهست', 'نظیرن', 'پرداختیمو', 'ازتوجهتون', 'ددور', 'بریونه', 'بخورنش', 'خدممتون', 'مافینه', 'بهارنارنجتون', 'کلانا', 'پپرونیشو', 'برگراتو', 'زیتده', '400گرم', 'بازیتون', 'وازکیفیتش', 'اازهررستورانی', 'ایننننننننن', 'همونا', 'اسبپ', 'پنییر', 'یجوری', 'رتضی', 'کیفیتون', 'زاهرش', 'کاملاتوجه', '350گرم', 'اسپشیال', 'تغییرفرم', 'هزارتومنیم', 'سرعتشون', '36700', 'وشیرینیش', 'ساندویچشو', 'رادقید', 'صبحانی', 'pogu', 'قیمتتون', 'کیفبت', '٥00', 'indaf', 'بینظیرتون', 'بودودرکل', '2020', 'ضایس', 'نوشیدنیهاتونو', 'د3', 'آسانسوره', '1نان', 'بهداشتیتونه', 'واقعارولتاتون', '22700', 'بعضیاشونو', 'دروووووووور', 'مشتریاشون', 'اماااااااااا', 'وکیفیتش', 'بدطعم', 'توجیحشون', 'شیرینیشون', 'خمیررررر', 'شگد', 'بسیارسرد', 'دوسریه', 'pooreye', 'تعریفشونو', '4هزار', 'پرپروک', 'امروزتون', 'پیتزابا', 'اخلش', 'خصوصن', 'دقتید', 'داثره', 'کردنش3000', '45دیقه', 'بهرجای', 'بلکولاد', 'هنره', 'زودترازموعد', 'شدنشون', 'بندیو', 'رسیدزیر', 'آرستو', 'نداشتسین', 'سردمنطقی', 'قدمه', 'میشینیم', 'غذاتونو', 'هردوتاشم', 'باوره', 'پباز', '400', 'چهارتادونه', 'بودآبروم', 'راض', 'بدبود', 'نپاشیدن', 'لطفشو', 'اوففففففف', '1800', 'اونجور', 'چیپسو', 'هیییچ', 'خستگیمونو', '2500حساب', 'مصف', 'برداریدحتی', 'پپرونیاش', 'برنجشو', 'باآسانسور', 'لورده', 'مرغاش', 'سلیقههه', 'سالادماکارونی', 'بیطعم', 'اشتبا', 'نزدیکتین', 'داغوووون', 'اکسپرسا', 'بوووددددد', '2400', 'نیمرودرو', 'اگرباگت', 'نمیدونست', 'سیرداشت', '30شب', 'لدلببل', 'التفاوتش', 'توهینه', 'گهته', 'سپااااااااااااس', 'شکرا', 'نمیارند', 'برگردوندیم', 'مشتریهاشون', 'faghad', 'مستمون', 'ضورتی', 'فرنسوی', 'قوق', 'وبرخلاف', 'ببشتری', 'اعتمادمشتری', 'مطممئنا', 'روغنو', 'ایتالیاییشون', 'آمیره', 'مرغ18000', 'بپزش', 'نمیخونن', 'موسیرو', 'نمیگیم', 'کنارشون', 'پیشنهادمیشود', 'زمینا', 'ارسرع', 'نمیذارین', 'حبوباته', 'وسطشون', 'کلاخمیربود', 'غذابدون', 'وحشتناااااااک', 'ورداشتین', 'ندارنممنونم', 'زمنی', 'سلاد', 'تهچینش', 'قدیمیا', 'خیییلی', 'مغزپخت', 'هیشه', 'y3m4d97', 'مردمو', 'وقیمت', 'خیییییییییلی', 'وافعا', 'خیالمون', 'kheyli', 'درخداست', 'چقققققدر', 'جنستو', 'مارسپان', 'budan', 'بودپیک', 'مهمانامون', 'بپیچن', 'تند9ا', 'آبلیموناد', 'بخورمبا', 'پکاشون', '36سفارش', 'monasebe', 'بلشرایط', 'پاسایل', 'panjereyi', 'پرسیدین', 'نمیشید', 'جاااا', 'سفرتون', 'نزدیکن', 'وفرستادن', 'نشونش', 'معرفیتون', 'بیکیفیته', 'مکنین', 'پرکنن', 'پرمزه', 'خوشمزس', 'وبادفت', 'برامهمانی', 'سالادهارو', '845', 'نبودالبته', '،؟', 'ودوتا', 'جلوکباب', 'خوردا', 'قبمتش', 'بارندگیه', 'وااااااااااقعا', '12تا', 'پشتشون', 'ازیه', 'دفورمه', 'بپزه', 'وتمشک', 'ثابتون', 'ففقط', '1لیتری', 'نمیفهمه', 'کارنسو', 'سیب360درجه', 'سیراستیک', 'اماژامبونش', 'سوپرایزش', 'ممنوووووون', 'گناهه', 'برندیگ', 'نبپد', '106000', 'کیترینگها', 'همبرگرو', 'تاخیررررررذ', 'اصلااستفاده', 'برکتتون', 'شدس', 'داگشم', 'بودبیشتر', 'وازاسنپ', 'کیفتتش', '35', 'عزیزتون', 'پیتزاپسرخوب', 'تمامشون', 'اشتباهو', '20تایی', 'ببندین', 'y0m6d23', 'ضیقه', 'مدلشه', 'روونداشت', 'قاچق', 'موردنظرسفارشهای', 'وطنام', 'نمیخواین', 'احینا', 'غذا20', 'گزاشتین', '15درصدی', 'فوتوچینیاش', 'فتار', 'قشنک', 'وااای', 'پلاکچینی', 'شیرازیشون', 'میخاهید', 'تارتلت', 'بودقیمت', 'سبزیهرو', 'بفیه', 'همیناست', 'رستورات', 'بودمتاسفم', 'وسیر', 'ساطوریشون', 'بببددد', 'کنارغذا', 'وااااااای', 'ودرجه', 'دادممممممم', '2500را', 'اینننننننن', 'مشتریاتون', 'واسه9دی', 'بهترمیشه', 'پبتزا', 'جاهاییه', 'دلچسبه', 'شیرکم', 'قزمز', 'نمرش', 'علیرعم', 'مخلفاتشو', '1500تومانی', 'خورشته', 'کیفیفت', 'دوبطری', 'بهترهارو', 'اپاچینو', 'بیظیر', 'افتضاااااااح', 'بیشترشه', '10', 'وبموقع', '10٪', 'ومقدارش', 'زخپ', 'زوابیا', '2نفره', 'شائالله', 'پیتزاتونم', 'همبرگش', 'راجبش', 'سزراش', '2ظرف', 'بدمزگی', 'سوزوندن', 'کوهپناه', 'نمیاریدچه', 'روسفید', 'همکارام', 'بالااا', 'برای3هفته', 'مهموناشون', 'باروژقبل', 'مغازتون', 'فریزرشون', 'یجوریه', 'نیاره', 'کمههههه', 'صدوسی', 'باظرف', 'باپقیمتش', 'صبرکنن', 'نایلکسی', 'مناسبشون', 'ودفعه', 'بقبه', 'بادمجونشم', 'لذیییییذ', 'شکستست', 'لطفاااااا', '1نفره', 'نامبوعی', 'یجا', 'بودموقع', '500تومنی', 'بریانتون', 'خمیریود', 'کرذن', 'تکمیله', 'کاشمثل', '50٪تخفیف', 'خیییلییی', 'تتوری', 'خداشاهده', 'قالبه', 'کوبوندن', 'معایرت', '300متر', '2نفرس', 'نوتلاتون', 'کارخونه', 'کتریتگ', 'ازاسنپفود', '3800', 'رسدنش', 'بوخوری', 'معمووولی', 'برمیدارن', 'باعکسش', 'عکساتون', 'مرغشه', 'تشده', 'آمادست', 'پایخگو', 'دیشبشون', 'عذای', 'بخورممم', 'بودوبرنجش', 'مخیتو', 'اریستو', 'گوشیتون', 'ذکرمیشه', 'لیبیل', '2مدل', 'قیما', 'بمونین', '2٥0', 'مثبتشون', 'ناامیدمون', 'ازشماممنونم', 'ارسام', 'زیادیشو', 'اقتصادیه', 'گاتاش', '6', 'فودوهمه', 'هردوسفارش', 'مخصوصشو', 'شیوید', 'سوپربرگرو', 'عالیییییییییی', 'خریدنیست', '66', 'مادرتو', 'عاااااااااااااااااالی', 'دلسترهم', 'ارزونترین', 'سردبودبطوری', 'گوجشم', 'ازشکل', '04دقیقه', 'کیفتتون', 'داربود', 'وزیادسفارش', 'پیتزاو', 'مسداد', 'چیسبورگر', 'خییییلی', '18000', 'خوشمزتون', '109', 'چاشنه', 'زماااااااان', 'اندازشو', 'چندنوع', 'تصلا', 'خیارسالادی', 'بازشون', '320', 'میخوایید', 'تبود', '11900ولی', 'یهدمزه', 'عااالیییی', 'دقیقخ', 'بدترینا', 'دقتا', 'چاکلتش', 'اخرش', 'فایدا', 'نگرفتنو', 'y0m2d18', 'خیارنرسیده', 'فریادمیزد', 'y0m20d20', '2قطعه', 'امتیازو', 'میبینیش', 'وتشکروسپاس', 'درموردتاریخ', 'ناراضیه', 'عالیهههه', 'اناتا', 'بهشه', 'تدیگ', 'بودازنوع', 'بودوگرم', 'جداشون', 'وشیرینیهای', 'خخوبی', 'چنجشنبه', 'باتاریخ', 'ضروف', 'استریس', 'پرپروکه', 'نبایدبدم', '33600', 'اسنیکر', 'کلمشون', '3تا', 'برخردارنبود', 'بیتزا', 'فودیی', 'عمرمو', 'ماتفاوت', 'چیزبرگرش', 'بیاورین', 'عجیبهکه', 'فیبرکس', 'پیکتونم', 'انتقضا', 'بدددددددددد', 'بهترپخته', 'سلامتیتون', 'ظرفاش', 'اناناسی', 'بامجان', 'وتازگی', 'کورنیلو', 'وردارید', 'وپیمون', 'سوپرمارکتا', 'ساندپیچ', 'ساعتتتت', 'باربیکیوبرگر', 'بفرستن', 'عزبز', 'شائلله', 'پنسر', 'دارع', 'غیرممکنه', 'شگست', 'سردومونده', 'نیبت', 'گرونترشده', 'بدستت', 'سررررد', 'عذرخودهی', 'میریختنش', 'هنرمندید', 'تخفیفاش', 'فاصبه', 'تزئئنی', 'خوشممممزه', 'غذاخور', 'تومنیه', 'کنیدتکرارنشه', 'تااازه', 'آرپیچی', 'خفمون', 'مخشخص', 'پنیرا', 'لاوازا', 'چیزفود', 'رسپس', 'وتلخ', 'میدادظ', 'دلدرد', 'درباز', 'توضبحات', 'وپرملات', 'هیییییچ', 'ازلطفتون', 'موهیتوی', 'نونشه', 'چاپاتا', 'وضعشون', '450', '31000', 'نمیخواییم', 'شنیسلی', 'شولوغه', '7500', 'داردحسنش', 'گوشفیلی', 'سیرواستیکشون', 'نپختهههه', 'موتزارلای', 'بپد', '4عددی', 'مچسبه', 'اسرافه', 'شامپر', 'جلووووو', 'مناسفم', '6785', 'مکنیم', 'پوشت', 'شفارشتون', 'کاپریچوزا', '50گرمی', 'موفقیتتون', 'عاووولی', 'حرفمون', 'شکله', 'همیشگبتون', 'درمنوسالادشیرازی', 'بفروشین', '38', 'نوناشونم', 'شمااا', 'کیگ', 'وکیومی', 'مینداختین', 'پیسنهاد', 'چیکیم', 'بودریال', '1500اوردند', 'افدزاح', '1٪', 'کارخوان', 'بودانگار', 'سفارشو', 'بین4تا6قسمت', 'ساندویچوووو', 'نظرلتی', 'میوفتم', 'بهروشم', '199000ریال', '97000', 'قارچاش', 'عاااللی', 'باشنش', 'باقاله', 'پیکیه', 'بندیبسیار', 'میخونین', 'قصدتون', 'یخزدش', 'مشتریا', 'مشتریرو', 'سوخارئ', 'کارشو', 'میکشن', '10ذدقیقه', 'نبووودم', 'کیفتش', 'گازشو', 'بدتربن', 'آمادرو', 'درسفارش', 'گوشتاشو', 'جایگیزینی', 'چطوریه', 'بتواندچنانچه', 'اصصصصلاخوب', '10ساله', 'پیتزاگوشت', 'وارتقاع', 'نمیرارن', 'ناپلعونی', 'efesها', 'روغنشو', 'میرسرن', 'خلافرمنو', 'تهدیگ', 'دیویدف', '8900تومان', 'دامدارن', 'اکلرو', 'شیشهذای', 'کیفتی', 'کامنتارم', 'دربیاری', 'انقضاداره', '200cc', '3کیک', 'نمیزنین', 'دایجستای', 'رونفرستاده', 'معمولیا', 'ویشتا', 'یدونشم', 'ححجم', 'گوشتشو', 'گلپرشو', 'غذادیررسید', 'نزاریدباسوپ', 'پفو', 'فکز', 'واقعاااااااااااااا', 'y0m2d7', 'پولیکه', 'توکیک', 'درساندویج', '67000', 'شیرینیاش', 'سفارششو', 'وکیفتشم', 'مشتریشونم', 'نریخته', 'غذارنمیاره', 'ببندن', 'پرکنجد', 'مشترهای', 'واتمام', 'تنوریتون', 'سومدیریت', 'بایدکمی', 'سفارشیو', 'نامرقوبی', 'داشتغذا', 'شیرکوزش', 'هیلیی', 'رنگن', 'است0ممنون', 'مغزجات', 'هیچچ', 'باقبلیش', 'انتخابشون', 'رسترونت', 'ممعجون', 'سبزیجاته', 'خیارشورو', 'میرسونم', 'تخغیف', 'انقدرر', 'اخرمون', 'خفنههههه', 'احترامتون', 'پیازو', 'پنیرخامه', 'خشگ', 'انسپ', 'مدیریتشون', 'ریحونی', 'هادداگ', 'شووور', 'پاورماشروم', 'موادتون', 'عمس', 'پیشنهامیشه', 'نخوررم', 'عرقیجاتش', 'برنگردانده', 'دبزاین', 'اتشکر', 'خودشونن', 'هنش', 'گارلیک', 'چیززززز', 'لاکتیویای', 'افتابگردان', 'ملانزانا', 'فسنجونتون', 'نندازین', 'ساندویجم', 'وخیارفرستاده', 'شکلیه', 'نمیشدبخوری', 'آریستو', 'دیگیاشم', 'عاشرا', 'عذایی', '2با', '2سات', 'بدستمون', 'اسغنجیش', 'برمیداشتی', 'وبرخورنده', 'بسازین', 'آبلیمویی', 'نمونیم', 'کریسبی', 'بامالیات', 'ماکارنی', 'اوسال', 'بگیییییر', 'یبارمصرف', 'داگشو', 'وشباهتی', 'ناضایتی', 'لیمونات', 'سیبب', 'بهترشه', 'نوشتنhot', 'قارچشو', '36000', '693', 'مشملی', 'سییییب', 'ostkhon', '20گرم', 'ساندویچاتون', 'کمتربودکه', 'همزاه', 'چلوگوشت', 'رستورانتون', 'خیارشوری', 'لهشذه', 'مانبود', 'شکرنه', 'وفینگر', 'جبعه', 'جونش', '3تاش', 'برایتعداد', 'snapfood', 'وخانومم', 'سیبزیجاتش', 'هوفنبرگ', 'یردن', 'خدمترسانی', 'داغشونو', 'بارونم', 'ارسالیشون', 'بخوریمش', 'اززحمات', 'ازشماخریدکردم', 'چانوی', 'نکتارهلو', 'ومایل', 'تاآسانسورهم', 'گوشتشون', 'رصلااا', 'خاطرحمل', '15900', 'نمیگند', 'تووووو', 'طبیعتتون', 'خسسسته', 'نسوزونید', 'انگارداری', 'نشیدم', 'نیسسسس', 'طروف', 'دائمتون', 'مسیرو', 'باگتمون', '9تومن', 'کالاهاشون', 'رسیدنشو', 'زخیم', 'بازشود', 'موتوریه', 'اصلااااا', 'پختشم', 'فوپ', 'زنندس', 'افتابگردون', 'میومدم', 'نمیخوردین', 'رسوندید', 'توضیحاته', 'عاااللللییی', 'آتیشی', 'پنیرشه', 'بنیرشم', 'شووووور', 'تازهن', 'دنبالشید', 'انقدری', 'وظیفش', 'بالاترببرن', 'دونفی', 'امیددیدار', 'اومد2طبقه', 'خوبو', 'واقعل', 'مبلغشو', 'وافلش', 'نگن', 'کرذه', 'وعااالی', '19دقیقه', 'پرملاته', 'مناسبد2نفره', 'موکایی', 'همشوانداختم', 'بسایرین', 'بودخیلیم', 'پایینتون', 'انصافتون', 'یدمزه', 'گرمتون', 'استارمیکس', 'ازسوپرمارکت', 'خریدداشته', 'دیگه2تا', 'حلاشون', '10دیقس', 'بوددددد', 'دکترکباب', 'هجمو', 'بودوحجمش', '8050', 'ابغاد', 'عالیههه', 'شدتتتتتت', 'استخونم', 'اففففففتتتتتتضضضضضااااااح', 'دقیقس', 'پهار', 'بانظم', 'اشپزتون', 'مدیررت', 'شیرقهوه', 'ساعت9', 'توقعشون', 'پالمال', 'اقایونی', 'فودین', '142', 'رفتارس', 'شماام', 'ازبادمجانها', 'نگریرین', 'باقوای', 'قبلنا', 'پروتچن', 'اووردن', 'کمییتبه', 'شناسیتون', 'mikhastam', 'درخرید', 'کاملااااا', 'هستیدید', 'وبفر', 'مقدارخام', 'ملاتشو', 'باااااااایددددد', 'نلرزه', 'میوهاش', 'دارنبود', 'قطعاتپیتزا', 'وپیتزاپپرونی', 'نشتری', 'سفار', 'آوورده', 'زولوبیا', 'ایقد', '1500', 'گرااااااااااااااااااااااااااااااااااااااااااااااااااااااااااااااااااااااااااااااااان', 'حضوریه', 'جنساشون', 'اونطرفتره', 'خیرو', 'دستکشاشو', 'avalan', 'موتده', 'لیتریشون', 'کمسه', 'غذاو', 'برگردوند', 'عکاوی', 'دوتافتیردیگه', 'وخوشمزه', 'ببشتر', 'خودده', 'همینطوریش', 'کچابش', 'نیملیتری', 'اومدنش', 'dehi', 'سفارشام', 'آوردین', 'توضیحاتشون', 'لازمو', 'نوشایه', '8400هزینه', 'دوتاتیکه', 'chize', '3تخم', 'سوخاریایی', 'حتمااا', 'سهدی', 'بستنیدموجود', 'ترشو', 'پپرونیه', 'هنبرگر', 'شیدیدی', 'استیکهارو', 'بدپخت', 'خودشوم', '4تاش', 'mamnoon', '17000', '12بود', 'ازسلامتی', '10تا', 'تنده', 'توجهه', 'امسب', 'عملن', 'مثبتیه', 'حفظتون', 'درشتا', 'تالذت', 'رعابت', 'اناره', 'بخوادم', 'اینبارش', 'زمینیتونو', 'وقتمون', '11سانتی', 'ظردف', '3000', 'عالییییییییییی', 'کرفتن', 'کوکلچه', '235000ریال', 'مخلفاط', 'bezarin', 'زعال', 'درمیارین', '24900', 'ساااد', 'رادوباره', 'العاااااده', 'جریانید', 'شیرینیمثل', 'ضحم', 'بوووددد', 'بودوباتاخیر', '٥0٪', 'اینبارم', 'دزاینش', 'ومیزاریدبابا', 'ماعک', 'بعضیاش', 'نمبشد', 'وبمانید', 'آخربا', 'بهتریه', 'تاخیرولی', 'هیچجوره', '2900پول', 'نانوانی', 'فرستاددددددددددد', '40000', 'راضیذکننده', 'سیستمتون', 'تحویلشو', 'طرفداراتون', 'عالیییه', 'برابره', 'بسیاد', 'دقتیه', 'پیتزایخ', '90000', 'وناجور', '60000', 'کارکنانتون', 'بدنبود', 'dametoon', '100امتیاز', 'میراشکی', 'ترددیلا', 'بیکنتون', 'بددددترین', 'هرکدومش', 'بزرگترن', 'اروم', 'خورشتتون', 'اسپره', 'دسپخت', 'چبزی', 'ازرستوران', 'اسکرمبلد', 'ظایعات', 'نمیداش', 'برگزها', 'مارکته', 'مخصوصشون', 'نوون', 'گدشت', '14تمن', 'خداکنه', 'همونقدر', '1980', 'بترش', 'تردیشو', 'چیکنس', 'ذارند', 'مصبتونو', 'بپوشه', 'ذارید', 'بینظیراز', '٥000', 'اشانتیون', 'سوپرمارکتم', 'سالادا', 'شفارش', 'خاهرم', 'ماهیچس', 'سابعا', 'راحتری', 'استریپسو', 'ردولوتی', 'سالمتری', 'ایشم', 'تخفیفای', 'ازدوطرف', 'برعکش', 'y96m12d10', 'جوجها', 'جوریکه', 'hardafe', 'نوهستش', 'خوراکشونم', 'کاملااز', 'سولدوش', 'میشع', '53800', 'ماسیدا', 'عالییییییییییییی', 'تشکز', 'ظریفتتون', 'حزف', 'شناسن', 'همجورع', 'بدمیشه', 'اینجانیست', 'وضعتون', 'لوقمه', 'بیشترکاهو', 'سفارسات', 'مذاشتن', 'پاچینیش', 'طلبکاره', 'ال5اده', 'نگیرن', 'همریخته', 'مرخزف', '24000', 'ارزونی', '100متر', 'حتماااااا', 'محموع', 'بایدزودتر', 'قبلیمون', 'پاپکورن', 'آبرومون', 'مهمانهامون', 'لواااااش', 'ذحم', 'هالوچیزکن', 'لکیشن', 'فصط', 'رانندخ', 'نبودخیلی', 'شکریه', 'دارچینو', 'نتونی', '41', 'تومنیای', 'ظرفشو', 'نمتونین', 'آخرمم', '19000', '13800', 'نمیذاست', 'فقژ', 'شبتون', 'اسنپفود', 'اقلامه', 'ارزششو', 'دیزیایی', 'رستوراناشور', '16000هزار', 'سورپرازمون', 'جدیدصداقتن', 'تپخ', 'امیررصا', 'بخاین', 'خوشکبار', 'ناندخوب', '؟؟؟؟؟؟؟؟؟؟؟؟؟؟؟', 'فکرمی', 'خودن', 'نوستالوژی', 'روبخوای', 'بساه', 'خوشمزش', 'مفز', 'ناپیلونی', 'افزده', 'ادمو', 'keifiyat', 'صراحتآ', '5سیخ', 'برنجتون', '19300محاسبه', 'کوفتشوبه', 'khobe', 'وادویه', 'چاپخونه', 'پیتراهاش', 'دگئی', 'سیستمشون', 'وگلاب', 'راباز', 'گرونتر', 'ٔدونم', 'وکرایه', 'اصلامزه', 'بسیییییااااار', 'البالوه', 'تشکرکنم', 'نمیذاشتین', 'وفرستاده', 'ومشتقات', 'عالیس', 'دارباشید', 'گزاشت', 'آلویزی', 'حدود1ساعت', 'خخخ', '3دقیقه', '40هزارتومان', '14عددی', 'اعتمادخواهدشد', 'میرزاقاسمیش', 'okموافقم', 'بگذارمش', 'میلغ', 'رسوندین', 'بحز', 'نمیخوردمش', 'شیرینایی', '5تکه', 'وقیمتها', 'همیشهههههه', 'خریدارو', 'قبلشو', 'باود', 'وترشی', 'ظاهرشیرینی', 'سنگگهایی', 'وتشکرکاش', '40دقیقه', 'متغایر', '32000', 'خوشمززه', 'شیرتون', 'بااسنپ', 'کوچکتره', 'فودعزیز', 'بهید', 'نکنیدلطفا', 'میپرسیدن', 'پایینو', 'خارجیه', 'بسیارباشخصیت', 'االعاده', 'کوکیز', 'نرسوندن', 'میگذارن', 'بولوبری', 'مثلماکارونیه', '8800', 'وااااااااااااااااااااااای', 'بریکلا', 'مرغتون', 'لیستشون', 'وزحماتتون', 'ردولولت', '3000000', 'فرناد', 'میفرسته', 'تهداد', 'مرغارو', 'ghaza', 'ازاقدام', 'مشکلیه', 'نداشتاصلا', 'غذاهامو', 'دیروزمون', 'ازاسنپ', 'استریپسش', 'مززه', 'بودنشونه', 'غذاریخته', 'سختشه', 'گاهو', '40000تومان', 'asln', 'گزاشتم', 'پیتزاقارچ', 'لسمارتیز', 'همیشگیتون', 'مقایسشون', 'ازتوی', 'ومقدارشم', 'شونو', 'امایک', 'خودشونه', 'نیکنی', 'نصرفه', 'یکست', 'بعدازظهرا', 'اگرمیشد', 'پیشو', 'بروتچن', 'وسبزی', 'نگرفتین', 'سیترول', 'آلورا', 'بهترناس', 'پامم', 'خشخشاش', 'نوستالژیی', 'توخوردن', 'چرررب', 'نبرگشتید', 'گرامیشون', 'نخوندن', 'لبپه', 'اسپاسی', 'میدونستن', 'وبیمزه', 'میهمانام', 'پارمیزان', 'میتزا', '2عددی', 'تاییید', 'هزاد', '1سانتی', 'حضم', 'ناپلیونی', 'بزرین', '2تیکه', 'سزارشون', 'کارزانا', 'سنگکک', 'ناراحتیمون', 'فووووق', '1مقدار', 'وانمیستاد', 'متذسفانه', 'همچیش', 'لذیذو', 'رسونم', 'بحوره', 'شلوغتره', 'دسم', 'غذافوق', 'تیکست', 'خشمزس', 'چوکوکیک', 'شیرینگ', 'سفیدوقرمزوکاهوشده', '1روش', 'اشپذ', 'شیریتی', 'فرتگی', 'سوماغ', '3هزار', '50٪', 'اخخ', 'اسمارتیس', '84٪اوردن', 'زعفرونش', 'طلاییه', 'دوقلم', 'نتونستید', 'تصوراتتون', 'وااااااااااااااااای', 'خیلیه', 'وکبابش', '1در', 'میزنین', 'خیارشورشم', 'دلوسه', 'وطبخ', 'واا', 'شوخیه', 'اصلاااااا', 'تولیستش', 'زرشکتون', '1zare', 'دلجسب', 'جزاکم', 'مامانمو', 'گروون', 'رقیبانتون', 'قاس', 'همیشهه', 'اماازنظرمزه', 'نفعتون', '3960', 'نیوردید', 'تخویل', 'سیگاررانفرستادن', 'سفاارشات', 'وسفارشم', 'کیکهنه', 'مونده2', 'دتر', 'تازگیشون', 'تورنادویی', 'نازکتره', 'استیکاش', '3200', 'سوسشم', 'وتلفنی', 'سسیکه', 'ترکوند', 'برتدی', 'میماسید', 'پودرکیک', '42000', 'نبرین', 'سویتال', 'اصلااااااا', 'جداب', '11000', 'کااااامل', 'زشتیه', 'پولمو', 'خوراکهاتون', 'فیاه', 'جابونی', 'کبابسرا', 'ورداشتن', 'بادمجون', 'دوغشه', 'نوشاباش', 'ولیدر', 'خلیقه', 'انگشتشو', 'تابرسه', 'صبحانتون', 'حقشونه', 'y99m1d15', 'afzayeish', 'قبلنم', 'پاکتو', '؟؟؟؟؟؟؟؟؟؟؟', 'ظولانی', 'بپوشونید', '10000', 'بندیتونو', '8550', 'قیمهبادمجون', 'باخوراک', 'خییییییلیییی', 'پیتزاکویین', 'قوتشونه', '530', 'مسئکل', 'قاطیشون', 'کارشونو', 'هاگرجی', 'وموید', 'خونمونه', 'خیللللللی', 'موجودیشون', 'مدلایی', 'رسونن', 'resturant', '12550حساب', 'بدشددد', 'ابروریزی', 'بپیشچن', 'دقتند', 'تهویل', 'وظاهرش', '4٥', 'گوستتون', 'کامنتا', 'وحدودا', '104000', 'کرامبل', 'خوشپخت', '680', 'نشدینه', 'مالتون', 'مبزنن', 'زیااااد', '15', 'شیرینیخشک', 'روفقط', 'اونیه', 'ساپگی', 'ووووو', 'پزیرایی', 'حرکتو', 'شورشو', 'گرسنمه', 'ذاره', '30سانتیمتریتون', '20تیکه', 'وروغن', 'نداشتیدو', 'اعتراص', 'هویجتون', 'عجایبه', '430', 'خیییییییییییلی', '5یا', 'موتد', '55000', 'بوووووووووود', 'فوووووق', '1ماه', '1روز', 'برگره', 'نمیونم', 'همیشششههههه', 'امذوز', 'وپولش', 'ماکارون700گرمی', 'قرونپول', 'غذو', 'بیچینیدچند', 'هرچندباید', '150', 'غذاهرو', 'رسیدآشش', 'بووود', 'هیچچچی', '50000', 'y0m3d11', 'نندازید', 'پیتزاپپرونی', 'تیتاپ', 'بودمجبور', 'غذاییشون', 'باسلقش', 'وخیس', 'دیرارسال', 'واحدمراجعه', 'بهترینن', 'میشدنن', '26', 'کشیدین', 'ادرسی', 'شرینیهای', '110', 'ازغذاهای', 'من1کیلو', 'همبیگر', 'کردخ', 'اماخوراک', 'شبمون', 'ودورچینش', 'آنقذر', 'فرهنگو', 'مغزداروبی', 'سییه', '،،،،،،', '26000', 'داغوون', 'خشکارو', 'ونپخته', 'وزنشون', 'میصرفه', 'کااااملا', 'فلفلا', 'همیشع', '400مترم', 'عاللللللللللللللللللللللللللی', 'اممنونم', 'کتشون', 'morgh', 'مشتریانتون', 'نزدیکتونه', 'سومشو', 'غذاواقعادیررسید', 'مینویسیمم', 'کهررایگان', 'اجیلش', 'چیکنتون', 'وجترین', 'ازشیرینی', 'چراااا', 'وگوجه', 'اففتضاح', 'تنتون', '10درصد', 'کالدو', 'مدقع', 'ایتالین', 'بخاطرطعم', 'ماستتون', 'بدبوئه', 'تچین', 'پیرلشگی', 'پوزشونو', 'سرجاشه', 'یفارش', 'نبووود', 'فیلههه', 'داغوناش', 'کشیدند2نان', 'طولانیه', 'باخیلی', 'دیدکه', 'شایستشون', 'گرممم', '380', 'فیلع', 'برتد', 'ندلشت', '63000', 'دوباه', 'مونذاشته', 'گزاشتیم', 'مرغه', 'بستهئ', 'روکولا', 'پاستارو', 'حرررف', 'چایز', 'دوپاکت', 'ازنانوایی', 'بیستایی', 'شیرینیهاکاملا', 'سوخاریاش', 'صلیقه', 'سطله', '1ونیم', '2017', 'غذاتو', 'ماینزش', 'دمجموع', 'نخونید', 'ایرادبگیری', 'عالییییییییییییییییییییییییییییییییییییییییییییییییییییییی', 'کالباسو', 'نمیزاره', 'نمیگرفتن', 'ضحمش', 'عالللللی', 'ومجلسی', 'ذخمس', 'بودیمو', 'ادستتون', 'پاشون', 'بندریو', 'درسفارسات', 'پودرقهوه', 'کاملاسردتحویل', 'بهتربود', 'garmoon', '31', '61', 'ماهیتون', 'برگرارسالی', 'هسم', 'میبندین', 'پیکاتون', 'بقلش', 'موادبانه', '28000000', 'آبرومو', 'ضمننا', '12تومنی', '17هزار', 'پرازگوشت', 'سوخترو', 'وحجمش', 'یطرفش', 'جلوتون', 'تومنش', 'سوختگه', 'وعینا', 'خیابانو', 'ابرمون', 'فوتوشاپی', '8تکه', 'بسیاااااااااار', 'ziad', 'وایستیم', 'عاااااالیییی', 'ازمعمول', 'کاملاسردبود', 'رومحترنمی', 'تیگه', 'ارزونتر', 'رسیر', 'بیشترمربوط', 'حررررف', 'وشیرینیهاتون', 'بسترو', 'آخراش', 'بستبندیشونم', 'هیچچچ', 'سسس', 'قارچارو', '2٥', 'فلفلاش', 'استیکتونم', 'روزباشه', '٥دقیقه', 'نیمدانسته', 'توسرما', 'نزنین', 'تاخیییییییییررررر', 'میشدبعد', 'الویته', 'بگیدم', 'سالادکاسته', 'میتونستند', 'یکنواخته', 'دیرررررررررررر', 'لدفا', 'پنیرو', 'بسیلر', 'اینحد', 'شیزین', 'فصلشو', 'کارمنداشون', 'درحالیه', '35937', 'تابیاد', 'اصلاوپیشنهاد', 'خوابونده', 'بانوفی', 'بسیاااااااااااااااار', 'برنگیزه', 'اظهارداشتند', 'باااار', 'باتشکرازسرویس', '5700', 'هزارتومنی', 'بدستشون', 'جنسارو', 'پیتزامونو', 'یهرولت', 'طعمتون', 'بدنودیگه', 'لیتریه', 'عصرونه', 'جوجهدخوب', 'بعیدع', 'نذادن', 'پنیرپیتزاش', 'میذاشتن', 'مهمشون', 'واااای', 'ترده', 'پختتون', '6000تومان', 'شکلاتیایی', 'اوناییکه', 'ریحونم', 'فرتون', 'عااااااالللبسه', 'سوسیش', 'اکثرشون', 'نیاوردتن', 'وخن', 'گیشاس', 'ویگیری', 'خمیرشده', 'کیفتشون', 'عحیبی', 'ازاندازه', 'فوقولاده', 'حالمو', 'هابزرگتر', 'اژدرزاپاتا', 'بودامیدوارم', 'پرکنجدسون', 'نسبا', 'وخیار', 'چوکوبری', 'استخوناشون', 'محصولشو', 'عااااالییییه', 'لوبیپلو', 'لطفط', 'قیمتش7300', '3طبقه', 'بادومه', 'چینشو', 'جفتشون', 'رهواقعا', 'باربکیو', 'لذیذتون', 'وقنادی', 'رفتارتون', 'ضننا', 'ساندویچشون', 'همگیتون', 'کاملابه', 'y0m3d18', 'زعفرونی', 'اطرافمون', 'رسید2', 'اسکرامبلد', 'خمیییرررررر', 'کوبیدشم', 'بسیاررر', 'دارمممم', 'خیابونه', 'بچینن', 'هاداگ', 'اینطورنبود', 'بودوخامی', 'میزون', 'فاییده', 'احتما', 'بندیهاتونو', '2تومن', 'خیلیییییییی', 'ثابتتونیم', 'سررررررد', '15به', 'میبینن', 'نوتلایی', '330', 'پیگیریه', 'ماکرونی', 'العادش', 'ghablan', 'عابی', 'تجربشو', 'مهمانهارفت', 'متاصفم', 'فرستادن3', 'العاه', 'غذاا', 'میکیرم', 'ثابتتون', 'دوووور', '1نیست', 'قشننگ', 'وجزئیات', 'پیتزاهاست', 'کوچیکش', 'قرمزه', 'بگد', 'جلومون', 'کالزونش', 'شلعه', 'غذاصفر', '6000', 'خواهشاتوپخت', 'انشائا', 'زمینیاشم', 'اسلایسها', 'تافتان', 'بودوانگارموندهبودغذا', 'سافرش', 'همونه', 'اسکوپی', 'شیرهارو', 'سنگکسبوس', 'جادستمالی', 'مخصوصشونم', 'شکرداشت', 'نخوداش', 'دسط', 'خریدمیکنم', 'انقضاست', 'همونشم', 'میگفتین', 'گرووون', 'بیگیفیت', 'مارشاملو', 'باشذ', 'نیمساعت', 'مزهئ', 'میگردونم', 'وبیکیفیت', 'رستدران', 'کوچلو', 'پواچا', 'ساندویچیای', 'کنرینگ', 'بخوریدفرقی', 'جنسا', 'وپیک', 'بندیشونم', 'پیتزانازک', 'راظی', 'شالله', '10تومنی', 'فوووق', '33000', 'چهارتکه', 'hotdog', 'غذابیشتر', 'بببنم', 'نبودد', 'نمیکنیدیابرای2عددبرگریک', '250000', 'روانتخاب', 'ینفر', 'قیمتو', 'کلابش', 'تاخیربسیاررسید', 'میخواخم', 'انتخابمون', 'بیسلیقگی', 'حالبکه', 'خمیربود', 'برگردونن', 'بودآبروی', 'موادمصرفیش', 'یکمقدار', 'دوظرف', '90هزار', 'هردوروداشت', 'میزاشتید', 'باسبزی', 'خووبه', 'سبارش', 'نتونیم', 'رستورانا', 'فودمرسی', 'دلچه', 'قرچ', 'پیتزاکم', 'گذاشتا', 'تایمتون', '40٪', 'دفتریادداشت', '199750', 'ادامسها', 'میدمو', 'وضمنا', 'وظیفمون', '5', 'نمیخونه', 'دادزدن', 'حرید', 'y0m3d2', 'دربشو', 'نکنع', 'بودنتون', 'پلومرغ', 'نمیدادین', 'بودونه', 'پارمژانا', 'ماندویچ', 'کذشت', 'بیسسسسسست', 'fogholade', 'بیسکوئیته', 'سالادرو', 'مشنبی', 'خوببا', 'میفرسی', 'خوبخ', 'کیکتون', 'بهمن97', 'درستشو', 'dashte', '1آورده', 'سالاز', 'همینارو', '13', 'ریجکت', 'بودنو', 'نمیاری', 'احناس', '6دقیقه', 'سورپرایزت', 'ابکی', 'سوخاریمون', 'سرموقع', 'بسیااار', 'بمبیای', 'هوبج', '2ستاره', 'پیکشون', 'سراشپزدرست', '500تومن', 'نمییرزید', 'snapp', 'جوابشو', 'تندوریش', 'غذایه', 'روپیک', 'کاهویه', 'نیشد', 'دریخچال', 'ورزشکارا', 'خوروم', 'مقدارناچیز', 'اکپرس', '7هزار', 'شورر', 'وبدطعم', 'سیبزمینیشم', '٥6', 'وکاهو', 'پکیجشون', '2برابر', 'دوممه', 'دخترمو', 'عاااااااااااااااااااااااااااالی', 'فکرر', 'هاگلز', '77', 'خیابونیم', 'خیلییییی', 'خوشششش', 'غذااااااا', 'میذاریم', 'پیتزادونفره', 'پودراشون', 'افریکانا', 'باطعم', 'میگردوند', 'بلاله', 'مقدارموادآن', 'daram', 'سیع', 'بودمیشه', 'کارکنانشون', 'تازهههه', 'حساپی', 'یذره', 'عدساش', '76000', 'نزدیکexpireشدنه', 'عالیو', 'تظیر', 'غذااسراف', 'امروزمهلت', 'نذارم', 'ghashang', '500', 'اونهمه', 'وچسبیده', 'بودیدنان', 'وتیز', 'آروستو', 'خریدشون', 'وجنس', 'مطکرد', 'هزینشم', 'پستیبانی', 'سفارشتون', 'چیزکیکا', 'خیارشود', 'مناسبیه', 'نمره22', 'موندست', 'استرپیس', 'ادرسرو', 'همبرگرهاشو', 'حبفه', '202', '121', 'عالییییییییییییییییی', '20عددی', 'عالییییب', 'اوردی', 'توروخدا', 'رواشتباه', 'اطرافه', 'هصبانی', 'تاخیرر', 'نکینید', 'یدونش', '2سیخ', 'فلفلشو', 'واقعاغذاهاش', 'ومیشن', 'گردوشون', 'برگردون', 'نوشتش', 'روکمتر', '6تایی', 'منچندین', 'مصرفشون', 'اییینهمه', 'شوخاری', 'وماست', 'توقعمون', 'حواسشون', 'وفروشگاه', '455گرمی', 'همکاراتون', 'دستموم', 'شوووور', 'بسیاااااااااااااار', '68', 'نمیخواستاینو', '58', 'شوربود', 'الوپیک', 'افتضاه', 'ییسکوئیت', 'شایستگیشو', 'خوبود', 'مشتریاش', 'خودمونم', 'کمترشده', 'راحته', 'ماالشعیری', 'نظمه', 'بنظرمون', '2ساعت', 'هاکاملا', 'وپنیر', 'شفارشی', 'آدامسو', 'اشنایان', 'ماینوزی', 'سبوسدارسفارش', 'یکیلو', 'راسحه', 'واقعیته', 'غذارواوردن', 'وربطی', 'باورنکردنیه', 'پیتزاییه', 'باقلواگذاشته', 'بودقابل', 'ژامبن', 'غذاهاشون', 'سرخشون', 'اصصصلا', 'مشماهای', '20٪تخفیف', 'کمید', 'نمیخوونه', 'پکیجینگ', 'انقضا21دی', 'سوخای', 'کرواسانها', 'فوییل', '5هزارتومنم', 'سالادمون', 'فیریز', 'لذیذذ', 'نمیدوتن', 'گرمشون', 'گرررم', 'کنندست', 'حالانمیدونم', 'سرغ', 'حتتتما', '٥سانت', 'تووش', 'سلارش', 'یکساعتو', 'اصرافه', 'عالییییییییی', 'نوتلاس', 'بعدخوردن', 'همچنن', 'کیلیویی', 'vaghean', 'وحالمم', 'سفارشاتمو', '460گرمی', 'انارتون', 'طبح', 'راجبه', 'داااااغ', 'فیلاتو', 'چاییه', 'پنیرسفارش', '2vomin', 'الفروش', 'اصلادتازه', 'نباشهو', 'کادایف', 'چالبی', 'سایزو', 'آوردد', 'وشیک', 'تمیزهانتظار', 'پایینتراز', 'چبکن', 'متتسفانه', 'اریگوانا', 'سیگاره', 'پزه', 'میشدکه', 'پیتزاشو', 'بحاطر', 'لاورز', 'مسافتمون', '135800', 'بعقیش', 'بهسازان', '٥کیلو', 'دییقه', 'روغنه', 'نوشابم', 'وهمکارم', 'میداددددد', 'دائمیتون', 'بنظرتون', 'کاکایو', 'توقعشو', 'چرااا', '12900', 'کودوم', 'دوبرابرنامی', 'وباکیفیته', 'نمرت', 'ترسناکیه', 'خواااهش', 'وساندویچم', 'هزینم', 'میخردیم', 'بامعرفتی', 'کزاشته', '1سیخ', 'ازاسنپیااااکه', 'جابیفته', 'فاکتورمم', 'مزززززه', 'بشته', 'بندیای', 'کوچیکشو', 'عاشقتونمممم', 'جایگزینیه', 'baste', 'بودحتی', '1دنیا', 'غذابسیار', 'واقعاراضیم', 'استروگانف', 'چنگالاش', 'ولقعا', 'یربع', 'نوشتثابه', 'چرادقت', 'بودسالهاست', 'اصلااا', 'مطمنا', 'ساندویجو', 'عجلگی', 'دوپرس', 'آغسته', '2500', 'بهه', '41700', 'هستیمموفق', 'نتوستم', 'ربخت', 'marinade', 'ساندوبچ', '3000تومان', 'مبااارک', 'بادنجانتاتان', 'باتشکرواحترام', 'اینجوریع', 'بتشه', 'گامل', 'میصرفید', 'میارزه', 'کیکوک', 'وزود', 'سرازخود', 'نقصیر', 'یکدونشم', 'ماکارکن', 'خودتون550', 'قدرشو', 'سنجتون', 'ولطفی', 'پیکج', 'اوببود', 'بدفرم', 'نشدکه', 'نظرو', 'مجبورشدم', 'معمولییه', 'میریزین', '133000', 'سیرنشدم', 'انتخابمو', 'رستورنت', 'ماسید', 'ژانبوناش', 'سفارشس', 'دونینوز', 'موندشو', 'یخچالشون', 'انشاللا', 'مشتریهاتون', 'سرویسو', 'اسنپه', 'نفرید', 'کلفته', 'ناقصن', 'ریختخ', 'peyketon', 'مکروویو', 'قیافش', 'پیتزاکلفت', '88000', '44', 'سوپرداگ', '55تومن', 'سیراشونم', 'غیررژیمی', 'تنوجه', 'یکیشو', 'سزد', 'اگرامکانش', 'پرپرروک', 'بودیدماپول', 'و4تا', 'مگرفتم', 'نمیمومد', 'دورچبن', 'تووووووو', 'ژلاتو', 'وتازست', 'بهتروشکیل', 'تونیستم', 'سریییع', 'کالزونه', 'کیفیته', 'خعلی', 'متمیز', 'پنیرررر', 'بسییااار', 'بومیداددرضمن', 'نمیکنیدبرای', 'hamin', 'ذیغ', 'مسئولیتتون', 'پنپش', 'بههمراه', 'کاباس', 'برنگرداندند', 'جنساش', 'پیتزاداخل', 'خوراکشه', 'اسپایسیش', 'تاخیییییییییر', 'چققققققدر', 'زحمتات', 'میاوود', 'پرررر', 'برمج', 'غذاهاخیلی', 'اصلانذاشته', 'نخوایی', 'بسیارمونده', 'اشانتون', 'مغزا', 'شدع', 'میخاین', 'میزارید', 'سالد', 'ازبقیه', '360و', 'لسنپ', 'ومبلغ', 'دوستایی', 'پیکاتونو', 'اکردن', 'بیسکویبت', 'چیگن', 'دوقدم', 'ردولوتش', 'بودچون', 'برنمیاد', 'کیکا', 'faghat', 'عالیییییتر', 'ستودنیه', 'فازتون', 'بینهاست', 'عااللی', 'برگرلندم', 'زکان', '000', 'لواشه', 'نمیام', 'امقصد', 'عالیببیییی', 'فروشیا', 'کیکهاتون', 'توجهشون', 'کیفیتتونو', '2تاش', 'لذیدیه', 'ازهمچین', 'شفارس', 'اینطورمسائل', 'واقعاممنون', 'درصدجعبه', 'بیسسسسیییااار', 'بوددید', 'کیفیتشو', 'شیردون', 'آوردشون', 'پرکنجدش', 'رستوزان', 'y0m11d8', '400گرمی', '2لایه', 'میپاشن', 'واقعامزخف', 'مقداروزنی', 'نوعشون', 'مبلغمم', 'اسنپم', 'فرده', 'اسلایسشو', 'بودمرسی', 'لذذذیذ', 'اندازیه', 'ممنوووون', 'سرددددددد', 'آبادتون', 'چیتون', 'یخچالتون', 'غذاتون', 'هممممه', 'باروغن', 'بیشاز', 'میچیندند', 'بدهارو', 'ازکباب', 'وحشتاک', 'چارتا', 'کوبیدشو', 'مطمئناسفارش', 'اکقر', 'یفرستین', 'ووارفته', 'روغنیه', 'فرستیدو', 'امولای', 'بدشده', 'چیوزا', 'اغذیع', 'غداشونم', 'پیتزتپا', 'مغبون', 'نوستم', 'مرینه', 'پولشو', '20000', 'فقط1', 'ایتالیلایی', 'تندفلفل', 'یگیری', 'رستوری', '20هزار', 'اماکیفبیت', 'فووق', 'پوشیه', 'سوفله', 'عالیییییییی', 'نمکشو', 'پایداروسربلند', 'سایزهاشون', 'neveshteye', 'شدیییید', 'ستجابک', 'میکشهارسال', 'گوچیکی', 'رولتایی', 'وبینهایت', 'بسیارسفت', '74', 'استریپستون', 'وزن1200', 'طعمو', 'حرفارو', 'میکنندمخصوصاسوپرشکیبایی', 'لذیذه', 'کوچس', 'العادهههه', 'سایتشونو', 'برتولیه', 'بگیک', 'ناامیدتون', 'مرواریدا', 'میرقلمی', 'ساندویجه', 'اونیم', 'نمیرزه', 'خاطز', 'تجربم', '730', 'پدرمو', 'نمیذاری', 'سفارشمو', 'دوچین', 'دائمشون', 'حشتناک', '500گرمی', 'رسیدا', 'خییییییییییییلی', 'دندونامم', '4تیکه', 'عالیهههههه', '2تکه', 'ازاقلام', 'اساسیتون', 'حنما', 'mahsolat', 'khoob', 'تاگوجه', 'بهههترین', '11400ثبت', 'قیمتهاشونم', 'حوسله', 'حشک', 'bastebandi', 'چیزیو', 'کمیتشون', 'قیدنشده', 'اعصابمم', 'میدادوقتی', 'خییییلییی', 'بدخط', 'نپختس', 'بهنظرم', 'بروبچه', 'خاصویی', 'یکجوره', 'اختیارمون', 'شنیسل', 'چیپساش', 'نیلوفرو', 'تاخوده', 'دوتارو', 'الارغم', 'قسمتاش', 'درتماس', 'وپائین', 'کالارو', 'سالاداش', 'حتمارسیدگی', 'پلاسده', 'نزاشتید', 'نمیوفتاد', 'فودهمکاری', 'حتلا', 'بامرغ', 'یطوری', 'بعداشتی', '18500', 'سدهدبود', 'زدکه', 'سرخالی', 'داشتیمو', 'تنوریاش', 'نفرسین', 'میزاشتی', 'بتفاوت', 'منطورتون', 'قنلن', 'میفرستدین', 'دردرجه', 'اابته', 'ترچون', 'وباکالباس', 'وکارکنان', 'عددثبت', 'ژوزک', 'میدادو', 'موفع', 'نظراتشونو', 'میتقیم', 'شمارشون', 'خونمه', '500ریال', 'کشوند', 'y0m3d16', 'بهداشنتی', '48هزارتومان', 'برششششته', 'زمینیشو', 'خیارشورش', '52', 'بسییییا', 'سریقه', 'مادرتون', 'مستریاتون', 'آتشزنه', 'لذیده', 'تیکشو', 'ارزانتره', 'طعمشون', 'بعدغذادلیوردشد', 'خیمر', 'تاغذارسید', 'باسفارشم', 'دادنتون', 'بسیاراشتهابرانکیز', 'ردولت', 'ابپزشو', 'بسن', 'شعورمون', 'ثابتمم', 'نمیریزن', 'فودراضی', 'مخصوصاکردویی', 'بگذارن', 'سوپریوم', 'برنجتونم', '200گرمی', 'جوهرنمک', 'پیگیریمو', 'خدارو', 'بدفعات', 'وپیروزی', '11تومن', 'تغییره', 'خوشعطر', 'برگرو', 'زیاددددددددددد', 'میپزه', 'انگارنصف', 'همینن', 'اعتبارو', '76', 'اینچیزام', 'خوشممممممممززززززززه', 'ممنوننن', 'نمیرنن', 'ومیزانش', '230', '50تومن', 'نظیررررر', 'بدبودن', 'میوردن', 'بینظیرید', 'شموس', 'گودیوا', 'فوداش', 'مکنان', 'دقتتون', 'امتیازشو', 'کزیکی', 'تعدادشو', 'ماشینه', 'خدماتتون', 'پرسنلشون', 'نظرفقط', 'موصوع', 'نخوندین', 'باشنشون', '60سالم', 'بودوپیک', '4750', 'فاکتورخودشان', 'پاکنی', '4000تا', 'ژانبون', 'ساندویچمون', 'نارگیلیاش', 'تشگیلاتی', '1ساعتو', 'بودوپیتزا', 'پیداتون', 'اقالطف', 'میاوردین', '3700', 'garm', 'آبدوغ', 'بسیاااااااار', '5500تومن', 'ونخودچی', 'دیرموقع', 'ازصبح', 'واقعیشه', 'ساندویجهای', 'سیگارگرونتردادن', '500گرم', 'زمیینی', 'اصصصصلن', 'موردیاسفارش', '5ویفر', 'نشکو', 'مهمانمون', 'ماالشعیر', 'مطمانا', 'کیفیتا', 'نوترابار', 'دستام', 'خیارشو', 'ماکارانیش', 'رسیدتولد', 'یمقدار', 'و23', 'پنیردار', 'اونحال', 'العاددده', 'زییست', 'سیغ', 'dige', 'برخوردبعضی', 'میادا', 'بروزتره', 'گلمو', 'بودیددرکل', 'بادمجونش', '4سانتی', 'اصلاشبیه', 'ممتازه', 'خوردیمو', 'بهموقع', 'سخاریش', 'خوشمزتونم', 'نامرئیه', 'کاملانون', 'قاشوق', 'تمومو', 'وبادیگرتافتون', 'یچیری', 'اوورد', 'نبورده', 'خیلییییییییییی', 'قولیتون', 'ذولبیا', 'اصلامن', 'ایتقدر', 'همبرگراماده', 'برنگردوندند', 'مصرا', 'ارستو', 'خداسرشاهده', 'پارمزانش', 'مقدارشیرینی', 'خبلی', 'کارنوسو', 'موهیتوها', 'اصلااااااااااااا', 'ممنونمهم', 'خیارشورهاس', 'نماس', 'نمیدادمزه', 'سبزمینی', 'سوسیسا', 'باماهی', 'منطقس', 'فرستادناین', 'شنوه', 'گاتایی', 'اورهد', 'هوصوع', 'بیاریین', 'فاجعهههه', 'بودوطبق', 'نبخته', 'کجاهاست', 'خریدمونو', 'زیادتعریفی', 'شکلتی', 'یانیست', 'غداتون', 'کارهاشون', 'جوجشم', 'خامشو', 'اینقدابلیموزده', 'نایلکس', 'اصلاراضی', 'میشوز', 'از15دقیقه', 'بزتید', 'ووقت', 'انصافن', 'توصیش', 'دربغ', '5سانت', 'بهترینید', 'رسانیتون', 'بدسن', 'y0m12d20', 'جالبیداشت', 'تغریبی', 'خوشمزهبه', 'هزینشه', 'ظرفه', 'عالیییییه', 'صدرطهران', '5بار', 'ازموعد', 'واقها', 'قارچاشو', 'چزکیک', '6000برای', 'جاداشت', 'داخلرباکس', 'ازاینجاروتوصیه', 'چندتاش', 'انتقادشو', 'سورپرایزمون', 'lezzat', 'آوم', 'اماشما', 'سوئاستفاده', 'عالللللللللللللللللللللللللللللللللللللللللللللللللللللللللللللیییییییییییییییییییییییییییییی', 'خوبهاست', 'ننشستن', 'لفتش', 'y0m4d30', 'دونفرمون', 'عالیشو', 'واثلا', '26هست', 'نبوود', '71', 'بهترینشون', 'ذیگری', '2', 'باربود', 'چندوقته', 'بارنیتا', 'بودچرا', 'امرووووز', 'میریزه', 'استحوان', '350', 'ادیوه', 'y0m900d14', 'سیبزمین', 'اشنای', 'چقدرررررررررررر', 'ولیکاش', 'ربخته', 'شیشلک', 'تیستر', 'امیدکننده', 'ویتامینه', 'وووولی', 'چیزبرگرهایشان', '25هزار', 'انقدریکه', 'زیبسی', 'گثیف', 'فیلینگی', 'رابگیرید', 'مرتببه', 'وشوری', 'منوبایدسس', 'بودهمچنین', 'بودغذا', 'امیداینکه', 'قاشقشو', '5تومانی', 'برنگردن', 'سالاده', 'توصیحاتو', '7200', 'مقادیربسیاربالای', 'ازنظروزن', 'جنساشونم', 'دوتایک', 'چررب', 'هیچچچچی', 'چیزدیگری', 'باتخفیف', 'انتخابه', 'واقلا', 'سوسیشو', 'مررسی', 'کرفتم', 'تولددوستم', 'آوسام', 'ترهاشون', 'نظارات', 'افتضاحححححح', 'زرفش', 'سیختون', 'کارکت', 'گرقتم', 'hastan', 'خوببب', 'آالعاده', 'همیشگیمون', 'نیاشید', 'مونم', 'نمیشو', '10دقیقه', 'پریل', 'یکدهم', 'داشتممن', 'فعالیتتون', 'فرلموش', 'واقعابی', 'بیشترخواهدبود', 'راپرداخت', 'پتزا', 'سفیییددد', 'خلوته', 'موظفه', 'اگرقراره', 'اموزشگاه', '3شفارش', 'نسبتل', 'خوشمزشه', 'ظمخت', 'یکپرس', '؟؟؟؟؟؟؟؟؟؟؟؟', 'خوب3', 'شا6و', 'ایرانیرو', 'انتظارشو', 'y4m7d98', 'سیگارو', 'ورفتار', 'خخیلی', 'بوداحساس', 'شیلاست', 'سیرکن', 'میزاقاسمی', 'لطغا', 'بسیارممنونم', 'گیفت', 'شعبشون', 'چیکنش', 'چندایی', 'اخراش', 'نطارتی', 'دستاندرکاران', 'عاللیییی', 'پادمجون', 'بیفتن', 'اینپ', 'هاتداگی', 'سرشو', 'موتری', 'کیفیا', 'هایدایی', 'احاس', 'بستدی', 'بدد', 'مفمولی', 'وسایلایی', 'ساااااااااااعته', 'گیها', 'فرانسویشون', 'ishala', 'زیاااده', 'نگهداریتونو', 'چسببد', 'دوتومن', 'عکسایی', 'داگیه', '27000', 'کامنتهارو', 'مفهمیدم', 'ساندویجشون', 'غیرازین', 'راهمواره', 'وچرب', 'کوکایا', 'پستزا', 'پشینهاد', 'kبرای', '85', 'ازینجا', 'مشتریانشون', 'باتشکرازاسنپ', 'کالاهاتون', 'ازخوده', 'دیجیکالا', 'ممنوو', 'عالیههههههههههههه', 'ازشیرینیهای', 'میدادبرنج', 'افتابگردونی', '16دی', '100برگ', 'نطرتون', 'امیدتون', 'نوشیدنیا', '42', 'برگرتونم', 'بیشترشده', 'لخش', 'کیکام', 'بدمزهدر', 'مصل', 'غذاشونم', 'تازگیشو', 'خپب', 'حبران', 'توضیه', 'ریحونا', 'دندونمون', 'درآمدتون', 'لیستمحصولات', 'اجناسک', 'بدشه', 'ظرفشون', 'پودرپسته', 'پیتزاا', 'غذاه', 'دچاره', '19', 'اسفنجیه', 'داستانیه', '29', 'بسیااااار', 'وتشکرازهمگی', 'راضکی', 'ریختس', 'توتوضیخات', 'زووود', 'عاللییی', 'اناناسم', 'افتضاحححححححححح', '100درصد', 'پااستیک', '25', 'برمیخوره', 'ضرف', 'ددرست', 'ماکرویو', '15دقیقه', 'کذلشتم', 'میدادکره', 'خوردیمش', 'وبعدبادست', '36', 'پیشنهادمیدم', 'گرونش', 'نیوردن', '85000', 'برقرارباشید', 'نمیرن', 'محصولاتون', 'سوخاریشم', 'حدبرشته', 'ترابیکا', 'ژامبونا', 'نظییییر', 'اونرو', 'بااونجا', 'نوتش', 'ییه', 'گودایی', 'شیلانه', 'کبدتون', 'مطمعنن', '29700', 'باگردن', 'اتنقاد', 'دفعس', 'چیزبیگر', 'برمیداشتیم', 'شایستشه', 'خدابهتون', 'میزدن', 'طلمشو', 'وهمکاران', 'انداختیمش', 'اهمیته', 'منظمه', 'بدطمع', 'یوخادی', 'سیروپ', 'خیلیع', 'انصافید', 'لطفااگرخوراکی', 'نبودهمینطور', 'خییییییییییییییییییییلی', 'اگزم', 'بقیشم', 'پذیراییه', 'پیشنعاد', 'gheymatha', '2600', 'فلفلیه', 'ومتشکرم', 'شیرتاریخ', 'سفاش', 'پنیرشون', '2بسته', 'باشکرواب', 'عجججججججب', 'کبابیشون', 'خونوادم', 'سالادفصل', 'فذا', 'ناپلیونیشم', 'چندباراین', 'برنخورم', 'میخوردن', 'سوپرتون', 'العاااااااااااااده', '2ومه', 'وخوشمزست', 'پختیدش', 'kheili', 'دورچیناش', 'واستیک', 'درستکاریه', 'بدغذای', 'برتجیو', 'سورپرایزم', 'ووووووووو', 'طعمزغذا', 'شویدپلو', 'پیراشیکی', 'کروناستیزی', 'پوستع', '90٪', 'انداززززززه', 'شیرینیه', 'مدیرشون', 'میذاری', '20درصد', 'فیلیپر', 'رسیدممرسی', 'باگتم', 'اشانتونش', 'نپوخته', 'فقققط', 'ببخشین', 'ازماری', 'نظرا', 'لخاظ', 'کنیدباتشکر', '94', 'سورپرایزش', 'نمونشو', 'پیکمون', 'مشمایی', 'ومرغوب', 'روپخت', 'نوشتین', '150000', 'ناپلونیهاش', 'دردنکنه', 'غذاسردوخیلی', 'گوسفنده', 'حدیه', 'قیمتاتونم', 'مخلافاتی', 'حچم', 'خدابرکت', 'مدته', 'تاازه', 'داعمی', 'انچنانی', 'سبزیجاتتون', 'غذت', 'بندریاتون', 'روغنگیری', 'دورشو', 'کودکیمو', 'برداره', 'آشپزتون', 'وهق', 'مطمعنا', 'ارزونای', 'گذاتشته', 'حداقا', 'هبرگر', 'خیلیاست', 'نایلن', 'پیراشگی', 'اونیکی', 'پرفیله', '830', 'آدرستونو', 'بخورمش', 'احترامیه', '0پیتزاها', 'محتمله', 'محدودشون', 'باماهاس', 'گوینه', 'پرپروکش', 'دقیقست', 'مریضا', 'اصلاولی', 'حالگیری', 'طعماش', 'امروزنون', 'تجربهئ', 'رواعلام', 'وبامیه', 'پاکبان', 'بعدازگداشتن', 'امابایدبه', 'بادوم', 'سرماخورده', 'نیومدند', 'نزدیکو', 'مخوای', 'معدتون', 'النصاف', 'نفربدشانسو', 'shol', 'وعادی', 'بچرخه', 'دیقش', '2هزار', 'جزقاله', 'بدبرخورد', 'بودوپرازسس', 'کیفیتتون', 'قیمنش', 'میومدو', 'خولستم', 'باربیکرو', 'آرزانتینی', 'دودقیقه', 'میگذاره', 'مقداااااار', 'خمانند', 'تعوض', '46', 'عالیییییییییییییییی', 'چهارغله', 'میبنده', 'اسکپ', 'اشتهامون', 'بسییییییییااااااااار', 'عذاتون', 'وازانجاییکه', 'بالامی', 'ترتیلای', 'پنیرااای', 'خبس', 'لسیار', 'نمیدین', 'برگرلند', 'اتتظارم', 'سمستون', 'امیدارم', 'سیستمهاشون', 'آچما', '15عدد', 'سریعتون', 'رستورانایی', 'سانویچ', 'پااااایین', 'خانوا', 'فراموشتون', '09میباشد', 'دراورر', 'هرگاز', 'ااصلا', 'زودرسید', '3برابر', 'عدرخواهی', 'اماممنونم', 'ونصف', 'سوپرمارکتاس', 'کاهوئه', 'رژیمیه', 'بگدش', 'آشپزشون', 'تورستوران', 'برگزدونین', 'شدخ', 'پالمو', 'پیتزامنترال', 'تاریخشون', 'حضوریتون', 'سوپشون', 'نمیفرمایند', '9000تومن', 'ازتموم', 'قیمتمو', 'خوشمزززززززززه', 'نوشابش', 'داگها', 'راویولی', 'بذخورد', 'رسونه', 'بریری', 'کرانچینگ', 'گرمممممممممم', 'بودperefect', '45مین', 'میباشن', 'نمیرزید', 'غذامم', '200000', 'سفارشهامو', 'قیمتارو', 'حملو', 'عاااااللی', 'دیگشون', 'هاواقعاتندبود', 'nistim', 'دگیه', 'همینطورمشتری', 'ferestadid', 'ظبق', 'بسیارافت', 'درحساب', 'فروشتون', 'اینجورین', 'سرتاس', 'جوندار', 'خوزمزس', 'چیییییییی', 'نمیتونسته', 'گوشمونه', 'بسنجه', 'برنجو', 'لسته', 'عااااللللییی', 'ساندیچ', 'عکی', 'الییع', 'شیوکیک', 'ببات', 'پاستاشو', '35000تومان', 'خیلیاشون', 'روژانو', 'ویخته', 'میرسبم', 'طعمیه', 'خوبشو', 'بودددد', 'بزرگو', 'ضیح', 'پلاکمون', 'سفارشمون', 'باروژکوروش', 'تنمون', 'رساوران', 'دارشون', 'نبینه', 'احساسا', 'اسفنجهاشون', 'خوشمذه', 'بخرین', 'خععععلی', 'عالیییییی', 'وبالاتره', 'وممنونم', 'دورمیشه', 'اشتباهتون', 'موجودیتون', 'شنزاره', 'وخییییلی', 'مبودم', 'وسالاد', 'آلواورا', 'بیاه', 'هاخشک', 'الرژی', '5تایی', '3٥0', 'باتشکرازشماهم', 'وسروقت', 'ناردونی', 'اخرهم', 'fogholadast', 'عالللللییی', 'یکدساعت', 'فلمکار', 'موردهم', 'برخوردارنبود', 'بیمارستانه', 'یکوچولو', 'بشههمینجوری', 'میدادیکاش', 'نمیرسیدتوش', 'دونفرو', 'ساندویچتون', 'بسیارکوچیکه', 'نگفتین', 'اماخود', 'نوتلارو', 'متریالش', '100گرمی', 'پرملاتی', 'هاااااا', 'بشوره', 'هییییییچ', 'فرستن', 'بسیارباادب', 'زرشکو', 'سردددددد', 'اسموکیش', 'امتیازتون', 'خیارشون', 'ساندویچاشو', 'قسمتایی', 'پیتزاااااااا', 'ببخشن', 'گرونترین', 'چندمیه', 'میترکوند', 'تستشم', 'بوددورچین', 'تولدشه', 'کاغذیه', 'آروسترو', 'غذاشونو', 'والانصاف', 'گررررررم', 'نگهدارین', 'ونستند', 'همینطورپایداربمونه', 'مطمعنم', 'اورجیال', 'همهشه', 'برگزدرخت', 'نیازداشتم', 'طعیم', 'ظاهرشو', 'مبهمه', 'افتثلح', 'بستس', 'بینهلیت', 'ومنو', 'مرغهاجداشده', 'انقدرررررررر', 'موزارالا', 'هردوتا', 'merciiu', 'بکساعت', 'پنیربود', 'نوتلاش', 'مقدارشون', 'خووووووشمزه', 'افتضاححح', 'دلپیچه', 'غذاییست', 'بارروغن', 'محصولشون', '٥٥دقیقه', 'نگرانیشون', 'حامه', '4نفر', 'خاصیه', 'ومجبور', 'یکیو', 'امدازه', 'تعداد6', '79040', 'غدای', 'نمیدادو', 'تشکرازاخلاق', 'داااغ', 'مسج', 'بفرده', 'نوونی', 'مخمون', 'هفنه', 'غذاهاشونو', 'جوهرلیمو', 'کالاماری', 'y0m0d80', 'پیازشو', 'غذاتعداد', 'ایتجاست', 'نذارینش', 'وکوچیک', 'ایتالیاایی', 'میبردین', 'العده', 'عیدمونو', 'چارپنجتا', 'الوورا', 'معطلمون', 'سفارم', '20٪', 'فکرمیکنم', 'کنماز', 'چعبه', 'باروژم', 'معرفیشون', 'چاکلز', 'بوسشون', 'وبدهست', 'انقصاش', 'زیادنیست', '35000', 'هربارم', 'خیارشوربود', 'نمدونم', 'جسه', 'پنیرسوخته', 'متاسفام', 'روداشت', 'روزلنهدسفارش', 'کیسرو', 'برگردوندن', 'ارسالشو', 'عالیلود', '4بارزمان', '1یا', 'پرپرووک', 'خجاب', 'نرمتروچرب', 'ط2', 'کالباساشون', 'دوستمو', 'ازتوجه', 'جعبرو', 'sholam', 'پلوسرد', '4تکه', 'سفارشه', 'غذامونده', 'hameye', 'بدددددددد', 'پلاستیکه', 'نداشتمته', 'نفرستین', 'بیسترو', 'y98m11d15', 'داقون', 'میندازین', 'کراسون', '28000', 'بخره', '30هزارتمن', 'نشاط2', 'رستورانه', 'مزشم', 'همبرگرای', 'میچسبه', 'دادنه', 'سوخاریشون', 'نمیتونیدبفرستیدخب', 'امیداورم', 'قشنگتره', 'هورمونه', 'سوپرمارکتتون', 'کیفتتونو', 'پیتزش', 'گکشیدم', 'سالادکلم', 'عااااالی', 'داگاشونو', '٥٪', 'tandoori', 'فرداس', '0٪', 'مشتریشم', 'غداترش', 'عالللللللی', 'هرخونه', 'شیرپسته', 'میکروسالاد', 'شرمتده', 'استرپس', '124', '1دونه', 'دستتشون', 'نوترابارم', 'ساندویچا', 'مرع', 'غذاسفارش', 'زودفودی', 'نمکدون', 'همینکباب', '27', 'غذامونم', '1جنس', 'ریهونش', 'آلکینیومی', '48', 'افتضااااااااااااااااااااااااااااااااااااااااااااااااااااااااااااح', 'مدارهست', 'چلوجوجه', 'لفمه', 'بامبه', 'روغنشون', 'دورشود', 'وروده', 'غذاعالی', 'میشنهاد', 'باززبود', '9روزبراش', 'بوجودآورده', '21', 'بودممنون', 'باتشکرفراوان', 'فاصلشون', 'میزاشن', 'مرررررسی', 'گذاشتیمش', '20', 'بهرحالدازهمسایگان', 'سیرنمیداد', 'بستبندی', 'سنگدون', 'پتیزاش', 'ترکنید', 'مخصوصاعالی', '11سفارش', 'تومنم', '30٪', 'نگهداشتم', 'بمالین', 'ناپلونی', '3تکه', 'خمیرشون', 'قارج', 'کباباتون', 'مناسبتون', 'اونجارو', 'eclair', 'رولته', 'سفارات', 'دمشون', 'دسرسروته', 'خریدامو', 'نمیچسبه', 'گداشتیم', 'کلاااااا', 'خرب', 'شیمیایرو', 'شیرینیاهش', 'ارسالشونم', 'ووقارچ', 'طردن', 'تاجب', 'اصراف', '12تومان', '5500', 'ترمیکس', 'خورشتم', 'چراموقع', 'نوشتبه', 'کاکویی', 'واینساد', 'قبلناس', 'اولیتون', 'میگردن', 'میگیریمم', 'وگوشتش', 'لیموعمانی', 'نسله', 'سوزوندین', 'مبدهم', 'میداشتین', 'مالبده', 'درکالای', 'مالیزان', 'توضیحمو', 'اسمشونو', 'یکبارم', 'بررکت', 'وآقای', 'میکسیه', '650گرم', 'بگیریبالاخره', 'سزیع', 'نبودچه', 'موزورلا', 'سالادمونم', 'اسفنجاش', 'وجتریانا', 'هرظب', 'الافی', 'مفتر', 'غذادیگه', 'بکیرم', 'اشتبک', 'بیشترمی', 'برارسال', 'حدستون', 'نیتتون', 'شیبابا', 'اونقدی', 'دادنسپاس', 'پلاکچه', 'تاخیراااش', 'منتظرغذابودیم', 'کیکشو', 'ممنونممم', 'اصلاطعم', 'دقه', 'نریختین', 'رصایت', 'ذرتتون', 'دلمزه', 'اشتباهیه', 'نگذاشتون', '5امتیاز', 'لادنه', 'nashe', 'خولستیم', 'بردارمش', 'لیمونادو', 'توضیحاتمونم', 'شفارشم', 'نوناش', 'کتفو', 'آجیلشون', 'میتوانستن', 'اطرافشون', 'همع', 'هاشونم', 'متتهی', 'نکنخ', '675000', 'شکنندست', 'نبودا', 'تمیییییز', 'خومون', 'نمیذارم', 'نارضی', 'y0m0d82', 'طغم', 'سراغشون', 'نامحترم', 'رشتوران', 'فبلا', '7نفر', 'بدستمان', 'مواردبسیار', '3تیکه', 'تازتون', 'هیمنطور', 'میخواستمش', 'تعریفاش', 'وحستناکی', '105', 'وزنمون', '5000000', 'بودولپه', 'راندارندویاامکان', '4کیلومتر', 'اینترنتیا', 'لازنیا', 'ممنونتون', 'نصیبمون', '6900', 'نمیریزه', 'ممنوون', 'یزدیشو', 'nane', 'برد6', 'دیگشو', 'رژیمیشون', 'جدیدتون', '950', 'هشتمه', 'نونبرگر', 'فاکتورخودشون', 'توهمون', 'درپیتزا', 'غذارم', 'پاچین', '1200', 'ترینید', 'متاسفمممممممممم', 'عالللی', 'منبود', 'اندازس', 'بذاریمش', 'شبرینی', 'فوپی', 'bgirim', 'انگاااار', 'مثبتشونه', 'گرونیا', 'رستورانیه', 'y0m6d6', '72000', 'بدبودخیلللللللللیییییی', 'دسترسمون', 'y0m500d7', 'پرطرفدارتونه', 'ونوشابه', 'ولییییییی', 'درفروشگاه', 'سریعامیکروب', 'اینکارتون', 'جنگلیشو', 'ویابپرسبد', 'وشکرکمترمصرف', 'منویه', 'امروز18دی', 'نمیصرفید', 'بذارینش', 'ارزشیه', 'ازاخلاق', 'gheymat', 'همونم', 'اززمانی', 'افتضاااااااااااااااح', 'رستوراناش', 'تعزیف', 'تکراراشتباهات', 'توخدمت', 'ذل', 'قارچو', 'پایبن', 'نظراتو', 'لقمست', 'نذاره', 'مدلیههه', 'قدیمیتون', 'پنید', '54', 'ازجایی', '15تومن', 'دراژه', 'ترامیسو', 'کروسانهای', 'خخخخیلی', 'پوکید', 'ولوبیا', 'یادبگیرن', 'بودئگوجه', 'پاینتر', 'ممقدار', 'محشره', 'ازاسنب', 'بفرستناز', 'ادمهای', 'نمیزارن', 'کیفیتدعدا', 'تمامشو', 'نفرستبن', 'وبسیارمودب', 'گیشاتون', 'میخرممنم', 'مناسبشونه', 'اسانسوراز', 'ابجوش', 'میجویدیش', 'بفرستیدآدم', 'نبودااا', 'خوردنه', 'آشیز', 'وسرموقع', 'تمشکا', 'بیارنش', 'چتنتا', 'ودانمارکی', 'کرمشون', 'متاستفانه', 'حتمامابایدبریم', '9000', 'ممرغش', 'میعرزید', 'واقعادعالی', 'بسیاااااااااااار', 'واقعاتنوری', 'قبلولی', 'دفیقه', '32400', 'اقااااا', 'درنظربگیرید', 'تدکر', '16تکه', 'ائلشن', 'مزست', 'دستر', '14تومن', '73', 'بشکنه', 'مزههههه', 'کیفتشم', 'واقعااااا', 'نیوردین', 'نذارن', '117', 'y0m6d5', 'دوشب', 'ومفید', 'رسیدر', 'قطرشو', 'ودنر', 'چندقلم', '4100', '1saat', 'وپیشاپیش', 'نمیایم', 'اورودن', 'دراورویم', 'vaghan', 'بودخیلی', 'سافارش', 'قرمش', 'کنسلی', 'هزبنه', 'ماخودمون', 'فثقاشق', 'وبست', 'راااحت', 'عیده', 'سالشون', 'y0m50d23', 'پودراشو', 'فروشگاهای', 'مطلوبه', 'محلشون', 'یکاری', 'misham', 'تازع', '6600', 'مشتیا', 'داریمچه', 'حراجه', 'هوایه', 'بقیشو', 'داگمون', 'ژامبون202سفارش', 'دوغزال', 'کنجدذو', 'زعفرونشه', 'باریکلا', 'ومرتب', 'واندرلایف', 'خورشتک', 'dobare', 'گزینست', 'میندازن', 'اصافه', 'چیزلاوربرگر', 'اصللاا', 'همبرگرااااااااش', 'ثحبت', 'پراشتها', '19تاجنس', 'جداس', 'سوپرماکت', 'گرامیتون', 'سفارشدادم', 'یخورد', 'پشیمونم', 'ترمیشه', 'تهرانه', 'فروروشه', 'مورگ', 'گرفنم', 'بوددددددددددد', 'گوششون', 'توضیحاتمم', 'موقق', 'آبرومونو', 'چیکم', 'بروچن', 'نمیذارید', 'ازدقت', 'اکثرل', 'بحل', 'گلخونه', 'قسمتثبت', 'اولینتجربع', 'خااااام', 'دوروکنجددارمعمولی', 'شدددددت', 'دوسراوردن', 'نشوده', 'بشدددددددت', 'پرخامه', 'مممممممنون', 'دقیقاااااا', 'توایران', 'گوشیو', 'کیقیت', 'تاسعا', 'نیومدی', 'برنمیداره', 'سانوپدویچ', 'توعمرم', 'باطراحی', '24h', 'علاقمون', 'روبهروی', '30رسید', 'گذاشنه', '200گرم', 'اننقققد', 'وسالادونوشابه', 'گزاشتید', 'دردیتزا', 'مضخرف', 'غذااا', 'وپلاسیده', 'پرژک', 'جاهارو', 'میطلبه', 'شیکه', 'پرفراژدار', 'مجبورشدیم', 'شددت', 'بودوسیب', 'narm', '34', 'رااصلا', 'بیفشم', 'غملا', 'غاشون', 'وتخفیف', 'ونارو', 'هزارتومنه', 'جوووون', 'پیتزاهاتونم', 'گوشتاتون', 'mizad', '805گرم', '25000', 'مشتریشون', 'تایمو', 'بفرس', 'پخشه', 'الانه', 'وهمبرگر', 'تقریبا200', 'شامانا', 'کلپچ', 'بیسکویتو', 'بودوازروغنی', 'استراگانوف', 'یکفیت', 'بیستا', 'میخر', 'نزاشتن', 'چبز', 'وسفت', 'میزارینو', 'استرسپس', 'ولیییییییی', 'فاطله', 'بقل', 'خارجیشون', 'بودمو', 'زودبدستم', 'خوشنزه', '670', 'نفرسید', 'لحاظحجم', 'ودمتون', '230میل', 'موجودیکه', 'تازهههههه', 'وایستاده', 'بیفش', 'ادرستونم', 'بسییییییااااار', 'ثابتشونم', 'شیشلیکه', 'بشنپیتزا', 'وپیدا', 'گوچیک', 'بایودنت', 'همییشه', 'فرستادندکه', '8000000', 'ندونستن', 'دغ', 'عالللللیییی', 'وواقعا', 'ازتولیدش', 'وامیدوارم', 'فشفه', '؟؟؟؟؟؟؟', 'خووب', 'تومنه', 'وجق', 'ظهره', 'بهمون', 'رضایتمو', 'حدانتظاری', 'تحویلتون', 'پنیره', 'پولوهای', 'مزیتشون', '30سانت', 'پیراشکیش', 'نسبتاپایین', 'کالاهارا', 'وبادمجان', 'سلطانیو', 'مودبه', 'خیلللللی', 'مطمینا', 'چقدررر', 'فود3', 'ومالیات', 'حالل', 'ابنجا', '6به', 'پاستااز', 'آجیله', 'یکربعه', 'زغالیه', 'پشتیبانه', 'بیمزگی', 'تنوریه', 'snappfood', 'هولناکه', 'گیفتی', 'کبابهاتون', 'شیرینیمو', 'استیکشون', '10میدادم', 'nabod', 'برگرا', 'طع', 'رسییدگی', 'کاغذزیرش', 'بودن27500', 'قزشون', 'پاستاشون', 'نیکنم', 'دلپذیرتره', 'برگرسردرا', 'میماسه', 'سرویستون', 'چنذین', 'سودتودشون', 'کرایشو', 'اینکارک', 'نوخته', 'دردصورتیکه', 'نارلضی', 'امانداشت', 'مزشو', '45دقیقه', 'بنظرت', 'فرونشده', 'سبزجان', 'کنارتون', '9400ارسال', 'منوتونه', 'استیکتون', 'چندمدل', 'شرینی', 'سرگردون', 'مخواست', 'تاحالاباچنین', 'تربود', 'از2', 'وبینظیر', '1300', 'وجبه', 'باکیفت', 'مشترکه', '75', 'سفارشهارو', '3دفعه', 'سبزوتوت', 'پنیراستفاده', 'وخیارشور', 'اصلاااا', 'ممنوناز', '20تای', 'گوداتون', 'نمیتونستین', 'نباشین', 'هتگام', '59هزارتومن', 'عکسهاست', '38هزار', 'آوردناما', '18عدد', 'ازتواصع', 'ویژگیهاست', 'نمیاورند', 'آمدهمقدار', 'امریکاایی', 'نچشیدمش', 'العان', 'نوتلابسته', 'عاالی', 'بهعده', 'ایتالیایو', 'سفارشمم', 'بخودم', 'پیتزاهارو', 'بسیارهم', 'شلوغن', 'نمیگیره', 'دراپلیکیشن', 'گرفته1', 'ادویهاشم', 'وااااقعاااا', 'سوپرمارکته', 'وپیتزاش', 'دادنند', 'یفارشی', 'ودیگه', 'گزفته', 'یلیتری', 'کمچرب', 'بودتازه', 'عالییییههههه', 'پیتزاس', 'بهترینا', 'سالادهاشون', 'بهذغذای', 'کیتکت', 'کامتون', 'چلومرغ', 'تشکراسنپ', 'موفقه', 'گروووووون', '9٪', 'وسرتایم', 'روحیف', 'کارامون', 'اومدماست', 'واقعاازهمه', 'دیتش', 'حساسه', 'واسنپو', 'نمیخوان', 'خیلیییییییییییی', 'خردبودن', '،،،،،', 'اسپیشیال', 'حلیمو', 'رفتاره', 'روزمو', 'درصدو', 'برتولی', 'سالرو', 'غذاعه', 'باقالیش', 'سفرشو', '1440', '72', 'عالللللیییییی', 'بودگفقط', 'دنیاس', 'دوتیکه', 'لابلاش', 'بیسکوییتش', 'میاوردن', 'اینجاس', 'خیبیلی', 'رسیددر', '2200', 'ادبشون', 'سرویساشم', 'رستوراناییه', 'بومیداد', 'مشتریهاتونو', 'چیزشون', 'منوتون', 'ناجورن', 'قرصتون', 'نمیصرفه', 'کلمتون', 'چرخکرده', 'درجعبه', 'باگتشون', 'بحمدلله', 'نمیرسن', 'آلوچش', 'y0m5d2', '2000', 'غذاهایه', 'مننون', 'سخاری', 'نزدیکیه', 'شهدشکربود', 'غذامثل', 'موزهال', 'ساعت8', 'نخونده', 'کشیدتابیارن', 'مرغمتاسفانه', '11دقیقه', 'سانتیشون', 'دبلی', 'شنسیل', 'تنوعشون', 'شمزه', 'یکبارمصرفی', 'للعاده', 'دیروزساعت8از', 'بودحتما', 'هبندی', 'ومختصر', 'فاجعست', 'بطورکل', 'جوونه', 'بضی', '103', 'دیرکردتون', 'کاردرست', 'میرسیدبه', 'ببرولش', 'رامس', 'خیلللییی', '100در100مشتری', 'اوصولی', 'خداروشیرینی', '2اب', 'خریدمون', 'نبودمتاسفانه', 'بخوریماااا', 'حالمون', 'ناخشایند', 'نمیزدین', 'هایپری', 'بودابروم', 'وزودتر', 'رستورانهارو', 'فلفرش', 'هردوبار', 'شهسواره', 'پیتزاتوکیو', 'کوچیکمون', 'نقدشو', 'متاسفناه', 'تابفهمید', 'وطعمشم', '2کیفیت', 'اوصولا', 'شاهکاره', 'غذاهتون', 'بابته', 'پولتو', 'زودتراز', 'تاززززه', 'فودامیدوارم', 'دونوبت', 'زیادو', '5800', 'مبکنم', 'مودبن', 'نمیبخشمت', 'بودبدون', 'مارکتها', 'الفاخر', 'مالبات', '5900', '26به', 'مرسیییییی', 'رسییید', '55دقیقه', 'بپوشونه', 'میلکوم', 'ادمای', 'نمیزدن', 'ومثل', 'میغرسته', 'یتزا', 'طراوته', 'badtar', 'sheddat', 'دیررر', 'سزاز', '1', 'دخترونه', 'مزاحمه', 'مغزیجات', 'دئودرانتی', 'تحملو', 'نودلیت', 'جیرینگی', 'لوواش', '290', 'واقعاازپرپروک', 'khabare', 'پسفرداست', 'عالیبود', 'غذاهامون', 'میسد', 'خوندیم', 'سادویچ', 'نبوداصلا', 'باسفارشمان', 'فانتای', 'نوپرو', 'بودااا', 'وهمیشگی', 'کالزن', 'هاتداگش', 'مرغاشم', 'کبابع', 'خداااا', 'ابرومون', 'بهتراز', 'جیزایی', 'اینطورباشد', 'خییییلییییی', 'شعن', 'برنداره', 'نظرمون', 'برخوردپیک', 'خلالیه', 'زیااده', 'وسالم', 'خیاروگوجه', 'بودکاملا', '3سیخ', '50بار', 'نمیدونتستم', 'ادویش', '47000', 'شزارشم', 'وکاملایخ', 'bood', 'وعی', 'روغش', 'آمربکایی', '27هزارتومنی', '6تکه', 'وسوپ', 'تکلیفشون', 'خاطرمورد', 'نبوددددددددددددددددددددددددددددددددد', 'سوهاری', 'تخفیفاتشونم', 'خشششک', 'العادههههه', 'کروسان', 'کاملاااا', 'نیمده', 'و4', 'نداردوخیلی', 'دقیقااا', 'نونوایی', 'ترازشکلات', '000تومن', 'ازروغن', 'نبنده', 'نبودومالیات', 'سریاشم', 'فرنگیتونم', 'خوشمزههههه', 'دوممون', 'هییچیی', 'وخالی', 'فروشیاست', '170', 'معمولب', 'تولیدوانقضا', 'مرسیییی', 'کجاپ', 'فوقعالده', 'پروروک', 'برمیگردوندنم', 'برگردوندم', 'ڇرب', 'ناهارمون', 'دراومد', 'غذاکاملا', 'داغشون', 'قارچیشو', 'غذااصلا', 'افتضاهه', 'شماوسپاس', 'زوود', 'تواسموکی', 'حتماخدایی', 'دونفرم', 'خشکپاک', '9هزار', 'haalam', 'رمولادا', 'اسکویید', 'انبارتونو', 'شیرسویا', 'حدود20دقیقه', 'فزانسوی', 'آروستوپ', 'نواربهداشتی', '160', 'پسرخوبی', '33', 'ویفرشکلاتی', 'تعدادسس', 'چیتزا', 'پایینتره', 'سرددد', 'اپلکیشن', 'میگوارو', 'نمیشدن', 'زیادمی', 'اخلاقه', 'جابجاشد', 'ممشخصا', 'دونستند', 'شرفتون', 'نگفتنه', 'غیرازاین', 'کلللللی', 'کوبیدتون', 'ونزدبک', 'بدپخته', 'سیرتون', 'فرسنادین', '1جوجه', 'دیق', 'مشکلشون', '26800', 'بادستو', 'شکرشو', 'ابگوشتم', 'تمییییز', 'دوتافیله', 'محترمتون', 'موندس', 'هاتازه', 'دهانشون', 'وکیک', 'لطیفا', 'ماستاش', 'خوشل', 'غذامیگیرم', 'کوچمون', 'نخواستین', 'رسوندش', 'اسکاج', 'اصلیشون', 'باقلوایه', 'دوبارتاحالا', 'نداشتهمه', '1بسته', 'فتوش', 'قبلکه', 'غذابا', 'نمیارن', 'داگم', '3از', 'خوبتونو', 'y0m6d26', '30600', 'املتو', 'دوبارم', 'کنمتری', 'برگردوندید', 'mahdode', 'میریمو', 'نزاشتی', 'غذر', 'حلوی', 'سیبزمینیش', 'دلستر', 'رسیپ', 'شونم', 'درکمال', 'سییهم', 'میازه', 'یدشن', 'ومانده', 'خریدنکنید', 'مدیرمحترم', 'اطرافیانمون', '8000تومان', 'هایپها', 'محصولتون', 'دورکه', 'شیرینیهاتون', 'پیشگیریاز', 'کاملابهم', 'شوکولات', 'zamini', 'بعیدبود', '6750', 'شددددددددددددددددددددددددددددددددددددددددت', '7290000', 'قیمتاشو', 'بسیاربد', 'بسیارررررررر', 'ثابتشوم', 'خوردنشه', 'ظرفعای', 'ممولی', 'تادونه', 'بسیااااااار', 'ازناتلی', 'مچکر', 'دوسشون', 'ترکیبشو', 'شرکتمون', 'میکروسگوپ', 'بعدسوخاری', 'قبولیه', 'کارنابلد', 'وجعبه', 'ویحوم', 'مبدم', 'رستاران', 'تماشد', '5٪', 'یکنفرست', 'دردفعات', 'فرایزا', 'همبرگراش', 'وجوجهاش', 'اژدرو', 'همشیه', 'رسوندند', 'pashman', 'بوودار', 'باکسه', 'ننوشتین', 'میزاشت', 'تایمشون', 'دسشویی', '6800', 'نزدیکه', 'بنطرم', 'شرایت', 'مارسبانی', 'تروتمیزه', 'امتیازاتتون', 'تماش', 'فونگی', 'دااشت', 'کوکارو', 'پیکاشون', 'نازکه', 'esmartizayenkheili', 'سوپربرگر', 'ادمایی', 'فودمیدانندنه', 'فیلینگش', 'داستنی', 'عددا', 'نبودپای', 'efteeeeeeezaaaaaaah', 'همراهتون', 'درحمل', '1350', 'قایله', 'گاردنش', 'اتموم', 'انداختمش', 'محتویاتمبیرون', 'بدشون', '1000گرمی', 'بیشترنان', 'ندارا', 'تقرییا', 'ارشال', 'کزش', 'افتاذه', 'واسمون', 'جوجست', 'کاغذساندویچ', 'خیلیدشیو', 'رساورانهایی', 'کبابو', 'چلوکوبیده', 'کترینگها', 'غذامون', 'سزارتونم', 'گوستها', 'جامونده', '32هزار', 'افتضاحححححححح', 'کادوئی', 'میخواشتی', 'پسچیده', 'بلدنیستین', 'تحویلشون', '12دقیقه', 'کارزنا', 'داخش', 'اواردن', '216', 'هوشمزه', '25دقیقه', 'ونرمی', 'آبگیریه', 'ذیگه', 'پریشب', 'هیچکدومشون', 'تلاششون', 'نظیرتون', 'مخفیه', 'برمزه', 'تنهااا', 'سورپراز', 'ماتزارلاش', 'شکیله', 'کپنی', 'فودبخاطر', 'ندادین', 'اینطوربیان', '4900', 'کنیدفکرکنم', 'خخود', 'ابگوشت', 'اویزون', 'زحماتتون', 'تاریخدار', 'موجیتو', 'خیلییییییی', 'دوساعته', 'مسبت', 'ننویسین', 'تبخ', 'شدسپاس', 'تماااام', 'خیلیییییییییی', 'تحمله', 'سسشون', 'اتخابم', '162000', 'ضائقه', 'سفارشناقص', 'درنیومده', 'نتونن', '؟؟؟؟؟؟؟؟', 'آخرشه', 'taze', 'مشتریاشو', 'نداخته', 'سرررررد', 'صرفید', 'ضیحات', '150تومنی', 'دراوردین', 'تندیشو', '1الی', 'اصلنم', 'درمنودرج', 'سساشونم', 'اصلاخوب', 'بودطعم', 'اینسری', 'مصرفییییییییی', 'بندب', 'کرانچیپس', 'دیسلایک', 'سیلقه', 'خوشمززززه', 'استافد', 'oخوراک', 'همههههه', 'رسیددد', 'زولیا', 'شگلاتی', '3', 'کاکایوییش', 'برسونتش', 'وتشکرازماهک', 'بودوبرخورداسنپ', 'چراحذف', 'ذعفرونی', 'زیکزاک', 'درومد', 'کوچولوبود', 'همیرگر', 'ایتمی', 'فرمنر', 'هزاااااار', 'باکسشون', 'طعملذت', 'باپلو', '4فصل', 'ناندان', '4500حساب', 'شعارتون', 'حجمیه', 'رینگز', '35٪', '130', 'نانن', 'خووووب', 'نازاضی', 'فرداسچه', 'ابعادخیلی', 'تحپیل', 'سوپشونم', 'ودقت', '520', 'واااافعا', 'تیلیت', '5ماه', 'نتونستیم', 'آلبالوتون', 'لظیظ', 'پلاسیک', 'کیفتیتش', 'قلمکارتون', 'خوشمز', 'براگراتور', 'زیرسبیلی', 'بدنمم', 'وااااااااااااااای', 'موندتونو', 'گرونیه', 'گوداش', 'نبودکاملا', 'بپردازن', 'موندیم', 'ونتونستم', 'دونرگاردن', 'لطفه', 'نوندسنگکش', 'انقدرم', 'روراضی', 'نتونسته', 'سبوسداره', 'مهمونهام', 'شیش6ای', 'جافتاده', 'بقیمت', 'چندمه', 'دوبللللل', 'مدله', 'خیییییییلی', 'کراکزف', 'زیارد', 'پلاچنتای', 'پرملات', 'آقاابراهیمی', 'مافینی', 'یاچیزی', 'وبهتره', 'هنیش6', 'بهقبل', '125گرم', 'پیتزاسیرواستیک', 'همبرگرد', 'غذاهاشو', 'جزیلا', '3هزارتومان', 'ارزونش', 'اونطرفشو', '2پرس', 'شیرینیارو', 'سرعتر', 'غذارسید', 'وعالیه', 'بینظیرو', '95000', 'ابگوشتش', 'عمیشه', 'پذیرز', 'زینگوراتور', 'مممنونم', 'خخخخییییلللییی', 'هینجوری', '000ریال', 'خوبوخوشمزه', 'کیلومتره', 'نیمذارین', 'ومرتبی', 'ابدار', 'baese', 'وحشتناکه', 'راصی', 'دونتونو', 'دقیقا50دقیقه', 'کردمو', 'پیتتزا', 'فلفلایی', 'مسیرتون', 'سفارس', 'قیمتاشونم', 'صاحبخونست', 'آناتا', '10شب', 'نانهاگرم', 'دورچینی', 'وایسادم', 'معرررکه', 'سوخاریا', 'العاد', 'بندازن', 'تاثیرگذاره', 'مسقره', 'مشخل', 'اینوارو', 'ذستم', 'نقدیو', '98درصد', 'کشیدتابرسه', 'کنجیدی', 'پیتزاخوب', 'سرتون', 'دورریختنی', 'نلود', 'کپفیت', '4هزارتومان', 'مدلشو', '6عدد', 'وردرز', 'میچینن', 'باپا', '4تایی', 'بدشد', 'عاالییییی', 'هوامو', '4و', 'دادیم0انگار', 'اینقدرررررر', '60', '6تومنی', '2پر', 'واخد', 'جامبوجوس', 'تیتابی', 'میفیت', 'بیسکیوییت', 'اممممممیدوارم', 'تنوریا', 'نوستالژیش', 'سرومیع', 'پایییییییییین', 'دورچینای', 'خداوندبه', 'وارمر', 'وکاستی', 'ازخودتون', 'انثدر', 'ضعیففففففففففف', 'کوچیکا', 'ساندوچ', 'نمیگید', 'خرجکردیم', 'لقمش', 'طود', 'همبنقدر', 'نمیدنم', '2سانت', 'التفاوتشو', 'انازه', 'نفرستن', 'دوتاادم', 'تاخیرررررررر', 'ازدواجمه', 'لذید', 'وآ', 'نشاطو', 'دربیارمشون', 'عااااشق', 'وقط', 'رران', 'تفاوته', 'شیرینهافوق', '21000', 'قرمزکه', 'وجدانا', 'نفرس', '14500', 'وجوداینکه', 'ژامبونای', 'نمکینن', 'دستساز', 'پومودور', 'ساعتو', 'قارچشون', 'دفعست', 'همییییشه', 'ناراضایتی', 'ترکونه', 'وتند', 'گروننه', 'میزریم', 'عاااااالیییییییی', 'میزاشتیم', 'قیمتشه', 'پاستاهه', 'بعد40دقیقه', 'آورین', 'قدیمیشون', '150هزار', 'نبره', 'ترشون', 'بهترمیشد', 'تمیزه', 'مر30', 'اینباربال', 'میشودبهتر', 'دلیوریشونم', 'y0m0d97', 'بخوریدواقعا', 'کالزون', 'بسیارخوشمزه', 'وانقضا', 'خیییلیی', 'ماکارونها', 'نمالیده', 'تخفیفا', 'پلاستکی', 'قلرچ', 'وبرشته', 'کاکاعو', 'گشنم', '11000تومان', 'بدکیفیت', 'زمانینه', 'ماکارانی1', 'گوشتو', 'حمع', 'وپرسنل', 'باریستای', '3ساعت', 'ممنوونم', 'کرغ', 'دهرید', 'نبوددد', '20شب', 'مزههههههه', 'میارین', 'شنیدین', 'بخوب', 'دوتاشون', 'خیلییییییییییییییییییییی', 'فرمایید4100', 'ابپز', 'میترسه', 'حویل', 'وخیلیی', 'سردبودانگارتویخچال', 'اینهکه', 'پیشنهادمیکنم', 'بودمدرصورتیکه', 'هر2بارم', 'بامرامه', 'بابسته', 'حجمشون', 'کرونایی', 'داگش', 'خیررر', 'حموس', 'راری', 'پیشنهای', 'وشایدبرایشان', 'قزاا', '14', 'واجباته', 'نذاشتید', 'تتد', 'نمیزارین', 'رسوندم', 'ایقدر', 'درکدوم', 'هاشونو', 'داگه', 'وهمینطورممنون', '90تماس', '6700', 'زغم', 'وافلها', 'ساندویچموندهبود', 'کپیر', 'یامرغ', '37', 'مودبتون', 'تکونمم', 'ازسفارش', '200٪', 'بفراخور', 'برنجشون', 'یکعدد', 'غالبه', 'بادرشکسته', 'خوردمش', 'بگذرونه', 'نفرستادین', 'تسنپ', 'حوصلتون', 'نمیگنم', 'نجش', 'اجناسشون', 'قارچاشون', 'افتضضضاااح', 'آکوافینا', 'ازخوردنش', 'سوزونده', 'دراومده', 'بیفی', 'متفاوتن', 'اسموکیه', 'بازس', 'نامدبرانه', 'صبحونه', 'همبرش', 'دردوبطری', 'فکرنمیکنم', '11200', 'مالبرو', 'پیتزاهاشو', 'لطفااااا', 'مکرویو', 'نداردچون', '9٥00', 'پیتزاسیب', 'y0m4d3', 'کویینتون', 'سیراشون', 'گوشکوب', 'چییزبرگر', 'وقتایی', 'گذتشتند', 'دیفراست', 'احمال', 'نکید', 'استیکه', 'براگفتن', 'سالیه', 'سوسیسه', 'بخودتان', 'سنزیجت', 'اصلیمون', '1گوجه', 'اسلایساش', 'نمیفرستن', '83', 'رفتارارو', 'y0m7d4', 'نونشون', '10هزار', 'اصلیشونو', 'وراضیم', 'مهربونی', 'اگثرا', 'پرررررررررررررررررررر', 'بیستنیها', 'بشنوین', 'موندگی', 'واینبارم', 'میزاریدو', 'ازشاهو', 'دییییییرررررررر', 'شیرینیاشونه', 'دیگشونو', 'اماااا', 'نچیده', 'زبونمه', 'دانمارکیشون', 'بهتارین', 'عالیییههههه', '15000', 'ازسالم', 'همینیه', 'tarkibe', 'خووود', 'یرخلاف', 'میزنیذ', 'شبرینیهای', 'بسسسسسسسیار', 'نبوذ', 'هاهم', 'پبتزای', 'آشپر', 'آخرمون', 'راآورد', 'واکثرجنساش', 'مخلفاتتون', '95٪', 'لوسیده', '5لیتری', '77درصد', 'تومواد', 'کنچرب', 'میذارین', 'سفآرش', 'morghe', 'اتصافا', '100', 'العادتون', 'سیرواستیک', 'هیچکاری', 'کردئم', 'y0m1d19', 'y0m4d1', 'کالباسه', 'گداشتن', 'پاستاهم', 'بهتریناش', 'نپرونید', 'ارزونشو', 'ملق', 'کشتون', 'ماشرومش', '5950', 'نثارخوشمزه', 'پپرونیشون', 'سحرو', 'بهدجای', 'بهترینه', 'fتضاح', 'ساندپیج', 'سوخاریاتون', 'چاقاله', 'وضعشه', 'پولتون', 'وبودارضده', 'متاسفممممممم', 'نمیذاره', 'پیراشکیا', 'باخودم', 'عالس', '98', 'دربیارید', 'میبرین', 'برنگردوندن', 'وخوشمزس', '12ام', 'زعفرو', 'گوشوش', 'کالباسهاتون', '28دادی', '7800', 'مارگارتیا', '45سفارش', 'برگرمرغ', 'بهدصرفه', 'برگام', 'انگشتامم', 'مغاییرت', 'انتخابمونه', 'مرسب', 'سلامتیه', 'پرسنلتون', 'وپول', 'برخوردشون', 'نمیزنن', 'تبوله', 'مدیونشون', 'هستیدفقط', 'برمیگردوندم', 'اییه', 'سخاریا', 'خشکههههه', 'تاخیرارسال', 'روبگیرم', 'قینت', 'ازوقتی', 'آوروند', 'لذیز', 'khorak', 'استثناییه', 'رودسستتون', 'هایدای', 'ماشعیر', 'سررررردی', 'وجالبه', 'بمونن', 'تصف', 'بدکیفیتی', 'واقققققعا', 'افففففتضاح', 'حدود300', 'میجنگن', 'چییییی', 'راتوصیه', 'اوازه', 'نمیذاشتید', 'مرسییی', 'عالییییی', 'منطقیه', 'بیشتربود', 'ژورکی', 'الدفشن', 'درتوضیحات', 'اضافیو', 'دربیاره', 'پیازاش', 'امسدوارم', 'درحق', 'oreo', 'گرغته', 'علثالی', 'مینداخت', 'صاقیه', 'مقداریه', 'همینطورباشین', '590', '5هزار', 'تویینیگز', 'ترکیبشون', 'خونشون', '15باری', 'سبزیجان', 'اشپز', 'نسوزونه', 'حضووری', 'روغنتون', 'کمنون', 'عااالس', 'انقضائ', 'باروژه', 'غذاییه', 'نمککک', 'ازینهمه', 'وپره', 'سلوووم', 'بخودشون', 'عااااااااااااااااالی', 'نمیتونستن', 'میتوننن', '65000', 'نوناتون', 'نوآورنه', 'فوتوچینی', 'عالیییییییییییییییییییییییی', 'باتشکرازآقاشاطرومدیریت', '252', 'میوردم', 'میدادپودر', 'واقعاخیلی', 'واضحتری', 'عالین', 'باآرزوی', 'چیاباتا', 'قدیمارو', 'مغاییر', 'میخور', 'بتونین', '120000', 'عروسکمون', 'گنجدی', '53', 'کاکائوییه', 'وفلفل', '2420ت', 'زوبیا', 'هرباریک', 'تورده', 'نمکنید', 'میدارن', 'بودمواقعا', 'مرسییییییییی', '22سانته', 'قنادیه', 'پیترایی', 'تشکرمیشود', 'بیشترشو', '9500', 'بالاشون', 'بودنشو', 'عالیییییییییییی', 'nemishod', 'سقارش', 'درنظریک', '،،،', 'میداذ', 'تلیلت', 'بونصف', 'نذریتونم', 'پپروک', 'ونصفش', 'ازطرفین', 'کفیته', '1٥00', 'گیرسید', 'مینوسم', 'میادددد', 'بهمراهش', 'عااااااااالی', 'اسمون', 'باتبحر', 'میفرسید', 'الباقیشو', 'تشخیصه', 'مذه', 'لوپتو', 'باید42', 'پیکییع', 'بالاتربره', 'غذاشو', 'انیدر', 'پیتزاهم', 'میزاره', '1تیکه', 'منطقن', 'بودپیشنهادمیکنم', 'بعدازثبت', 'بودوحداقل', 'تنکیو', 'خمیردندون', '80٪', 'بودخشک', 'ولذیذ', 'نماسیده', '23٥0', 'دانمارکیه', 'دوناتها', 'هوب', 'کاراملایز', 'ظعیف', 'خریدزیر30تومن', 'هییییییییچ', 'گشنتونه', 'کاردچنگال', 'دمتونگرمممم', '9595', 'شیرینیا', 'داگای', 'مهمونیا', 'بهتریناست', 'یکطرفش', 'پرکردید', 'هایداومور', 'متاسفنه', 'وظیفشونو', 'هزارتومن', 'ردولوت', 'varesh', 'عکستونو', 'دپر', 'عالیههههه', 'عددذکر', 'دقیه', 'وادامس', 'دائمشونم', 'وکارتون', 'بزارمم', 'پائینتره', 'فروشیه', 'خبرتونه', 'لامصب', 'لیستتون', '15200', 'اروستو', 'طبخیه', '601', 'کارنیتا', 'مبا', 'موتورشون', 'مدتهاااا', 'منتاسفانه', 'حجمشو', 'باوتجه', 'شرایطو', 'عحیبه', 'واااااااااااااقعا', 'کردنمون', 'اسنم', 'غذائه', 'هزارتومانه', 'ممنووون', 'خیللللی', 'تهه', 'مسعله', 'مهنونم', 'نمکو', 'ضعیقترین', 'هائز', 'اجناسیو', 'آلبنی', 'کمتراستفاده', 'بزارند', 'آپاچینو', 'رستورانهاست', 'نداشتین', 'دیررررر', 'همراهشو', 'نحویل', 'تنهاایرادش', 'بوددوما', 'نوشابشم', 'بودندمخصوصا', 'خوووووووب', 'پیرایشکی', 'غذارورنگ', 'فکرتون', 'اآیا', 'دلسل', 'بارمه', 'خوردکن', 'یذارن', 'اگرامکان', 'بشیه', 'چیزبرگرو', 'ایادرست', 'بسیاربسیارممنون', 'حموص', 'نخرین', '3500', 'اسنب', 'تینکه', 'بگذزارند', 'دفترتون', 'کاهوو', 'ازقلم', 'الحمداله', 'نداردوهردفعه', 'میپ', 'درومده', 'بوووووود', '1ساعته', 'آبلیموش', 'خدایییییییییییییییییییییییییییییییییییی', 'دووسه', 'شریع', 'چیکوچی', 'حجو', 'روپیشنهادنمیکنم', 'امابیش', 'هورنلی', 'بیشترسرویس', 'دشتتون', 'هیف', 'یکیا', 'کیکشونو', 'خیلللللللی', 'ازشو', 'وخوبی', 'انقدرکم', 'واقعاعالی', '4تا', 'فاجع', 'مزتون', 'بوووود', 'بالابود', 'کهههه', 'بووووود', '6500ی', 'سوپرمارکتهاس', 'رسونید', 'تاخیر40', 'تمیزو', 'لانجیند', 'واحدو', '8دقیقه', 'نوشبدنیهاتون', 'باوژ', '16000', 'مزهههه', 'هالیپ', 'فبلیم', 'بسیاربسیارخوب', 'فرستادین', 'پپرونیش', 'بسسسیار', 'کیلوییو', '30تایی', '18000تومان', 'bodan', 'کوچیکشون', 'behtar', 'آخرکمی', 'ععد', 'پیازوجعفری', 'مشتریه', 'اند98', 'کرغم', 'ندل', 'کبابهارو', 'فسنجون', 'پنیرپارمزان', 'ررفتار', 'خخخخخخ', 'مشتریتونم', 'شیرینجات', 'بودازاین', 'پاکتهاتون', 'پولامو', 'اسمارتیسی', 'سنکگ', 'کوچیکترم', 'از2017نوشته', 'باسلق', 'روفراموش', 'موقعتون', 'کاغذروغنی', 'رولهی', 'دسروامتحان', 'بذارمشون', 'دهندش', 'بودااااااا', 'بمونیم', 'قصدشون', 'هبانی', 'کیفیتشون', 'تداشتن', 'ازبدمزه', 'وهات', 'دراخر', '110گرمه', 'پودرشده', 'بسکه', 'ویژتون', 'علکی', '3عدد', 'پرچمشون', 'فودتون', 'رسیدمثل', 'خریدمی', 'والتیوس', 'پرروزی', 'آلومینیونی', 'چربیو', 'y0m37d8', '11هزارتومن', 'اسمربه', 'غاشق', 'بگذاره', 'خییییییییلی', 'حواسمو', '42500', 'غذاهارو', 'بزنجشونم', 'غذاهاسرد', 'بودددددددددد', '22000', 'شوداستقبال', 'میسوزونن', 'پیگیراست', '48000', '33cm', 'ارنپ', 'آرامبخشه', 'پبزه', 'میکنممم', '4ونیم', 'خوسمزش', 'مداشت', 'دنرگاردن', 'روسفیدم', 'مقدارساندویچ', 'بودمن', 'چقدرهم', 'روتحویل', 'اومدوقیمت', 'باهزینه', 'هاریبو', 'لطفیه', 'خوشمزنو', 'درنظرش', 'وخیارشورداخل', 'وشکسته', 'خییییلیییییی', 'همینجوریه', '15٪', 'پوشونده', 'اتقدر', 'وهستم', 'دیراومد', '14000ت', 'میسازه', 'سومرمارکت', 'ایول25', 'ومتاسف', 'کبابا', 'محصولو', 'پنیراتون', 'دوغتون', 'دوقلمش', 'موقها', 'کیغیت', 'چجوریه', 'قاطیه', 'بسییییااااار', 'درامدن', 'توجهتونو', 'بومبا', 'وپروپاقرص', 'شکلشون', 'خیرتون', 'عااااااااااااااااااالیییییییییی', 'داداشام', 'پاستاتون', 'وضعشههههه', 'نااااااااااموسن', 'کارشونم', 'اصلااااااااا', 'نوتلابه', 'برسونین', 'گرونترش', 'باشهدبهتره', 'ازخریدم', 'ماکارونیو', 'بازازهمینجاسفارش', 'تیتاب', 'همبرشم', 'باپنیر', 'میریختین', 'بیاته', 'عااااللللیییی', 'شکنه', 'وباقیمت', 'قطرشون', 'عااااااااااااااالی', 'انقدرفلفل', 'بکین', 'رلتش', 'پذیرکار', 'سایزشو', 'هیجا', 'تونایلون', '14هزار', 'تا50', 'ویگنه', 'لحه', '7000تومان', '43', 'ماستا', 'نمیتونند', 'مبود', 'دوعددپولشودادم', 'مسخرشو', 'کنیلونی', 'اذسال', 'وشربت', 'dchide', 'اصلاا', 'قشنگتری', 'همیه', 'باشع', 'رسپی', 'اعتمادبه', 'انتظاربیشتری', 'سایزشون', 'سرررد', 'وکباب', 'برمیگردونیم', 'وحشتناککککک', 'نامناسبه', 'تندار', '4ای', 'ندارع', 'تاسفه', 'بودوبه', 'یادشونم', 'مالیاتتون', 'خاهش', 'سانودیچ', 'معرکست', 'نبوووود', 'سبزیشون', 'سزگار', '250', 'جاهاست', '4ساله', 'الاندارم', 'میدونستیم', '1398', 'میخواستین', 'تاااااخیر', 'فسط', 'شدکیفیت', 'آیسپک', 'جعیه', 'خمیرنشه', 'مهمتره', 'داغتونم', 'فکرسو', 'وغیرقابل', 'eftezah', 'غذاخیلی', 'هممممش', 'سالامیه', 'جوربازار', 'یاخیارسرکه', 'آژانسه', 'ریحونش', 'بگما', 'بودوسوپ', 'شیرینیتون', 'کبلویی', 'بالاشه', 'خیارشورهاش', 'افتضاع', 'عااااااالی', 'دلسترم', 'عاااااااالی', 'چاوکباب', 'کلابها', 'تهرانپارسی', 'ومسلما', 'پاروژ', 'سوسیتون', 'داگتون', 'بسنه', 'باخامه', 'کنیدبینظیرمیشه', '29000', 'ایدفعه', 'قرارندن', '93000', 'شیزینی', 'پیشنهادشون', 'بودیک', 'میخونن', 'فودشون', 'ممنوووونم', 'پیکاش', 'گوشتاشم', 'تیتاپی', 'میفرستن', 'تومنیا', 'موادو', 'عشقتون', 'کشبد', 'خوشمزده', 'اصال', 'تاخیرو', 'انگارنبایدگذاشت', 'توضیحاتو', 'قدیماش', 'گوشتا', 'نمیزاشت', '200سی', 'قدقد', 'کیکفیت', 'چکده', '14500فاکتور', 'ققط', 'وسایله', '90درصد', 'ایندفع', 'هدیتون', 'بایدبیشتر', '6الی7', 'نداشتا', 'رستورانمو', '14300تومان', '2000ت', '12', 'دایجستیو', 'سااااعت', 'عطردار', 'قدیمشون', 'کیفیتشونم', 'استخونشو', 'گردیددست', 'بودوممنونم', 'وفراوری', 'موجودنداشتن', 'اشپزه', 'استفاره', '1بالا', 'نسوزه', 'ناگتش', 'امتیازشون', 'مگرنان', 'یکساعته', 'کلفتر', 'میفریتن', 'عذارو', 'نخوایم', 'سوجوک', 'متشکرممممممم', 'گردونن', 'ساندویچو', 'doroz', 'اعتراضمو', 'shod', 'مزخرففف', 'تشکراز', 'و1تکه', 'اوردشون', 'مطمنم', 'ساندویچمو', 'مبرسد', '6هزارتومن', 'آرسامو', 'فکرند', 'آوردنتون', 'باهمون', 'اچجوری', 'وجودبیاد', 'میفرستادن', 'دهنمونو', 'صابل', '300گرم', '2760', 'داشتخ', 'سوپتونم', 'پملپ', 'چراا', 'ناپخت', 'حملشون', 'ادویجات', 'وااااااقعا', 'چیییییز', 'کارگره', 'کاملاداغ', 'توجهید', 'خداخیرتون', 'پآیین', 'قدیمتون', 'کرانبری', 'شیرهاشونم', 'بماله', '60دردصد', '200', 'گشنمون', 'نمیذاشتم', 'واقن', 'ونتونسم', 'غذازود', 'بخچالی', 'برگرارو', 'غا', 'اسمتونو', 'درتحویل', 'روونه', 'چلوگوشتش', 'بنویسیو', 'اوتقدر', 'رونداشت', 'لبنه', '900گرمی', 'فلافلیهای', 'امروزشون', 'هایدابرگر', 'هذینه', 'سسسسسواقعا', '11', 'قروقاطی', 'همیلا', '108000', 'انشائالله', 'sandeviche', 'ندااااشت', 'نشونی', 'تعرفی', 'نکشه', 'پسرخوبم', 'زدید35', 'تحسینه', 'آلمنیومی', 'نیاوردین', 'فسفود3', 'ازخدماتتون', 'نداشنید', 'نمشوته', '1کیلویی', 'تامام', '14دقیقه', '5تومنیه', 'دومدل', 'کیفبتش', 'شلز', 'شونیز', 'خونس', 'دخکش', 'تعوضش', 'پنبر', 'امرور', 'عالیییییییییییییییییییییی', 'کرردم', 'ریخیم', '1٥٪', 'خریدکنه', 'حپه', 'میگذشته', '4تومنی', '129', 'العاااده', 'ومحتویات', 'باشیدوپایدار', 'ازکیفت', 'هستییییین', '3900', 'نزشتع', 'هرپرس', 'از20', 'کیفیتیه', 'وشسته', 'رقیباتون', 'نمیخوردن', '1089', 'فاکتورشون', 'خیلییییییییی', 'پیتزاخیلی', 'پارد', 'درحواست', 'اسنکه', 'بدستتان', 'ویژش', 'محسوسه', 'رستورانو', 'بذاریوسیب', 'مکنم', 'میپیچن', 'شدمممبس', '30دقیق', 'عاای', 'پیراکشی', 'نسکوییک', 'درپناه', 'بیحودی', 'رزیمی', 'سیزی', 'افتضاحح', 'غذاسردبوداگه', 'میفهمن', 'وخوشمزش', 'آدرسو', 'برگرخیلی', 'خوردنشون', 'کبابترکی', '99', 'توصیفه', 'اسنپی', 'عجببم', 'ازاردهنده', 'نامیدکننده', 'کریسپای', 'عاااااااااالیییییی', 'همشونم', 'بیاتذبود', 'خامو', 'نیارن', 'استاندارده', 'گرفتیمش', 'متاسفآنه', 'باقالاقاتق', 'گوشفیل', 'یوفکا', 'هرجقدر', 'جذابیه', 'مکزیکیه', 'ازسوپرسفارش', 'بایدونت', 'دوسیخ', 'دودیقه', 'vaqean', 'باراول', 'فلبل', 'افنضاحه', 'وکهنه', 'حساسیتشون', 'نداشتنو', 'بمبیه', 'تردیلا', 'شیرینیاشون', 'گرفتارن', 'بپدم', 'سفارشتونو', '33بود', 'هودتون', 'بادتوجه', 'زمنیی', '4حلقه', 'خاطرشون', 'چیزدیگه', 'ارزونتری', 'حالمونو', 'بپردازین', 'فقطیه', 'منتطر', 'یکبارو', 'اینوبرای', 'پیبتزای', 'بعترین', 'خییلییییی', 'اخریم', 'اصلاااااااااا', 'ضعفشون', 'بوداصلاجای', 'سفرشمونو', '1کی', 'بدطعمی', 'پیشتون', 'پارمسانش', 'داغبود', 'زولبیابامیه', 'کروسانی', 'بسیااااااااار', 'کارشما', 'عالیشون', 'سیبشون', 'اصلانبود', 'پروپاقرصشون', 'العادسامیدوارم', 'باشدبی', 'بزادین', '4000تومن', 'مرف', 'وریخته', 'عاااااااااااالی', 'نکشیئه', 'یکدونه', 'اصطلاحن', 'اونقدرم', '160گرم', 'قیمتاتون', '144', 'ورموجودی', '5سال', 'پنیزش', 'رودور', 'شد4٥دقیقه', 'ملاسیک', 'دراوردیمش', 'غذاشون', 'ازهویج', 'سایزه', 'سلادشم', 'چسبه', 'پوکیده', 'چاپاتای', 'کوکولوچه', 'برسونند', '400لیتری', 'گررررم', '2کتلت', 'ننیشه', '720000', 'دفرم', '9درصد', 'عدپ', 'آمادس', 'chiz', 'خیارشورگوجه', 'همراش', '71000', 'شکفتزده', 'راپله', 'محشرررررر', 'فکرشو', 'بیسکوبیت', 'نمیکیرم', 'کراکفو', 'خیارا', 'بادومی', 'تحویلشونم', 'وشیرینی', 'لزیز', '50دقیقه', 'مارگاریتاتون', 'اومره', 'ریخنم', 'خشکککک', 'اذیذ', 'ابلیمو', 'واااقعاااا', 'مععععمولی', 'برگراتوره', 'پاستاخیلی', 'شکلاته', 'ازنظربهداشتی', 'مشکیه', 'بودنوهمینجوری', 'گرسنم', 'موردنظروجودندارد', 'بیارینش', 'سرددددد', 'چیزفوده', 'استعدادشو', 'مشمی', 'خییییللللیییی', '100میدم', 'دداشت', 'peperonishonam', 'میفت', 'وکیفیتم', '3٥00', 'بیشتربپذه', 'y0m6d55', 'مزخزف', 'توفصل', 'سلفن', 'بووووددد', 'خیرشون', 'هفتست', 'شایدهم', 'یریع', 'قیمتاتونو', 'حو', 'نظیربود', 'کوتاه3هزار', 'شمردشون', 'بتوضیحات', 'واقعادمشون', 'یعنییییی', 'نئاشت', '100هزارتومان', 'انصافیه', 'یاندویچ', 'دقیقاهمین', 'وپیکاشونم', 'خییییلیییی', 'کیفیه', 'بیرونبر', 'یع', 'اولمون', 'وپرازنون', 'را6', 'خریدهیچ', 'ازچندقاشق', 'اصنکیفیتش', 'پیورچیکن', 'گیاهخوارم', 'علرغم', 'نایع', '50هزار', 'بودیدتشکر', 'عااااالیییی', 'نامناسبشون', 'شورینی', 'سافتلن', 'یولکی', '140000000', 'الکیه', 'پولمونو', 'دادم3تا', 'زده4700بعد', 'غذابسیارکم', 'دلپذیره', 'دیپلماتو', 'میپره', 'اغتضاح', 'یپنیر', 'چندبارازغنچه', 'دوآتیشه', 'معمولیه', '15عددی', 'باقالاقاتوق', 'کوچمونه', 'گرونم', 'ازکیسه', 'ومودب', 'بخرن', 'خیلئ', 'معلون', 'ازنونهای', 'برگردونیم', 'هاییه', '1000بار', 'آودند', 'کدچه', 'زمانبتدی', 'kefiyateton', 'وسردبودنان', 'میندازیمش', 'مارمالات', 'پیتزاشونو', 'سبکه', 'خمیرررر', '5000تومن', 'مشمبایی', '70درصد', 'فلفلیاش', 'شبرموز', 'سرویسدهی', '12هزار', 'بسیاربسیاربدبود', 'قادره', '44000', 'خوبشون', 'اماسیب', 'سفارشاتو', 'مبلغیه', 'دربو', 'پنیرشوو', 'بندی3', 'همیشهههه', 'شکلاتارا', 'مولپد', 'سوپرازم', 'طلیکارانه', 'خیلب', 'ضعییف', 'کریسپی', 'لذیذن', 'ییب', 'بوستاکا', 'جوجه300', 'اینترنتیه', '؟؟؟؟؟؟؟؟؟؟؟؟؟؟؟؟', 'کااااافی', 'کمترازاندازه', 'بوووووودتازه', 'بهترینشه', 'بهترییییییییین', 'piaz', 'چلوماهی', 'ثابتتونم', 'میدونین', 'دارته', 'سیرکننده', 'روگفتم', 'افتضضااااااااح', 'صففر', 'slad', 'و160گرم', 'زحماتشون', 'تیرامیسوش', 'طعمشونم', 'پرتقالتون', 'ادسیش', 'طعمشو', 'غزروف', 'انقدرررررر', 'خااام', '194', '7700', 'میخواستممو', 'قاچاقه', 'معمولیبدون', 'باراولم', 'کنافه', 'ببش', 'پیتزافروش', 'مجموعتون', 'y0m5d1', 'میخوایدش', 'بسبار', 'یکیه', 'رسیداما', 'هوسشنو', 'بودایشالله', 'هرچیو', 'شدبم', 'پارمیسان', 'نوضیحات', 'کاغدی', 'مدودیت', 'وقیافه', 'سوخاریو', 'کوزدن', '31هزارتومان', '70هزار', 'دستسازشون', 'کمترباشه', 'شدعالی', 'تماااس', 'روکردید', 'ازپیکهابسباربی', 'وهردوهم', 'هالوچیز', 'بندیتون', 'حدافل', 'رسیدممنونم', 'بیتربیت', 'نمیکردین', 'تنیز', 'هجم', '7000000', 'ایناست', 'نسده', 'بودزسیب', 'پاستاشم', 'ذارین', 'منوشون', 'محوتای', 'ماخیلی', 'تعدادو', 'هرلحاظ', 'نیاوده', 'میزاشتن', 'صورتیه', 'ورمیشل', 'واقعامحشربود', 'سعت', 'آشپزهم', 'مغذ', 'نثارپلو', 'غلیرغم', 'میگذازم', 'یزره', 'نمیفرستین', 'قزار', 'باهث', 'صبحانرو', '200برگ', 'قیماتو', 'متاسفاته', 'رامیزنه', 'شکلیل', 'حضوریتونم', 'بلونز', 'میخونید', 'ازییییین', 'dard', '107', 'چقدرررررر', 'ناجوره', 'زحمتشون', 'خوقع', 'شیرازیو', 'تقص', 'فودیه', 'پوختش', 'دوستانمم', 'بیفم', 'ازخدمات', 'شورنمیدونم', 'عالیهههههههه', 'سیوس', 'برمیگشتم', 'نصفشو', 'ترافیکه', 'موجوی', 'راپیداکرد', 'قعطه', 'ناراضین', 'پدتای', 'بدردی', 'کانلا', 'علاقم', 'اعتمادمون', 'زنن', 'فلف', 'یسریها', 'اگسپرس', 'نمیزارید', 'وهمراش', 'رستودان', 'فرنگیاش', 'ججش', 'پنیز', 'کردنیه', '2روز', 'کمتره', 'اینکارم', 'افتزا', 'شیرمز', 'نونشو', '240', 'غذانسبت', 'بیشتردقت', 'چیزجابمونه', 'اسمل', 'سطوحactive', '1600', 'بودمخصوصا', 'کاماا', 'شدییییید', 'پسفرداش', 'پیتزای2نفر', 'خنیری', 'آبکیه', 'تعریفه', 'پنیرشو', 'باکفیت', 'حجمه', '28', '2050', 'چهاربارازاین', 'برگرشو', 'فرنگیخدا', 'اسانسور', 'ابرومندانه', 'نطظرم', 'میخوایین', 'درورده', 'هیار', 'خیلییییب', 'توظرف', 'عاااااالی', 'منزلمون', 'کیفست', 'خداهم', 'ابنکه', 'خشمزه', 'ارثشون', '50', '17', 'واقعاااااا', 'خوشگلن', 'nashodam', 'ترودسرخریدم', 'دمتوون', 'مشبی', 'دادتوضیحات', 'پولوش', 'واقعامناسب', 'سریییییییع', 'استخره', '50گرم', 'ورضایت', 'موندرو', 'عذاهایی', 'مرسیده', 'بودهمه', 'چوجه', 'وسریعتر', 'عیول', 'چقددددددرررر', 'زمینیاش', 'y0m0d96', 'ماهرتون', 'موادشون', 'افتضااح', 'طعمعالی', 'برخوردتون', 'زبونمون', 'باروژ', 'یفمری', 'نمیبینه', 'العادن', 'اگرجای', 'نمیکی', '4000000', 'شیرینیو', 'افتضاااااااااح', 'هستدکه', 'امادا', 'اندفه', 'وافلی', 'حیفشون', 'بودددددد', '6800میدید', 'میگرفتین', 'قراردادبودداخل', 'یکبارش', 'فکرمیکردم', 'همونایی', 'موادساندویچ', 'میفرسین', 'اکسپرسه', 'سفارشاست', 'نه40', 'هویچش', 'آشپزتونم', 'متریالی', '7عددی', 'چیزبرگرد', 'گرمو', 'تبولی', 'نزدیکمون', '2کیلو', 'عااااااااااااالی', 'چلوبرگ', 'تمااااام', 'هندونش', 'کارتونو', 'y0m4d15', 'پنیرپیتزای', 'اقعا', 'اناناس', 'نذاشتی', 'اکسپدس', 'بپ', 'دورچینش', 'بددددددترین', 'عااااااااااااالیه', 'پلاستیکاین', 'باهمه', 'ایلیو', 'همجاش', 'وتودانشگاهم', 'گنجدش', 'نامیا', 'سنیچ', 'بسیاااااار', 'برگردونده', 'بیسکوییته', 'کولوچه', 'نویسین', 'اتتخابم', 'زرددرجه', 'گوشتکوب', 'رسییییید', 'فناااااااااست', '6ماه', 'از57', 'درهاشون', 'نآن', 'دوغاتونم', 'غون', 'گرونتربود', 'اکوافینا', 'ببیندید', 'رااضی', 'گذشتست', '18دقیقه', 'شبیهه', 'چیزبرگرها', 'آنتایم', '400تومان', 'شمااکسپرس', 'خوشکه', 'نشونشون', 'سیبزمینی', '70٪', '341گرم', 'مدبب', 'ججم', 'لیمونادپاکتی', 'هرغذایی', 'ملاتحلالت', '5050', 'ملاته', 'دوبارش', '79', '850', 'بسیااااااررر', 'foode', 'شدتتت', 'رلت', 'خوبید', 'قطعااااا', '5600', '4دقیقه', 'بامنوی', 'زرورق', 'نبوددددم', 'مشما', '2عدد', 'تنوی', 'مقدارفقط', 'ولییییی', 'بیسکوپیچ', 'ساندیوچ', 'پرخورد', '4عدد', 'وعاالی', 'امدم', 'بدنیس', 'جلویه', 'شورررر', 'تخنه', 'مائالشعیرها', 'رولتا', 'اصلاارزش', 'سبارشم', 'پلیونی', 'چیزبرگری', 'نخوردین', 'یدونه', 'وبالای', 'مولفیکس', 'درستیه', 'پررررر', 'نتنستم', 'حودسر', 'بوداصلا', 'ریختیمش', 'ازجوجه', 'چورتسو', 'حغذا', 'حتمااااااااا', '700', 'حسه', 'خیلیاشو', 'tamiz', 'ذهنیتمون', 'آنلاینتون', 'عکساشم', 'خوراکیاتونو', 'باقلوابیشترازبقیه', 'گشنمهههههههه', 'داخلشه', 'سطحشو', 'ومیتونم', 'تردواندازه', 'مشتریو', 'ولیخیلی', 'ادرسو', 'رسژد', 'پرکنجدی', 'ترکونده', 'بهتز', 'تدیگی', 'خوووشگل', 'مدعیه', 'vaght', 'چیشده', 'کنندس', 'ماوپیگیری', 'موضوعو', 'نمرتون', 'اوودوز', 'پیتزاست', 'زعفرون', 'نشونمون', 'mrci', 'نمیارزه', 'ومرغ', 'میگیرفتم', 'اعلاالدین', 'خریدتون', '65دقیقه', '2ساله', 'مرغوبه', 'اینجاو', 'سفلرش', 'پیتزامیکس', 'سڀاس', 'میراشتینم', 'گاردینو', 'شوئینگر', 'ظاهرخوب', 'هاتونو', 'سااااااااعت', 'بارپیش', 'ومتنوع', 'میومدیم', 'میخاستمش', 'برنمیدارن', 'وپیروز', 'زدنشون', 'نظیرید', 'خشبو', 'نمیبره', 'وضعیته', 'خذفش', 'میخوریی', 'مسره', 'نیستا', 'ماام', 'بارهارو', 'انتظارتون', 'ذاریم', 'رنگامیزیه', 'حسابتون', 'شدیدااااااااااااااا', '4000تومنی', '14700', 'بولکیهای', 'غذاگرفتم', '189500ریال', 'جدیدام', 'سرداش', 'بستتون', 'توجهیه', '62', 'مخصی', 'سیخندان', 'بودتشکر', 'نزارید', 'ودیر', '150تا170گرم', 'اصلاااااااا', 'فندقاش', 'هممع', 'سردهم', 'بودمشخص', 'وفراتر', 'پیتزاشه', '750', 'زشتشون', 'بادمجانهاشو', '60٪که', 'یخخخخخخ', 'ذکرکرده', '4اسکوپ', 'هویح', '2700', 'بودشیرینی', 'همبرگرشو', 'بودنشه', 'کناراش', 'نظیییییر', 'عذاشون', 'دیگرپیتزا', 'ومعلوم', '39', 'یچی', 'روزیتون', 'زیادبرای', 'زیرصفر', 'دپموجود', 'افتضا', 'هماهنگیه', 'تازگیه', 'روفرستادین', 'ومخلفات', 'ایشاالله', 'عجبببب', 'هاهمه', 'راضیمون', 'گردرد', '7هزارتومان', 'پیتزاشون', 'نبوداشک', 'دوکیلو', 'گیاهخوارها', 'وبجاش', 'تاخیرررر', '6الی', 'مفایرت', 'فودمسئول', 'علاالدینم', 'عالیفقط', 'ماهشامتون', 'داغونی', 'کمنر', 'فوندانش', 'مهمونش', 'پیتزاخام', 'پرتفالی', 'ایرادراوابسته', 'baram', 'خانوادم', 'لودند', 'زیااااادی', 'پیجشون', 'کبابیا', 'تاییه', 'میتونس', 'براوردی', 'وحشناکی', 'سقیدهم', 'وباتشکرازسوپرمارکت', 'اقلام1000تومنی', 'طورمشهودی', 'همیشههه', 'رولتتون', 'امکاااان', 'قوروچ', 'فکرکردیم', 'همسایتون', 'ماسیده', 'فاصلمون', 'تقدیره', 'پابین', '15تا', 'تاغذا', 'زمینیشه', '26500', 'پیازمیداد', 'بودیت', 'بهداشتیه', 'نوتلای', 'باورتون', 'سوماق', 'افتض', 'زیادیشه', 'هدودن', 'سالادسزارشو', 'رقیقه', 'صورتشو', 'موجودشون', 'یچیز', 'یکنید', 'برمیگردنن', 'شیرنیم', 'دوبسته', 'بتدی', 'ارسالتون', '64', 'ماربرو', 'همچه', 'قوطه', 'کربسپی', 'پایدارباشید', 'اینجوریشو', 'وکج', 'بایدصورت', 'دوق', 'زیااااااااد', 'غیرتکراریست', '148', 'بودوبا', 'بودبهتریناروبراتون', 'ظزف', 'نامباسب', 'hatoon', 'بسیارخوبی', 'بخایم', 'طعکگم', 'نشانتون', 'سادویج', 'املتشون', 'neveshtin', 'وسایلو', 'اصلیشو', 'بوستاک', 'گوشنش', 'بیسکویته', 'آلفردوی', 'tarjih', 'فلفلشونو', 'جمعا11', 'عیدتون', 'مشهوده', 'عاااااااااالی', 'ازارسال', 'بادومش', '480', 'نبودخمیرش', 'مخصوصتون', 'غداشون', '5عدد', 'آلفروی', 'فسدفود', 'کارابونا', 'بددددددتتتتتتتر', '800', 'قبلشون', 'شیرازیرگر', 'رسیدممنون', 'اندفعه', 'قبلیا', 'جفتشو', 'باشرو', 'پیتزه', 'گشنتون', 'زیتنون', 'بنظرن', 'ورداشته', 'وغدا', 'سردبود', 'ساندویجش', '2خوراک', 'سنگسن', 'بارشون', 'حقیفتا', 'ادیروز', 'انجانغ', 'وخیلیییییی', 'پاقعا', '40سانت', 'غذاومخلفاتش', 'مصرفه', 'مقدارکوچک', 'فروختین', 'چوناکثرا', 'لنتظار', 'گاردینواین', 'خریداول', 'ولق', 'موهیتوش', 'میفرستین', 'همراهشون', 'کچیکتر', 'هیحان', 'زودزود', 'لتبانوفی', 'قبمت', 'نخورن', 'ناپذیره', 'اهتماد', '89000', 'شدددت', 'جیبشون', 'موندهبود', 'دهنمون', 'نافتون', 'بزرگشون', 'معنولی', 'وحجیم', 'خدی', 'جوجشون', 'توحیل', 'زنحیره', 'واقعاخرید', 'بااون', 'y0m0d10', 'نیورده', 'خوشمزی', 'لستیکی', 'مینویسین', 'سفارشامون', '2هزارتومن', 'خدانگهدارشما', 'دزخواست', 'کهبعداز', 'نبودزیرا', 'اسمو', 'رسیرگی', 'نیاورن', 'دوباکس', 'رابیشتر', 'دستمریزاد', 'قریبا', 'میدادین', '5دقیقه', 'مممنوووونممم', 'دخترمن', 'نمیخوایم', 'شدبزند', 'اردش', 'همیشتون', 'نیومدن', 'badesham', 'نیوردت', 'یاشون', 'نخوام', 'آوردنشون', 'زمینیو', 'وبیشترش', 'همبرگرتون', 'دوناتهای', 'بدوفود', 'مینوشتن', 'منتشکرم', 'تاطعم', 'وکالباس', 'بررگتری', 'توذوقم', 'ماشرومی', 'همونجور', 'راضم', 'سفارشارو', 'سوناپ', 'چندبارآخر', 'سیرخیلی', 'مکرد', 'مگفتند', 'عالییییییییییییییییییییییییییییییییییییییییییییییییییییی', 'سوپربرگرش', 'جدوی', 'بالاسسس', 'عااااالیی', 'هستو', 'پبتزاهاش', 'باردوم', 'نمیپ', '990109', 'سریعه', 'اونورتر', 'ممنوت', 'امیدمون', 'بدنون', 'نمیتونستم', 'ازیکی', 'سزاریه', 'سشش', 'بودگرفته', 'خیلیییییی', 'محصولمون', 'میکشین', 'فقطططط', 'همینکارو', 'چنگاالی', 'ابجو', 'لتفن', 'غذل', 'ظاهرشون', 'روگنان', 'اووکادو', 'همراشم', 'پییزاتون', 'نونتون', 'کالباساش', 'سالاد32', 'بروسکتای', 'بیشتربشه', 'همچیز', 'خیابونی', 'خیبی', 'تچکر', 'زوخم', 'میاوردند', 'رولبیا', 'مرتبس', 'حمینی', 'انقددددددرررر', 'وپیتزاهاش', 'سرداه', '1ساعت', 'ارزیدو', 'گلاااااااب', 'نصبتا', 'علتشو', 'دهندشون', 'varaftegi', 'هربرکت', 'بشششششدت', 'خوباسو', 'واقعانکه', 'بهشونم', 'ومتشکر', 'ایشااله', 'اخذمیشود', 'رسیپد', 'خورمش', 'وخوردن', 'امروزرنبوده', 'رسبد', 'ادرسم', 'جووکشمش', 'شیرینیشونم', 'باکیفیتتون', 'نداشتنثم', 'مینمودن', 'سفاراشات', 'ازتاخیر', 'بیشترب', 'تعریفشو', '930گرم', 'اسونه', 'آفرها', 'هاخیلی', 'چزخ', 'نباشن', 'مادرمم', 'چیکنشم', 'وباتاخیررسید', 'ودایمی', 'ندشت', 'هرکیلو', 'وسپاسگزارم', 'خیلییییییییییییییییییییییییییی', 'قارچتون', 'mishea', 'لابار', 'همبرگز', '400گرمه', 'هدداگ', 'معموووولیه', 'اشتهامونو', 'خیسونده', 'دیزاینشم', 'شائ', 'ناگتی', 'نوصابه', 'خوباس', 'کوبیدش', 'ماوالتفاوت', 'نانهاشون', 'درخونه', 'نیارین', 'غرذا', 'بییه', '97', 'نچسبه', 'شولولات', 'sard', '90دردصد', 'دسرشکلاتی', 'سویئسی', 'فرستادیییین', 'ساعت16', 'مظرم', 'میریزن', 'فکنم', 'y0m600d4', 'مزیه', 'bazam', 'y0m12d2019', 'لواشو', 'غدارو', 'مانزدیک', '915', 'افتضاخ', 'بابرج', 'بامید', 'بسیاربدی', 'بالانمیاره', 'رستورانهاییه', 'مااالیات', 'ممنووووونم', 'مزش', '2هزارتومان', 'سالهاس', 'یککم', 'باهامون', 'باپنیرسفارش', 'دردنکندهمه', 'اصا', 'کوچیکن', 'منوهمکارم', 'اندازهو', 'منوبزارن', 'جآیگزین', 'کالسنتر', 'خییلییی', 'والباقی', 'برخرد', 'رایط', 'وپاسخگو', 'عذارسید', 'عالیع', 'تاسفففففففف', 'دلستری', 'بیسکوییتای', 'فرومیرن', 'زیرنیم', 'خیارشورشو', 'وگفتند', 'نظربنده', 'هورسان', '45هزار', 'بعدازپیگیری', 'کوچییک', 'بودبرنجش', 'نفرمون', 'همکارمون', 'نگهدارن', 'نمیدمممم', 'بمونید', 'بوددددددد', 'برخورداربود', 'نموره', 'میگفتن', 'کپچک', 'عکسارو', 'هییییییچی', '2000تومن', 'باسینه', 'فاهش', 'بدوق', 'زیااد', 'کرونه', 'عااااااااااالی', '300', 'تومنو', 'تاداز', 'موندگار', 'مذخرف', 'آلفردوش', 'خمبر', 'بارکیو', 'خوشبرخوردتون', 'ازاول', 'گرونید', 'معروفیه', 'جنسایی', '40درصدی', 'شپاس', 'ازهمیشه', 'واقعاکوچیک', 'برگردونبد', 'شناستون', 'همهچیش', 'عکسشه', 'دورتره', 'پیتزامون', 'سیربیش', 'دهنشون', '30ساعت', 'باهالیه', 'عذلی', 'دفعاد', 'واااااای', 'مقایرت', 'انباشنه', 'ریتوران', 'چبپس', 'تغیرر', '45390', '؟؟؟؟؟؟؟؟؟', 'خیارشورای', 'بودروش', 'هاتداگم', 'مرغشون', 'اصلاتوصیه', 'میخره', 'نعلوم', 'بودتبریک', 'بشینی', 'ورفتارشون', 'برگرهاتون', 'وخدا', 'ومونده', 'باقیشم', 'خرماتون', 'ذاعقه', 'همیشگیتونم', 'وبروبیای', 'تکدانه', 'امازمانی', 'دامستون', 'کوچیکم', 'تددشتم', 'بستبه', 'بذارند', 'دوتاکاهو', 'برنجا', '4500', 'سرآشپزتون', 'لاآب', 'تاخییر', 'ایکنه', 'مسیردار', 'یاهمون', 'دومدلی', 'اشتهت', 'فتادوشه', 'موندش', 'باتاخیر', 'بریزمش', 'خییییییییییلی', 'y0m0d17', 'هییچ', 'سلااام', 'دادنو', 'ازکیفیتتون', 'زیاااااااد', 'اسنج', 'توضاحاتش', 'مهمونهامون', 'خوردس', 'موندگیه', 'همیشگیو', 'استخون', '8عدد', 'غیرمنطقیه', 'خیلییییییییییییی', 'جندعدد', 'بندیشون', 'مالشعیر', 'سوخاریتونم', 'آلپارو', 'مهمهان', 'بفل', 'هستییید', 'اداشو', '5000', 'میشناسه', 'اولتون', 'بالاببرین', 'شدچ', 'میخرن', 'خرابو', 'واسنپ', 'اکباتانه', 'بادوژ', 'باژور', 'سوخاریهاشون', 'y5m6d98', 'پلاچنتا', 'پنیریه', 'اندازشون', 'نامناسبیه', 'کدوما', 'دامستوس', 'رسوندنشون', 'سخوته', 'تکلیفشو', 'باتاییدمارک', 'روتادوروز', 'چیزاتون', 'فلندر', 'پیگیریشون', 'ولی٥عدد', 'گشنمونه', 'maah', 'الومینومی', 'درصدخیلی', 'نمیدادواقعا', 'حسابیه', 'عااالیی', 'ساعت12', 'nadasht', 'مواردازپیک', 'جاتون', 'لاستیکیه', 'مخلفاات', 'خوشحالتون', 'تفاورت', 'ممنونازینکه', 'میوها', 'بوددد', 'لاپلو', 'نشدنیه', 'چیکین', 'y0m12d21', 'پیتزابه', 'میفتی', 'ازغذا', 'پیکشونم', 'بادمجان63', 'مارگاریتایی', 'نمیخوند', 'هزااار', 'متاسم', 'میخونینشون', 'غداهاشون', 'باتشکرازشمابه', 'مبداد', 'پرملاط', 'ذاغ', 'اخرینشم', 'خمیرشو', 'ساندویژ', 'اینهفته', 'میاونم', 'کیفیتو', 'پرپاخت', 'کالزرون', 'شدوکیفیت', 'یدنیا', 'وجیتاس', 'رلتی', 'سردددد', 'نمونی', 'خدماتشون', 'چامین', 'همبرگرخوب', '1کیلومتری', 'برگردونین', 'نمیرسین', 'آوردیدمن', '9٥٪', 'سپپاس', '؟؟؟؟؟؟؟؟؟؟', 'اسلایسش', 'نریزین', 'پنیراش', 'گذاشتینم', 'زمینیشون', 'پائینه', 'وبالطبع', '37تحویل', 'به100تومن', '220گرمی', 'چخبره', 'ساعت11', 'وآبدار', 'خوشمزززززه', 'ازاطراف', 'وامتیاز', 'انتقادیا', 'آسونه', 'وجاهایی', 'استثنائ', 'دندونت', 'نمیکردن', 'بووووووود', 'اومدین', 'دوسخ', 'برنددیگه', 'recd', 'نوشتالژیکشو', 'اسسسنپ', 'برشارو', 'صلا', '70000', 'ازدواجمون', 'فوقع', '1سس', 'بودهیکی', 'زمانبندیش', 'سفارشتو', 'زندگیشون', 'خجالته', 'مریزادنانشان', 'بودممممم', 'y0m10d30', 'ندازن', 'مزخرفه', 'بسیاررررر', 'بیسکودایت', 'بادرنظر', 'شیریناتون', '4400به', 'رسانیشون', 'فلیمر', 'میتواتید', '22', 'سفارشاتشون', 'یکیاز', 'هاداخل', 'وبنظر', 'واقعااسنپ', '95', 'آپارتمانمون', 'فگر', 'بهدهمیشه', 'تنوریشون', 'استتتتتت', 'تمجدید', 'برنامتون', 'مادرمون', 'محسابه', 'بستنیام', '64هزار', 'اومدد', 'فوود', 'ذایقه', 'طفم', '20امیه', '333333', '270', 'خشمززع', 'پول2تا', '٥تا', '900گرم', '4عددبود', 'بسیارنامنظم', 'مناشب', 'شمورد', '23هزار', 'ابنقدر', 'شنیستل', 'الوئه', 'کوکینی', 'میشکنه', 'بکارمیبرندهم', 'pitzza', 'بزنبد', 'بسیاااار', 'وووووووووو', 'گغتن', 'کاراشون', 'چیزارو', 'عددشون', 'باروژیم', 'نگمممم', 'اخرت', 'هنچین', 'استریپسی', '17600', 'چکارش', '3میدم', 'باتربیت', 'منطورشه', 'نزنن', 'نگوووو', 'واقعاا', 'فووووول', 'میادش', 'سرزمان', 'رستوارن', 'ازتونبهترینید', '4ستاره', 'نظمیو', 'مللتش', 'بعدهمه', 'بودحیف', 'ماستیده', 'ناژه', 'نگهداریشون', 'وفادارباشه', 'میزارن', 'لینتر', 'میزاشتین', '12500', 'ابرورفتن', 'العااااده', 'عکسشو', 'میریختن', 'سوخاریتون', 'سالاداتون', 'پیتژا', 'جانیفتاده', 'نذاشتند', 'مهمتراینکه', 'تحویلدادن', 'ندشتن', 'پشمون', 'ایتیک', 'ایولا', 'balast', '57', 'انتخابمه', '81', 'آیتماست', '282828بودیعنی', 'کفیف', 'مخه', '27000هزار', 'دردمون', 'yumm', 'آلفردوچیز', 'اسوده', 'وقیمتش', 'شکلاتیه', '70دقیقه', 'کمتربود', 'حوب', 'هزینشو', 'وبرگر', 'مغازشو', 'ازشکلش', 'بعیید', '180', 'نبور', 'سبزیه', 'بلوچیز', 'استریپسشم', 'عملشون', 'فلافلی', 'ارایشی', 'نمرشون', 'نسفش', 'دهندهیه', 'پزگیری', 'رستورلن', 'اوناخیلی', 'کتجد', 'تاخبر', 'محصولاتشونو', 'قانونیه', 'خوشمزگیشو', 'شپا', 'رغیق', 'دیتزا', 'خونگیه', 'تحویلگیرنده', '600', 'سورار', 'بایدبره', 'همینجاها', 'دونوعش', 'ترشتون', 'ادسییم', 'میرسونید', 'نمیذارن', 'اصصلا', 'ضمناتقاضای', '75000', 'نرررررم', 'آبلبموئی', 'ندیدمش', 'تحوبیل', 'گنند', 'لانجین', 'متحویات', 'مالیاته', 'ترباشه', 'اسیبی', 'منفیه', 'شماااااا', 'نمیخاد', 'تیتپ', 'شکلو', 'اینوریه', 'حلالتون', 'فرستادیدحتی', 'بودبقیه', 'نمیشی', '519', 'میدادولی', 'ازنمک', '90', 'باگتا', '12000', 'باگتو', 'تشکرمیکنیم', 'یاجابجا', 'واقعازیاده', '535', 'کرافشم', 'اوردش', 'تونستین', 'باقاشق', 'آلعاده', 'درشو', 'رسیذ', 'میخورن', 'وموندگی', '4ساعت', 'رستورانشون', 'وطعمش', 'دونسته', 'دبگه', 'تنددیده', 'شویدخشک', 'اینمه', 'شماازشعبه', 'hazineye', '9', 'آشپزه', 'زمیتی', 'سسسسس', 'العاهده', 'مزدیک', 'تقریا', 'عط', 'نامحترمابه', 'ژیک', 'درصده', 'شددددددت', 'رمضونتون', 'وققتون', 'ازلیست', 'برگراتور', 'زندگیمو', 'ازنظرتازگی', 'برسونن', 'میخاید', 'نمیگیرن', 'کوکلوچه', '6تا', 'مقواشو', 'چرررررررب', 'خریدهامون', '2ماه', 'پیکیری', 'العااااااااده', 'پپرونیشه', 'مممنون', '2مورد', 'صافا', 'میگوتون', 'هردوتاشو', 'پاسخگوباشید', 'برانیتون', 'کوچولوعه', 'هنگا', 'عاااالیه', '14عدد', 'نقصه', '1تکه', 'نگذره', 'فودا', 'خواهشمنداست', '2به', 'مزززه', 'وموادش', 'آوردهاعصابم', 'جنساتونم', 'سزخ', 'شویدش', 'انصافه', 'ارزونترش', 'خوشمزززززززه', 'پیگیریاشون', 'طعمهاشو', 'وخشکه', 'نمیخونید', 'ومتشخص', 'گذاشتتد', 'پسرخوب', 'تتگ', 'ومیاورید', 'وکیم', 'کارمندامون', 'ضررکنه', 'امتیازاتیس', 'هایداست', 'شیرینب', 'نمیاوردن', '2نفر', 'شیرمانده', 'وشمانون', 'کوفتمون', 'نمیتونست', 'خوبهفقط', 'feshordeh', 'بلسپاس', 'نبودنشو', 'کوچست', 'کسید', 'ارزومندم', 'سوچیک', 'تشکروسپاس', '9900', 'خاطراین', 'بدردنخورد', 'فرستدین', 'قت', 'بریزیدو', 'ممننون', 'بوگیری', 'دروکنجدی', 'تعیییر', 'نمیشههههه', 'فقط3تیکه', 'بوووووووود', 'باسفارشات', 'کیکشون', '550گرمی', 'ساندویچایی', 'بودمثل', 'فاکتر', 'اولویه', 'نودلش', 'تاچیز', 'میگردوندم', 'رقمه', 'اسلایسه', 'کدتخفیف', 'مرتبو', 'میرسونند', 'نباشیدظمنااززحمات', 'وعطر', 'سبیزیجاتش', 'انقدرمونده', 'وقارچ', 'روداخل', 'بچسبن', 'ظرفو', 'نذارین', 'بود9', 'میاری', 'درخشانتون', 'مدیرییتی', 'گرونیها', 'سفارشاتمون', 'فیلابرگر', 'رسمااااااااااا', 'لوبیاست', 'ازسرعت', 'نزارند', 'ناراض', 'دراکثرمواقع', 'سبزجات', 'آلبالوئه', 'سبزیا', 'تلاشتون', 'غذ', 'غداهاتون', 'تلبکار', 'ادبو', 'بحثه', 'ترتون', 'نبودکدوم', 'مسئوله', 'تاخیییییر', 'اسلایسایی', 'برای2', 'سلدم', 'جدیدن', 'پیروک', 'تحوبل', 'وحشتنااااااک', 'کبابشو', 'میشدمرجوع', 'شیرازبرگر', 'کرانچیک', 'بسیارسپاسگزارم', 'بشاملش', 'اوکیک', 'سفانه', 'رفتارپیکم', 'دقیقههههه', 'امااااااا', 'شیلام', 'nooshe', 'توسالاد', 'فوذ', 'خوبدپخته', 'هامطابق', 'خییلی', 'سورپریز', 'ازشب', 'چیپلت', '9500تومن', 'التوفیق', 'اگرحداقل', 'بادمجونا', 'وشماسیب', 'پیتزا500', 'کانفرم', 'غذه', 'محبوبیتتون', 'شبمو', 'دلیورش', '2000لیتری', 'غذار', 'بودانقدرجحمش', 'سانداویچ', 'ذاشتند', '2سیب', 'عاللی', 'داگهایی', 'برایه', '2بار', 'مجموعشونو', 'قیمته', 'سردسرد', 'تعصف', 'چسز', 'ازپیتزا', 'خییییییییلیییییییییی', 'باورمون', 'جوجش', 'اینقدسردبود', 'ازوقت', 'خوشمزست', 'روعن', '11400', '1300گرم', 'نمیتونسیم', 'مقدارزیادغذا', 'بودطمع', 'هرزمانی', 'کیفیتفست', 'دوتاخواسته', 'سریعممنون', 'ویژس', 'ماهیه', 'حضدار', '5200', 'همیییییشه', 'غیرحضوریتون', '3نفر', 'اصصصصلا', 'وحالموبدکرد', 'ظعم', 'تکراربشه', 'نسد', 'نمیگذره', 'کاربلدش', 'ویامین', '1ربع', 'فودهاست', 'سفارشاشون', 'ودلبازی', '3بار', 'ویبژه', 'مرسییییی', 'شدتارت', 'بینظیره', 'چرااااا', 'پریروزه', 'خوایم', 'ازتوون', 'باخیال', 'مرغ18مهرماه', 'معذرتخواهی', '430گرم', 'میتونستیم', 'وآلبالو', 'ازهایداوپشتیبانی', 'جوییده', 'دایمتون', 'کنبم', 'hajm', 'حواسو', 'سالادهاشو', 'کاتلری', 'وشصوح', 'نذاشته', 'مینویسن', 'خیای', 'نونهاتون', 'نکردننیم', 'ببنین', 'واااااااقعا', 'خونوادگی', 'چیزکیکتون', 'انجیرخشک', 'hamishe', 'میرنه', 'اماااااا', 'سردددددددددد', 'بودباکلی', 'چیووو', '1قلم', '6تاییی', 'تنهاامشب', 'نمیپذیره', 'دسمال', 'برعکسه', 'دستمه', 'خوووب', '15سفارش', 'عصبانیو', 'رئ', 'فرستادناعلام', 'درستو', 'وماوج', 'مسنه', 'چلوبرگی', 'افتضاحتون', 'پیتذا', 'معمووووول', 'میشکنن', 'سیبزمینیا', 'صمممممممیمانه', 'زودهم', 'دودیه', 'یچیزیش', 'بارخرید', 'برنجتو', '1000گرم', 'دقتشون', 'رستورع', 'اصلاتازه', 'پلوشو', 'باشیرموز', 'لطفاپیگیری', 'خونید', '2بند', 'فسنجونی', 'ترینشو', 'میذاشت', 'بعدفریز', 'نیدن', 'دوروزه', 'فیلرو', 'نزدیکس', '800گرم', 'داغوننن', '24950', 'پیتزاعالیییی', 'نذاشتین', 'ااب', '63840', 'نبوو', '34000', 'تهچین', 'تحربه', 'گوسفندیه', 'نداششششت', 'چیزفودم', 'بادمجونم', 'نزارن', 'میپرسه', 'سبوسدارش', '12و50', 'متسکرم', 'عملتون', 'قازچ', 'ایتالیی', 'شانستون', 'وپشیمون', 'محشرن', 'تشکره', 'سورپریزمون', 'ریخیتیم', 'واااااقعا', 'خالا', 'خریدمو', 'شمادستمال', 'البالوهاش', 'دستما', 'بودوپاستاهم', 'باوضعیت', 'نارگل', 'موادپیتزا', 'هزارتومانی', 'فقلدع', '1یک', '460', 'برتولیش', 'بدمزش', 'میرزاقاسمیتون', 'بیسکومن', 'فوردو', 'نانشون', '11000تومن', 'میزارند', '20تا', 'بهترازاین', 'تافن', 'دستتونه', 'ساسپگزارم', 'سختیه', 'باسبزیجات', 'بدددد', 'منابعتون', 'سابقشون', 'ایرادیو', 'درمیون', 'زحم', 'نونیه', 'اسپرایس', '24', 'دیزیش', 'بکد', '170گرم', 'مارکتهایی', 'غیرمعقوله', 'رستواران', 'بودشاید6تا', 'میزاشتند', 'نرغ', 'برگراش', '115', 'د6د', 'ریختمشون', 'دیقیه', 'اصلاتنوع', 'عطروطعم', 'چانوتونم', '60بود', 'فودهو', 'دقاقا', 'مارکتم', 'رفتاریه', 'گرونی', 'زندگیمون', 'ایتالیلییافتضاح', 'زمینیاتون', 'دقتن', '19900', 'فووود', 'بهترینهاست', '77000', 'ازشعبه', 'فتضاح', 'دآورد', 'استخونه', 'ابغوره', 'گوشتاش', 'چیاز', 'خشککککککک', 'هتقل', 'پولشه', 'عاللللللی', 'تاخیرهاتون', 'ناپلئوخی', 'قشنگتون', 'عهای', 'مالیاتشونم', 'روکششو', 'میشستین', 'میدادمن', 'بنوشن', 'حنس', 'برنگرداندن', 'بعضیاشون', 'انجاییکه', 'اماخوشمزست', 'ابمیوه', 'پتیزاشو', 'جااب', '2تومنه', 'پودرسیر', 'کنیدسپاسگزارم', 'سبوسدار', 'گرونتره', 'نوشابهطرد', 'سپاااااس', 'هزارجزیره', 'لعنتتون', 'غضرف', 'کاهورو', 'نیستسد', 'همبشه', 'زسید', 'میرنن', 'limoyi', 'نریزن', 'فلفله', 'سبزیجاتایی', 'کالباسشو', 'بزرگتره', 'بودبانون', 'محبتتون', 'برارزش', 'حابه', 'khob', 'ایشونم', 'چیپی', 'یابل', 'مارگاریتاهای', 'پیتزامخلوطش', 'دورچینشم', 'مدلیه', 'سوپراش', 'ازخوابگاه', 'بیسکوییتی', 'میرنم', 'عاقا', 'افتضاااح', 'تزئئن', 'بطفا', 'منطفی', 'کسبتون', 'دهیه', 'کیترینگ', 'سالادشون', 'ومشتری', 'قشق', 'زدنیه', 'زودخیلی', 'مناسبو', 'خیییلیییی', 'زیرشو', 'عالیییییییههههه', 'براتونننن', 'چیزاش', 'نننننننپپپپپپخخخختتتهههههه', 'باربیکو', '8تا', '10روز', 'نظیرر', 'ازبدترین', 'پیچونده', 'نمیمونه', 'خوشمزن', 'مححححشر', 'کنجدو', 'موقعه', 'ازینحا', 'نفردوست', 'میذاشتین', 'بسیاررررررر', 'مریزا', 'مزخ', '20روز', 'بااستخوان', 'خووووووب', 'مچکریم', 'مشمای', 'پوستشو', 'جوابگوئی', 'ریحونای', 'تومنطقه', 'اونوخ', 'گاهوهاش', '1400', 'امروژ', 'خریدا', 'بسیییییییییییییییییییییییییییییییییییار', 'بیشترازهمه', 'رسورانها', 'داگهای', 'شلقلمکار', 'قائلن', 'خوریدم', 'نوشبیع', 'زیتوناش', 'قیپت', 'طلبکارن', 'هزینش', 'قعطا', 'کجاس', 'واقعاسرگردنه', 'رسیدگیتون', 'اونام', 'ندند', 'دااااااااره', '7900', 'دمتونم', 'واستاده', 'میفروشین', 'هستتتم', 'اجناستون', 'افتضاااااااااااح', 'رافونه', 'درقطعات', 'بخورمو', 'نامتناسبه', 'ازمدل', 'قدیمیو', 'جلوب', 'فثط', 'جعفریاش', 'باگد', 'عذرخواهیو', 'پیتزادر', 'خساستشون', 'لصلا', 'زیییییاااااادددددههههه', 'آیااااااا', 'خوشکل', 'طمش', '18تومنی', 'رلیگان', 'بیسکوییتا', 'بمزه', 'چندساعتی', 'کیشگا', 'مستدادم', 'وقاطی', 'بایدباشه', 'مقصره', 'عاال', 'نیودم', 'میخابونه', 'رسیدولی', '3تا4سانت', 'چیبس', 'ابروتون', 'بستنیا', 'غذاهاست', 'برعکسشه', 'هرچقد', 'میرفتن', 'جوپرک', 'مشمبا', 'حعبه', 'طالی', 'ومواداولیه', 'شدددتتت', 'نبودوهمونجوری', 'زیریک', 'آیاغذابایدیخ', 'داغونه', '3قلم', 'سزارتون', 'اثلا', 'awli', 'شیشه6300تومان', 'ریختمش', 'اونجاییکه', 'حدود50', 'تمییزو', 'سورخ', 'مرکزتماس', 'دستگاهمون', 'y0m1d3', 'هویجه', 'و8و50دقیقه', 'داخلدبرگر', 'کاریشون', 'روبخونن', 'آدرستون', 'خدار', 'چون4تکه', 'آبرمون', 'کلللی', 'وبلافاصله', 'آلوورا', 'مااولین', 'شیرماله', 'زیادرس', '4تومن', '2دقیقه', 'کترینگم', 'واقعاپشیمون', 'فرستاندند', 'بادشون', 'بیشترکنه', 'بوووو', 'ودرکوتاه', 'زیباتون', 'ننویسه', 'تاسبس', 'وگوشت', 'رستاده', 'عمرتون', 'سوسیساش', 'ضیعف', 'فیمه', 'نلچار', 'نکردنیه', 'ولی45دقیقه', 'نیوفته', 'منتوس', 'زحمتتون', 'استخوانا', 'الفردوش', 'بربزی', 'حظوری', 'ارساا', 'بدمزززه', 'پاکتشون', 'برگرهاشون', 'کیفیتوپیتزا', 'نقدا', 'وباسرعت', 'خیلییییییب', 'انقضاشون', 'دونشو', 'انگیزتری', 'ژامبونششش', 'ناپلئنی', 'گذاسته', 'پرتوقع', 'بریزیمش', 'برگردین', 'درجائیکه', 'انداشت', 'یکربع', 'شخصیتتون', 'قیمتیه', 'پنیرپروچیز', 'باتشکرازمدیریت', '4٥00', 'داماک', 'پیتزاهاشون', 'خیارشورهای', '810', 'برندتون', 'اشپزیم', 'تروخدا', 'شدبرام', 'میتونستید', 'پنیرلبنه', 'کاریاس', 'باروژو', 'برایشما', 'زیادبود', 'مناسفانه', 'بوداا', '47', 'وبود', 'لینوشیرین', 'سفارشمونو', 'غذابود', 'گردوهم', '59', 'میفروختن', 'y0m8d1', 'هستندادر', 'کینوا', 'وتحویل', '20رسیده', 'شکرشون', 'ooni', 'اینهنه', 'کیکاش', 'افتصاح', 'فداسرتون', 'آرنیکا', '35000هزارتومن', 'باروژتون', 'یکیفت', 'وچیکن', 'بودفقط', 'روووو', 'لوکیشنمون', 'فودیای', '31900هزار', 'تزکی', 'روزمین', 'پنیرکبابی', 'نشکنه', 'وشکلاتی', 'کاممون', 'بندریه', 'رسیدتحویل', 'دندونم', 'نرسوند', 'داشتمش', 'بزارمش', '4بستنی', 'اولالاست', 'اشنپ', 'کردیددیگه', 'hafte', 'اگپرس', 'ازماهک', 'شلختگی', 'اگرواقعاخواهان', 'بریونش', 'وضعیه', 'سووپرمارکت', 'غداهای', 'هرینرو', 'غذاخوب', 'وحتما', 'اینشالا', 'ببرمش', 'کردنا', 'اخرم', 'جنسشون', 'قرارمون', 'زیزاش', 'حلیماشون', 'برگراشون', 'فوداتون', 'فانتاااااااا', 'پروپرک', 'انداخنتد', 'نخورین', 'نبودوقتی', 'پوژنگ', 'مرسسسسسسی', 'داغوناشو', 'بارچندمه', 'گذشاته', 'اوکیه', 'سمارتیز', 'بودبی', 'پارمیدابدباشه', 'بسیااااررر', 'بووو', 'قاتوق', 'مهمونای', 'مایونزه', 'midam', 'سبستم', 'استخوانه', 'غذاتووووووووووووووووون', 'شهدداشت', 'چندمهاین', 'میخورین', '900', 'غذاهاتونو', 'وقتمو', 'آرسام', 'رستوراندارهای', 'دستتنم', 'نتوستیم', 'تامرغوب', 'وبچه', 'دازید', 'کوچیکتد', 'پسرونه', 'میگیرنند', 'دشده', 'العاددددده', 'نگووووو', 'بانمکه', 'مرررسی', 'نمکنم', 'آضافه', 'العادس', 'اپارتمان', 'ترررد', 'استیریپس', 'میرزید', 'املته', '450000', 'ودخترانه', 'ارزششون', 'قارچشه', 'ذرشکای', 'نارنجشون', 'تجویل', '1200گرم', 'پیازتوی', 'یکلام', 'مررررسی', 'roletha', 'خیییییلیی', 'garma', 'نیوردم', 'مصرفیتون', 'اینقده', 'کبابتون', 'اسمارتیزای', 'پاطی', 'پیسنهادات', 'نمیمد', 'سرکباب', 'زمینیه', 'بستنیو', '4٥دقیقه', 'پیتزادخشک', 'بگذیرم', 'ککنجد', 'بینظیرند', 'آبدوخیار', 'چیزدرحد', 'مخاستم', 'بندبثی', 'باسند', 'اصافا', 'عالیتون', 'نمیومد', 'توسایزپیتزاها', 'هرنوبت', 'gharch', 'اجق', 'پرخاشخاش', 'بودپیتزار', 'پیتزارو', 'پیکهانون', 'متریالتون', 'فریزرو', 'گذراد', 'بروجکن', 'میدارین', 'پارمژان', 'ذارن', 'چاباتا', 'تزییتش', 'بچسبه', 'باقیمت', 'اسلایسی', '12شب', 'غذاتونم', 'و4تکه', 'ارسالی24سانتی', 'y0m6d31', 'تاکویی', 'وایمیسته', 'انداختنه', 'خااااامه', 'نهکم', 'امتیازتونو', 'دیزیاشونم', 'زجبیلی', 'بسیاررعالی', 'متاسفانه200گرم', 'عملکردشون', 'وساندویچ', '8ساله', 'قبلو', 'مائالشعیر', 'ترششششش', 'عکستون', 'منجمدبی', 'پیشنهادنمیکنم', 'چکوندم', 'ولذیذبود', 'مزس', 'اینبار5دقیقه', 'یکجوری', 'دااغ', 'نظرمو', '800تومن', 'راضیهستم', 'مهمونامون', 'قیمتاشون', 'دستشن', 'پیتزابسیار', 'میچیدین', 'دیربرسه', 'جوجشو', 'ماسکارپ', 'وااقعا', 'بادوک', 'دهدنه', 'بادمجونهای', 'وگنه', 'حواستونو', 'کالبلسشم', 'وایساد', 'بوددددددددددددددددددددددددددددددددددددددددددددددد', 'تخفیفاتی', 'بخورن', 'هیییییچچچچ', 'اماسس', '629', '20سانت', 'اعصابه', 'شماااا'}\n"
          ]
        }
      ]
    },
    {
      "cell_type": "markdown",
      "source": [
        "###get model"
      ],
      "metadata": {
        "id": "cfsuOarKw894"
      }
    },
    {
      "cell_type": "code",
      "source": [
        "\n",
        "def get_model_fasttext(embedding_matrix, word_index_len, embed_dim, max_len, save_model_path):\n",
        "    \"\"\"\n",
        "    load model if exists else create a model and return compiled model\n",
        "    \"\"\"\n",
        "    if os.path.exists(save_model_path):\n",
        "        model = tf.keras.models.load_model(save_model_path)\n",
        "        return model, False\n",
        "    \n",
        "    else:\n",
        "      input_layer = Input(shape=(max_len,), dtype='int32')\n",
        "      embedding_layer = Embedding(word_index_len + 1,\n",
        "                                  embed_dim,\n",
        "                                  weights=[embedding_matrix],\n",
        "                                  input_length=max_len,\n",
        "                                  trainable=True, \n",
        "                                  mask_zero=True)\n",
        "      embedded_sequences = embedding_layer(input_layer)\n",
        "      x = Dropout(0.6)(embedded_sequences)\n",
        "      x = Conv1D(32, 3, activation='relu')(embedded_sequences)\n",
        "      x = MaxPooling1D(2)(x)\n",
        "      x = Dropout(0.5)(x)\n",
        "      x = LSTM(16)(x)\n",
        "      x = Dropout(0.5)(x)\n",
        "      preds = Dense(1, activation='sigmoid')(x)\n",
        "\n",
        "      model = Model(input_layer, preds)\n",
        "      model.compile(loss=\"binary_crossentropy\",\n",
        "                    optimizer='adam',\n",
        "                    metrics=['accuracy'])\n",
        "      return model, True"
      ],
      "metadata": {
        "id": "z9sOCDFrLQIZ"
      },
      "execution_count": 43,
      "outputs": []
    },
    {
      "cell_type": "code",
      "source": [
        "save_model_path = \"/content/drive/MyDrive/snappfood_comment/fasttext_model.h5\"\n",
        "model, need_train = get_model_fasttext(embedding_matrix, len(word_index), embed_dim, max_len, save_model_path)"
      ],
      "metadata": {
        "id": "N8gzmhCOwE6J"
      },
      "execution_count": 44,
      "outputs": []
    },
    {
      "cell_type": "code",
      "source": [
        "model.summary()"
      ],
      "metadata": {
        "colab": {
          "base_uri": "https://localhost:8080/"
        },
        "id": "TQ63HDzdw30P",
        "outputId": "ea60ff3b-9f86-42d3-b1ff-e223c4b074d0"
      },
      "execution_count": 45,
      "outputs": [
        {
          "output_type": "stream",
          "name": "stdout",
          "text": [
            "Model: \"model_3\"\n",
            "_________________________________________________________________\n",
            " Layer (type)                Output Shape              Param #   \n",
            "=================================================================\n",
            " input_4 (InputLayer)        [(None, 128)]             0         \n",
            "                                                                 \n",
            " embedding_3 (Embedding)     (None, 128, 300)          7620000   \n",
            "                                                                 \n",
            " conv1d_3 (Conv1D)           (None, 126, 32)           28832     \n",
            "                                                                 \n",
            " max_pooling1d_3 (MaxPooling  (None, 63, 32)           0         \n",
            " 1D)                                                             \n",
            "                                                                 \n",
            " dropout_10 (Dropout)        (None, 63, 32)            0         \n",
            "                                                                 \n",
            " lstm_3 (LSTM)               (None, 16)                3136      \n",
            "                                                                 \n",
            " dropout_11 (Dropout)        (None, 16)                0         \n",
            "                                                                 \n",
            " dense_3 (Dense)             (None, 1)                 17        \n",
            "                                                                 \n",
            "=================================================================\n",
            "Total params: 7,651,985\n",
            "Trainable params: 7,651,985\n",
            "Non-trainable params: 0\n",
            "_________________________________________________________________\n"
          ]
        }
      ]
    },
    {
      "cell_type": "markdown",
      "source": [
        "###train model"
      ],
      "metadata": {
        "id": "WCZZZVZ8rhcW"
      }
    },
    {
      "cell_type": "code",
      "source": [
        "if need_train:\n",
        "    history = model.fit(train_data, train_df.label_id, epochs=50, \n",
        "                        validation_data=(validation_data, validation_df.label_id),\n",
        "                        callbacks=[tf.keras.callbacks.EarlyStopping(monitor='val_loss', mode='min', patience=1)])\n",
        "    model.save(save_model_path)"
      ],
      "metadata": {
        "colab": {
          "base_uri": "https://localhost:8080/"
        },
        "id": "GHlhvsnkbSKa",
        "outputId": "42a81656-3d40-435b-fe39-0be6e739590d"
      },
      "execution_count": 46,
      "outputs": [
        {
          "output_type": "stream",
          "name": "stdout",
          "text": [
            "Epoch 1/50\n",
            "1772/1772 [==============================] - 257s 144ms/step - loss: 0.4005 - accuracy: 0.8317 - val_loss: 0.3391 - val_accuracy: 0.8594\n",
            "Epoch 2/50\n",
            "1772/1772 [==============================] - 255s 144ms/step - loss: 0.3313 - accuracy: 0.8683 - val_loss: 0.3324 - val_accuracy: 0.8587\n",
            "Epoch 3/50\n",
            "1772/1772 [==============================] - 252s 142ms/step - loss: 0.2998 - accuracy: 0.8821 - val_loss: 0.3429 - val_accuracy: 0.8581\n"
          ]
        }
      ]
    },
    {
      "cell_type": "markdown",
      "source": [
        "####train plot"
      ],
      "metadata": {
        "id": "-mmSuYr-rVWn"
      }
    },
    {
      "cell_type": "code",
      "source": [
        "plt.plot(history.history['accuracy'])\n",
        "plt.plot(history.history['val_accuracy'])\n",
        "plt.title('model accuracy')\n",
        "plt.ylabel('accuracy')\n",
        "plt.xlabel('epoch')\n",
        "plt.legend(['train', 'val'], loc='upper left')\n",
        "plt.show()"
      ],
      "metadata": {
        "colab": {
          "base_uri": "https://localhost:8080/",
          "height": 295
        },
        "id": "OyakQ2N-ye0h",
        "outputId": "03639960-74e5-4b0c-d6d5-236084e27fc1"
      },
      "execution_count": 47,
      "outputs": [
        {
          "output_type": "display_data",
          "data": {
            "text/plain": [
              "<Figure size 432x288 with 1 Axes>"
            ],
            "image/png": "[encoded data removed]"
          },
          "metadata": {
            "needs_background": "light"
          }
        }
      ]
    },
    {
      "cell_type": "code",
      "source": [
        "plt.plot(history.history['loss'])\n",
        "plt.plot(history.history['val_loss'])\n",
        "plt.title('model loss')\n",
        "plt.ylabel('loss')\n",
        "plt.xlabel('epoch')\n",
        "plt.legend(['train', 'val'], loc='upper left')\n",
        "plt.show()"
      ],
      "metadata": {
        "colab": {
          "base_uri": "https://localhost:8080/",
          "height": 295
        },
        "id": "0dMZbD8krTwy",
        "outputId": "bcd539f5-9b34-4031-cb59-e6523b041291"
      },
      "execution_count": 48,
      "outputs": [
        {
          "output_type": "display_data",
          "data": {
            "text/plain": [
              "<Figure size 432x288 with 1 Axes>"
            ],
            "image/png": "[encoded data removed]"
          },
          "metadata": {
            "needs_background": "light"
          }
        }
      ]
    },
    {
      "cell_type": "markdown",
      "source": [
        "###evaluate model"
      ],
      "metadata": {
        "id": "cpCK0IE9rn7P"
      }
    },
    {
      "cell_type": "code",
      "source": [
        "test_path = \"/content/drive/MyDrive/DM/dev.csv\""
      ],
      "metadata": {
        "id": "fxHdnRR1rqCI"
      },
      "execution_count": 49,
      "outputs": []
    },
    {
      "cell_type": "code",
      "source": [
        "test_df = pd.read_csv(test_path, delimiter='\\t' , index_col=0)\n",
        "test_df['clean_comment'] = test_df['comment'].apply(TextCleaner.clean_text)\n",
        "test_sequences = tokenizer.texts_to_sequences(test_df.clean_comment)\n",
        "test_data = pad_sequences(test_sequences, maxlen=max_len)"
      ],
      "metadata": {
        "id": "Qidhu0QBsMVH",
        "colab": {
          "base_uri": "https://localhost:8080/"
        },
        "outputId": "36bcca83-e3f4-402c-b94f-a3e2f2d5407d"
      },
      "execution_count": 50,
      "outputs": [
        {
          "output_type": "stream",
          "name": "stdout",
          "text": [
            "error\n",
            "error\n"
          ]
        }
      ]
    },
    {
      "cell_type": "code",
      "source": [
        "y_pred = model.predict(test_data)"
      ],
      "metadata": {
        "id": "6keiZrZZuMLQ"
      },
      "execution_count": 51,
      "outputs": []
    },
    {
      "cell_type": "code",
      "source": [
        "y_pred.shape"
      ],
      "metadata": {
        "colab": {
          "base_uri": "https://localhost:8080/"
        },
        "id": "0imkEo05vCgr",
        "outputId": "20fd2d29-dace-4f4d-b470-f34c50bef836"
      },
      "execution_count": 52,
      "outputs": [
        {
          "output_type": "execute_result",
          "data": {
            "text/plain": [
              "(6300, 1)"
            ]
          },
          "metadata": {},
          "execution_count": 52
        }
      ]
    },
    {
      "cell_type": "code",
      "source": [
        "y_pred = np.array(y_pred > 0.5).astype(\"int32\")"
      ],
      "metadata": {
        "id": "ToSEa131vF4k"
      },
      "execution_count": 53,
      "outputs": []
    },
    {
      "cell_type": "code",
      "source": [
        "print(classification_report(test_df.label_id, y_pred))"
      ],
      "metadata": {
        "colab": {
          "base_uri": "https://localhost:8080/"
        },
        "id": "9IMrCBszuPSf",
        "outputId": "2b9994ad-bd3f-4362-faa7-3202839ab8b6"
      },
      "execution_count": 54,
      "outputs": [
        {
          "output_type": "stream",
          "name": "stdout",
          "text": [
            "              precision    recall  f1-score   support\n",
            "\n",
            "           0       0.90      0.80      0.85      3150\n",
            "           1       0.82      0.91      0.87      3150\n",
            "\n",
            "    accuracy                           0.86      6300\n",
            "   macro avg       0.86      0.86      0.86      6300\n",
            "weighted avg       0.86      0.86      0.86      6300\n",
            "\n"
          ]
        }
      ]
    },
    {
      "cell_type": "code",
      "source": [
        "print(\"precision_score\", precision_score(test_df.label_id, y_pred , average=\"macro\"))\n",
        "print(\"recall_score\", recall_score(test_df.label_id, y_pred , average=\"macro\"))\n",
        "print(\"f1_score\", f1_score(test_df.label_id, y_pred , average=\"macro\"))"
      ],
      "metadata": {
        "colab": {
          "base_uri": "https://localhost:8080/"
        },
        "id": "UoHvLW6Zsipe",
        "outputId": "f01f945e-1ecd-424d-d807-53d38a112965"
      },
      "execution_count": 55,
      "outputs": [
        {
          "output_type": "stream",
          "name": "stdout",
          "text": [
            "precision_score 0.8626756423070139\n",
            "recall_score 0.858095238095238\n",
            "f1_score 0.8576457731849949\n"
          ]
        }
      ]
    },
    {
      "cell_type": "markdown",
      "source": [
        "##Model using word2vec"
      ],
      "metadata": {
        "id": "LGhBinw_xo-N"
      }
    },
    {
      "cell_type": "markdown",
      "source": [
        "###pre-trained embed weights"
      ],
      "metadata": {
        "id": "qxdQX5Orwxr0"
      }
    },
    {
      "cell_type": "code",
      "source": [
        "!wget http://vectors.nlpl.eu/repository/20/61.zip"
      ],
      "metadata": {
        "id": "zEO7MT04O-pa",
        "colab": {
          "base_uri": "https://localhost:8080/"
        },
        "outputId": "aece6c56-a3bc-420d-b06a-bb19468373e8"
      },
      "execution_count": 56,
      "outputs": [
        {
          "output_type": "stream",
          "name": "stdout",
          "text": [
            "--2022-06-25 05:43:51--  http://vectors.nlpl.eu/repository/20/61.zip\n",
            "Resolving vectors.nlpl.eu (vectors.nlpl.eu)... 129.240.189.181\n",
            "Connecting to vectors.nlpl.eu (vectors.nlpl.eu)|129.240.189.181|:80... connected.\n",
            "HTTP request sent, awaiting response... 200 OK\n",
            "Length: 730416332 (697M) [application/zip]\n",
            "Saving to: ‘61.zip’\n",
            "\n",
            "61.zip              100%[===================>] 696.58M  10.2MB/s    in 70s     \n",
            "\n",
            "2022-06-25 05:45:03 (9.91 MB/s) - ‘61.zip’ saved [730416332/730416332]\n",
            "\n"
          ]
        }
      ]
    },
    {
      "cell_type": "code",
      "source": [
        "!unzip /content/61.zip"
      ],
      "metadata": {
        "id": "zN4CGW8RPxAw",
        "colab": {
          "base_uri": "https://localhost:8080/"
        },
        "outputId": "8bcce80e-6b04-4a28-c393-e70ec3162977"
      },
      "execution_count": 57,
      "outputs": [
        {
          "output_type": "stream",
          "name": "stdout",
          "text": [
            "Archive:  /content/61.zip\n",
            "  inflating: LIST                    \n",
            "  inflating: meta.json               \n",
            "  inflating: model.bin               \n",
            "  inflating: model.txt               \n",
            "  inflating: README                  \n"
          ]
        }
      ]
    },
    {
      "cell_type": "code",
      "source": [
        "vector_embed_file = \"/content/model.txt\"\n",
        "embed_dim = 100"
      ],
      "metadata": {
        "id": "QtB3TTOCwVz7"
      },
      "execution_count": 58,
      "outputs": []
    },
    {
      "cell_type": "code",
      "source": [
        "embeddings_index = load_vectors(vector_embed_file)\n",
        "len(embeddings_index)"
      ],
      "metadata": {
        "colab": {
          "base_uri": "https://localhost:8080/"
        },
        "id": "2TwvwhSJwdhD",
        "outputId": "8c097432-0ef4-4694-a603-9b33fa85f9cf"
      },
      "execution_count": 59,
      "outputs": [
        {
          "output_type": "execute_result",
          "data": {
            "text/plain": [
              "966446"
            ]
          },
          "metadata": {},
          "execution_count": 59
        }
      ]
    },
    {
      "cell_type": "code",
      "source": [
        "embedding_matrix, miss_word = get_embedding_matrix(word_index, embeddings_index, embed_dim)\n",
        "del embeddings_index\n",
        "print(len(miss_word))"
      ],
      "metadata": {
        "colab": {
          "base_uri": "https://localhost:8080/"
        },
        "id": "e41GSd_8wh2u",
        "outputId": "ff07c1ff-b5e1-45e9-85a6-c6b61d53d10d"
      },
      "execution_count": 60,
      "outputs": [
        {
          "output_type": "stream",
          "name": "stdout",
          "text": [
            "5592\n"
          ]
        }
      ]
    },
    {
      "cell_type": "code",
      "source": [
        "print(miss_word)"
      ],
      "metadata": {
        "colab": {
          "base_uri": "https://localhost:8080/"
        },
        "id": "eB4gkom2woDE",
        "outputId": "0ff39a4e-8467-4b5d-eef3-4c50f82471c6"
      },
      "execution_count": 61,
      "outputs": [
        {
          "output_type": "stream",
          "name": "stdout",
          "text": [
            "{'کلناراضی', 'برخورادر', '1کوچولو', 'دلستربود', 'torshi', 'نالکس', 'ولذید', 'بندیهابهتر', 'زمینیهاشون', 'چرررررب', 'بزرررگ', 'مبکنید', 'مقدارس', 'مطمئنتری', 'میبریدین', 'متاسفانهتعداد', 'اینجودی', 'کاهووگوجه', 'انسانیتون', 'بودمخصوا', 'گارمیت', 'محششششره', 'پیتزامو', '2٪', 'لوفتون', 'ناموجوده', 'لیمونادا', 'براموون', 'گریپسی', 'غذااااااااااااتون', 'عاااالیییی', 'برثدی', 'نظیررررررر', 'بددددد', 'ظهربهتر', 'کالایابرندکالابه', 'شوندباعث', 'بیییییییییی', 'پاقرصش', 'میفرسه', 'سرسعم', 'افتضاححححححح', 'سامدویچم', 'ازپیک', 'سرررررررد', 'روسکر', '1سیب', 'نیداد', 'ماسکشونو', 'دوغذا', 'بدترینننننن', 'سالاداصلا', 'فروشندش', 'بارسفارش', 'y0m2d2', 'مالیاتتو', 'درستهدمتون', 'غیردبهداشتی', 'شفتهئ', 'خمیشه', 'دونرکبابهای', 'سردویخ', 'بامقدارکم', 'پیراشمی', 'شکموا', 'مخافاتش', 'مخلفاتو', 'طبخشه', 'سالادسزار', 'خریدهامو', 'کراکفش', 'فسنجونای', 'اندومی', 'مخری', 'مارگاریتاش', 'ودمشون', 'عااااالللللی', 'دوساندویچ', 'اندازهآن', 'چندباریم', 'قنادیتون', 'پیتزامثل', 'پرپیاز', 'فکذ', 'سفارشاتتون', 'هرگزززززز', 'هایچ', 'خیارسرکه', 'تجدیدنظرمی', 'ایسپک', 'افتضاحححححححححححححححح', 'بوداصلاهیچ', 'behtaro', 'وربات', 'زرزرزرزرزرزره', 'فرنگیشو', 'پشتببانی', 'شکید', 'کنم40سانتی', 'xsblue', 'لیمونعناعی', 'توووپی', 'دایمه', 'کلااا', 'ادامسا', 'نوشابمونو', '،؟؟؟', 'برندارسالی', 'رسترن', 'دروچین', 'متنایب', 'سابقونداشت', '؟؟؟؟؟؟؟؟؟؟؟؟؟', 'نزرا', 'هالوپ', 'پشبمون', 'فودیم', 'برنجاش', 'سبوبسدار', 'پارینه', 'پایبنی', 'کوچیکتره', 'و5امتیازحقشه', 'سنگککی', 'درخواستیمون', 'y0m6d29', 'افتضاححححح', 'نبودبیشتر', 'آصلا', 'اسانسوره', 'resine', 'ناگته', 'آبروبر', 'یدمره', 'سوپمم', 'بخوووری', 'انگارخونگی', 'تنوعبسیار', 'زوخمش', 'y0m9d5', 'کینوای', 'حسدمیکنم', '25٪', 'تخمهئ', 'خاهمه', 'dafe', 'مدغشو', 'اسپایسیه', 'rooham', 'عاااااااااااااااااالییییییییی', 'میخچان', 'سووخته', 'برگرخوب', '150تا200گرم', 'اسفویلیو', '5تاش', 'پیکتن', 'اییتونم', 'تینقدر', 'زده3500', 'پلاتسک', 'حسنشو', 'افتضاااااح', 'مدنظرشونه', 'سفارشدکمی', '؛؛', 'ماسنتر', 'ادرسمون', 'y0m24d6', 'احیل', 'کمیتتون', 'پشیمو', 'چراکهانگار', 'پروویتاش', 'توماندهم', 'خداییبا', 'کردنیتون', 'گوگولیاشون', 'چهارتد', 'اسپاتگی', 'کردکیفیت', 'رژیمیتون', 'ننننمیدم', 'کزفیتتون', 'کروند', 'تازهئ', '4تادونه', 'دوزچین', 'بارخ', 'میکستونو', 'پاژان', 'هردوهم', 'خودحلیم', 'کنارتش', 'مییچسبد', 'افتخارداریم', 'غذااومده', 'خرماییشو', 'زیادس', 'عخیلی', 'کجاهست', 'چیباتا', 'دادع', 'محشرههه', 'چندبارشیرینی', 'بودومزه', 'همجیع', 'نوسابه', '5500حساب', 'شددرحالیکه', 'خششششک', 'ژامپ', 'اصلاوابداخرید', '1نون', 'نمیکنمممم', 'محترماته', 'آلودگیا', 'نیادحتما', '18950', 'سیرشودوست', 'طمعشون', 'لجناسی', 'فزستادین', 'gharche', 'کردید220گرم', 'خیارشورم', 'سبزیشو', 'ومختصز', 'بودوسریع', 'سوپرخریدمیکردم', 'دففه', 'کاتاش', 'خشکبارنوروز', 'سموسه', 'استریوس', 'برگرشون', 'مداریتون', 'مالاگانوتلا', 'ایییییین', 'پاستاس', 'گرسنگیرو', 'غذابسیارطولانی', 'ماانداختیم', 'لاواتزا', 'دوکیلویی', 'نمیاوردین', 'وافله', 'فرایزی', 'سبزیخیلی', 'بینظیرررررری', 'نباشیدسوسیس', 'مبذم', 'دقیییقا', 'ماهشام', 'نمیفرسته', '74500', 'بخاطرنظرات', 'امافکر', 'پیکاشو', 'اچن', 'بانونه', 'دایمیشون', 'رررررررررپیک', 'برگردوندمش', 'keyfiate', 'برگراتورم', 'سنپع', '2کوچه', 'پیتزهاا', 'ونامرتب', 'پلوبا', 'شمعمم', 'پرگوشته', 'درصدس', 'خوراکاتون', 'برگراتون', 'اسپیرایت', 'ادسال', 'فورماجیو', 'نیشاب', 'نداشتش', 'زمینیتون', 'ساندویخ', 'میگیرررم', 'قسمتایه', 'همونچیزایی', 'بطورئ', 'خداروشکرمشتری', 'هادت', 'مدیرتشون', 'وظیفم', 'بیکنو', 'بودتش', 'سردهه', 'مشتریاتونو', 'ژوکو', 'گوجم', 'سردتحویل', 'لقمخ', 'تعداد20تایی', 'انارداشت', 'فنتا', 'رفتارمحترمانه', 'sosesh', 'تیستند', 'غذابسیاربسیارپایین', 'آمولای', 'نیخواد', 'دراوردنش', '1٥', 'افتابگردانی', 'ووزنش', 'مدیرییتع', 'دیربازگشت', 'بستشو', 'خودخیلی', '100٪', 'قانونهاتون', 'افتضاحححح', 'البالوپلو', 'قدردانشون', 'غذاسرد', 'گرندگوشت', 'تاخیرداشت', 'نبودوغذاسردتحویل', 'ببکین', 'دستپم', 'ومحترمانه', 'انگارپیتزا', 'ابلیمویی', 'دهدیم', 'خوشمزا', 'سوپرایزتون', 'کنسرور', 'نخوردیمش', 'دورچینمش', 'ولوتش', 'کیفیفتش', 'عاولیه', 'بهاشو', 'تحویلاتون', 'ابداا', '18تومن', 'برگرتون', 'پرسیتون', 'مدتهاست', 'افتضاحبود', 'بددددددد', 'فرستادع', 'باچون', '8باره', 'ازپیگیریتون', 'تارتی', 'قنادیو', 'وااااقعاا', 'مرغاشون', 'تخفیفاتشو', 'نوشاه', 'سالادسس', 'راحتیمشتریان', 'یبارمصرفم', '27000ت', 'مالیاتو', 'پشیمونی', 'ناراصی', 'سالمونی', 'مخرف', 'کاپریچیوزا', 'انقددددددررررر', 'مجددوقت', 'ازموادمانده', 'y0m3d1', 'آفم', 'تجدیدنظرکنید', 'پیسنهادش', 'خویدم', 'افتضااااااااح', 'فشارمون', 'برگرونید', 'ساندویچارو', 'درخواستایی', 'کاااااملاااااا', 'گیشاست', 'بودبیار', 'راضیماما', '75گرنی', 'y0m30d1', 'تاشیرینی', 'حجتو', 'کاااااملا', 'سخته', 'موعدبه', 'نمیگذاشتتد', 'مامل', 'قیمتونو', 'کردیمش', 'اسنبپ', 'چندام', 'بدترییییین', 'هزارتومنم', 'بغلتونه', '39000000', 'برداشتمشون', 'قیمیای', 'چداربود', 'نامسب', 'لندولیعصر', 'مشتریشونو', 'برگبو', 'غورابیج', 'y0m2018d10', 'بارژو', 'باگتتتت', 'ژامیون', 'اسپرایتشم', 'تمییزبود', 'تعدادرونداشتن', 'فودوتمام', 'خیلذ', 'ونپختگی', 'یچخال', 'بردممممممممم', 'راباعکس', '8000تومنی', 'ثامنا', 'بشیندرضمن', 'جومانه', '3هزارتومن', 'خیارمثل', 'الپارو', 'پیتزاهش', 'خوشمزهههه', 'مامانبزرگمو', 'چراپیک', 'قوطیو', 'حشده', 'رسف', 'همممش', 'ییسکوییت', 'سوپریمش', 'عااااااااااااالللللللللللللیییی', 'کوفتشو', 'میررزا', 'امدمه', 'غذارودیرارسال', 'سوخنه', 'سیبزمینیشون', 'دیزیشو', 'پیتاز', 'قارچسفارش', 'قیکه', 'ریخیتم', 'میپختن', 'بهترنمیشد', 'سغارش', 'اینقدز', 'مخلافتش', 'ننشده', 'رصایتو', 'هزشتع', '٥00گرمی', 'ژعم', 'نامظبوع', 'y0m4d7', 'سوختری', 'اثردهید', 'یاغذا', 'البالوهای', 'ظرفاتون', 'خردنشده', 'پیتزاهاتون', 'نزدیکمونه', 'ماراسبانی', 'چیزبزگر', 'بدومزمینی', 'آوردیدلطفاتوجه', 'کاملادسرد', 'غداخوب', 'میچکید21', 'زیااادی', 'دتره', 'چیزله', 'نمیبرین', 'ارزانتروروغن', 'بودویکساعت', 'میخوریتا', 'وفلفلی', 'میرختید', 'لطفاهمینجوری', 'اخهه', 'سایرغذاها', 'دلسترهایی', 'باگته', 'حدفش', 'ااشیرینی', 'ساندویجها', 'ماازاسنپ', 'گندکشیده', 'مرگریتشم', 'کنهست', 'شوررررر', 'نبوووووووووده', 'هیوج', 'خوشبرخورد', 'رفتاد', 'کنستانتره', 'پیتزر', 'اصصصصصلا', 'dandon', 'دایجستیوی', 'دیییر', 'باقیمتش', 'ازشماغذانمیگیرم', 'سالادددددم', 'ماازشماراضی', 'همبرگرا', 'ابداااا', 'نخلفات', 'تندیملایم', 'غذاهاکیفیت', 'کالباسیه', 'y98m10d17', 'دیررسید', 'طودانی', 'پیازاهاشو', 'حدودابین', 'دیگرثبت', 'بابارحیم', 'گردوییتون', 'بهمحل', 'سفالیشون', 'کاملاااااا', 'مرعشم', 'غذاهاتونم', '2جعبه', 'سپااااس', 'باااورم', 'بودبرگر', 'ندتشتن', 'برشششته', 'وگدر', 'پیکنم', 'بوووی', 'پارمازان', 'برنگردوندم', 'کفیتتون', 'بیشترید', 'عاااااااللیییییییی', '9124546519', 'برخاطر', 'زیربارنرفتن', 'استخوانتون', 'سوپرمارکتای', 'متتسفم', 'سیرشه', 'سوپرترنج', 'بودمممممممم', 'کوبیدشون', 'بخورمشنه', '0وبرای', 'میفرستادین', 'زردارسال', 'ببسنه', 'انقدربی', 'میشههمه', '9تایی', 'فودم', 'پیدزا', 'نسوره', 'زرشکهارو', 'نخوردمش', '2دفعه', 'قدبم', 'نبوودم', 'خوددن', 'دوووو', 'رستوووران', 'طولیه', 'نطیرن', 'شیر2روزپیش', 'ثابتشونیم', 'فرچیز', 'بعدازتحویل', 'السیروعالی', 'اسپشیالشم', 'یقیقا', 'فسفودیای', 'میعی', 'یساعت', 'کراسان', 'آلفردویی', 'خساسست', 'ناجیز', 'متاسفانع', 'باراست', 'وقارچش', 'امکاناتمون', 'نعناهای', '24000بشه', 'شیرشکلاتی', 'حیارشوری', 'دریافت6هزارتومن', 'درصمن', 'پایتا', 'کروسانها', 'حعبع', 'ییییخخخخ', 'اعلامیشون', 'وپرچرب', 'خربزهایی', 'بهترینست', 'بارژ', 'شیرموزها', 'نبردیده', 'کاملامشخصه', 'سلیقگیتون', 'میشه20تومن', 'اوردنش', 'مخلفاتم', 'نبودمم', 'طلقش', 'متاسفتانه', 'پرپروکم', 'موردهارو', 'تاحالامشکلی', 'بنسبتن', 'واصلاوابداشبیه', 'بودتد', 'تخوردم', 'سزاروسس', 'زحماتتوون', 'احوالا', 'سسو', 'اندازش', 'رسیتوران', 'بودسپاسگذارم', 'رویش', 'کیفیتیو', 'سوخاریه', 'شدمعاشقتم', 'فودهایی', '6و50دقیقه', 'بیشترشیرینی', 'انتخابهامه', 'بشددددت', 'مکررسوپرهربارجهت', 'بایدونه', 'زیادددد', 'چوریتسو', 'بسیارربسیار', 'سیرشو', 'قارچام', 'اسنتپ', 'شدتتتتت', 'میباشدحتما', 'نوستاژی', 'باماندگاری', 'از4عدد', 'هاام', 'مختلفاتی', 'باتشکرازمدیریم', 'besbat', 'ازسفارشم', 'خاااام', 'فسنجونش', 'رادویاسه', 'کردههه', 'تعمن', 'حاملا', 'بشرته', 'چنتاشونم', 'زیادشو', 'قزم', 'کنااار', 'دولارم', 'نظارتتون', 'شددددت', 'دومیکا', 'طلاست', 'سالهاااا', 'قووول', 'شبیرینی', 'لیتره', 'پورشن', 'ععااللییی', 'تخوش', 'دلایلمو', 'mmnon', 'خواهشما', 'گافیست', 'اصلاکیفیت', 'هیمنجوری', 'توتفرنگیهاش', 'فودسرعت', 'بعداز30', 'اختلاففففففففف', 'پکحینگش', 'چیمس', 'ساندویچهاتون', 'بودم0', 'بالل', 'ررگ', 'زیادبرشته', 'شوکووان', '15غذاروسفارش', 'وپنیرشو', 'میرشد', 'یخخخخ', 'ماهیچیه', 'لیموشو', 'کبیده', 'خریدمش', 'وظبف', 'خیلللی', 'پیشبود', 'پیتزاسوخته', 'زمینیییییییی', 'نکنهنان', 'هاریبوی', 'آوردش', 'y0m7d98', 'چیع', 'موادخوب', 'عالیهو', 'وبدمزه', '2گوجه', 'خشمزست', 'سزارسفارش', 'چندتیکه', 'میتکنید', 'چیییییز20', 'بزوم', 'بسیارتازه', 'صفرررر', 'سیب360', 'متاسفاناه', 'برگرایی', 'تخفیفاتتون', 'مخصوصاشیروماست', 'دلسترشو', 'تیاکو', 'هریدم', 'چانکی', 'خکبتون', 'سیمیتاش', 'افزودس', 'برکتشون', 'متفین', 'بهههه', 'همبرگرشون', 'اونهاست', 'بایدجدامیکردم', 'اژدهها', 'پنیرماسیده', 'پتجره', 'شوووووربختانه', 'اشتباست', 'همنیاوردن', 'متاسفانا', 'انتقادبه', 'بسیارکم', 'راببرم', 'عاللللی', 'وواینکه', 'میویفته', 'پاستاام', 'روزنکردن', 'توپاکت', 'صفاشو', 'نمییده', 'فودش', 'ازنطر', 'دورچینه', 'فرستادا', 'khodaee', 'بینظره', 'رودرش', 'وزن1600', 'اناناسشم', 'وبعدازپیگیری', 'پتیتو', 'سیگاراتون', 'وصدگرم', 'تعجم', 'خمیرنشده', 'مسیرغذا', 'سرطانزاست', 'ازاکبرجوجه', 'y13m9d97', 'دانمادکی', 'ناااااراضی', 'ناپلیونیه', '8قلم', 'ادنم', 'بدمش', 'قطغذا', 'دانماریش', 'متکارونی', '60٪', 'گندمکی', 'میرسیه', 'پوبش', 'امااااااااااااااااااااا', 'باقلواتون', 'برخوردخودشون', 'یوبس', 'رستورانیو', 'بگهشما', 'نبودمزه', 'پاستاهاتون', 'سرواکنی', 'بلشید', 'اماشیرباید', 'تکهرهای', 'ساندوسچ', 'بزارمد', 'پاکخ', 'سساش', 'ماندیدیم', '4500ت', 'بادمجاااااااااااااااان', 'غدات', 'بیشترازدوقاشق', 'روخمیر', 'نایلنش', '20رسید', '13000ت', 'کنیددددد', 'غذابسیارسرد', 'حالاخوردم', 'سردیییییی', 'قهوع', 'سفارشگذاری', 'کیپیااااییهام', 'سرتایم', 'انقضاشه', 'همیشون', 'تارسیده', 'خمشو', 'سدوخته', '200ولی', 'نبایدخریدکرد', 'گاقعا', 'حاضرید', 'نهاااایت', 'کریپسی', 'ولی2', 'گردادنده', 'بابرخورد', 'مجموووع', 'بیشتد', 'شیریبی', 'تهفیف', 'فودپارتی', 'kalbasash', 'میلفوی', 'واقعاراضی', 'پیتزاعه', 'کیکایی', 'رلضی', 'ژامبوناش', 'ناپلونیش', 'تابستنی', '5تومنی', 'سسسسسرررررد', 'زیاددارند', 'پیگسری', 'بدمزس', 'اشانیتون', 'دوبرش', 'اوزیرا', 'دادشیرینی', 'qarar', 'ظرفاشونم', 'ببابت', 'چیزعالی', 'کالباسا', 'نفرآبرو', 'سرخشده', 'کرفتید', 'دیفریز', '2٥00', 'پییزا', 'اسنپفودم', '87900', 'ومحترمش', 'نربخته', 'پرخمیر', 'کااااااااملا', 'خیلیییییییییییییییییییییییییییییییییییییی', 'ماسیدگی', 'سراشپزشونه', 'ممنونمممم', 'کوچیککک', 'ازمسول', 'افتضااااااح', 'عجییه', 'باوهمون', 'y0m8d3', 'رسیدباکلی', 'مرغاین', 'سفترش', 'y0m2d1', '؟؟،', 'بسیارکیفیت', 'همینطورسالم', 'زودتادیروقت', 'میخوادسیربشه', 'میراشکیش', 'تمنس', 'پررر', '2500گرمی', 'جورنبودن', 'یذونه', 'مشتریشو', 'استخوونه', 'مرغهاحداکثر', 'y0m12d2', 'بودسپاس', 'ماکردفر', 'عااااااالیییییی', 'y0m8d13', 'اعریف', 'شماونیروهای', 'غوق', 'شیرهویج', 'آوران4000', 'بسیکوییت', 'پرکنجده', 'تویحات', 'هستش', 'رسیدوطعم', 'سپرمارکتها', 'عالللللللللللللللللللللی', 'پیتزاسبزیجاتی', 'نگینیه', 'رادحفظ', 'دنییبیببیا', 'oکیفیت', 'تاخیرا', 'غذا5دقیقه', 'مزهدخاصی', 'پیتزاهاتونو', 'شادشدیم', 'سیمست', 'نمیفرستادین', 'معندی', 'ساتدویچ', 'شکلانی', 'انصافانفهمیدم', 'وطعمشون', 'زعفرونم', 'بالاتره', 'مهماناتون', 'خونگیو', 'فودکه', '1٥هزار', 'ارزونتره', 'تندیه', 'وپاستافیله', 'کرنبریش', 'سالاداسفناج', 'اختلافشه', '1فیله', 'سعارش', '40دیقه', 'زینگراتور', 'واااقعن', 'رسیبد', 'مافنین', 'فصلتون', 'اصلامعلوم', 'رولتهارو', '1ع', '3000تومانی', 'هرپنشنبه', 'نگهبانیه', 'خوسمزه', 'رسیدیعنی2ساعت', 'درصدپایین', 'بعصضی', 'کاااملا', 'سسهاتون', 'هاذشیرموزی', 'وانیلیه', 'وریختم', 'ررگر', 'خورشتشون', 'رولتهاتون', 'کبابارو', 'انقددددددددددددددددددددر', 'تولیدروزباشه', 'حضوریشون', 'انداحتیم', 'اندازع', '1ساندویچ', 'سوممه', 'اانگار', 'تعداش', 'راضب', 'بقیوشو', 'ثبلا', 'چیزکیکی', 'کاملتره', 'حلیمشون', 'ماکارونیشم', 'اورئو', 'بدخورد', 'باقاوا', 'کیفیتشووووووو', 'بکوشیدتا', 'گذاشتیدهمراش', 'میلکشکع', 'حالاسه', 'شدموچیز', 'جدیدترمیخواستم', 'اسنپو', 'پیروزو', 'عذزخواهی', 'افتضااااححه', 'وامکانا', 'بودکمتر', 'منونوشته', 'poore', 'اصلاگوشت', '٥0', 'ظخم', 'ویتامینشو', 'مائالشعیر1500', 'پیازداخ', 'ردبولها', 'یژدی', 'بودمرغش', 'آناناسو', 'پرسیر', 'باسفارشاتم', 'بددن', 'موجودیو', 'mizadin', 'خوشمزهههههه', '6تاتخم', '485گرمی', 'اودد', 'نچخته', 'پراشکیا', 'ناسالمه', 'لوبیاپلوسفارش', 'واشنباه', 'ازرستورانهای', 'فلافلاش', 'y0m6d7', 'هر3نفر', '4جعبه', 'درخریدهای', 'موهبتو', 'همینحور', 'عالیییییپیک', 'یونانیتون', 'چیزبرگز', 'شییرینی', 'فودیتون', 'برگریه', 'جاهااااا', 'طولااااانی', 'خمیرپیتزاخیلی', 'پیتزازسرد', 'اززحمتی', 'جانیافتاده', 'استریپز', 'شدیییییدا', 'نمگیرم', 'زیاااد', 'پشیمووووون', 'وجترن', 'نرنین', 'خواهیشو', 'توضیحاتگفتهبودم', 'غداش', '،،،،', 'مقدارژامبونش', '86الی', 'اونجگر', 'پیگیزی', 'y0m1d24', 'پنیرهاباعث', 'بیانز', 'استافدکراست', 'افتضاححححححححح', 'لطفاشیر', 'بیشتراز1ساعت', 'وبسختی', 'نباشیددددد', 'ایچش', 'تاپیتزا', 'عااالییی', 'کنتکاکی', 'موادب', '1کیلوبزرگ', 'نونایه', 'استیکره', 'y0m0d94', 'دورریختم', 'چیزکیکش', 'درموردش', 'روغنتونم', 'سالادشیرازی', '،؛', 'وژامبونش', 'سالمتره', 'محلمونه', 'پرروغن', 'دورپیتزا', 'انهارابه', 'هدفونشون', 'بدهمستاره', 'انگشتاشم', 'بوددیم', 'ساندویچهاشون', 'سوناب', 'نداشین', 'باقلواهاتون', 'نیووردید', 'رستبیف', 'مداریشون', 'مصرفا', 'جیکن', 'سقارشات', 'انقدددددددر', 'سوخاریتونو', 'میذاریدباوجودی', 'پاسخگوییشون', 'مدیریتتون', 'جداآوردند', 'bemoonin', 'مبگیریم', 'شکلاتشون', 'پیتزایه', 'حیروون', 'باییر', 'عالللییی', 'عاااالیههه', 'مغزوزبان', 'جیبشونن', 'بعدازسرخ', 'چندومین', 'نمیزازید', 'لاوربرگر', 'دسرشونم', 'هموتیی', 'عاااااللللللللیییییییییی', 'نمریزن', 'ولی90درصد', 'ازآبمیوه', '24عددی', 'غذاهار', 'سکلاتیش', 'دوتاام', 'گذاشتش', 'میکسشون', 'کالاهش', 'امرغها', 'ظرفاشم', '48700', 'تستکی', 'سنپفود', 'شادباشد', 'گریله', 'اینسفارش', 'سگنیچر', 'سخاریشم', '2سلعت', 'نامرقوب', 'حساااابی', 'وظایفمونو', 'پیتزاگذاشته', 'باگپ', 'خوشحالمممممم', 'ولی3000ت', 'انقدررررر', 'سبزیتون', 'هژارتومن', 'ازفتیرها', 'موجودداخلش', 'قرمزکمتربزنید', 'العادسسسس', 'مرغذسوخاری', 'افتتضاح', 'تلللللخ', 'نداررررریم', 'کیفیتاتون', 'ماهاست', 'لکسپرس', 'y0m45d1', 'ظرفایی', 'هاتداگو', 'پرووووووو', 'صعیفتری', 'ازسوپرشکیبایی', 'افتضااااح', 'نمیکشوندن', 'آردسوخاری', 'شکلاتیشون', 'دلوری', '٥تکه', 'سفارشامو', 'رسوندنع', 'کاملامضرهست', 'زوکت', 'ماهیشو', 'دوغشون', '23سفارش', 'پستوک', 'مدییریت', 'خوراکیاتون', 'خریدحضوری', '1پیتزای', 'رانداشتید', 'بسسسیاد', 'وبهتربودباسس', 'y0m11d29', 'یارزید', '42سفارش', 'استثنائدرتمام', 'دیگهسفارش', 'مظیره', 'پلونی', 'بودجوجه', 'رشتهپلو', 'درمنیو', 'قیمتارومناسب', 'برخورو', 'موادبیشتر', 'نمیندزن', 'سسیس', 'ریریخته', 'معق', 'نفرستان', 'قبلتونو', 'اصلاخوشمزه', 'پبیک', 'کنحدی', 'عموض', 'دورچینم', 'بلوکمون', 'سیسگار', 'اشتراکشون', 'دوتاقطعه', 'هولستون', '3٥هزار', 'ننیدونم', 'سیبذزمینی', '5تیکه', 'مارکت4', 'زیاااااااااااااااااااااده', 'سوحاری', 'بییرن', 'نیاواردن', 'تاپلئونی', 'شیرنیو', 'پکتون', 'بیشترازبنده', 'نیکردین', 'عشقههههههه', 'بهدگفته', 'اماغذا', 'خریدغذا', 'توتذفرنگی', 'حلیمجای', 'فودای', 'چگنال', 'تندهست', 'پرداختیمو', 'ازتوجهتون', 'بریونه', 'مافینه', 'بهارنارنجتون', 'کلانا', 'پپرونیشو', 'برگراتو', 'زیتده', 'وازکیفیتش', 'اازهررستورانی', 'ایننننننننن', 'اسبپ', 'پنییر', 'آفریکانا', 'کیفیتون', 'زاهرش', 'کاملاتوجه', 'هزارتومنیم', 'وشیرینیش', 'ساندویچشو', 'رادقید', 'pogu', '٥00', 'indaf', 'بودودرکل', 'نوشیدنیهاتونو', '1نان', 'بهداشتیتونه', 'واقعارولتاتون', 'دروووووووور', 'وکیفیتش', 'توجیحشون', 'شیرینیشون', 'خمیررررر', 'شگد', 'دوسریه', 'pooreye', 'پیتزابا', 'اخلش', 'دقتید', 'داثره', 'کردنش3000', '45دیقه', 'بهرجای', 'بلکولاد', 'رسیدزیر', 'آرستو', 'نداشتسین', 'سردمنطقی', 'هردوتاشم', 'چهارتادونه', 'بودآبروم', 'نپاشیدن', 'خستگیمونو', '2500حساب', 'برداریدحتی', 'پپرونیاش', 'برنجشو', 'مرغاش', 'سلیقههه', 'بیطعم', 'نزدیکتین', 'داغوووون', 'اکسپرسا', 'بوووددددد', 'نیمرودرو', 'اگرباگت', 'سیرداشت', 'لدلببل', 'گهته', 'سپااااااااااااس', 'faghad', 'مستمون', 'مطممئنا', 'ببشتری', 'اعتمادمشتری', 'ایتالیاییشون', 'آمیره', 'مرغ18000', 'بپزش', 'پیشنهادمیشود', 'ارسرع', 'حبوباته', 'کلاخمیربود', 'غذابدون', 'وحشتناااااااک', 'ندارنممنونم', 'تهچینش', 'y3m4d97', 'چیست', 'درخداست', 'چقققققدر', 'جنستو', 'مارسپان', 'بودپیک', 'مهمانامون', 'تند9ا', 'بخورمبا', 'آبلیموناد', 'پکاشون', '36سفارش', 'بلشرایط', 'پاسایل', 'panjereyi', 'جاااا', 'بیکیفیته', 'پرمزه', 'وبادفت', 'برامهمانی', 'سالادهارو', 'جلوکباب', '،؟', 'قبمتش', 'بارندگیه', 'وااااااااااقعا', 'ثابتون', 'کارنسو', 'سیب360درجه', 'سیراستیک', 'اماژامبونش', 'نبپد', 'کیترینگها', 'تاخیررررررذ', 'اصلااستفاده', 'برکتتون', 'داگشم', 'وازاسنپ', 'کیفتتش', 'پیتزاپسرخوب', 'y0m6d23', 'روونداشت', 'موردنظرسفارشهای', 'احینا', 'غذا20', 'فوتوچینیاش', 'پلاکچینی', 'شیرازیشون', 'سبزیهرو', 'رستورات', 'بودمتاسفم', 'ساطوریشون', 'بببددد', 'کنارغذا', 'دادممممممم', '2500را', 'بهتره', 'اینننننننن', 'واسه9دی', 'پبتزا', 'شیرکم', 'نمرش', 'علیرعم', 'مخلفاتشو', '1500تومانی', 'دوبطری', 'بهترهارو', 'اپاچینو', 'بیظیر', 'افتضاااااااح', 'ومقدارش', '10٪', 'زخپ', 'زوابیا', 'پیتزاتونم', 'همبرگش', 'سزراش', '2ظرف', 'نمیاریدچه', 'بالااا', 'برای3هفته', 'باروژقبل', 'فریزرشون', 'کمههههه', 'باپقیمتش', 'صبرکنن', 'بادمجونشم', 'لذیییییذ', 'نامبوعی', 'بودموقع', '500تومنی', 'بریانتون', 'خمیریود', '50٪تخفیف', 'کاشمثل', 'تتوری', '2نفرس', 'معایرت', 'نوتلاتون', 'کتریتگ', 'ازاسنپفود', 'رسدنش', 'معمووولی', 'باعکسش', 'مرغشه', 'پایخگو', 'بخورممم', 'بودوبرنجش', 'مخیتو', 'ذکرمیشه', 'قیما', '2٥0', 'گاتاش', 'فودوهمه', 'هردوسفارش', 'سوپربرگرو', 'خریدنیست', 'دلسترهم', 'سردبودبطوری', 'گوجشم', '04دقیقه', 'کیفتتون', 'وزیادسفارش', 'مسداد', 'چیسبورگر', 'چاشنه', 'زماااااااان', 'خیارسالادی', '11900ولی', 'یهدمزه', 'عااالیییی', 'دقیقخ', 'بدترینا', 'دقتا', 'چاکلتش', 'اخرش', 'نگرفتنو', 'y0m2d18', 'فریادمیزد', 'خیارنرسیده', 'y0m20d20', 'میبینیش', 'وتشکروسپاس', 'درموردتاریخ', 'اناتا', 'تدیگ', 'بودازنوع', 'بودوگرم', 'وشیرینیهای', 'خخوبی', 'چنجشنبه', 'استریس', 'پرپروکه', 'نبایدبدم', 'کلمشون', 'برخردارنبود', 'فودیی', 'ماتفاوت', 'چیزبرگرش', 'عجیبهکه', 'فیبرکس', 'پیکتونم', 'انتقضا', 'بدددددددددد', 'بهترپخته', 'ظرفاش', 'کورنیلو', 'وپیمون', 'سوپرمارکتا', 'ساندپیچ', 'ساعتتتت', 'باربیکیوبرگر', 'کدومش', 'شائلله', 'پنسر', 'سردومونده', 'گرونترشده', 'سررررد', 'عذرخودهی', 'میریختنش', 'تزئئنی', 'خوشممممزه', 'کنیدتکرارنشه', 'تااازه', 'مخشخص', 'پنیرا', 'لاوازا', 'چیزفود', 'میدادظ', 'وپرملات', 'نونشه', 'موهیتوی', 'چاپاتا', 'شنیسلی', 'داردحسنش', 'گوشفیلی', 'سیرواستیکشون', 'نپختهههه', 'بپد', '4عددی', 'شامپر', 'جلووووو', 'مناسفم', 'شفارشتون', 'کاپریچوزا', 'عاووولی', 'همیشگبتون', 'درمنوسالادشیرازی', 'نوناشونم', 'چیکیم', 'بودریال', '1500اوردند', 'افدزاح', '1٪', 'کارخوان', 'بین4تا6قسمت', 'ساندویچوووو', 'نظرلتی', '199000ریال', 'بهروشم', 'قارچاش', 'عاااللی', 'باقاله', 'پیکیه', 'بندیبسیار', 'قائلند', 'یخزدش', 'مشتریرو', 'سوخارئ', '10ذدقیقه', 'نبووودم', 'بدتربن', 'آمادرو', 'گوشتاشو', 'بتواندچنانچه', 'اصصصصلاخوب', 'پیتزاگوشت', 'نمیرارن', 'ناپلعونی', 'efesها', 'میرسرن', 'خلافرمنو', 'اکلرو', 'شیشهذای', 'انقضاداره', 'دایجستای', '3کیک', 'رونفرستاده', 'یدونشم', 'ححجم', 'گلپرشو', 'غذادیررسید', 'نزاریدباسوپ', '؟؟؟؟؟', 'پفو', 'y0m2d7', 'توکیک', 'درساندویج', 'وکیفتشم', 'مشتریشونم', 'غذارنمیاره', 'پرکنجد', 'مشترهای', 'تنوریتون', 'سفارشیو', 'نامرقوبی', 'داشتغذا', 'شیرکوزش', 'هیلیی', 'است0ممنون', 'باقبلیش', 'رسترونت', 'ممعجون', 'تخغیف', 'انقدرر', 'اخرمون', 'خفنههههه', 'انسپ', 'ریحونی', 'هادداگ', 'شووور', 'پاورماشروم', 'پیشنهامیشه', 'نخوررم', 'عرقیجاتش', 'دبزاین', 'چیززززز', 'لاکتیویای', 'فسنجونتون', 'ملانزانا', 'ساندویجم', 'کوبشم', 'وخیارفرستاده', 'نمیشدبخوری', 'دیگیاشم', 'عاشرا', 'برسرش', '2سات', 'اسغنجیش', 'وبرخورنده', 'کریسبی', 'بامالیات', 'بگیییییر', 'یبارمصرف', 'وشباهتی', 'ناضایتی', 'سیبب', 'نوشتنhot', 'قارچشو', 'مشملی', 'سییییب', 'ostkhon', 'ساندویچاتون', 'کمتربودکه', 'لهشذه', 'رستورانتون', 'شکرنه', 'وفینگر', 'برایتعداد', 'snapfood', 'سیبزیجاتش', 'هوفنبرگ', 'داغشونو', 'ارسالیشون', 'بخوریمش', 'ازشماخریدکردم', 'چانوی', 'نکتارهلو', 'تاآسانسورهم', 'رصلااا', 'خاطرحمل', 'طبیعتتون', 'خسسسته', 'انگارداری', 'نیسسسس', 'دائمتون', 'باگتمون', 'کالاهاشون', 'پختشم', 'زنندس', 'نمیخوردین', 'عاااللللییی', 'پنیرشه', 'بنیرشم', 'شووووور', 'تازهن', 'وظیفش', 'بالاترببرن', 'دونفی', 'اومد2طبقه', 'واسش', 'وافلش', 'وعااالی', 'پرملاته', 'مناسبد2نفره', 'موکایی', 'همشوانداختم', 'بسایرین', 'بودخیلیم', 'پایینتون', 'یدمزه', 'استارمیکس', 'ازسوپرمارکت', 'خریدداشته', 'دیگه2تا', 'حلاشون', '10دیقس', 'دکترکباب', 'هجمو', 'بودوحجمش', 'شدتتتتتت', 'اففففففتتتتتتضضضضضااااااح', 'اشپزتون', 'مدیررت', 'فودین', 'رفتارس', 'ازبادمجانها', 'نگریرین', 'پروتچن', 'کمییتبه', 'شناسیتون', 'کاملااااا', 'هستیدید', 'وبفر', 'مقدارخام', 'ملاتشو', 'باااااااایددددد', 'میوهاش', 'دارنبود', 'قطعاتپیتزا', 'وپیتزاپپرونی', 'نشتری', 'گرااااااااااااااااااااااااااااااااااااااااااااااااااااااااااااااااااااااااااااااااان', 'اونطرفتره', 'دستکشاشو', 'موتده', 'لیتریشون', 'کمسه', 'عکاوی', 'دوتافتیردیگه', 'خودده', 'کچابش', 'نیملیتری', 'اومدنش', 'آنست', 'سفارشام', 'نوشایه', '8400هزینه', 'دوتاتیکه', '3تخم', 'سوخاریایی', 'سهدی', 'بستنیدموجود', 'پپرونیه', 'هنبرگر', 'شیدیدی', 'استیکهارو', 'بدپخت', 'خودشوم', '12بود', 'تالذت', 'بخوادم', 'اینبارش', 'زمینیتونو', '11سانتی', 'ظردف', 'کوکلچه', '235000ریال', 'مخلفاط', 'ساااد', 'العاااااده', 'شیرینیمثل', 'بوووددد', 'بودوباتاخیر', '٥0٪', 'دزاینش', 'ومیزاریدبابا', 'ماعک', 'نمبشد', 'وبمانید', 'تاخیرولی', '2900پول', 'فرستاددددددددددد', 'راضیذکننده', 'تحویلشو', 'دقتیه', 'پیتزایخ', 'وناجور', 'میراشکی', 'ترددیلا', 'بیکنتون', 'بددددترین', 'هرکدومش', 'اسکرمبلد', 'ظایعات', 'نمیداش', 'برگزها', '14تمن', 'بترش', 'تردیشو', 'چیکنس', 'مصبتونو', 'بینظیراز', '٥000', 'سوپرمارکتم', 'خاهرم', 'ماهیچس', 'استریپسو', 'ردولوتی', 'برعکش', 'y96m12d10', 'جوجها', 'hardafe', 'نوهستش', 'خوراکشونم', '53800', 'ماسیدا', 'ظریفتتون', 'همجورع', 'پاچینیش', 'لوقمه', 'بیشترکاهو', 'سفارسات', 'مذاشتن', 'ال5اده', 'همریخته', 'مرخزف', 'بایدزودتر', 'مهمانهامون', 'لواااااش', 'ذحم', 'هالوچیزکن', 'لکیشن', 'فصط', 'رانندخ', 'دارچینو', 'تومنیای', 'کیست', 'نمتونین', 'آخرمم', 'جداست', 'نمیذاست', 'فقژ', 'اسنپفود', 'اقلامه', 'دیزیایی', 'رستوراناشور', '16000هزار', 'سورپرازمون', 'جدیدصداقتن', 'تپخ', 'امیررصا', 'ناندخوب', '؟؟؟؟؟؟؟؟؟؟؟؟؟؟؟', 'روبخوای', 'بساه', 'ناپیلونی', 'keifiyat', 'صراحتآ', '5سیخ', '19300محاسبه', 'کوفتشوبه', 'پیتراهاش', 'دگئی', 'ٔدونم', 'اصلامزه', 'بسیییییااااار', 'البالوه', 'دارباشید', 'آلویزی', 'حدود1ساعت', '14عددی', 'اعتمادخواهدشد', 'میرزاقاسمیش', 'okموافقم', 'نمیخوردمش', 'شیرینایی', 'همیشهههههه', 'ظاهرشیرینی', 'سنگگهایی', 'بالاست', 'وتشکرکاش', 'ریدار', 'خوشمززه', 'نکنیدلطفا', 'بااسنپ', 'کوچکتره', 'فودعزیز', 'بسیارباشخصیت', 'مثلماکارونیه', 'نرسوندن', 'بولوبری', 'بریکلا', 'ردولولت', 'میفرسته', 'نداشتاصلا', 'ازاسنپ', 'استریپسش', 'مززه', 'غذاریخته', 'asln', 'پیتزاقارچ', 'لسمارتیز', 'ومقدارشم', 'نیکنی', 'یکست', 'اگرمیشد', 'بروتچن', 'سیترول', 'بهترناس', 'پامم', 'خشخشاش', 'نوستالژیی', 'توخوردن', 'چرررب', 'نبرگشتید', 'لبپه', 'اسپاسی', 'وبیمزه', 'میهمانام', 'میتزا', 'ناپلیونی', 'بزرین', 'سزارشون', 'کارزانا', 'سنگکک', 'وانمیستاد', 'متذسفانه', 'لذیذو', 'بحوره', 'شلوغتره', 'غذافوق', 'خشمزس', 'چوکوکیک', 'سفیدوقرمزوکاهوشده', 'اشپذ', 'شیریتی', 'فرتگی', 'سوماغ', '50٪', 'اخخ', '84٪اوردن', 'وکبابش', 'خیارشورشم', 'تولیستش', 'زرشکتون', '1zare', 'دلجسب', 'رقیبانتون', 'اماازنظرمزه', 'نیوردید', 'سیگاررانفرستادن', 'زیباست', 'سفاارشات', 'وسفارشم', 'کیکهنه', 'مونده2', 'تورنادویی', 'تازگیشون', 'نازکتره', 'استیکاش', 'سوسشم', 'سسیکه', 'میماسید', 'سویتال', 'بنظرم', 'اصلااااااا', 'کااااامل', 'خوراکهاتون', 'فیاه', 'کبابسرا', 'دوغشه', 'نوشاباش', 'تابرسه', 'صبحانتون', 'y99m1d15', 'afzayeish', '؟؟؟؟؟؟؟؟؟؟؟', 'ظولانی', 'بندیتونو', 'قیمهبادمجون', 'باخوراک', 'خییییییلیییی', 'پیتزاکویین', 'قوتشونه', 'مسئکل', 'هاگرجی', 'موجودیشون', '12550حساب', 'بدشددد', 'بپیشچن', 'دقتند', '4٥', 'وظاهرش', 'گوستتون', 'نشدینه', 'مبزنن', 'شیرینیخشک', 'آمریکانو', 'ساپگی', '30سانتیمتریتون', '20تیکه', 'نداشتیدو', 'هویجتون', 'فوووووق', 'نمیونم', 'همیشششههههه', 'امذوز', 'وپولش', 'ماکارون700گرمی', 'قرونپول', 'غذو', 'بیچینیدچند', 'هرچندباید', 'رسیدآشش', 'غذاهرو', 'هیچچچی', 'y0m3d11', 'پیتزاپپرونی', 'تیتاپ', 'بودمجبور', 'باسلقش', 'دیرارسال', 'واحدمراجعه', 'میشدنن', 'شرینیهای', 'من1کیلو', 'همبیگر', 'اماخوراک', 'ودورچینش', 'آنقذر', 'مغزداروبی', '،،،،،،', 'خشکارو', 'ونپخته', 'کااااملا', 'فلفلا', '400مترم', 'عاللللللللللللللللللللللللللی', 'اممنونم', 'نزدیکتونه', 'غذاواقعادیررسید', 'مینویسیمم', 'کهررایگان', 'اجیلش', 'چیکنتون', 'اففتضاح', 'کالدو', 'مدقع', 'بدبوئه', 'بخاطرطعم', 'تچین', 'پیرلشگی', 'پوزشونو', 'یفارش', 'فیلههه', 'داغوناش', 'کشیدند2نان', 'شایستشون', 'فیلع', 'برتد', 'ندلشت', 'مونذاشته', 'بستهئ', 'روکولا', 'پاستارو', 'حرررف', 'چایز', 'دوپاکت', 'ازنانوایی', 'شیرینیهاکاملا', 'سوخاریاش', 'ماینزش', 'دمجموع', 'عطش', 'ایرادبگیری', 'عالییییییییییییییییییییییییییییییییییییییییییییییییییییییی', 'کالباسو', 'ضحمش', 'ذخمس', 'ادستتون', 'بندریو', 'درسفارسات', 'پودرقهوه', 'کاملاسردتحویل', 'garmoon', 'برگرارسالی', 'پیکاتون', 'موادبانه', '12تومنی', 'پرازگوشت', 'سوخترو', 'یطرفش', 'سوختگه', 'خیابانو', 'ابرمون', '8تکه', 'عاااااالیییی', 'کاملاسردبود', 'رومحترنمی', 'رسیر', 'حررررف', 'وشیرینیهاتون', 'بستبندیشونم', 'هیچچچ', 'قارچارو', '2٥', 'فلفلاش', 'استیکتونم', 'روزباشه', '٥دقیقه', 'نیمدانسته', 'توسرما', 'میشدبعد', 'تاخیییییییییررررر', 'الویته', 'بگیدم', 'سالادکاسته', 'دیرررررررررررر', 'اینحد', '35937', 'اصلاوپیشنهاد', 'بسیاااااااااااااااار', 'برنگیزه', 'باااار', 'باتشکرازسرویس', 'پیتزامونو', 'یهرولت', 'طعمتون', 'بدنودیگه', 'جوجهدخوب', 'بعیدع', 'نذادن', 'پنیرپیتزاش', 'شکلاتیایی', 'ریحونم', 'عااااااالللبسه', 'سوسیش', 'نیاوردتن', 'وخن', 'گیشاس', 'ویگیری', 'خمیرشده', 'هابزرگتر', 'اژدرزاپاتا', 'بودامیدوارم', 'پرکنجدسون', 'چوکوبری', 'استخوناشون', 'عااااالییییه', 'لوبیپلو', 'لطفط', 'قیمتش7300', 'اسمپ', 'چینشو', 'رهواقعا', 'ضننا', 'ساندویچشون', 'y0m3d18', 'رسید2', 'اسکرامبلد', 'خمیییرررررر', 'کوبیدشم', 'هاداگ', 'بودوخامی', 'بندیهاتونو', 'ثابتتونیم', 'سررررررد', 'نوتلایی', 'عابی', 'مهمانهارفت', 'متاصفم', 'فرستادن3', 'غذاا', 'ثابتتون', '1نیست', 'قشننگ', 'پیتزاهاست', 'کالزونش', 'غذاصفر', 'خواهشاتوپخت', 'انشائا', 'تاخی', 'زمینیاشم', 'اسلایسها', 'تافتان', 'بودوانگارموندهبودغذا', 'سافرش', 'شیرهارو', 'سنگکسبوس', 'مخصوصشونم', 'شکرداشت', 'نخوداش', 'دسط', 'انقضاست', 'بیگیفیت', 'گرووون', 'مارشاملو', 'مزهئ', 'وبیکیفیت', 'رستدران', 'امریکانو', 'پواچا', 'ساندویچیای', 'کنرینگ', 'بخوریدفرقی', 'بندیشونم', 'پیتزانازک', 'راظی', 'چهارتکه', 'غذابیشتر', 'بببنم', 'نبودد', 'نمیکنیدیابرای2عددبرگریک', 'کلابش', 'تاخیربسیاررسید', 'میخواخم', 'بیسلیقگی', 'حالبکه', 'خمیربود', 'بودآبروی', 'موادمصرفیش', 'هردوروداشت', 'باسبزی', 'سبارش', 'فودمرسی', 'پیتزاکم', 'گذاشتا', 'تایمتون', '40٪', '199750', 'ادامسها', 'y0m3d2', 'دربشو', 'نکنع', 'پلومرغ', 'پارمژانا', 'ماندویچ', 'بیسسسسسست', 'fogholade', 'بیسکوئیته', 'سالادرو', 'مشنبی', 'خوببا', 'میفرسی', 'بهمن97', '1آورده', 'احناس', 'سوخاریمون', 'بمبیای', 'پیکشون', 'سراشپزدرست', 'نمییرزید', 'snapp', 'تندوریش', 'روپیک', 'کاهویه', 'مقدارناچیز', 'شورر', 'وبدطعم', 'سیبزمینیشم', '٥6', 'پکیجشون', 'هاگلز', 'خوشششش', 'غذااااااا', 'پیتزادونفره', 'پودراشون', 'افریکانا', 'گارنیش', 'مقدارموادآن', 'کارکنانشون', 'تازهههه', 'حساپی', 'عدساش', 'نزدیکexpireشدنه', 'عالیو', 'غذااسراف', 'امروزمهلت', 'بودیدنان', 'آروستو', 'مطکرد', 'چیزکیکا', 'خیارشود', 'نمره22', 'استرپیس', 'ادرسرو', 'همبرگرهاشو', 'حبفه', '20عددی', 'عالییییب', 'هصبانی', 'تاخیرر', '2سیخ', 'فلفلشو', 'واقعاغذاهاش', 'ومیشن', 'گردوشون', 'نوشتش', 'روکمتر', 'منچندین', 'اییینهمه', 'شوخاری', 'وماست', '455گرمی', 'دستموم', 'شوووور', 'نمیخواستاینو', 'شوربود', 'الوپیک', 'ییسکوئیت', 'شایستگیشو', 'ماالشعیری', 'هاکاملا', 'آدامسو', 'ماینوزی', 'سبوسدارسفارش', 'یکیلو', 'راسحه', 'غذارواوردن', 'پیتزاییه', 'باقلواگذاشته', 'بودقابل', 'ژامبن', 'مشماهای', '20٪تخفیف', 'نمیخوونه', 'انقضا21دی', 'سوخای', 'کرواسانها', 'فوییل', '5هزارتومنم', 'سالادمون', 'لذیذذ', 'نمیدوتن', 'حتتتما', '٥سانت', 'سلارش', 'یکساعتو', 'اصرافه', 'نوتلاس', 'بعدخوردن', 'وحالمم', 'سفارشاتمو', '460گرمی', 'انارتون', 'داااااغ', 'فیلاتو', '2vomin', 'پنیرسفارش', 'اصلادتازه', 'آوردد', 'تمیزهانتظار', 'پایینتراز', 'چبکن', 'متتسفانه', 'اریگوانا', 'مسافتمون', '135800', 'بعقیش', '٥کیلو', 'دییقه', 'نوشابم', 'وهمکارم', 'میداددددد', 'دائمیتون', 'توقعشو', 'دوبرابرنامی', 'خضوری', 'وباکیفیته', 'وساندویچم', 'کزاشته', '1سیخ', 'ازاسنپیااااکه', 'فاکتورمم', 'مزززززه', 'بندیای', 'عاشقتونمممم', 'غذابسیار', 'واقعاراضیم', 'چنگالاش', 'نوشتثابه', 'یربع', 'چرادقت', 'بودسالهاست', 'ساندویجو', 'عجلگی', 'آغسته', '41700', 'هستیمموفق', 'ربخت', 'marinade', 'ساندوبچ', 'بادنجانتاتان', 'باتشکرواحترام', 'اینجوریع', 'میصرفید', 'یکدونشم', 'کیکوک', 'سرازخود', 'سنجتون', 'نقصیر', 'ماکارکن', 'خودتون550', 'اوببود', 'سیرنشدم', 'معمولییه', 'رستورنت', 'ژانبوناش', 'سفارشس', 'دونینوز', 'انشاللا', 'مشتریهاتون', 'اسنپه', 'ریختخ', 'peyketon', 'دوسش', 'پیتزاکلفت', 'سوپرداگ', '55تومن', 'سیراشونم', 'تنوجه', 'پرپرروک', 'بودیدماپول', 'نمیمومد', 'دورچبن', 'ژلاتو', 'وتازست', 'بهتروشکیل', 'سریییع', 'متمیز', 'پنیرررر', 'بسییااار', 'بومیداددرضمن', 'نمیکنیدبرای', 'مسئولیتتون', 'پنپش', 'اونجاست', 'کاباس', 'پیتزاداخل', 'اسپایسیش', 'تاخیییییییییر', 'میاوود', 'برمج', 'غذاهاخیلی', 'اصلانذاشته', 'بسیارمونده', 'شدع', '360و', 'لسنپ', 'پیکاتونو', 'بیسکویبت', 'اکردن', 'چیگن', 'ردولوتش', 'عالیییییتر', 'بینهاست', 'عااللی', 'برگرلندم', 'زکان', 'لواشه', 'امقصد', 'عالیببیییی', 'کیکهاتون', 'کیفیتتونو', 'لذیدیه', 'سالهاست', 'ازهمچین', 'اینطورمسائل', 'درصدجعبه', 'بیسسسسیییااار', 'بوددید', 'پرکنجدش', 'رستوزان', 'y0m11d8', 'واقعامزخف', 'مقداروزنی', 'مبلغمم', 'اسنپم', 'اسلایسشو', 'لذذذیذ', 'سرددددددد', 'آبادتون', 'میچیندند', 'بدهارو', 'ازکباب', 'اکقر', 'کوبیدشو', 'مطمئناسفارش', 'یفرستین', 'ووارفته', 'فرستیدو', 'امولای', 'چیوزا', 'اغذیع', 'غداشونم', 'پیتزتپا', 'نوستم', 'مرینه', 'ایتالیلایی', 'تندفلفل', 'رستوری', 'اماکیفبیت', 'فووق', 'پایداروسربلند', 'سایزهاشون', 'ستجابک', 'شدیییید', 'میکشهارسال', 'گوچیکی', 'رولتایی', 'بسیارسفت', 'استریپستون', 'وزن1200', 'طعمو', 'میکنندمخصوصاسوپرشکیبایی', 'العادهههه', 'لنوار', 'برتولیه', 'بگیک', 'میرقلمی', 'ساندویجه', 'دائمشون', 'رسیدا', 'دندونامم', '4تیکه', 'اساسیتون', 'mahsolat', 'تاگوجه', 'بهههترین', '11400ثبت', 'قیمتهاشونم', 'bastebandi', 'کمیتشون', 'میدادوقتی', 'نپختس', 'بهنظرم', 'چیپساش', 'تاخوده', 'الارغم', 'سالاداش', 'حتمارسیدگی', 'فودهمکاری', 'حتلا', 'بعداشتی', 'سدهدبود', 'تنوریاش', 'نفرسین', 'قنلن', 'میفرستدین', 'ترچون', 'وباکالباس', 'عددثبت', 'ژوزک', 'y0m3d16', 'بهداشنتی', '48هزارتومان', 'برششششته', 'زمینیشو', 'خیارشورش', 'سریقه', 'بسییییا', 'مستریاتون', 'لذیده', 'ارزانتره', 'بعدغذادلیوردشد', 'تاغذارسید', 'باسفارشم', 'بسیاراشتهابرانکیز', 'ردولت', 'ابپزشو', 'ثابتمم', 'فودراضی', 'مخصوصاکردویی', 'سوپریوم', 'برنجتونم', 'پیگیریمو', '11تومن', 'خوشعطر', 'زیاددددددددددد', 'انگارنصف', 'اینچیزام', 'خوشممممممممززززززززه', 'ممنوننن', 'نمیرنن', 'ومیزانش', 'نظیررررر', 'بینظیرید', 'فوداش', 'مکنان', 'کزیکی', 'نظرفقط', 'باشنشون', '60سالم', 'بودوپیک', 'فاکتورخودشان', 'ساندویچمون', 'نارگیلیاش', 'تشگیلاتی', '1ساعتو', 'بودوپیتزا', 'اقالطف', '5500تومن', 'ونخودچی', 'دیرموقع', 'ساندویجهای', 'سیگارگرونتردادن', 'زمیینی', 'اصصصصلن', 'موردیاسفارش', '5ویفر', 'نشکو', 'نوترابار', 'خیارشو', 'ماکارانیش', 'رسیدتولد', 'اونحال', 'العاددده', 'سیغ', 'برخوردبعضی', 'بروزتره', 'بودیددرکل', 'اصلاشبیه', 'خوشمزتونم', 'سخاریش', 'کاملانون', 'وبادیگرتافتون', 'یچیری', 'نبورده', 'قولیتون', 'ذولبیا', 'همبرگراماده', 'برنگردوندند', 'خداسرشاهده', 'پارمزانش', 'مقدارشیرینی', 'کارنوسو', 'موهیتوها', 'ممنونمهم', 'اصلااااااااااااا', 'خیارشورهاس', 'نمیدادمزه', 'سبزمینی', 'سوسیسا', 'فرستادناین', 'هوصوع', 'بیاریین', 'فاجعهههه', 'بودوطبق', 'نبخته', 'کجاهاست', 'خریدمونو', 'زیادتعریفی', 'شکلتی', 'غداتون', 'جوجشم', 'اینقدابلیموزده', 'اصلاراضی', 'میشوز', 'از15دقیقه', 'دربغ', 'y0m12d20', 'جالبیداشت', 'خوشمزهبه', 'صدرطهران', '؟؟؟؟', 'قارچاشو', 'چزکیک', '6000برای', 'داخلرباکس', 'ازاینجاروتوصیه', 'انتقادشو', 'lezzat', 'سوئاستفاده', 'عالللللللللللللللللللللللللللللللللللللللللللللللللللللللللللللیییییییییییییییییییییییییییییی', 'خوبهاست', 'y0m4d30', 'واثلا', '26هست', 'بارنیتا', 'ادیوه', 'y0m900d14', 'سیبزمین', 'چقدرررررررررررر', 'ولیکاش', 'شیشلک', 'وووولی', 'چیزبرگرهایشان', 'انقدریکه', 'زیبسی', 'فیلینگی', 'مرتببه', 'منوبایدسس', 'بودهمچنین', 'بودغذا', 'قاشقشو', '5تومانی', 'توصیحاتو', 'مقادیربسیاربالای', 'ازنظروزن', 'جنساشونم', 'دوتایک', 'فرسته', 'چررب', 'هیچچچچی', 'واقلا', 'سوسیشو', 'تولددوستم', 'آوسام', 'ترهاشون', 'افتضاحححححح', 'زرفش', 'سیختون', 'کارکت', 'گرقتم', 'خوببب', 'آالعاده', 'فرلموش', 'بیشترخواهدبود', 'پتزا', 'سفیییددد', 'اگرقراره', '3شفارش', 'نسبتل', 'خوشمزشه', 'ظمخت', 'یکپرس', '؟؟؟؟؟؟؟؟؟؟؟؟', 'خوب3', 'شا6و', 'ایرانیرو', 'y4m7d98', 'بوداحساس', 'شیلاست', 'سیرکن', 'میزاقاسمی', 'شعبشون', 'چیکنش', 'چندایی', 'نطارتی', 'عاللیییی', 'پادمجون', 'اینپ', 'هاتداگی', 'کیفیا', 'هایدایی', 'مفمولی', 'وسایلایی', 'ساااااااااااعته', 'فرانسویشون', 'ishala', 'زیاااده', 'نگهداریتونو', 'چسببد', 'داگیه', 'مفهمیدم', 'سرگیس', 'ساندویجشون', 'غیرازین', 'کوکایا', 'پستزا', 'kبرای', 'باتشکرازاسنپ', 'کالاهاتون', 'ازخوده', 'ممنوو', 'ازشیرینیهای', 'میدادبرنج', 'نوشیدنیا', 'برگرتونم', 'بدمزهدر', 'خپب', 'ریحونا', 'لیستمحصولات', 'اجناسک', 'پودرپسته', 'پیتزاا', 'وتشکرازهمگی', 'راضکی', 'توتوضیخات', 'عاللییی', 'اناناسم', 'افتضاحححححححححح', 'پااستیک', 'ددرست', 'کذلشتم', 'میدادکره', 'خوردیمش', 'وبعدبادست', 'برقرارباشید', 'محصولاتون', 'سوخاریشم', 'حدبرشته', 'ترابیکا', 'ژامبونا', 'نظییییر', 'بااونجا', 'گودایی', '29700', 'باگردن', 'اتنقاد', 'چیزبیگر', 'شایستشه', 'طلمشو', 'انداختیمش', 'بدطمع', 'یوخادی', 'خیلیع', 'لطفااگرخوراکی', 'بودش', 'نبودهمینطور', 'اگزم', 'پذیراییه', 'پیشنعاد', 'gheymatha', 'شیرتاریخ', 'پنیرشون', 'باشکرواب', 'عجججججججب', 'کبابیشون', 'ناپلیونیشم', 'سالادفصل', 'چندباراین', 'سوپرتون', 'العاااااااااااااده', '2ومه', 'وخوشمزست', 'پختیدش', 'دورچیناش', 'درستکاریه', 'برتجیو', 'طعمزغذا', 'پیراشیکی', 'کروناستیزی', 'پوستع', '90٪', 'انداززززززه', 'رسیدممرسی', 'باگتم', 'اشانتونش', 'نپوخته', 'فقققط', 'ازماری', 'پیکمون', 'روپخت', 'ناپلونیهاش', 'غذاسردوخیلی', 'قیمتاتونم', 'مخلافاتی', 'خدابرکت', 'تاازه', 'غذت', 'بندریاتون', 'تمومش', 'آشپزتون', 'ارزونای', 'گذاتشته', 'خیلیاست', 'هبرگر', 'پیراشگی', 'پرفیله', '0پیتزاها', 'باماهاس', 'پرپروکش', 'طعماش', 'امروزنون', 'تجربهئ', 'بعدازگداشتن', 'امابایدبه', 'نفربدشانسو', 'دیقش', 'جزقاله', 'بدبرخورد', 'بودوپرازسس', 'قیمنش', 'باربیکرو', 'مقداااااار', 'خمانند', 'چهارغله', 'اشتهامون', 'بسییییییییااااااااار', 'عذاتون', 'وازانجاییکه', 'پنیرااای', 'خبس', 'لسیار', 'برگرلند', 'اتتظارم', 'سمستون', 'سیستمهاشون', 'آچما', 'پااااایین', '09میباشد', 'هرگاز', 'دراورر', 'زودرسید', 'عدرخواهی', 'اماممنونم', 'سوپرمارکتاس', 'کاهوئه', 'بگدش', 'آشپزشون', 'تورستوران', 'برگزدونین', 'پالمو', 'پیتزامنترال', 'حضوریتون', 'سوپشون', '9000تومن', 'قیمتمو', 'خوشمزززززززززه', 'نوشابش', 'بذخورد', 'کرانچینگ', 'گرمممممممممم', 'بودperefect', '45مین', 'نمیرزید', 'غذامم', 'سفارشهامو', 'عاااااللی', 'هاواقعاتندبود', 'همینطورمشتری', 'ferestadid', 'بسیارافت', 'خوزمزس', 'بدین', 'عااااللللییی', 'الییع', 'شیوکیک', 'ببات', 'پاستاشو', 'ویخته', 'میرسبم', 'پلاکمون', 'باروژکوروش', 'رساوران', 'اسفنجهاشون', 'خوشمذه', 'خععععلی', 'وبالاتره', 'دورمیشه', 'برسنان', 'شنزاره', 'وخییییلی', 'مبودم', 'آلواورا', 'هاخشک', '3٥0', 'باتشکرازشماهم', 'وسروقت', 'ناردونی', 'fogholadast', 'عالللللییی', 'یکدساعت', 'فلمکار', 'برخوردارنبود', 'یکوچولو', 'بشههمینجوری', 'میدادیکاش', 'نمیرسیدتوش', 'ساندویچتون', 'بسیارکوچیکه', 'نوتلارو', 'متریالش', 'پرملاتی', 'بسیارباادب', 'زرشکو', 'سردددددد', 'اسموکیش', 'خیارشون', 'ساندویچاشو', 'پیتزاااااااا', 'چندمیه', 'بوددورچین', 'آروسترو', 'گررررررم', 'ونستند', 'همینطورپایداربمونه', 'اورجیال', 'همهشه', 'برگزدرخت', 'طعیم', 'افتثلح', 'بینهلیت', 'مرغهاجداشده', 'انقدرررررررر', 'موزارالا', 'merciiu', 'بکساعت', 'پنیربود', 'نوتلاش', 'خووووووشمزه', 'افتضاححح', 'بارروغن', '٥٥دقیقه', '79040', 'نمیدادو', 'تشکرازاخلاق', 'نوونی', 'y0m0d80', 'ایتجاست', 'غذاتعداد', 'نذارینش', 'ایتالیاایی', 'چارپنجتا', 'سفارم', '20٪', 'باروژم', 'وبدهست', 'انقصاش', 'خیارشوربود', 'پنیرسوخته', 'روزلنهدسفارش', '4بارزمان', 'ارسالشو', 'عالیلود', 'پرپرووک', 'خجاب', 'نرمتروچرب', 'کالباساشون', 'جعبرو', 'sholam', 'پلوسرد', 'غذامونده', 'بدددددددد', 'نداشتمته', 'بیسترو', 'y98m11d15', 'کراسون', '30هزارتمن', 'نشاط2', 'انگلر', 'همبرگرای', 'سوخاریشون', 'نمیتونیدبفرستیدخب', 'قشنگتره', 'سوپرمارکتتون', 'کیفتتونو', 'هابانرو', 'گکشیدم', 'سالادکلم', 'پیتزش', 'داگاشونو', '٥٪', 'tandoori', '0٪', 'غداترش', 'عالللللللی', 'شیرپسته', 'میکروسالاد', 'شرمتده', 'استرپس', 'دستتشون', 'نوترابارم', 'ساندویچا', 'غذاسفارش', 'زودفودی', 'همینکباب', 'غذامونم', '1جنس', 'ریهونش', 'آلکینیومی', 'افتضااااااااااااااااااااااااااااااااااااااااااااااااااااااااااااح', 'مدارهست', 'چلوجوجه', 'لفمه', 'بامبه', 'غذاعالی', 'باززبود', '9روزبراش', 'میزاشن', 'گذاشتیمش', 'بهرحالدازهمسایگان', 'سیرنمیداد', 'بستبندی', 'پتیزاش', 'مخصوصاعالی', '11سفارش', 'تومنم', '30٪', 'کباباتون', 'رولته', 'دسرسروته', 'کلاااااا', 'شیمیایرو', 'شیرینیاهش', 'ارسالشونم', 'ووقارچ', 'طردن', 'تاجب', 'ترمیکس', 'نوشتبه', 'قبلناس', 'میگیریمم', 'وگوشتش', 'مبدهم', 'مالبده', 'درکالای', 'مالیزان', 'توضیحمو', 'بررکت', 'میکسیه', 'بگیریبالاخره', 'سالادمونم', 'اسفنجاش', 'وجتریانا', 'هرظب', 'غذادیگه', 'اشتبک', 'دادنسپاس', 'پلاکچه', 'تاخیراااش', 'منتظرغذابودیم', 'اصلاطعم', 'نریختین', 'رصایت', 'ذرتتون', 'دلمزه', 'نگذاشتون', 'خولستیم', 'لیمونادو', 'توضیحاتمونم', 'شفارشم', 'نوناش', 'کتفو', 'آجیلشون', 'متتهی', 'نکنخ', 'شکنندست', 'تمیییییز', 'y0m0d82', 'طغم', 'رشتوران', 'بدستمان', 'مواردبسیار', '3تیکه', 'تازتون', 'نولند', 'وحستناکی', 'بودولپه', 'راندارندویاامکان', 'اینترنتیا', 'لازنیا', 'یزدیشو', 'برد6', 'رژیمیشون', 'بیشتره', 'نونبرگر', 'فاکتورخودشون', 'غذارم', 'درپیتزا', 'ترینید', 'متاسفمممممممممم', 'عالللی', 'بذاریمش', 'شبرینی', 'فوپی', 'bgirim', 'انگاااار', 'مثبتشونه', 'رستورانیه', 'y0m6d6', 'بدبودخیلللللللللیییییی', 'ولییییییی', 'پرطرفدارتونه', 'y0m500d7', 'سریعامیکروب', 'جنگلیشو', 'ویابپرسبد', 'وشکرکمترمصرف', 'امروز18دی', 'نمیصرفید', 'افتضاااااااااااااااح', 'رستوراناش', 'تعزیف', 'یوجا', 'لقمست', 'مدلیههه', 'پنید', 'کروسانهای', 'بودئگوجه', 'ممقدار', 'ازاسنب', 'بوشار', 'بفرستناز', 'کیفیتدعدا', 'نفرستبن', 'وبسیارمودب', 'مناسبشونه', 'گیشاتون', 'میخرممنم', 'اسانسوراز', 'میجویدیش', 'بفرستیدآدم', 'نبودااا', 'آشیز', 'وسرموقع', 'تمشکا', 'چتنتا', 'ودانمارکی', 'حتمامابایدبریم', 'ممرغش', 'میعرزید', 'واقعادعالی', 'بسیاااااااااااار', 'واقعاتنوری', 'قبلولی', '32400', 'اقااااا', '16تکه', '14تومن', 'میباست', 'مزههههه', 'کیفتشم', 'نیوردین', 'y0m6d5', 'رسیدر', 'ودنر', '1saat', 'اورودن', 'دراورویم', 'سافارش', 'قرمش', 'فثقاشق', 'راااحت', 'y0m50d23', 'پودراشو', 'تازع', 'داریمچه', 'داگمون', 'ژامبون202سفارش', 'کنجدذو', 'زعفرونشه', 'واندرلایف', 'خورشتک', 'اصللاا', 'چیزلاوربرگر', 'همبرگرااااااااش', 'ثحبت', '19تاجنس', 'سوپرماکت', 'سفارشدادم', 'یخورد', 'فروروشه', 'توضیحاتمم', 'چیکم', 'بروچن', 'اکثرل', 'قسمتثبت', 'اولینتجربع', 'خااااام', 'دوروکنجددارمعمولی', 'شدددددت', 'دوسراوردن', 'بشدددددددت', 'پرخامه', 'دقیقاااااا', 'تاسعا', 'سانوپدویچ', '30رسید', 'اننقققد', 'وسالادونوشابه', 'دردیتزا', 'غذااا', 'وپلاسیده', 'مجبورشدیم', 'بودوسیب', 'بیفشم', 'غملا', 'غاشون', 'ونارو', 'زیاده', 'پیتزاهاتونم', 'گوشتاتون', 'mizad', '805گرم', 'تایمو', 'پخشه', 'تقریبا200', 'شامانا', 'بیسکویتو', 'بودوازروغنی', 'یکفیت', 'میخر', 'میزارینو', 'استرسپس', 'رگن', 'زودبدستم', 'خوشنزه', 'نفرسید', 'لحاظحجم', 'ودمتون', '230میل', 'موجودیکه', 'تازهههههه', 'ادرستونم', 'بیفش', 'بسییییییااااار', 'ثابتشونم', 'شیشلیکه', 'بشنپیتزا', 'بایودنت', 'فرستادندکه', 'عالللللیییی', 'ازتولیدش', 'وامیدوارم', 'فشفه', '؟؟؟؟؟؟؟', 'حدانتظاری', 'پولوهای', 'مزیتشون', 'پیراشکیش', 'نسبتاپایین', 'کالاهارا', 'سلطانیو', 'فود3', 'پاستااز', 'آجیله', 'یکربعه', 'بیمزگی', 'تنوریه', 'snappfood', 'کبابهاتون', 'شیرینیمو', 'استیکشون', '10میدادم', 'برگرا', 'رسییدگی', 'کاغذزیرش', 'بودن27500', 'قزشون', 'پاستاشون', 'دلپذیرتره', 'برگرسردرا', 'چنذین', 'سودتودشون', 'کرایشو', 'اینکارک', 'نوخته', 'دردصورتیکه', 'نارلضی', 'امانداشت', 'سبزجان', '9400ارسال', 'منوتونه', 'استیکتون', 'مخواست', 'تاحالاباچنین', 'وبینظیر', 'سفارشهارو', '3دفعه', 'سبزوتوت', 'پنیراستفاده', 'گوداتون', '59هزارتومن', 'عکسهاست', 'آوردناما', 'ازتواصع', 'ویژگیهاست', 'آمدهمقدار', 'امریکاایی', 'نچشیدمش', 'نوتلابسته', 'ایتالیایو', 'سفارشمم', 'پیتزاهارو', 'دراپلیکیشن', 'گرفته1', 'ادویهاشم', 'وااااقعاااا', 'سوپرمارکته', 'وپیتزاش', 'یفارشی', 'یلیتری', 'عالییییههههه', 'پیتزاس', 'سالادهاشون', 'بهذغذای', 'تشکراسنپ', 'گروووووون', '9٪', 'وسرتایم', 'روحیف', 'اومدماست', 'واقعاازهمه', 'دیتش', 'واسنپو', 'خردبودن', '،،،،،', 'حلیمو', 'برتولی', 'غذاعه', 'باقالیش', 'عالللللیییییی', 'بودگفقط', 'بیسکوییتش', 'خیبیلی', 'سرویساشم', 'رستوراناییه', 'بومیداد', 'مشتریهاتونو', 'ناجورن', 'منوتون', 'کلمتون', 'باگتشون', 'آلوچش', 'y0m5d2', 'شهدشکربود', 'غذامثل', 'موزهال', 'کشیدتابیارن', 'مرغمتاسفانه', 'سانتیشون', 'شمزه', 'یکبارمصرفی', 'للعاده', 'دیروزساعت8از', 'بودحتما', 'دیرکردتون', 'میرسیدبه', 'ببرولش', 'خیلللییی', '100در100مشتری', 'خداروشیرینی', '2اب', 'نبودمتاسفانه', 'بخوریماااا', 'ناخشایند', 'هایپری', 'بودابروم', 'رستورانهارو', 'فلفرش', 'شهسواره', 'پیتزاتوکیو', 'متاسفناه', 'تابفهمید', 'وطعمشم', 'غذاهتون', 'تاززززه', 'فودامیدوارم', 'دیدمش', 'رسییید', 'میلکوم', 'میغرسته', 'یتزا', 'طراوته', 'sheddat', 'دیررر', 'سزاز', 'دئودرانتی', 'تحملو', 'نودلیت', 'لوواش', 'واقعاازپرپروک', 'پسفرداست', 'سادویچ', 'باسفارشمان', 'فانتای', 'کالزن', 'هاتداگش', 'مرغاشم', 'کبابع', 'اینطورباشد', 'برخوردپیک', 'خلالیه', 'زیااده', 'بودکاملا', '3سیخ', 'نمیدونتستم', 'ادویش', 'شزارشم', 'وکاملایخ', 'وعی', 'روغش', 'آمربکایی', '27هزارتومنی', 'خاطرمورد', 'نبوددددددددددددددددددددددددددددددددد', 'سوهاری', 'تخفیفاتشونم', 'خشششک', 'العادههههه', 'کاملاااا', 'نداردوخیلی', 'دقیقااا', 'ترازشکلات', '000تومن', 'نبودومالیات', 'سریاشم', 'فرنگیتونم', 'خوشمزههههه', 'هییچیی', 'فروشیاست', 'معمولب', 'تولیدوانقضا', 'کجاپ', 'پروروک', 'برمیگردوندنم', 'ڇرب', 'غذاکاملا', 'قارچیشو', 'غذااصلا', 'شماوسپاس', 'تواسموکی', 'حتماخدایی', 'haalam', 'رمولادا', 'اسکویید', 'انبارتونو', 'حدود20دقیقه', 'فزانسوی', 'آروستوپ', 'ویفرشکلاتی', 'تعدادسس', 'چیتزا', 'پایینتره', 'سرددد', 'میگوارو', 'جابجاشد', 'ممشخصا', 'نگفتنه', 'کلللللی', 'کوبیدتون', 'ونزدبک', 'بدپخته', 'سیرتون', 'فرسنادین', '1جوجه', 'بادستو', 'ابگوشتم', 'تمییییز', 'دوتافیله', 'ماستاش', 'غذامیگیرم', 'رسوندش', 'باقلوایه', 'دوبارتاحالا', 'نداشتهمه', 'قبلکه', 'داگم', 'y0m6d26', '30600', 'املتو', 'کنمتری', 'mahdode', 'سیبزمینیش', 'رسیپ', 'سییهم', 'میازه', 'یدشن', 'خریدنکنید', 'هایپها', 'شیرینیهاتون', 'پیشگیریاز', 'کاملابهم', 'zamini', 'بعیدبود', '7290000', 'شددددددددددددددددددددددددددددددددددددددددت', 'بسیارررررررر', 'ثابتشوم', 'ظرفعای', 'ازناتلی', 'ترکیبشو', 'میکروسگوپ', 'بعدسوخاری', 'ویحوم', 'رستاران', 'تماشد', '5٪', 'یکنفرست', 'فرایزا', 'همبرگراش', 'وجوجهاش', 'اژدرو', 'pashman', 'بوودار', 'تایمشون', 'مارسبانی', 'تروتمیزه', 'فونگی', 'کوکارو', 'پیکاشون', 'esmartizayenkheili', 'سوپربرگر', 'فودمیدانندنه', 'فیلینگش', 'efteeeeeeezaaaaaaah', 'نبودپای', 'کالاست', 'گاردنش', 'اتموم', 'محتویاتمبیرون', 'خودش', '1000گرمی', 'بیشترنان', 'چت', 'کزش', 'کاغذساندویچ', 'خیلیدشیو', 'رساورانهایی', 'چلوکوبیده', 'کترینگها', 'سزارتونم', 'گوستها', 'افتضاحححححححح', 'میخواشتی', 'پسچیده', 'کارزنا', 'اواردن', 'هوشمزه', 'آبگیریه', 'خودتو', 'برمزه', 'تنهااا', 'ماتزارلاش', 'کپنی', 'فودبخاطر', 'اینطوربیان', 'کنیدفکرکنم', 'رویالتون', 'شدسپاس', 'تماااام', 'سسشون', 'اتخابم', 'ضائقه', 'سفارشناقص', '؟؟؟؟؟؟؟؟', 'سرررررد', '150تومنی', 'تندیشو', 'درمنودرج', 'سساشونم', 'بودطعم', 'مصرفییییییییی', 'خوشمززززه', 'oخوراک', 'همههههه', 'رسیددد', 'زولیا', 'شگلاتی', 'کاکایوییش', 'وتشکرازماهک', 'بودوبرخورداسنپ', 'چراحذف', 'ذعفرونی', 'کوچولوبود', 'همیرگر', 'فرمنر', 'هزاااااار', 'باکسشون', 'طعملذت', 'باپلو', 'ناندان', '4500حساب', '35٪', 'نانن', 'نازاضی', 'فرداسچه', 'ابعادخیلی', 'تحپیل', 'سوپشونم', 'واااافعا', 'آلبالوتون', 'لظیظ', 'کیفتیتش', 'قلمکارتون', 'براگراتور', 'زیرسبیلی', 'موندتونو', 'گوداش', 'نبودکاملا', 'دونرگاردن', 'نوندسنگکش', 'انقدرم', 'روراضی', 'سبوسداره', 'مهمونهام', 'شیش6ای', 'جافتاده', 'دوبللللل', 'کراکزف', 'زیارد', 'پلاچنتای', 'وبهتره', 'هنیش6', 'بهقبل', 'پیتزاسیرواستیک', 'جزیلا', '2پرس', 'اونطرفشو', 'شیرینیارو', 'لمسر', 'غذارسید', 'بینظیرو', 'ابگوشتش', 'عمیشه', 'پذیرز', 'زینگوراتور', 'خخخخییییلللییی', 'خوبوخوشمزه', 'کیلومتره', 'نیمذارین', 'ومرتبی', 'دونتونو', 'دقیقا50دقیقه', 'پیتتزا', 'فلفلایی', 'صاحبخونست', 'نانهاگرم', 'معرررکه', 'سوخاریا', 'مشخل', 'اینوارو', 'نقدیو', 'کشیدتابرسه', 'کنجیدی', 'پیتزاخوب', 'کپفیت', '4هزارتومان', 'وردرز', 'عاالییییی', 'دادیم0انگار', 'اینقدرررررر', '6تومنی', '2پر', 'جامبوجوس', 'تیتابی', 'بیسکیوییت', 'اممممممیدوارم', 'تنوریا', 'نوستالژیش', 'سرومیع', 'پایییییییییین', 'دورچینای', 'انثدر', 'ضعیففففففففففف', 'خرجکردیم', 'لقمش', 'همبنقدر', 'نمیدنم', 'التفاوتشو', 'دوتاادم', 'تاخیرررررررر', 'دربیارمشون', 'رران', 'شیرینهافوق', 'ژامبونای', 'نمکینن', 'پومودور', 'قارچشون', 'همییییشه', 'گروننه', 'میزریم', 'عاااااالیییییییی', 'پاستاهه', 'بعد40دقیقه', 'بهترمیشد', 'اینباربال', 'میشودبهتر', 'دلیوریشونم', 'y0m0d97', 'بخوریدواقعا', 'وانقضا', 'ماکارونها', 'نمالیده', 'قلرچ', 'وبرشته', 'کاکاعو', 'بدکیفیت', 'زمانینه', 'ماکارانی1', 'کرغ', 'دهرید', 'نبوددد', 'مزههههههه', 'فرمایید4100', 'وخیلیی', 'سردبودانگارتویخچال', 'بودمدرصورتیکه', 'هر2بارم', 'کرونایی', 'داگش', 'خیررر', 'راری', 'وشایدبرایشان', 'قزاا', 'تتد', 'وهمینطورممنون', '90تماس', 'وافلها', 'ساندویچموندهبود', 'یامرغ', 'مودبتون', 'تکونمم', '200٪', 'برنجشون', 'بادرشکسته', 'خوردمش', 'تسنپ', 'نمیگنم', 'افتضضضاااح', 'قارچاشون', 'ازخوردنش', 'بیفی', 'اسموکیه', 'نامدبرانه', 'همبرش', 'دردوبطری', 'پیتزاهاشو', 'مکرویو', '9٥00', 'پیتزاسیب', 'y0m4d3', 'کویینتون', 'سیراشون', 'چییزبرگر', 'گذتشتند', 'براگفتن', 'بخودتان', 'سنزیجت', '1گوجه', 'اسلایساش', 'y0m7d4', 'وراضیم', 'پرررررررررررررررررررر', 'بیستنیها', 'واینبارم', 'میزاریدو', 'ازشاهو', 'دییییییرررررررر', 'شیرینیاشونه', 'پالمیه', 'دانمارکیشون', 'بهتارین', 'عالیییههههه', '،،', 'ازسالم', 'tarkibe', 'خووود', 'یرخلاف', 'میزنیذ', 'شبرینیهای', 'بسسسسسسسیار', 'پبتزای', 'آشپر', 'راآورد', 'واکثرجنساش', 'مخلفاتتون', '95٪', 'لوسیده', 'تومواد', 'کنچرب', 'سفآرش', 'اتصافا', 'سیرواستیک', 'کردئم', 'y0m1d19', 'y0m4d1', 'کالباسه', 'پاستاهم', 'ارزونشو', 'ماشرومش', 'نثارخوشمزه', 'پپرونیشون', 'بهدجای', 'بهترینه', 'fتضاح', 'ساندپیج', 'سوخاریاتون', 'وبودارضده', 'متاسفممممممم', 'پیراشکیا', 'هرینه', 'عالس', 'برنگردوندن', 'وخوشمزس', 'زعفرو', 'گوشوش', 'کالباسهاتون', '28دادی', 'مارگارتیا', '45سفارش', 'برگرمرغ', 'بهدصرفه', 'برگام', 'انگشتامم', 'مغاییرت', 'انتخابمونه', 'پرسنلتون', 'هستیدفقط', 'سخاریا', 'خشکههههه', 'تاخیرارسال', 'آوروند', 'khorak', 'رودسستتون', 'هایدای', 'سررررردی', 'بدکیفیتی', 'واقققققعا', 'افففففتضاح', 'ژورکی', 'الدفشن', 'اضافیو', 'پیازاش', 'امسدوارم', 'گرغته', 'علثالی', 'همینطورباشین', 'تویینیگز', '15باری', 'حضووری', 'کمنون', 'عااالس', 'انقضائ', 'باروژه', 'نمککک', 'سلوووم', 'میتوننن', 'نوناتون', 'نوآورنه', 'فوتوچینی', 'باتشکرازآقاشاطرومدیریت', 'میدادپودر', 'چیاباتا', 'مغاییر', 'عروسکمون', 'گنجدی', 'کاکائوییه', '2420ت', 'زوبیا', 'تورده', 'بودمواقعا', '22سانته', 'پیترایی', 'تشکرمیشود', 'بریانشون', 'درنظریک', '،،،', 'میداذ', 'تلیلت', 'بونصف', 'نذریتونم', 'پپروک', 'ونصفش', 'کفیته', '1٥00', 'گیرسید', 'میادددد', 'بهمراهش', 'باتبحر', 'میفرسید', 'الباقیشو', 'گردش', 'باید42', 'پیکییع', 'بالاتربره', 'انیدر', 'پیتزاهم', '1تیکه', 'بودپیشنهادمیکنم', 'بودوحداقل', '80٪', 'بودخشک', 'نماسیده', '23٥0', 'دوناتها', 'کاراملایز', 'خریدزیر30تومن', 'همینجاست', 'کاردچنگال', 'دمتونگرمممم', 'شیرینیا', 'داگای', 'یکطرفش', 'پرکردید', 'هایداومور', 'ردولوت', 'دپر', 'عددذکر', 'وادامس', 'دائمشونم', 'بزارمم', 'پائینتره', 'اروستو', 'طبخیه', 'کارنیتا', 'مدتهاااا', 'منتاسفانه', 'باوتجه', 'عحیبه', 'واااااااااااااقعا', 'غذائه', 'مهنونم', 'ضعیقترین', 'اجناسیو', 'آلبنی', 'رستورانهاست', 'آپاچینو', 'دیررررر', 'تنهاایرادش', 'بوددوما', 'نوشابشم', 'بودندمخصوصا', 'پیرایشکی', 'غذارورنگ', 'اآیا', 'دلسل', 'چیزبرگرو', 'یذارن', 'ایادرست', 'بسیاربسیارممنون', 'حموص', 'اسنب', 'بگذزارند', 'کاهوو', 'نداردوهردفعه', 'خدایییییییییییییییییییییییییییییییییییی', 'چیکوچی', 'روپیشنهادنمیکنم', 'امابیش', 'هورنلی', 'بیشترسرویس', 'کیکشونو', 'انقدرکم', 'مزتون', 'سوپرمارکتهاس', 'تاخیر40', 'لانجیند', 'نوشبدنیهاتون', 'باوژ', 'مزهههه', 'هالیپ', 'فبلیم', 'بسیاربسیارخوب', 'پپرونیش', 'کیلوییو', 'پیازوجعفری', 'اند98', 'کرغم', 'کبابهارو', 'ررفتار', 'مشتریتونم', 'بودازاین', 'پاکتهاتون', 'اسمارتیسی', 'از2017نوشته', 'رولهی', 'دسروامتحان', 'دهندش', 'هبانی', 'تداشتن', 'ازبدمزه', '110گرمه', 'ویژتون', 'y0m37d8', 'فودتون', '11هزارتومن', 'رسیدمثل', 'والتیوس', 'خریدمی', 'پرروزی', 'آلومینیونی', 'اسمربه', 'بزنجشونم', 'غذاهاسرد', 'پیگیراست', 'شوداستقبال', '33cm', 'ارنپ', 'آرامبخشه', 'پبزه', '4ونیم', 'خوسمزش', 'مداشت', 'دنرگاردن', 'مقدارساندویچ', 'اومدوقیمت', 'خوشمزنو', 'درنظرش', 'وخیارشورداخل', 'خییییلیییییی', '15٪', 'دیراومد', '14000ت', 'سومرمارکت', 'ایول25', 'پنیراتون', 'دوغتون', 'دوقلمش', 'بسییییااااار', 'توجهتونو', 'وپروپاقرص', 'عااااااااااااااااااالیییییییییی', 'پاستاتون', 'وضعشههههه', 'نااااااااااموسن', 'نوتلابه', 'گرونترش', 'باشهدبهتره', 'ازخریدم', 'بازازهمینجاسفارش', 'همبرشم', 'باپنیر', 'میریختین', 'بیاته', 'عااااللللیییی', 'انقدرفلفل', 'رلتش', 'پذیرکار', 'تونایلون', 'ویگنه', 'ماستا', 'دوعددپولشودادم', 'کنیلونی', 'اذسال', 'dchide', 'سرررد', 'وحشتناککککک', 'تندار', '4ای', 'ندارع', 'یادشونم', 'مالیاتتون', 'سانودیچ', 'سبزیشون', 'سزگار', 'الاندارم', 'جاهاست', 'تاااااخیر', 'فسط', 'شدکیفیت', 'آیسپک', 'خمیرنشه', 'مهمتره', 'داغتونم', 'فکرسو', 'eftezah', 'غذاخیلی', 'هممممش', 'سالامیه', 'جوربازار', 'یاخیارسرکه', 'ریحونش', 'بودوسوپ', 'شیرینیتون', 'کبلویی', 'خیارشورهاش', 'دلسترم', 'چاوکباب', 'کلابها', 'پاروژ', 'سوسیتون', 'داگتون', 'کنیدبینظیرمیشه', 'ایدفعه', 'قرارندن', 'شیزینی', 'فودشون', 'اوست', 'پیکاش', 'گوشتاشم', 'تیتاپی', 'کشبد', 'خوشمزده', 'انگارنبایدگذاشت', 'ایتالیاست', 'کیکفیت', 'چکده', '14500فاکتور', 'ایندفع', 'شیرینه', '6الی7', 'رستورانمو', '14300تومان', 'سااااعت', 'استخونشو', 'گردیددست', 'بودوممنونم', 'موجودنداشتن', 'اشپزه', '1بالا', 'ناگتش', 'مگرنان', 'میفریتن', 'عذارو', 'متشکرممممممم', 'ساندویچو', 'doroz', 'مزخرففف', 'و1تکه', 'اوردشون', 'مطمنم', 'ساندویچمو', '6هزارتومن', 'آرسامو', 'اچجوری', 'وجودبیاد', 'صابل', 'پملپ', 'سوپتونم', 'ناپخت', 'چیییییز', 'کاملاداغ', 'پآیین', 'قدیمتون', 'کرانبری', 'شیرهاشونم', '60دردصد', 'ونتونسم', 'غذازود', 'بخچالی', 'برگرارو', 'چلوگوشتش', 'فلافلیهای', 'هایدابرگر', 'سسسسسواقعا', 'ندااااشت', 'sandeviche', 'پسرخوبم', 'زدید35', 'فسفود3', 'ازخدماتتون', 'نداشنید', 'نمشوته', '5تومنیه', 'شلز', 'کیفبتش', 'دخکش', 'تعوضش', 'ریخیم', '1٥٪', 'خریدکنه', 'حپه', '4تومنی', 'باشیدوپایدار', 'ازکیفت', 'هستییییین', 'نزشتع', 'هرپرس', 'فاکتورشون', 'پیتزاخیلی', 'ماکاتی', 'ویژش', 'بذاریوسیب', 'شدمممبس', '30دقیق', 'عاای', 'پیراکشی', 'نسکوییک', 'بیحودی', 'افتضاحح', 'غذاسردبوداگه', 'وخوشمزش', 'برگرخیلی', 'کبابترکی', 'اسنپی', 'عجببم', 'نامیدکننده', 'کریسپای', 'عاااااااااالیییییی', 'بیاتذبود', 'گرفتیمش', 'متاسفآنه', 'باقالاقاتق', 'ازسوپرسفارش', 'بایدونت', 'دوسیخ', 'فلبل', 'افنضاحه', 'حساسیتشون', 'نداشتنو', 'بمبیه', 'شیرینیاشون', 'بپدم', 'سفارشتونو', '33بود', 'هودتون', 'بادتوجه', 'زمنیی', 'اینوبرای', 'پیبتزای', 'خییلییییی', 'اصلاااااااااا', 'بوداصلاجای', 'سفرشمونو', 'پارمسانش', 'داغبود', 'زولبیابامیه', 'کروسانی', 'سیبشون', 'اصلانبود', 'پروپاقرصشون', 'العادسامیدوارم', 'بزادین', 'نکشیئه', 'اونقدرم', 'ورموجودی', 'پنیزش', 'رودور', 'شد4٥دقیقه', 'ملاسیک', 'دراوردیمش', 'ازهویج', 'سلادشم', 'چاپاتای', 'کوکولوچه', '400لیتری', '2کتلت', 'ننیشه', 'عدپ', 'خودم', 'خیارشورگوجه', 'شکفتزده', 'محشرررررر', 'کراکفو', 'نمیکیرم', 'تحویلشونم', 'لزیز', 'مارگاریتاتون', 'اومره', 'ریخنم', '؟؟؟', 'خشکککک', 'اذیذ', 'واااقعاااا', 'مععععمولی', 'برگراتوره', 'پاستاخیلی', 'ازنظربهداشتی', 'بودنوهمینجوری', 'موردنظروجودندارد', 'سرددددد', 'چیزفوده', 'مشمی', 'خییییللللیییی', '100میدم', 'peperonishonam', 'میفت', 'وکیفیتم', '3٥00', 'بیشتربپذه', 'y0m6d55', 'بووووددد', 'یریع', 'جهرم', 'قیمتاتونو', 'بتوضیحات', 'شمردشون', 'کوتاه3هزار', 'واقعادمشون', 'یعنییییی', 'نئاشت', 'یاندویچ', 'وپیکاشونم', 'بیرونبر', 'را6', 'وپرازنون', 'خریدهیچ', 'ازچندقاشق', 'اصنکیفیتش', 'پیورچیکن', 'گیاهخوارم', 'نایع', 'درسته', 'بودیدتشکر', 'عااااالیییی', 'نامناسبشون', 'یولکی', 'دادم3تا', 'زده4700بعد', 'غذابسیارکم', 'دیپلماتو', 'اغتضاح', 'یپنیر', 'چندبارازغنچه', '15عددی', 'باقالاقاتوق', 'کوچمونه', 'ازنونهای', 'کدچه', 'زمانبتدی', 'kefiyateton', 'وسردبودنان', 'میندازیمش', 'پیتزاشونو', 'خمیرررر', 'مشمبایی', 'فلفلیاش', 'شبرموز', 'بسیاربسیاربدبود', 'اماسیب', 'مبلغیه', 'پنیرشوو', 'بندی3', 'همیشهههه', 'شکلاتارا', 'سوپرازم', 'طلیکارانه', 'ضعییف', 'لذیذن', 'بوستاکا', 'جوجه300', 'کااااافی', '؟؟؟؟؟؟؟؟؟؟؟؟؟؟؟؟', 'کمترازاندازه', 'بوووووودتازه', 'بهترییییییییین', 'چلوماهی', 'ثابتتونم', 'دارته', 'افتضضااااااااح', 'صففر', 'slad', 'و160گرم', 'تیرامیسوش', 'طعمشونم', 'ادسیش', 'غزروف', 'انقدرررررر', 'خااام', 'میخواستممو', 'معمولیبدون', 'باراولم', 'پیتزافروش', 'میخوایدش', 'y0m5d1', 'هوسشنو', 'بودایشالله', 'شدبم', 'تنوریو', 'مدودیت', 'درلیست', 'سوخاریو', 'دنری', 'کوزدن', '31هزارتومان', 'دستسازشون', 'کمترباشه', 'شدعالی', 'تماااس', 'روکردید', 'ازپیکهابسباربی', 'وهردوهم', 'هالوچیز', 'رسیدممنونم', 'تنیز', 'بودزسیب', 'پاستاشم', 'محوتای', 'نیاوده', 'واقعامحشربود', 'آشپزهم', 'نثارپلو', 'غلیرغم', 'میگذازم', 'باهث', 'صبحانرو', 'قیماتو', 'رامیزنه', 'حضوریتونم', 'چقدرررررر', 'ازییییین', 'خوقع', 'شیرازیو', 'فودیه', 'پوختش', 'بیفم', 'شورنمیدونم', 'راپیداکرد', 'پدتای', 'اعتمادمون', 'یسریها', 'اگسپرس', 'وهمراش', 'رستودان', 'فرنگیاش', 'ججش', 'کمتره', 'افتزا', 'شیرمز', 'غذانسبت', 'چیزجابمونه', 'سطوحactive', 'کاماا', 'شدییییید', 'پسفرداش', 'پیتزای2نفر', 'خنیری', 'باکفیت', 'چهاربارازاین', 'برگرشو', 'فرنگیخدا', 'نطظرم', 'درورده', 'خیلییییب', 'توظرف', 'کیفست', 'ارثشون', 'ترودسرخریدم', 'دمتوون', 'مشبی', 'دادتوضیحات', 'پولوش', 'واقعامناسب', 'سریییییییع', 'عذاهایی', 'مرسیده', 'چقددددددرررر', 'زمینیاش', 'y0m0d96', 'ماهرتون', 'افتضااح', 'طعمعالی', 'یفمری', 'نمیکی', 'افتضاااااااااح', 'هستدکه', 'امادا', 'وافلی', 'حیفشون', '6800میدید', 'قراردادبودداخل', 'موادساندویچ', 'میفرسین', 'اکسپرسه', 'سفارشاست', 'نه40', 'هویچش', 'آشپزتونم', '7عددی', 'چیزبرگرد', 'چلوبرگ', 'هندونش', 'y0m4d15', 'پنیرپیتزای', 'اکسپدس', 'دورچینش', 'بددددددترین', 'پلاستیکاین', 'وتودانشگاهم', 'همجاش', 'گنجدش', 'سنیچ', 'اتتخابم', 'زرددرجه', 'رسییییید', 'فناااااااااست', 'درهاشون', 'نآن', 'دوغاتونم', 'گرونتربود', 'اکوافینا', 'رااضی', 'چیزبرگرها', 'شمااکسپرس', '341گرم', '70٪', 'لیمونادپاکتی', 'مدبب', 'ملاتحلالت', 'ملاته', 'بسیااااااررر', 'foode', 'شدتتت', 'رلت', 'قطعااااا', 'بامنوی', 'اینهاست', 'نبوددددم', 'تنوی', 'ولییییی', 'بیسکوپیچ', 'ساندیوچ', 'پرخورد', 'وعاالی', 'شورررر', 'مائالشعیرها', 'رولتا', 'اصلاارزش', 'سبارشم', 'پلیونی', 'چیزبرگری', 'نتنستم', 'پررررر', 'حودسر', 'چورتسو', 'ریختیمش', 'درکنارش', 'حغذا', 'حتمااااااااا', 'ذهنیتمون', 'آنلاینتون', 'خوراکیاتونو', 'باقلوابیشترازبقیه', 'گشنمهههههههه', 'تردواندازه', 'مشتریو', 'ولیخیلی', 'رسژد', 'پرکنجدی', 'تدیگی', 'خوووشگل', 'ماوپیگیری', 'اوودوز', 'پیتزاست', 'mrci', 'اعلاالدین', '65دقیقه', 'میگیرفتم', 'سفلرش', 'پیتزامیکس', 'سڀاس', 'میراشتینم', 'گاردینو', 'شوئینگر', 'ظاهرخوب', 'سااااااااعت', 'بارپیش', 'میخاستمش', 'میخوریی', 'مسمویت', 'مسره', 'بارهارو', 'رنگامیزیه', 'شدیدااااااااااااااا', '4000تومنی', 'بولکیهای', 'غذاگرفتم', '189500ریال', 'جدیدام', 'سرداش', 'مخصی', 'سیخندان', '150تا170گرم', 'اصلاااااااا', 'فندقاش', 'هممع', 'بودمشخص', 'پیتزاشه', 'بادمجانهاشو', '60٪که', 'یخخخخخخ', '4اسکوپ', 'هویح', 'بودشیرینی', 'همبرگرشو', 'نظیییییر', 'عذاشون', 'دیگرپیتزا', 'دپموجود', 'روفرستادین', 'ومخلفات', 'عجبببب', 'گردرد', '7هزارتومان', 'پیتزاشون', 'نبوداشک', 'تاخیرررر', 'مفایرت', 'فودمسئول', 'علاالدینم', 'ماهشامتون', 'فوندانش', 'پیتزاخام', 'پرتفالی', 'ایرادراوابسته', 'لودند', 'زیااااادی', 'کبابیا', 'سقیدهم', 'وباتشکرازسوپرمارکت', 'اقلام1000تومنی', 'طورمشهودی', 'همیشههه', 'رولتتون', 'امکاااان', 'قوروچ', 'پابین', 'تاغذا', 'زمینیشه', 'پیازمیداد', 'بودیت', 'زیادیشه', 'هدودن', 'سالادسزارشو', 'برمیگردنن', 'شیرنیم', 'کربسپی', 'پایدارباشید', 'غیرتکراریست', 'بودبهتریناروبراتون', 'نامباسب', 'طعکگم', 'نشانتون', 'سادویج', 'املتشون', 'neveshtin', 'گوشنش', 'بوستاک', 'فلفلشونو', 'جمعا11', 'بادومش', 'نبودخمیرش', 'مخصوصتون', 'غداشون', 'آلفروی', 'فسدفود', 'کارابونا', 'بددددددتتتتتتتر', 'شیرازیرگر', 'رسیدممنون', 'پیتزه', 'زیتنون', 'بنظرن', 'وغدا', 'ساندویجش', '2خوراک', 'حقیفتا', 'ادیروز', 'انجانغ', 'وخیلیییییی', 'پاقعا', 'غذاومخلفاتش', 'مقدارکوچک', 'چوناکثرا', 'لنتظار', 'گاردینواین', 'خریداول', 'ولق', 'موهیتوش', 'کچیکتر', 'لتبانوفی', 'اهتماد', 'شدددت', 'موندهبود', 'معنولی', 'توحیل', 'واقعاخرید', 'y0m0d10', 'خوشمزی', 'لستیکی', 'سفارشامون', 'ترینه', '2هزارتومن', 'نبودزیرا', 'خدانگهدارشما', 'کهبعداز', 'دزخواست', 'رسیرگی', 'نیاورن', 'دوباکس', 'مممنوووونممم', 'شدبزند', 'اردش', 'نیوردت', 'وبیشترش', 'همبرگرتون', 'دوناتهای', 'بدوفود', 'منتشکرم', 'تاطعم', 'بررگتری', 'توذوقم', 'ماشرومی', 'راضم', 'سفارشارو', 'سوناپ', 'چندبارآخر', 'سیرخیلی', 'مگفتند', 'عالییییییییییییییییییییییییییییییییییییییییییییییییییییی', 'سوپربرگرش', 'جدوی', 'بالاسسس', 'عااااالیی', 'پبتزاهاش', 'نمیپ', '990109', 'سزاریه', 'سشش', 'بودگرفته', 'محصولمون', 'فقطططط', 'چنگاالی', 'روگنان', 'همراشم', 'پییزاتون', 'کالباساش', 'سالاد32', 'بروسکتای', 'زوخم', 'رولبیا', 'مرتبس', 'انقددددددرررر', 'وپیتزاهاش', 'سرداه', 'ارزیدو', 'گلاااااااب', 'varaftegi', 'هربرکت', 'بشششششدت', 'خوباسو', 'واقعانکه', 'اخذمیشود', 'رسیپد', 'امروزرنبوده', 'جووکشمش', 'شیرینیشونم', 'باکیفیتتون', 'نداشتنثم', 'سفاراشات', '930گرم', 'مادرمم', 'چیکنشم', 'وباتاخیررسید', 'جاست', 'قارچتون', 'mishea', 'همبرگز', '400گرمه', 'هدداگ', 'معموووولیه', 'اشتهامونو', 'خیسونده', 'دیزاینشم', 'ناگتی', 'نوصابه', 'خوباس', 'کوبیدش', 'نانهاشون', 'غرذا', 'شولولات', '90دردصد', 'سویئسی', 'فرستادیییین', 'مظرم', 'y0m600d4', 'مزیه', 'y0m12d2019', 'لواشو', 'غدارو', 'مانزدیک', 'بابرج', 'بسیاربدی', 'بالانمیاره', 'رستورانهاییه', 'مااالیات', 'ممنووووونم', 'باپنیرسفارش', 'دردنکندهمه', 'منوهمکارم', 'کجاست', 'اندازهو', 'منوبزارن', 'جآیگزین', 'کالسنتر', 'عذارسید', 'تاسفففففففف', 'بیسکوییتای', 'فرومیرن', 'زیرنیم', 'خیارشورشو', 'بعدازپیگیری', 'کوچییک', 'بودبرنجش', 'نمیدمممم', 'کپچک', 'هییییییچی', '2000تومن', 'بدوق', 'زیااد', 'تاداز', 'آلفردوش', 'بارکیو', 'خمبر', 'خوشبرخوردتون', 'گرونید', 'جنسایی', 'واقعاکوچیک', 'برگردونبد', 'شناستون', 'همهچیش', 'دورتره', 'سیربیش', 'دفعاد', 'عذلی', 'انباشنه', 'ریتوران', 'چبپس', '45390', '؟؟؟؟؟؟؟؟؟', 'خیارشورای', 'بودروش', 'هاتداگم', 'اصلاتوصیه', 'بودتبریک', 'نعلوم', 'ورفتارشون', 'برگرهاتون', 'ومونده', 'خرماتون', 'همیشگیتونم', 'وبروبیای', 'دامستون', 'تددشتم', 'دوتاکاهو', 'سرآشپزتون', 'لاآب', 'مسیردار', 'دومدلی', 'اشتهت', 'فتادوشه', 'موندش', 'y0m0d17', 'ازکیفیتتون', 'زیاااااااد', 'اسنج', 'توضاحاتش', 'موندگیه', 'جندعدد', 'سوخاریتونم', 'آلپارو', 'هستییید', 'بالاببرین', 'شدچ', 'شماست', 'واسنپ', 'اکباتانه', 'بادوژ', 'باژور', 'سوخاریهاشون', 'y5m6d98', 'پلاچنتا', 'پنیریه', 'نامناسبیه', 'دامستوس', 'رسوندنشون', 'سخوته', 'باتاییدمارک', 'روتادوروز', 'پیگیریشون', 'ولی٥عدد', 'درصدخیلی', 'نمیدادواقعا', 'عااالیی', 'مواردازپیک', 'لاستیکیه', 'مخلفاات', 'تفاورت', 'ممنونازینکه', 'لاپلو', 'چیکین', 'y0m12d21', 'پیتزابه', 'پیکشونم', 'بادمجان63', 'مارگاریتایی', 'میخونینشون', 'غداهاشون', 'باتشکرازشمابه', 'مبداد', 'پرملاط', 'اخرینشم', 'ساندویژ', 'پرپاخت', 'میاونم', 'کالزرون', 'شدوکیفیت', 'وجیتاس', 'رلتی', 'سردددد', 'همبرگرخوب', '1کیلومتری', 'آوردیدمن', '9٥٪', 'سپپاس', '؟؟؟؟؟؟؟؟؟؟', 'اسلایسش', 'پنیراش', 'گذاشتینم', 'زمینیشون', '37تحویل', '؟،', 'به100تومن', '220گرمی', 'خوشمزززززه', 'انتقادیا', 'دوسخ', 'برنددیگه', 'recd', 'نوشتالژیکشو', 'اسسسنپ', 'برشارو', '1سس', 'بودهیکی', 'زمانبندیش', 'خجالته', 'مریزادنانشان', 'بودممممم', 'y0m10d30', 'بیسکودایت', 'شیریناتون', '4400به', 'فلیمر', 'سفارشاتشون', 'هاداخل', 'واقعااسنپ', 'بهدهمیشه', 'تنوریشون', 'استتتتتت', 'بستنیام', 'اومدد', 'طفم', '20امیه', '333333', 'پول2تا', 'خشمززع', '4عددبود', 'بسیارنامنظم', 'شمورد', 'شنیستل', 'بکارمیبرندهم', 'pitzza', 'گغتن', 'باروژیم', 'نگمممم', 'استریپسی', '3میدم', 'منطورشه', 'فووووول', 'سرزمان', 'ازتونبهترینید', 'نظمیو', 'مللتش', 'ماستیده', 'وفادارباشه', 'ابرورفتن', 'العااااده', 'پیتژا', 'سالاداتون', 'تحویلدادن', 'ندشتن', 'ایتیک', 'انتخابمه', 'آیتماست', '282828بودیعنی', 'کفیف', '27000هزار', 'آلفردوچیز', 'وقیمتش', 'ازشکلش', 'کشش', 'استریپسشم', 'نسفش', 'دهندهیه', 'پزگیری', 'رستورلن', 'اوناخیلی', 'کتجد', 'خوشمزگیشو', 'شپا', 'رغیق', 'دیتزا', 'تحویلگیرنده', 'سورار', 'دونوعش', 'ترشتون', 'ادسییم', 'اصصلا', 'ضمناتقاضای', 'نرررررم', 'آبلبموئی', 'ندیدمش', 'تحوبیل', 'تیتپ', 'اینوریه', 'فرستادیدحتی', 'میدادولی', 'باگتا', 'باگتو', 'یاجابجا', 'واقعازیاده', 'کرافشم', 'اوردش', 'رسیذ', 'وموندگی', 'رستورانشون', 'وطعمش', 'تنددیده', 'شماازشعبه', 'زمیتی', 'العاهده', 'سسسسس', 'مزدیک', 'نامحترمابه', 'شددددددت', 'ازلیست', 'برگراتور', 'ازنظرتازگی', 'کوکلوچه', 'مقواشو', 'چرررررررب', 'خریدهامون', 'العااااااااده', 'پپرونیشه', 'صافا', 'میگوتون', 'پاسخگوباشید', 'برانیتون', 'کوچولوعه', '1تکه', 'خواهشمنداست', 'مزززه', 'وموادش', 'آوردهاعصابم', 'جنساتونم', 'سزخ', 'شویدش', 'ارزونترش', 'خوشمزززززززه', 'پیگیریاشون', 'طعمهاشو', 'ومتشخص', 'گذاشتتد', 'تتگ', 'ومیاورید', 'کاولا', 'کارمندامون', 'ضررکنه', 'امتیازاتیس', 'هایداست', 'شیرینب', 'کرسان', 'شیرمانده', 'وشمانون', 'خوبهفقط', 'feshordeh', 'بلسپاس', 'کوچست', 'سوچیک', 'بدردنخورد', 'فرستدین', 'دروکنجدی', 'تعیییر', 'فقط3تیکه', 'باسفارشات', 'کیکشون', '550گرمی', 'ساندویچایی', 'نودلش', 'نباشیدظمنااززحمات', 'سبیزیجاتش', 'انقدرمونده', 'روداخل', 'بود9', 'درخشانتون', 'مدیرییتی', 'سفارشاتمون', 'فیلابرگر', 'رسمااااااااااا', 'دراکثرمواقع', 'آلبالوئه', 'غداهاتون', 'تلبکار', 'نبودکدوم', 'تاخیییییر', 'اسلایسایی', 'سلدم', 'میشدمرجوع', 'وحشتنااااااک', 'کبابشو', 'شیرازبرگر', 'کرانچیک', 'بشاملش', 'اوکیک', 'رفتارپیکم', 'دقیقههههه', 'شیلام', 'توسالاد', 'فوذ', 'خوبدپخته', 'هامطابق', 'چیپلت', '9500تومن', 'اگرحداقل', 'وشماسیب', 'پیتزا500', 'محبوبیتتون', 'دلیورش', '2000لیتری', 'غذار', 'بودانقدرجحمش', 'بفرسته', 'سانداویچ', '2سیب', 'عاللی', 'داگهایی', 'مجموعشونو', 'چسز', 'ازپیتزا', 'خییییییییلیییییییییی', 'اینقدسردبود', 'مقدارزیادغذا', 'نمیتونسیم', 'بودطمع', 'کیفیتفست', 'دوتاخواسته', 'سریعممنون', 'حضدار', 'غیرحضوریتون', 'همیییییشه', 'وحالموبدکرد', 'ظعم', 'کاربلدش', 'ویامین', 'فودهاست', 'سفارشاشون', 'نداست', 'ویبژه', 'شدتارت', 'پریروزه', 'مرغ18مهرماه', '430گرم', 'ازهایداوپشتیبانی', 'دایمتون', 'سالادهاشو', 'کاتلری', 'وشصوح', 'میلکا', 'نکردننیم', 'چیزکیکتون', 'سردددددددددد', 'بودباکلی', 'چیووو', '1قلم', '6تاییی', 'تنهاامشب', '15سفارش', 'عصبانیو', 'فرستادناعلام', 'وماوج', 'چلوبرگی', 'افتضاحتون', 'پیتذا', 'معمووووول', 'سیبزمینیا', 'صمممممممیمانه', 'یچیزیش', 'بارخرید', 'برنجتو', 'رستورع', 'اصلاتازه', 'پلوشو', 'باشیرموز', '2بند', 'بعدفریز', 'فیلرو', 'نزدیکس', 'داغوننن', '24950', 'پیتزاعالیییی', 'ااب', '63840', 'نبوو', 'گوسفندیه', 'نداششششت', 'چیزفودم', 'سبوسدارش', '12و50', 'متسکرم', 'قازچ', 'ایتالیی', 'سورپریزمون', 'ریخیتیم', 'شمادستمال', 'البالوهاش', 'بودوپاستاهم', 'موادپیتزا', 'فقلدع', 'مرا', 'برتولیش', 'بدمزش', 'میرزاقاسمیتون', 'بیسکومن', 'نانشون', '11000تومن', 'ساسپگزارم', 'باسبزیجات', 'بدددد', 'ایرادیو', 'اسپرایس', 'دیزیش', 'بکد', 'مارکتهایی', 'غیرمعقوله', 'بودشاید6تا', 'نرغ', 'د6د', 'اصلاتنوع', 'عطروطعم', 'چانوتونم', '60بود', 'اینجاست', 'فودهو', 'مارکتم', 'دقاقا', 'ایتالیلییافتضاح', 'زمینیاتون', 'دقتن', 'فووود', 'بهترینهاست', 'فتضاح', 'دآورد', 'خشککککککک', 'هتقل', 'عاللللللی', 'تاخیرهاتون', 'ناپلئوخی', 'مالیاتشونم', 'روکششو', 'میشستین', 'میدادمن', 'بنوشن', 'برنگرداندن', 'اماخوشمزست', 'پتیزاشو', 'جااب', 'کنیدسپاسگزارم', 'گرونتره', 'نوشابهطرد', 'سپاااااس', 'میرنن', 'limoyi', 'سبزیجاتایی', 'کالباسشو', 'قارح', 'بزرگتره', 'بودبانون', 'حابه', 'یابل', 'مارگاریتاهای', 'پیتزامخلوطش', 'دورچینشم', 'سوپراش', 'افتضاااح', 'کسبتون', 'سالادشون', 'زودخیلی', 'عالیییییییههههه', 'براتونننن', 'نننننننپپپپپپخخخختتتهههههه', 'باربیکو', 'نظیرر', 'مححححشر', 'ازینحا', 'نفردوست', 'مزخ', 'بااستخوان', 'ریحونای', 'گاهوهاش', 'امروژ', 'بسیییییییییییییییییییییییییییییییییییار', 'رسورانها', 'داگهای', 'شلقلمکار', 'خوریدم', 'نوشبیع', 'زیتوناش', 'قیپت', 'واقعاسرگردنه', 'دااااااااره', 'هستتتم', 'اجناستون', 'افتضاااااااااااح', 'جعفریاش', 'نامتناسبه', 'باگد', 'پیتزادر', 'عذرخواهیو', 'خساستشون', 'لصلا', 'زیییییاااااادددددههههه', 'آیااااااا', 'طمش', 'زیاداست', '18تومنی', 'رلیگان', 'بمزه', 'کیشگا', 'مستدادم', 'عاال', 'رسیدولی', 'سسا', '3تا4سانت', 'غذاهاست', 'مشمبا', 'شدددتتت', 'نبودوهمونجوری', 'آیاغذابایدیخ', '3قلم', 'پیداست', 'سزارتون', 'awli', 'شیشه6300تومان', 'تمییزو', 'y0m1d3', 'و8و50دقیقه', 'داخلدبرگر', 'روبخونن', 'چون4تکه', 'شیرماله', 'زیادرس', 'واقعاپشیمون', 'کترینگم', 'فرستاندند', 'عالیست', 'بیشترکنه', 'بخشه', 'ودرکوتاه', 'تاسبس', 'رستاده', 'سوسیساش', 'فیمه', 'نلچار', 'ولی45دقیقه', 'استخوانا', 'الفردوش', 'بربزی', 'ارساا', 'بدمزززه', 'پاکتشون', 'برگرهاشون', 'کیفیتوپیتزا', 'خیلییییییب', 'ژامبونششش', 'ناپلئنی', 'بریزیمش', 'درجائیکه', 'انداشت', 'روچر', 'متره', 'پنیرپروچیز', 'باتشکرازمدیریت', '4٥00', 'داماک', 'پیتزاهاشون', 'برندتون', 'شدبرام', 'پنیرلبنه', 'کاریاس', 'باروژو', 'لینوشیرین', 'سفارشمونو', 'غذابود', 'گردوهم', 'y0m8d1', 'هستندادر', '20رسیده', 'اینهنه', 'شکرشون', 'فداسرتون', '35000هزارتومن', 'باروژتون', 'یکیفت', 'وچیکن', 'لوکیشنمون', 'فودیای', '31900هزار', 'پنیرکبابی', 'بندریه', 'رسیدتحویل', '4بستنی', 'اولالاست', 'اشنپ', 'کردیددیگه', 'اگپرس', 'ازماهک', 'اگرواقعاخواهان', 'بریونش', 'سووپرمارکت', 'هرینرو', 'غذاخوب', 'زیزاش', 'حلیماشون', 'برگراشون', 'فوداتون', 'فانتاااااااا', 'پروپرک', 'انداخنتد', 'نبودوقتی', 'داغوناشو', 'بارچندمه', 'سمارتیز', 'پارمیدابدباشه', 'بسیااااررر', '؟؟؟؟؟؟', 'مایونزه', 'غذاتووووووووووووووووون', 'شهدداشت', 'چندمهاین', 'غذاهاتونو', 'رستوراندارهای', 'دستتنم', 'تامرغوب', 'کوچیکتد', 'العاددددده', 'ترررد', 'استیریپس', 'املته', 'قارچشه', 'ذرشکای', 'نارنجشون', 'پیازتوی', 'roletha', 'مصرفیتون', 'اسمارتیزای', 'پیسنهادات', 'نمیمد', 'سرکباب', 'بستنیو', '4٥دقیقه', 'پیتزادخشک', 'بگذیرم', 'ککنجد', 'آبدوخیار', 'چیزدرحد', 'بندبثی', 'اصافا', 'توسایزپیتزاها', 'پرخاشخاش', 'بودپیتزار', 'پیتزارو', 'پیکهانون', 'بروجکن', 'وارسته', 'چاباتا', 'تزییتش', 'غذاتونم', 'و4تکه', 'ارسالی24سانتی', 'y0m6d31', 'تاکویی', 'خااااامه', 'نهکم', 'امتیازتونو', 'دیزیاشونم', 'زجبیلی', 'بسیاررعالی', 'متاسفانه200گرم', 'مائالشعیر', 'ترششششش', 'منجمدبی', 'پیشنهادنمیکنم', 'چکوندم', 'ولذیذبود', 'اینبار5دقیقه', 'دااغ', 'راضیهستم', 'پیتزابسیار', 'دستشن', 'میچیدین', 'دیربرسه', 'ماسکارپ', 'کالبلسشم', 'فرداست', 'بوددددددددددددددددددددددددددددددددددددددددددددددد', 'هیییییچچچچ', 'اماسس'}\n"
          ]
        }
      ]
    },
    {
      "cell_type": "markdown",
      "source": [
        "###get model"
      ],
      "metadata": {
        "id": "XRR9WvEZwu77"
      }
    },
    {
      "cell_type": "code",
      "source": [
        "\n",
        "def get_model_word2vec(embedding_matrix, word_index_len, embed_dim, max_len, save_model_path):\n",
        "    \"\"\"\n",
        "    load model if exists else create a model and return compiled model\n",
        "    \"\"\"\n",
        "    if os.path.exists(save_model_path):\n",
        "        model = tf.keras.models.load_model(save_model_path)\n",
        "        return model, False\n",
        "    \n",
        "    else:\n",
        "      input_layer = Input(shape=(max_len,), dtype='int32')\n",
        "      embedding_layer = Embedding(word_index_len + 1,\n",
        "                                  embed_dim,\n",
        "                                  weights=[embedding_matrix],\n",
        "                                  input_length=max_len,\n",
        "                                  trainable=True, \n",
        "                                  mask_zero=True)\n",
        "      embedded_sequences = embedding_layer(input_layer)\n",
        "      x = Dropout(0.5)(embedded_sequences)\n",
        "      x = Conv1D(32, 3, activation='relu')(x)\n",
        "      x = MaxPooling1D(2)(x)\n",
        "      x = Dropout(0.5)(x)\n",
        "      x = LSTM(8)(x)\n",
        "      x = Dropout(0.5)(x)\n",
        "      preds = Dense(1, activation='sigmoid')(x)\n",
        "\n",
        "      model = Model(input_layer, preds)\n",
        "      model.compile(loss=\"binary_crossentropy\",\n",
        "                    optimizer='adam',\n",
        "                    metrics=['accuracy'])\n",
        "      return model, True"
      ],
      "metadata": {
        "id": "Te_7T2aH714F"
      },
      "execution_count": 62,
      "outputs": []
    },
    {
      "cell_type": "code",
      "source": [
        "save_model_path = \"/content/drive/MyDrive/snappfood_comment/word2vec_model.h5\"\n",
        "model, need_train = get_model_word2vec(embedding_matrix, len(word_index), embed_dim, max_len, save_model_path)"
      ],
      "metadata": {
        "id": "VEKq89XkwrCL"
      },
      "execution_count": 63,
      "outputs": []
    },
    {
      "cell_type": "code",
      "source": [
        "model.summary()"
      ],
      "metadata": {
        "id": "W-_JWEF0xAFD",
        "colab": {
          "base_uri": "https://localhost:8080/"
        },
        "outputId": "3e205e8f-7ced-47b5-fb12-e192e1ba0571"
      },
      "execution_count": 64,
      "outputs": [
        {
          "output_type": "stream",
          "name": "stdout",
          "text": [
            "Model: \"model_4\"\n",
            "_________________________________________________________________\n",
            " Layer (type)                Output Shape              Param #   \n",
            "=================================================================\n",
            " input_5 (InputLayer)        [(None, 128)]             0         \n",
            "                                                                 \n",
            " embedding_4 (Embedding)     (None, 128, 100)          2540000   \n",
            "                                                                 \n",
            " dropout_12 (Dropout)        (None, 128, 100)          0         \n",
            "                                                                 \n",
            " conv1d_4 (Conv1D)           (None, 126, 32)           9632      \n",
            "                                                                 \n",
            " max_pooling1d_4 (MaxPooling  (None, 63, 32)           0         \n",
            " 1D)                                                             \n",
            "                                                                 \n",
            " dropout_13 (Dropout)        (None, 63, 32)            0         \n",
            "                                                                 \n",
            " lstm_4 (LSTM)               (None, 8)                 1312      \n",
            "                                                                 \n",
            " dropout_14 (Dropout)        (None, 8)                 0         \n",
            "                                                                 \n",
            " dense_4 (Dense)             (None, 1)                 9         \n",
            "                                                                 \n",
            "=================================================================\n",
            "Total params: 2,550,953\n",
            "Trainable params: 2,550,953\n",
            "Non-trainable params: 0\n",
            "_________________________________________________________________\n"
          ]
        }
      ]
    },
    {
      "cell_type": "markdown",
      "source": [
        "###train model"
      ],
      "metadata": {
        "id": "ZXwGTLKtxK01"
      }
    },
    {
      "cell_type": "code",
      "source": [
        "if need_train:\n",
        "    history = model.fit(train_data, train_df.label_id, epochs=50, \n",
        "                        validation_data=(validation_data, validation_df.label_id), \n",
        "                        callbacks=[tf.keras.callbacks.EarlyStopping(monitor='val_loss', mode='min', patience=1)])\n",
        "    model.save(save_model_path)"
      ],
      "metadata": {
        "id": "_aulpbL4xAmd",
        "colab": {
          "base_uri": "https://localhost:8080/"
        },
        "outputId": "1972b967-8976-450b-f005-58f7de984d42"
      },
      "execution_count": 65,
      "outputs": [
        {
          "output_type": "stream",
          "name": "stdout",
          "text": [
            "Epoch 1/50\n",
            "1772/1772 [==============================] - 137s 76ms/step - loss: 0.4654 - accuracy: 0.7935 - val_loss: 0.3555 - val_accuracy: 0.8546\n",
            "Epoch 2/50\n",
            "1772/1772 [==============================] - 134s 76ms/step - loss: 0.3849 - accuracy: 0.8463 - val_loss: 0.3378 - val_accuracy: 0.8632\n",
            "Epoch 3/50\n",
            "1772/1772 [==============================] - 134s 76ms/step - loss: 0.3623 - accuracy: 0.8544 - val_loss: 0.3308 - val_accuracy: 0.8644\n",
            "Epoch 4/50\n",
            "1772/1772 [==============================] - 132s 75ms/step - loss: 0.3477 - accuracy: 0.8633 - val_loss: 0.3245 - val_accuracy: 0.8660\n",
            "Epoch 5/50\n",
            "1772/1772 [==============================] - 143s 81ms/step - loss: 0.3365 - accuracy: 0.8677 - val_loss: 0.3273 - val_accuracy: 0.8573\n"
          ]
        }
      ]
    },
    {
      "cell_type": "markdown",
      "source": [
        "####plot history of train"
      ],
      "metadata": {
        "id": "2mqX43yjxNMe"
      }
    },
    {
      "cell_type": "code",
      "source": [
        "plt.plot(history.history['accuracy'])\n",
        "plt.plot(history.history['val_accuracy'])\n",
        "plt.title('model accuracy')\n",
        "plt.ylabel('accuracy')\n",
        "plt.xlabel('epoch')\n",
        "plt.legend(['train', 'val'], loc='upper left')\n",
        "plt.show()"
      ],
      "metadata": {
        "id": "e5CXn5TGxE35",
        "colab": {
          "base_uri": "https://localhost:8080/",
          "height": 295
        },
        "outputId": "60f6cb2a-8263-4edb-9561-077971959938"
      },
      "execution_count": 66,
      "outputs": [
        {
          "output_type": "display_data",
          "data": {
            "text/plain": [
              "<Figure size 432x288 with 1 Axes>"
            ],
            "image/png": "[encoded data removed]"
          },
          "metadata": {
            "needs_background": "light"
          }
        }
      ]
    },
    {
      "cell_type": "code",
      "source": [
        "plt.plot(history.history['loss'])\n",
        "plt.plot(history.history['val_loss'])\n",
        "plt.title('model loss')\n",
        "plt.ylabel('loss')\n",
        "plt.xlabel('epoch')\n",
        "plt.legend(['train', 'val'], loc='upper left')\n",
        "plt.show()"
      ],
      "metadata": {
        "id": "fE12zYdjxHyu",
        "colab": {
          "base_uri": "https://localhost:8080/",
          "height": 295
        },
        "outputId": "67f6637c-0a60-4eb1-c652-e95ad14288c6"
      },
      "execution_count": 67,
      "outputs": [
        {
          "output_type": "display_data",
          "data": {
            "text/plain": [
              "<Figure size 432x288 with 1 Axes>"
            ],
            "image/png": "[encoded data removed]"
          },
          "metadata": {
            "needs_background": "light"
          }
        }
      ]
    },
    {
      "cell_type": "markdown",
      "source": [
        "###evaluate model"
      ],
      "metadata": {
        "id": "vb2SM6pPx7O3"
      }
    },
    {
      "cell_type": "code",
      "source": [
        "test_path = \"/content/drive/MyDrive/DM/dev.csv\""
      ],
      "metadata": {
        "id": "8yek04XSxRQL"
      },
      "execution_count": 68,
      "outputs": []
    },
    {
      "cell_type": "code",
      "source": [
        "test_df = pd.read_csv(test_path, delimiter='\\t' , index_col=0)\n",
        "test_df['clean_comment'] = test_df['comment'].apply(TextCleaner.clean_text)\n",
        "test_sequences = tokenizer.texts_to_sequences(test_df.clean_comment)\n",
        "test_data = pad_sequences(test_sequences, maxlen=max_len)"
      ],
      "metadata": {
        "id": "PM4jYeU3xT6Y",
        "colab": {
          "base_uri": "https://localhost:8080/"
        },
        "outputId": "19b6355d-e829-43c1-82dc-2eb406f592b8"
      },
      "execution_count": 75,
      "outputs": [
        {
          "output_type": "stream",
          "name": "stdout",
          "text": [
            "error\n",
            "error\n"
          ]
        }
      ]
    },
    {
      "cell_type": "code",
      "source": [
        "y_pred = model.predict(test_data)"
      ],
      "metadata": {
        "id": "jrzk1PLoc5ka"
      },
      "execution_count": 76,
      "outputs": []
    },
    {
      "cell_type": "code",
      "source": [
        "y_pred = np.array(y_pred > 0.5).astype(\"int32\")"
      ],
      "metadata": {
        "id": "7V0szNDNc-xH"
      },
      "execution_count": 77,
      "outputs": []
    },
    {
      "cell_type": "code",
      "source": [
        "print(classification_report(test_df.label_id, y_pred))"
      ],
      "metadata": {
        "id": "XZ34q-FlyDGS",
        "colab": {
          "base_uri": "https://localhost:8080/"
        },
        "outputId": "d15e020e-e8a1-4a49-ddc9-1c8df93d320b"
      },
      "execution_count": 78,
      "outputs": [
        {
          "output_type": "stream",
          "name": "stdout",
          "text": [
            "              precision    recall  f1-score   support\n",
            "\n",
            "           0       0.87      0.84      0.86      3150\n",
            "           1       0.85      0.87      0.86      3150\n",
            "\n",
            "    accuracy                           0.86      6300\n",
            "   macro avg       0.86      0.86      0.86      6300\n",
            "weighted avg       0.86      0.86      0.86      6300\n",
            "\n"
          ]
        }
      ]
    },
    {
      "cell_type": "code",
      "source": [
        "print(\"precision_score\", precision_score(test_df.label_id, y_pred , average=\"macro\"))\n",
        "print(\"recall_score\", recall_score(test_df.label_id, y_pred , average=\"macro\"))\n",
        "print(\"f1_score\", f1_score(test_df.label_id, y_pred , average=\"macro\"))"
      ],
      "metadata": {
        "id": "6LgvuNgNyFg9",
        "colab": {
          "base_uri": "https://localhost:8080/"
        },
        "outputId": "28a62499-e708-4e0b-bb39-5d35eb5b31c5"
      },
      "execution_count": 79,
      "outputs": [
        {
          "output_type": "stream",
          "name": "stdout",
          "text": [
            "precision_score 0.8575870442910385\n",
            "recall_score 0.8573015873015872\n",
            "f1_score 0.8572731030549079\n"
          ]
        }
      ]
    }
  ]
}