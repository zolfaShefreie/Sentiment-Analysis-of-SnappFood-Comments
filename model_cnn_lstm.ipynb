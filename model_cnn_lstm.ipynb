{
  "nbformat": 4,
  "nbformat_minor": 0,
  "metadata": {
    "colab": {
      "name": "model_cnn_lstm.ipynb",
      "provenance": [],
      "collapsed_sections": [
        "3eRhI2aU5eDo"
      ],
      "authorship_tag": "ABX9TyPJ+BI+Wwp4CEZLYMiKtvmi",
      "include_colab_link": true
    },
    "kernelspec": {
      "name": "python3",
      "display_name": "Python 3"
    },
    "language_info": {
      "name": "python"
    },
    "gpuClass": "standard"
  },
  "cells": [
    {
      "cell_type": "markdown",
      "metadata": {
        "id": "view-in-github",
        "colab_type": "text"
      },
      "source": [
        "<a href=\"https://colab.research.google.com/github/zolfaShefreie/Sentiment-Analysis-of-SnappFood-Comments/blob/main/model_cnn_lstm.ipynb\" target=\"_parent\"><img src=\"https://colab.research.google.com/assets/colab-badge.svg\" alt=\"Open In Colab\"/></a>"
      ]
    },
    {
      "cell_type": "code",
      "source": [
        "from google.colab import drive\n",
        "drive.mount(\"/content/drive/\")"
      ],
      "metadata": {
        "colab": {
          "base_uri": "https://localhost:8080/"
        },
        "id": "r0jDQsInDaNt",
        "outputId": "4b3b31d3-bbfb-4bdf-ca04-7ba28ec4761e"
      },
      "execution_count": 1,
      "outputs": [
        {
          "output_type": "stream",
          "name": "stdout",
          "text": [
            "Mounted at /content/drive/\n"
          ]
        }
      ]
    },
    {
      "cell_type": "markdown",
      "source": [
        "#install packages"
      ],
      "metadata": {
        "id": "3eRhI2aU5eDo"
      }
    },
    {
      "cell_type": "code",
      "source": [
        "!pip install parsivar"
      ],
      "metadata": {
        "colab": {
          "base_uri": "https://localhost:8080/"
        },
        "id": "lmX8qN5g5I6Z",
        "outputId": "4d8b186c-2e53-4653-a1cf-811ec648a7f7"
      },
      "execution_count": 2,
      "outputs": [
        {
          "output_type": "stream",
          "name": "stdout",
          "text": [
            "Looking in indexes: https://pypi.org/simple, https://us-python.pkg.dev/colab-wheels/public/simple/\n",
            "Collecting parsivar\n",
            "  Downloading parsivar-0.2.3.tar.gz (36.2 MB)\n",
            "\u001b[K     |████████████████████████████████| 36.2 MB 258 kB/s \n",
            "\u001b[?25hCollecting nltk==3.4.5\n",
            "  Downloading nltk-3.4.5.zip (1.5 MB)\n",
            "\u001b[K     |████████████████████████████████| 1.5 MB 38.8 MB/s \n",
            "\u001b[?25hRequirement already satisfied: six in /usr/local/lib/python3.7/dist-packages (from nltk==3.4.5->parsivar) (1.15.0)\n",
            "Building wheels for collected packages: parsivar, nltk\n",
            "  Building wheel for parsivar (setup.py) ... \u001b[?25l\u001b[?25hdone\n",
            "  Created wheel for parsivar: filename=parsivar-0.2.3-py3-none-any.whl size=36492972 sha256=b525db04fd98439e0afd660b894e97fd68e29e53b36a7f917092282d83c2e8e9\n",
            "  Stored in directory: /root/.cache/pip/wheels/ae/67/7a/49cbf08f64d3f76a26eceaf0e481a40e233f05d4356875cbed\n",
            "  Building wheel for nltk (setup.py) ... \u001b[?25l\u001b[?25hdone\n",
            "  Created wheel for nltk: filename=nltk-3.4.5-py3-none-any.whl size=1449923 sha256=472d55e66354a10f1085c7dcd8346f240664dba6fbcce6ffcd95526df9261bd5\n",
            "  Stored in directory: /root/.cache/pip/wheels/48/8b/7f/473521e0c731c6566d631b281f323842bbda9bd819eb9a3ead\n",
            "Successfully built parsivar nltk\n",
            "Installing collected packages: nltk, parsivar\n",
            "  Attempting uninstall: nltk\n",
            "    Found existing installation: nltk 3.7\n",
            "    Uninstalling nltk-3.7:\n",
            "      Successfully uninstalled nltk-3.7\n",
            "Successfully installed nltk-3.4.5 parsivar-0.2.3\n"
          ]
        }
      ]
    },
    {
      "cell_type": "code",
      "source": [
        "!pip install hazm"
      ],
      "metadata": {
        "colab": {
          "base_uri": "https://localhost:8080/"
        },
        "id": "D-dP_kMX5Mb8",
        "outputId": "25fd852e-b32c-4096-bc46-874df0907d5e"
      },
      "execution_count": 3,
      "outputs": [
        {
          "output_type": "stream",
          "name": "stdout",
          "text": [
            "Looking in indexes: https://pypi.org/simple, https://us-python.pkg.dev/colab-wheels/public/simple/\n",
            "Collecting hazm\n",
            "  Downloading hazm-0.7.0-py3-none-any.whl (316 kB)\n",
            "\u001b[K     |████████████████████████████████| 316 kB 39.3 MB/s \n",
            "\u001b[?25hCollecting libwapiti>=0.2.1\n",
            "  Downloading libwapiti-0.2.1.tar.gz (233 kB)\n",
            "\u001b[K     |████████████████████████████████| 233 kB 60.2 MB/s \n",
            "\u001b[?25hCollecting nltk==3.3\n",
            "  Downloading nltk-3.3.0.zip (1.4 MB)\n",
            "\u001b[K     |████████████████████████████████| 1.4 MB 45.3 MB/s \n",
            "\u001b[?25hRequirement already satisfied: six in /usr/local/lib/python3.7/dist-packages (from nltk==3.3->hazm) (1.15.0)\n",
            "Building wheels for collected packages: nltk, libwapiti\n",
            "  Building wheel for nltk (setup.py) ... \u001b[?25l\u001b[?25hdone\n",
            "  Created wheel for nltk: filename=nltk-3.3-py3-none-any.whl size=1394487 sha256=1eed695a8a1bc3a942f777bc705523e01f1cb06d10eff11912afc227e2841c0f\n",
            "  Stored in directory: /root/.cache/pip/wheels/9b/fd/0c/d92302c876e5de87ebd7fc0979d82edb93e2d8d768bf71fac4\n",
            "  Building wheel for libwapiti (setup.py) ... \u001b[?25l\u001b[?25hdone\n",
            "  Created wheel for libwapiti: filename=libwapiti-0.2.1-cp37-cp37m-linux_x86_64.whl size=154166 sha256=45bbb722a0a0ef127067c657c80ffcdc862c59e6da24b1d8c2b8a7c5814e57d0\n",
            "  Stored in directory: /root/.cache/pip/wheels/ab/b2/5b/0fe4b8f5c0e65341e8ea7bb3f4a6ebabfe8b1ac31322392dbf\n",
            "Successfully built nltk libwapiti\n",
            "Installing collected packages: nltk, libwapiti, hazm\n",
            "  Attempting uninstall: nltk\n",
            "    Found existing installation: nltk 3.4.5\n",
            "    Uninstalling nltk-3.4.5:\n",
            "      Successfully uninstalled nltk-3.4.5\n",
            "\u001b[31mERROR: pip's dependency resolver does not currently take into account all the packages that are installed. This behaviour is the source of the following dependency conflicts.\n",
            "parsivar 0.2.3 requires nltk==3.4.5, but you have nltk 3.3 which is incompatible.\u001b[0m\n",
            "Successfully installed hazm-0.7.0 libwapiti-0.2.1 nltk-3.3\n"
          ]
        }
      ]
    },
    {
      "cell_type": "code",
      "source": [
        "!pip install googletrans==4.0.0-rc1"
      ],
      "metadata": {
        "colab": {
          "base_uri": "https://localhost:8080/"
        },
        "id": "1zfziRam5Tar",
        "outputId": "723e37fc-7ead-47da-c474-a1204b9ef23a"
      },
      "execution_count": 4,
      "outputs": [
        {
          "output_type": "stream",
          "name": "stdout",
          "text": [
            "Looking in indexes: https://pypi.org/simple, https://us-python.pkg.dev/colab-wheels/public/simple/\n",
            "Collecting googletrans==4.0.0-rc1\n",
            "  Downloading googletrans-4.0.0rc1.tar.gz (20 kB)\n",
            "Collecting httpx==0.13.3\n",
            "  Downloading httpx-0.13.3-py3-none-any.whl (55 kB)\n",
            "\u001b[K     |████████████████████████████████| 55 kB 3.7 MB/s \n",
            "\u001b[?25hCollecting hstspreload\n",
            "  Downloading hstspreload-2021.12.1-py3-none-any.whl (1.3 MB)\n",
            "\u001b[K     |████████████████████████████████| 1.3 MB 64.1 MB/s \n",
            "\u001b[?25hCollecting rfc3986<2,>=1.3\n",
            "  Downloading rfc3986-1.5.0-py2.py3-none-any.whl (31 kB)\n",
            "Collecting httpcore==0.9.*\n",
            "  Downloading httpcore-0.9.1-py3-none-any.whl (42 kB)\n",
            "\u001b[K     |████████████████████████████████| 42 kB 1.6 MB/s \n",
            "\u001b[?25hRequirement already satisfied: idna==2.* in /usr/local/lib/python3.7/dist-packages (from httpx==0.13.3->googletrans==4.0.0-rc1) (2.10)\n",
            "Requirement already satisfied: certifi in /usr/local/lib/python3.7/dist-packages (from httpx==0.13.3->googletrans==4.0.0-rc1) (2022.6.15)\n",
            "Collecting sniffio\n",
            "  Downloading sniffio-1.2.0-py3-none-any.whl (10 kB)\n",
            "Requirement already satisfied: chardet==3.* in /usr/local/lib/python3.7/dist-packages (from httpx==0.13.3->googletrans==4.0.0-rc1) (3.0.4)\n",
            "Collecting h2==3.*\n",
            "  Downloading h2-3.2.0-py2.py3-none-any.whl (65 kB)\n",
            "\u001b[K     |████████████████████████████████| 65 kB 4.4 MB/s \n",
            "\u001b[?25hCollecting h11<0.10,>=0.8\n",
            "  Downloading h11-0.9.0-py2.py3-none-any.whl (53 kB)\n",
            "\u001b[K     |████████████████████████████████| 53 kB 2.8 MB/s \n",
            "\u001b[?25hCollecting hyperframe<6,>=5.2.0\n",
            "  Downloading hyperframe-5.2.0-py2.py3-none-any.whl (12 kB)\n",
            "Collecting hpack<4,>=3.0\n",
            "  Downloading hpack-3.0.0-py2.py3-none-any.whl (38 kB)\n",
            "Building wheels for collected packages: googletrans\n",
            "  Building wheel for googletrans (setup.py) ... \u001b[?25l\u001b[?25hdone\n",
            "  Created wheel for googletrans: filename=googletrans-4.0.0rc1-py3-none-any.whl size=17416 sha256=d4de2466667c86519b37b93ec8dd503119ef43d5191e1cb22adaec98786b9b18\n",
            "  Stored in directory: /root/.cache/pip/wheels/43/34/00/4fe71786ea6d12314b29037620c36d857e5d104ac2748bf82a\n",
            "Successfully built googletrans\n",
            "Installing collected packages: hyperframe, hpack, sniffio, h2, h11, rfc3986, httpcore, hstspreload, httpx, googletrans\n",
            "Successfully installed googletrans-4.0.0rc1 h11-0.9.0 h2-3.2.0 hpack-3.0.0 hstspreload-2021.12.1 httpcore-0.9.1 httpx-0.13.3 hyperframe-5.2.0 rfc3986-1.5.0 sniffio-1.2.0\n"
          ]
        }
      ]
    },
    {
      "cell_type": "code",
      "source": [
        "!pip install finglish"
      ],
      "metadata": {
        "colab": {
          "base_uri": "https://localhost:8080/"
        },
        "id": "j1HjqWvB5Z_h",
        "outputId": "3333f079-2870-4399-8753-2f6e174cf1dd"
      },
      "execution_count": 5,
      "outputs": [
        {
          "output_type": "stream",
          "name": "stdout",
          "text": [
            "Looking in indexes: https://pypi.org/simple, https://us-python.pkg.dev/colab-wheels/public/simple/\n",
            "Collecting finglish\n",
            "  Downloading finglish-1.5.1-py3-none-any.whl (2.4 MB)\n",
            "\u001b[K     |████████████████████████████████| 2.4 MB 27.5 MB/s \n",
            "\u001b[?25hInstalling collected packages: finglish\n",
            "Successfully installed finglish-1.5.1\n"
          ]
        }
      ]
    },
    {
      "cell_type": "code",
      "source": [
        "!pip install langdetect"
      ],
      "metadata": {
        "colab": {
          "base_uri": "https://localhost:8080/"
        },
        "id": "concDVmJgBRM",
        "outputId": "73c30e9e-9202-4dd1-e418-429a513c4ec4"
      },
      "execution_count": 6,
      "outputs": [
        {
          "output_type": "stream",
          "name": "stdout",
          "text": [
            "Looking in indexes: https://pypi.org/simple, https://us-python.pkg.dev/colab-wheels/public/simple/\n",
            "Collecting langdetect\n",
            "  Downloading langdetect-1.0.9.tar.gz (981 kB)\n",
            "\u001b[K     |████████████████████████████████| 981 kB 26.8 MB/s \n",
            "\u001b[?25hRequirement already satisfied: six in /usr/local/lib/python3.7/dist-packages (from langdetect) (1.15.0)\n",
            "Building wheels for collected packages: langdetect\n",
            "  Building wheel for langdetect (setup.py) ... \u001b[?25l\u001b[?25hdone\n",
            "  Created wheel for langdetect: filename=langdetect-1.0.9-py3-none-any.whl size=993242 sha256=03941c4ab4f58706b245edc7362612f3dfc0c6abcbb80e9bf3ff1d7b836fcf6c\n",
            "  Stored in directory: /root/.cache/pip/wheels/c5/96/8a/f90c59ed25d75e50a8c10a1b1c2d4c402e4dacfa87f3aff36a\n",
            "Successfully built langdetect\n",
            "Installing collected packages: langdetect\n",
            "Successfully installed langdetect-1.0.9\n"
          ]
        }
      ]
    },
    {
      "cell_type": "markdown",
      "source": [
        "#imports"
      ],
      "metadata": {
        "id": "iD2AUR7V5hwO"
      }
    },
    {
      "cell_type": "code",
      "source": [
        "from googletrans import Translator\n",
        "import parsivar\n",
        "from finglish import f2p\n",
        "import hazm\n",
        "import requests\n",
        "import io\n",
        "from textblob import Word\n",
        "import os\n",
        "from langdetect import detect"
      ],
      "metadata": {
        "colab": {
          "base_uri": "https://localhost:8080/"
        },
        "id": "GpZDqRoz5jxx",
        "outputId": "9a103944-c934-4819-fd0a-e06786ac603c"
      },
      "execution_count": 7,
      "outputs": [
        {
          "output_type": "stream",
          "name": "stdout",
          "text": [
            "Loading converters...\n",
            "Loading persian word list...\n",
            "Loading dictionary...\n"
          ]
        }
      ]
    },
    {
      "cell_type": "code",
      "source": [
        "import pandas as pd\n",
        "import numpy as np\n",
        "import tensorflow as tf\n",
        "from matplotlib import pyplot as plt\n",
        "from sklearn.metrics import f1_score, precision_score, recall_score, confusion_matrix, classification_report"
      ],
      "metadata": {
        "id": "98hCv8qLszip"
      },
      "execution_count": 8,
      "outputs": []
    },
    {
      "cell_type": "code",
      "source": [
        "from tensorflow.keras.preprocessing.text import Tokenizer\n",
        "from tensorflow.keras.preprocessing.sequence import pad_sequences\n",
        "from tensorflow.keras.layers import Embedding, Input, Conv1D, MaxPooling1D, LSTM, Dense, Dropout, GlobalMaxPooling1D, Flatten\n",
        "from tensorflow.keras import Model\n",
        "import keras"
      ],
      "metadata": {
        "id": "-gZRhP-ws3Y9"
      },
      "execution_count": 9,
      "outputs": []
    },
    {
      "cell_type": "code",
      "source": [
        "tf.__version__, keras.__version__"
      ],
      "metadata": {
        "colab": {
          "base_uri": "https://localhost:8080/"
        },
        "id": "ok5B2TjMS2jd",
        "outputId": "9dcf7a03-eef2-44a7-ac99-df73a8e2ac5e"
      },
      "execution_count": 10,
      "outputs": [
        {
          "output_type": "execute_result",
          "data": {
            "text/plain": [
              "('2.8.2', '2.8.0')"
            ]
          },
          "metadata": {},
          "execution_count": 10
        }
      ]
    },
    {
      "cell_type": "markdown",
      "source": [
        "#utility"
      ],
      "metadata": {
        "id": "f1aKnuR852AK"
      }
    },
    {
      "cell_type": "code",
      "source": [
        "def get_stopwords():\n",
        "  url = \"https://raw.githubusercontent.com/zolfaShefreie/Sentiment-Analysis-of-SnappFood-Comments/main/persian_stopword\"\n",
        "  content = requests.get(url).content.decode(\"utf-8\") \n",
        "  return set([w for w in content.split('\\n') if w])\n"
      ],
      "metadata": {
        "id": "CtebCU0DA48Z"
      },
      "execution_count": 11,
      "outputs": []
    },
    {
      "cell_type": "code",
      "source": [
        "class TextCleaner:\n",
        "    punc = '''!()-[]{.};:'\"\\,<>/?@#$%^&*_~`|’“”…—–'''\n",
        "    normalizer = parsivar.Normalizer(date_normalizing_needed=True, \n",
        "                                     statistical_space_correction=True)\n",
        "    stemmer = parsivar.FindStems()\n",
        "    lemmatizer = hazm.Lemmatizer()\n",
        "    tokenizer = parsivar.Tokenizer()\n",
        "    translator = Translator()\n",
        "    stopwords = get_stopwords()\n",
        "\n",
        "    @classmethod\n",
        "    def normalize(cls, text):\n",
        "        \"\"\"\n",
        "        convert to persian and normlize the text\n",
        "        \"\"\"\n",
        "        if detect(text) == \"en\":\n",
        "            text = cls.translator.translate(text, src=\"en\", dest=\"fa\").text\n",
        "        elif detect(text) != \"fa\":\n",
        "            text = f2p(text)\n",
        "        text = cls.normalizer.normalize(text)\n",
        "        return text\n",
        "    \n",
        "    @classmethod\n",
        "    def remove_punc(cls, text):\n",
        "        for each in cls.punc:\n",
        "            text = text.replace(each, ' ')\n",
        "        return text\n",
        "    \n",
        "    @classmethod\n",
        "    def stem_lemmet_word(cls, word):\n",
        "        \"\"\"\n",
        "        apply stem and lemmet on word\n",
        "        \"\"\"\n",
        "        new_word = word.strip()\n",
        "        new_word = cls.stemmer.convert_to_stem(new_word)\n",
        "        if '&' in new_word:\n",
        "            new_word = new_word.split('&')[0]\n",
        "        new_word = cls.lemmatizer.lemmatize(new_word)\n",
        "        if '#' in new_word:\n",
        "            new_word = new_word.split('#')[0]\n",
        "        return new_word\n",
        "        \n",
        "\n",
        "    @classmethod\n",
        "    def word_cleaning(cls, text, use_stemm=True, use_lemmet=True, \n",
        "                      remove_stopword=True):\n",
        "      tokens = cls.tokenizer.tokenize_words(text)\n",
        "      new_text = str()\n",
        "      for token in tokens:\n",
        "          if use_stemm:\n",
        "              token = cls.stemmer.convert_to_stem(token)\n",
        "              if '&' in token:\n",
        "                  token = token.split('&')[0]\n",
        "          if use_lemmet:\n",
        "              token = cls.lemmatizer.lemmatize(token)\n",
        "              if '#' in token:\n",
        "                  token = token.split('#')[0]\n",
        "          if remove_stopword and token in cls.stopwords:\n",
        "              continue\n",
        "          new_text += \" \" + token\n",
        "      return new_text\n",
        "    \n",
        "    @classmethod\n",
        "    def clean_text(cls, text, use_stemm=False, use_lemmet=False, \n",
        "                   remove_stopword=False):\n",
        "\n",
        "        text = cls.normalize(text)\n",
        "        text = cls.remove_punc(text)\n",
        "        text = cls.word_cleaning(text, use_stemm, use_lemmet, remove_stopword)\n",
        "        text = text.replace('‌', ' ')\n",
        "        text = \" \".join(text.split())\n",
        "        return text\n"
      ],
      "metadata": {
        "id": "NDzfAvuu4JIZ"
      },
      "execution_count": 12,
      "outputs": []
    },
    {
      "cell_type": "code",
      "source": [
        "def load_vectors(fname):\n",
        "    fin = io.open(fname, 'r', encoding='utf-8', newline='\\n', errors='ignore')\n",
        "    n, d = map(int, fin.readline().split())\n",
        "    data = {}\n",
        "    for line in fin:\n",
        "        tokens = line.rstrip().split(' ')\n",
        "        data[tokens[0]] = map(float, tokens[1:])\n",
        "    return data"
      ],
      "metadata": {
        "id": "_lz4NakJI1Vw"
      },
      "execution_count": 13,
      "outputs": []
    },
    {
      "cell_type": "code",
      "source": [
        "def get_embedding_matrix(word_index, embedding_index, embed_dim, check_word_clean=True):\n",
        "    \"\"\"\n",
        "    create matrix besed on word_index\n",
        "    \"\"\"\n",
        "    embedding_matrix = np.zeros((len(word_index) + 1, embed_dim))\n",
        "    miss_word = set()\n",
        "    for word, i in word_index.items():\n",
        "        embedding_vector = embedding_index.get(word, None)\n",
        "        if embedding_vector is None:\n",
        "            embedding_vector = embedding_index.get(TextCleaner.stem_lemmet_word(word), None)\n",
        "        if embedding_vector is not None:\n",
        "            try:\n",
        "                embedding_matrix[i] = np.fromiter(embedding_vector, dtype='float32')\n",
        "            except:\n",
        "                pass\n",
        "        else:\n",
        "            miss_word.add(word)\n",
        "    return embedding_matrix, miss_word"
      ],
      "metadata": {
        "id": "yzW1G3gXSG8S"
      },
      "execution_count": 14,
      "outputs": []
    },
    {
      "cell_type": "markdown",
      "source": [
        "#load dataset"
      ],
      "metadata": {
        "id": "5CnhP_CWIVjS"
      }
    },
    {
      "cell_type": "code",
      "source": [
        "train_file_path = \"/content/drive/MyDrive/snappfood_comment/train.csv\"\n",
        "validation_file_path = \"/content/drive/MyDrive/snappfood_comment/dev.csv\"\n",
        "need_clean_train = False\n",
        "need_cleean_validation = False\n",
        "if not os.path.exists(train_file_path):\n",
        "    train_file_path = \"/content/drive/MyDrive/DM/train.csv\"\n",
        "    need_clean_train = True\n",
        "if not os.path.exists(validation_file_path):\n",
        "    validation_file_path = \"/content/drive/MyDrive/DM/dev.csv\"\n",
        "    need_cleean_validation = True"
      ],
      "metadata": {
        "id": "wRXF9TKoHcaD"
      },
      "execution_count": 15,
      "outputs": []
    },
    {
      "cell_type": "code",
      "source": [
        "train_df = pd.read_csv(train_file_path, delimiter='\\t' if need_clean_train else None , index_col=0)\n",
        "validation_df = pd.read_csv(validation_file_path, delimiter='\\t' if need_clean_train else None, index_col=0)"
      ],
      "metadata": {
        "id": "yxe-IE9WHe5N"
      },
      "execution_count": 16,
      "outputs": []
    },
    {
      "cell_type": "code",
      "source": [
        "if need_clean_train:\n",
        "    train_df['clean_comment'] = train_df['comment'].apply(TextCleaner.clean_text)\n",
        "    train_df.to_csv(\"/content/drive/MyDrive/snappfood_comment/train.csv\")"
      ],
      "metadata": {
        "id": "6wPz4w9Nah0v"
      },
      "execution_count": 17,
      "outputs": []
    },
    {
      "cell_type": "code",
      "source": [
        "if need_cleean_validation:\n",
        "    validation_df['clean_comment'] = validation_df['comment'].apply(TextCleaner.clean_text)\n",
        "    validation_df.to_csv(\"/content/drive/MyDrive/snappfood_comment/dev.csv\")"
      ],
      "metadata": {
        "id": "uy0U703jiUYX"
      },
      "execution_count": 18,
      "outputs": []
    },
    {
      "cell_type": "code",
      "source": [
        "train_df"
      ],
      "metadata": {
        "id": "DF8AwVPUHgyG",
        "colab": {
          "base_uri": "https://localhost:8080/",
          "height": 423
        },
        "outputId": "ed93813f-69d7-46b1-ffd0-5daf60a2843f"
      },
      "execution_count": 19,
      "outputs": [
        {
          "output_type": "execute_result",
          "data": {
            "text/plain": [
              "                                                 comment  label  label_id  \\\n",
              "0        واقعا حیف وقت که بنویسم سرویس دهیتون شده افتضاح    SAD         1   \n",
              "1      قرار بود ۱ ساعته برسه ولی نیم ساعت زودتر از مو...  HAPPY         0   \n",
              "2      قیمت این مدل اصلا با کیفیتش سازگاری نداره، فقط...    SAD         1   \n",
              "3      عالللی بود همه چه درست و به اندازه و کیفیت خوب...  HAPPY         0   \n",
              "4                          شیرینی وانیلی فقط یک مدل بود.  HAPPY         0   \n",
              "...                                                  ...    ...       ...   \n",
              "56695  یک تیکه کم فرستاده بودن و با تماس من در کمترین...  HAPPY         0   \n",
              "56696  عالی بود همه چیز ممنونم پیک هم خیلی مرتب و به ...  HAPPY         0   \n",
              "56697  مثل همیشه عالی، من چندمین باره سفارش میدم و هر...  HAPPY         0   \n",
              "56698      دلستر استوایی خواسته بودم اما لیمویی فرستادند  HAPPY         0   \n",
              "56699  جای مرغ گریل شده ناگت بود، به این نمی‌گن چیکن ...    SAD         1   \n",
              "\n",
              "                                           clean_comment  \n",
              "0        واقعا حیف وقت که بنویسم سرویس دهیتون شده افتضاح  \n",
              "1      قرار بود 1 ساعته برسه ولی نیم ساعت زودتر از مو...  \n",
              "2      قیمت این مدل اصلا با کیفیتش سازگاری نداره ، فق...  \n",
              "3      عالللی بود همه چه درست و به اندازه و کیفیت خوب...  \n",
              "4                            شیرینی وانیلی فقط 1 مدل بود  \n",
              "...                                                  ...  \n",
              "56695  1 تیکه کم فرستاده بودن و با تماس من در کمترین ...  \n",
              "56696  عالی بود همه چیز ممنونم پیک هم خیلی مرتب و به ...  \n",
              "56697  مثل همیشه عالی ، من چندمین باره سفارش میدم و ه...  \n",
              "56698      دلستر استوایی خواسته بودم اما لیمویی فرستادند  \n",
              "56699  جای مرغ گریل شده ناگت بود ، به این نمی گن چیکن...  \n",
              "\n",
              "[56700 rows x 4 columns]"
            ],
            "text/html": [
              "\n",
              "  <div id=\"df-99bf0f17-c1d9-439b-89c5-a9339db5f7ec\">\n",
              "    <div class=\"colab-df-container\">\n",
              "      <div>\n",
              "<style scoped>\n",
              "    .dataframe tbody tr th:only-of-type {\n",
              "        vertical-align: middle;\n",
              "    }\n",
              "\n",
              "    .dataframe tbody tr th {\n",
              "        vertical-align: top;\n",
              "    }\n",
              "\n",
              "    .dataframe thead th {\n",
              "        text-align: right;\n",
              "    }\n",
              "</style>\n",
              "<table border=\"1\" class=\"dataframe\">\n",
              "  <thead>\n",
              "    <tr style=\"text-align: right;\">\n",
              "      <th></th>\n",
              "      <th>comment</th>\n",
              "      <th>label</th>\n",
              "      <th>label_id</th>\n",
              "      <th>clean_comment</th>\n",
              "    </tr>\n",
              "  </thead>\n",
              "  <tbody>\n",
              "    <tr>\n",
              "      <th>0</th>\n",
              "      <td>واقعا حیف وقت که بنویسم سرویس دهیتون شده افتضاح</td>\n",
              "      <td>SAD</td>\n",
              "      <td>1</td>\n",
              "      <td>واقعا حیف وقت که بنویسم سرویس دهیتون شده افتضاح</td>\n",
              "    </tr>\n",
              "    <tr>\n",
              "      <th>1</th>\n",
              "      <td>قرار بود ۱ ساعته برسه ولی نیم ساعت زودتر از مو...</td>\n",
              "      <td>HAPPY</td>\n",
              "      <td>0</td>\n",
              "      <td>قرار بود 1 ساعته برسه ولی نیم ساعت زودتر از مو...</td>\n",
              "    </tr>\n",
              "    <tr>\n",
              "      <th>2</th>\n",
              "      <td>قیمت این مدل اصلا با کیفیتش سازگاری نداره، فقط...</td>\n",
              "      <td>SAD</td>\n",
              "      <td>1</td>\n",
              "      <td>قیمت این مدل اصلا با کیفیتش سازگاری نداره ، فق...</td>\n",
              "    </tr>\n",
              "    <tr>\n",
              "      <th>3</th>\n",
              "      <td>عالللی بود همه چه درست و به اندازه و کیفیت خوب...</td>\n",
              "      <td>HAPPY</td>\n",
              "      <td>0</td>\n",
              "      <td>عالللی بود همه چه درست و به اندازه و کیفیت خوب...</td>\n",
              "    </tr>\n",
              "    <tr>\n",
              "      <th>4</th>\n",
              "      <td>شیرینی وانیلی فقط یک مدل بود.</td>\n",
              "      <td>HAPPY</td>\n",
              "      <td>0</td>\n",
              "      <td>شیرینی وانیلی فقط 1 مدل بود</td>\n",
              "    </tr>\n",
              "    <tr>\n",
              "      <th>...</th>\n",
              "      <td>...</td>\n",
              "      <td>...</td>\n",
              "      <td>...</td>\n",
              "      <td>...</td>\n",
              "    </tr>\n",
              "    <tr>\n",
              "      <th>56695</th>\n",
              "      <td>یک تیکه کم فرستاده بودن و با تماس من در کمترین...</td>\n",
              "      <td>HAPPY</td>\n",
              "      <td>0</td>\n",
              "      <td>1 تیکه کم فرستاده بودن و با تماس من در کمترین ...</td>\n",
              "    </tr>\n",
              "    <tr>\n",
              "      <th>56696</th>\n",
              "      <td>عالی بود همه چیز ممنونم پیک هم خیلی مرتب و به ...</td>\n",
              "      <td>HAPPY</td>\n",
              "      <td>0</td>\n",
              "      <td>عالی بود همه چیز ممنونم پیک هم خیلی مرتب و به ...</td>\n",
              "    </tr>\n",
              "    <tr>\n",
              "      <th>56697</th>\n",
              "      <td>مثل همیشه عالی، من چندمین باره سفارش میدم و هر...</td>\n",
              "      <td>HAPPY</td>\n",
              "      <td>0</td>\n",
              "      <td>مثل همیشه عالی ، من چندمین باره سفارش میدم و ه...</td>\n",
              "    </tr>\n",
              "    <tr>\n",
              "      <th>56698</th>\n",
              "      <td>دلستر استوایی خواسته بودم اما لیمویی فرستادند</td>\n",
              "      <td>HAPPY</td>\n",
              "      <td>0</td>\n",
              "      <td>دلستر استوایی خواسته بودم اما لیمویی فرستادند</td>\n",
              "    </tr>\n",
              "    <tr>\n",
              "      <th>56699</th>\n",
              "      <td>جای مرغ گریل شده ناگت بود، به این نمی‌گن چیکن ...</td>\n",
              "      <td>SAD</td>\n",
              "      <td>1</td>\n",
              "      <td>جای مرغ گریل شده ناگت بود ، به این نمی گن چیکن...</td>\n",
              "    </tr>\n",
              "  </tbody>\n",
              "</table>\n",
              "<p>56700 rows × 4 columns</p>\n",
              "</div>\n",
              "      <button class=\"colab-df-convert\" onclick=\"convertToInteractive('df-99bf0f17-c1d9-439b-89c5-a9339db5f7ec')\"\n",
              "              title=\"Convert this dataframe to an interactive table.\"\n",
              "              style=\"display:none;\">\n",
              "        \n",
              "  <svg xmlns=\"http://www.w3.org/2000/svg\" height=\"24px\"viewBox=\"0 0 24 24\"\n",
              "       width=\"24px\">\n",
              "    <path d=\"M0 0h24v24H0V0z\" fill=\"none\"/>\n",
              "    <path d=\"M18.56 5.44l.94 2.06.94-2.06 2.06-.94-2.06-.94-.94-2.06-.94 2.06-2.06.94zm-11 1L8.5 8.5l.94-2.06 2.06-.94-2.06-.94L8.5 2.5l-.94 2.06-2.06.94zm10 10l.94 2.06.94-2.06 2.06-.94-2.06-.94-.94-2.06-.94 2.06-2.06.94z\"/><path d=\"M17.41 7.96l-1.37-1.37c-.4-.4-.92-.59-1.43-.59-.52 0-1.04.2-1.43.59L10.3 9.45l-7.72 7.72c-.78.78-.78 2.05 0 2.83L4 21.41c.39.39.9.59 1.41.59.51 0 1.02-.2 1.41-.59l7.78-7.78 2.81-2.81c.8-.78.8-2.07 0-2.86zM5.41 20L4 18.59l7.72-7.72 1.47 1.35L5.41 20z\"/>\n",
              "  </svg>\n",
              "      </button>\n",
              "      \n",
              "  <style>\n",
              "    .colab-df-container {\n",
              "      display:flex;\n",
              "      flex-wrap:wrap;\n",
              "      gap: 12px;\n",
              "    }\n",
              "\n",
              "    .colab-df-convert {\n",
              "      background-color: #E8F0FE;\n",
              "      border: none;\n",
              "      border-radius: 50%;\n",
              "      cursor: pointer;\n",
              "      display: none;\n",
              "      fill: #1967D2;\n",
              "      height: 32px;\n",
              "      padding: 0 0 0 0;\n",
              "      width: 32px;\n",
              "    }\n",
              "\n",
              "    .colab-df-convert:hover {\n",
              "      background-color: #E2EBFA;\n",
              "      box-shadow: 0px 1px 2px rgba(60, 64, 67, 0.3), 0px 1px 3px 1px rgba(60, 64, 67, 0.15);\n",
              "      fill: #174EA6;\n",
              "    }\n",
              "\n",
              "    [theme=dark] .colab-df-convert {\n",
              "      background-color: #3B4455;\n",
              "      fill: #D2E3FC;\n",
              "    }\n",
              "\n",
              "    [theme=dark] .colab-df-convert:hover {\n",
              "      background-color: #434B5C;\n",
              "      box-shadow: 0px 1px 3px 1px rgba(0, 0, 0, 0.15);\n",
              "      filter: drop-shadow(0px 1px 2px rgba(0, 0, 0, 0.3));\n",
              "      fill: #FFFFFF;\n",
              "    }\n",
              "  </style>\n",
              "\n",
              "      <script>\n",
              "        const buttonEl =\n",
              "          document.querySelector('#df-99bf0f17-c1d9-439b-89c5-a9339db5f7ec button.colab-df-convert');\n",
              "        buttonEl.style.display =\n",
              "          google.colab.kernel.accessAllowed ? 'block' : 'none';\n",
              "\n",
              "        async function convertToInteractive(key) {\n",
              "          const element = document.querySelector('#df-99bf0f17-c1d9-439b-89c5-a9339db5f7ec');\n",
              "          const dataTable =\n",
              "            await google.colab.kernel.invokeFunction('convertToInteractive',\n",
              "                                                     [key], {});\n",
              "          if (!dataTable) return;\n",
              "\n",
              "          const docLinkHtml = 'Like what you see? Visit the ' +\n",
              "            '<a target=\"_blank\" href=https://colab.research.google.com/notebooks/data_table.ipynb>data table notebook</a>'\n",
              "            + ' to learn more about interactive tables.';\n",
              "          element.innerHTML = '';\n",
              "          dataTable['output_type'] = 'display_data';\n",
              "          await google.colab.output.renderOutput(dataTable, element);\n",
              "          const docLink = document.createElement('div');\n",
              "          docLink.innerHTML = docLinkHtml;\n",
              "          element.appendChild(docLink);\n",
              "        }\n",
              "      </script>\n",
              "    </div>\n",
              "  </div>\n",
              "  "
            ]
          },
          "metadata": {},
          "execution_count": 19
        }
      ]
    },
    {
      "cell_type": "code",
      "source": [
        "validation_df"
      ],
      "metadata": {
        "colab": {
          "base_uri": "https://localhost:8080/",
          "height": 423
        },
        "id": "T5E5WcQ9L_U4",
        "outputId": "47771105-6707-45ad-eae5-ee040e79fd24"
      },
      "execution_count": 20,
      "outputs": [
        {
          "output_type": "execute_result",
          "data": {
            "text/plain": [
              "                                                comment  label  label_id  \\\n",
              "0     همه ساندویچ‌ها سرد بود متاسفانه در صورتی که فا...    SAD         1   \n",
              "1                                تشکر، عالی‌تر از همیشه  HAPPY         0   \n",
              "2     مرغ و کدو رو دوس نداشتم ولی کلا ساندویچهای خوش...  HAPPY         0   \n",
              "3        نمیدونم هزینه بسته بندی به چه دلیل گرفته شد؟؟؟    SAD         1   \n",
              "4     یک نوشابه کم ارسال شد و تاخیر فراوان و غذای نس...    SAD         1   \n",
              "...                                                 ...    ...       ...   \n",
              "6295  سلام من به فاکتور غذاهایی که سفارش میدم احتیاج...    SAD         1   \n",
              "6296  سایز پیتزا نسبت به سفارشاتی که قبلا گذشتم کم ش...    SAD         1   \n",
              "6297  من قارچ اضافه رو اضافه کرده بودم بودم اما اگر ...  HAPPY         0   \n",
              "6298  همرو بعد ۲ساعت تاخیر اشتباه آوردن پولشم رفت رو...    SAD         1   \n",
              "6299                             فلفلش خییییلی تند بود.  HAPPY         0   \n",
              "\n",
              "                                          clean_comment  \n",
              "0     همه ساندویچ ها سرد بود متاسفانه در صورتی که فا...  \n",
              "1                               تشکر ، عالی تر از همیشه  \n",
              "2     مرغ و کدو رو دوس نداشتم ولی کلا ساندویچهای خوش...  \n",
              "3       نمیدونم هزینه بسته بندی به چه دلیل گرفته شد ؟؟؟  \n",
              "4     1 نوشابه کم ارسال شد و تاخیر فراوان و غذای نسب...  \n",
              "...                                                 ...  \n",
              "6295  سلام من به فاکتور غذاهایی که سفارش میدم احتیاج...  \n",
              "6296  سایز پیتزا نسبت به سفارشاتی که قبلا گذشتم کم ش...  \n",
              "6297  من قارچ اضافه رو اضافه کرده بودم بودم اما اگر ...  \n",
              "6298  همرو بعد 2ساعت تاخیر اشتباه آوردن پولشم رفت رو...  \n",
              "6299                              فلفلش خییییلی تند بود  \n",
              "\n",
              "[6300 rows x 4 columns]"
            ],
            "text/html": [
              "\n",
              "  <div id=\"df-6fb7dc7e-66e4-4408-976d-3b9cfc688c56\">\n",
              "    <div class=\"colab-df-container\">\n",
              "      <div>\n",
              "<style scoped>\n",
              "    .dataframe tbody tr th:only-of-type {\n",
              "        vertical-align: middle;\n",
              "    }\n",
              "\n",
              "    .dataframe tbody tr th {\n",
              "        vertical-align: top;\n",
              "    }\n",
              "\n",
              "    .dataframe thead th {\n",
              "        text-align: right;\n",
              "    }\n",
              "</style>\n",
              "<table border=\"1\" class=\"dataframe\">\n",
              "  <thead>\n",
              "    <tr style=\"text-align: right;\">\n",
              "      <th></th>\n",
              "      <th>comment</th>\n",
              "      <th>label</th>\n",
              "      <th>label_id</th>\n",
              "      <th>clean_comment</th>\n",
              "    </tr>\n",
              "  </thead>\n",
              "  <tbody>\n",
              "    <tr>\n",
              "      <th>0</th>\n",
              "      <td>همه ساندویچ‌ها سرد بود متاسفانه در صورتی که فا...</td>\n",
              "      <td>SAD</td>\n",
              "      <td>1</td>\n",
              "      <td>همه ساندویچ ها سرد بود متاسفانه در صورتی که فا...</td>\n",
              "    </tr>\n",
              "    <tr>\n",
              "      <th>1</th>\n",
              "      <td>تشکر، عالی‌تر از همیشه</td>\n",
              "      <td>HAPPY</td>\n",
              "      <td>0</td>\n",
              "      <td>تشکر ، عالی تر از همیشه</td>\n",
              "    </tr>\n",
              "    <tr>\n",
              "      <th>2</th>\n",
              "      <td>مرغ و کدو رو دوس نداشتم ولی کلا ساندویچهای خوش...</td>\n",
              "      <td>HAPPY</td>\n",
              "      <td>0</td>\n",
              "      <td>مرغ و کدو رو دوس نداشتم ولی کلا ساندویچهای خوش...</td>\n",
              "    </tr>\n",
              "    <tr>\n",
              "      <th>3</th>\n",
              "      <td>نمیدونم هزینه بسته بندی به چه دلیل گرفته شد؟؟؟</td>\n",
              "      <td>SAD</td>\n",
              "      <td>1</td>\n",
              "      <td>نمیدونم هزینه بسته بندی به چه دلیل گرفته شد ؟؟؟</td>\n",
              "    </tr>\n",
              "    <tr>\n",
              "      <th>4</th>\n",
              "      <td>یک نوشابه کم ارسال شد و تاخیر فراوان و غذای نس...</td>\n",
              "      <td>SAD</td>\n",
              "      <td>1</td>\n",
              "      <td>1 نوشابه کم ارسال شد و تاخیر فراوان و غذای نسب...</td>\n",
              "    </tr>\n",
              "    <tr>\n",
              "      <th>...</th>\n",
              "      <td>...</td>\n",
              "      <td>...</td>\n",
              "      <td>...</td>\n",
              "      <td>...</td>\n",
              "    </tr>\n",
              "    <tr>\n",
              "      <th>6295</th>\n",
              "      <td>سلام من به فاکتور غذاهایی که سفارش میدم احتیاج...</td>\n",
              "      <td>SAD</td>\n",
              "      <td>1</td>\n",
              "      <td>سلام من به فاکتور غذاهایی که سفارش میدم احتیاج...</td>\n",
              "    </tr>\n",
              "    <tr>\n",
              "      <th>6296</th>\n",
              "      <td>سایز پیتزا نسبت به سفارشاتی که قبلا گذشتم کم ش...</td>\n",
              "      <td>SAD</td>\n",
              "      <td>1</td>\n",
              "      <td>سایز پیتزا نسبت به سفارشاتی که قبلا گذشتم کم ش...</td>\n",
              "    </tr>\n",
              "    <tr>\n",
              "      <th>6297</th>\n",
              "      <td>من قارچ اضافه رو اضافه کرده بودم بودم اما اگر ...</td>\n",
              "      <td>HAPPY</td>\n",
              "      <td>0</td>\n",
              "      <td>من قارچ اضافه رو اضافه کرده بودم بودم اما اگر ...</td>\n",
              "    </tr>\n",
              "    <tr>\n",
              "      <th>6298</th>\n",
              "      <td>همرو بعد ۲ساعت تاخیر اشتباه آوردن پولشم رفت رو...</td>\n",
              "      <td>SAD</td>\n",
              "      <td>1</td>\n",
              "      <td>همرو بعد 2ساعت تاخیر اشتباه آوردن پولشم رفت رو...</td>\n",
              "    </tr>\n",
              "    <tr>\n",
              "      <th>6299</th>\n",
              "      <td>فلفلش خییییلی تند بود.</td>\n",
              "      <td>HAPPY</td>\n",
              "      <td>0</td>\n",
              "      <td>فلفلش خییییلی تند بود</td>\n",
              "    </tr>\n",
              "  </tbody>\n",
              "</table>\n",
              "<p>6300 rows × 4 columns</p>\n",
              "</div>\n",
              "      <button class=\"colab-df-convert\" onclick=\"convertToInteractive('df-6fb7dc7e-66e4-4408-976d-3b9cfc688c56')\"\n",
              "              title=\"Convert this dataframe to an interactive table.\"\n",
              "              style=\"display:none;\">\n",
              "        \n",
              "  <svg xmlns=\"http://www.w3.org/2000/svg\" height=\"24px\"viewBox=\"0 0 24 24\"\n",
              "       width=\"24px\">\n",
              "    <path d=\"M0 0h24v24H0V0z\" fill=\"none\"/>\n",
              "    <path d=\"M18.56 5.44l.94 2.06.94-2.06 2.06-.94-2.06-.94-.94-2.06-.94 2.06-2.06.94zm-11 1L8.5 8.5l.94-2.06 2.06-.94-2.06-.94L8.5 2.5l-.94 2.06-2.06.94zm10 10l.94 2.06.94-2.06 2.06-.94-2.06-.94-.94-2.06-.94 2.06-2.06.94z\"/><path d=\"M17.41 7.96l-1.37-1.37c-.4-.4-.92-.59-1.43-.59-.52 0-1.04.2-1.43.59L10.3 9.45l-7.72 7.72c-.78.78-.78 2.05 0 2.83L4 21.41c.39.39.9.59 1.41.59.51 0 1.02-.2 1.41-.59l7.78-7.78 2.81-2.81c.8-.78.8-2.07 0-2.86zM5.41 20L4 18.59l7.72-7.72 1.47 1.35L5.41 20z\"/>\n",
              "  </svg>\n",
              "      </button>\n",
              "      \n",
              "  <style>\n",
              "    .colab-df-container {\n",
              "      display:flex;\n",
              "      flex-wrap:wrap;\n",
              "      gap: 12px;\n",
              "    }\n",
              "\n",
              "    .colab-df-convert {\n",
              "      background-color: #E8F0FE;\n",
              "      border: none;\n",
              "      border-radius: 50%;\n",
              "      cursor: pointer;\n",
              "      display: none;\n",
              "      fill: #1967D2;\n",
              "      height: 32px;\n",
              "      padding: 0 0 0 0;\n",
              "      width: 32px;\n",
              "    }\n",
              "\n",
              "    .colab-df-convert:hover {\n",
              "      background-color: #E2EBFA;\n",
              "      box-shadow: 0px 1px 2px rgba(60, 64, 67, 0.3), 0px 1px 3px 1px rgba(60, 64, 67, 0.15);\n",
              "      fill: #174EA6;\n",
              "    }\n",
              "\n",
              "    [theme=dark] .colab-df-convert {\n",
              "      background-color: #3B4455;\n",
              "      fill: #D2E3FC;\n",
              "    }\n",
              "\n",
              "    [theme=dark] .colab-df-convert:hover {\n",
              "      background-color: #434B5C;\n",
              "      box-shadow: 0px 1px 3px 1px rgba(0, 0, 0, 0.15);\n",
              "      filter: drop-shadow(0px 1px 2px rgba(0, 0, 0, 0.3));\n",
              "      fill: #FFFFFF;\n",
              "    }\n",
              "  </style>\n",
              "\n",
              "      <script>\n",
              "        const buttonEl =\n",
              "          document.querySelector('#df-6fb7dc7e-66e4-4408-976d-3b9cfc688c56 button.colab-df-convert');\n",
              "        buttonEl.style.display =\n",
              "          google.colab.kernel.accessAllowed ? 'block' : 'none';\n",
              "\n",
              "        async function convertToInteractive(key) {\n",
              "          const element = document.querySelector('#df-6fb7dc7e-66e4-4408-976d-3b9cfc688c56');\n",
              "          const dataTable =\n",
              "            await google.colab.kernel.invokeFunction('convertToInteractive',\n",
              "                                                     [key], {});\n",
              "          if (!dataTable) return;\n",
              "\n",
              "          const docLinkHtml = 'Like what you see? Visit the ' +\n",
              "            '<a target=\"_blank\" href=https://colab.research.google.com/notebooks/data_table.ipynb>data table notebook</a>'\n",
              "            + ' to learn more about interactive tables.';\n",
              "          element.innerHTML = '';\n",
              "          dataTable['output_type'] = 'display_data';\n",
              "          await google.colab.output.renderOutput(dataTable, element);\n",
              "          const docLink = document.createElement('div');\n",
              "          docLink.innerHTML = docLinkHtml;\n",
              "          element.appendChild(docLink);\n",
              "        }\n",
              "      </script>\n",
              "    </div>\n",
              "  </div>\n",
              "  "
            ]
          },
          "metadata": {},
          "execution_count": 20
        }
      ]
    },
    {
      "cell_type": "markdown",
      "source": [
        "#tokenizer"
      ],
      "metadata": {
        "id": "DfdrqLfhsH23"
      }
    },
    {
      "cell_type": "code",
      "source": [
        "tokenizer = Tokenizer(20000)\n",
        "#fit based on validation and train dataset\n",
        "tokenizer.fit_on_texts(train_df.clean_comment)"
      ],
      "metadata": {
        "id": "h3lfa5ZUHmN0"
      },
      "execution_count": 21,
      "outputs": []
    },
    {
      "cell_type": "code",
      "source": [
        "word_index = tokenizer.word_index\n",
        "len(word_index)"
      ],
      "metadata": {
        "id": "hYgMJA1NHqn6",
        "colab": {
          "base_uri": "https://localhost:8080/"
        },
        "outputId": "d1192dfc-6d39-4dfd-b7f6-0fe8487a999c"
      },
      "execution_count": 22,
      "outputs": [
        {
          "output_type": "execute_result",
          "data": {
            "text/plain": [
              "25399"
            ]
          },
          "metadata": {},
          "execution_count": 22
        }
      ]
    },
    {
      "cell_type": "code",
      "source": [
        "train_sequences = tokenizer.texts_to_sequences(train_df.clean_comment)\n",
        "validation_sequences = tokenizer.texts_to_sequences(validation_df.clean_comment)\n",
        "# max_len = len(max(train_sequences + validation_sequences, key=len))\n",
        "max_len = 128\n",
        "train_data = pad_sequences(train_sequences, maxlen=max_len)\n",
        "validation_data = pad_sequences(validation_sequences, maxlen=max_len)"
      ],
      "metadata": {
        "id": "vJvpCQkGZQdD"
      },
      "execution_count": 23,
      "outputs": []
    },
    {
      "cell_type": "markdown",
      "source": [
        "#pre-trained embed weights"
      ],
      "metadata": {
        "id": "qxdQX5Orwxr0"
      }
    },
    {
      "cell_type": "code",
      "source": [
        "!wget http://vectors.nlpl.eu/repository/20/61.zip"
      ],
      "metadata": {
        "id": "zEO7MT04O-pa",
        "colab": {
          "base_uri": "https://localhost:8080/"
        },
        "outputId": "6e223924-672b-4e84-feb5-68dbee5e21ff"
      },
      "execution_count": 24,
      "outputs": [
        {
          "output_type": "stream",
          "name": "stdout",
          "text": [
            "--2022-06-25 16:39:08--  http://vectors.nlpl.eu/repository/20/61.zip\n",
            "Resolving vectors.nlpl.eu (vectors.nlpl.eu)... 129.240.189.181\n",
            "Connecting to vectors.nlpl.eu (vectors.nlpl.eu)|129.240.189.181|:80... connected.\n",
            "HTTP request sent, awaiting response... 200 OK\n",
            "Length: 730416332 (697M) [application/zip]\n",
            "Saving to: ‘61.zip’\n",
            "\n",
            "61.zip              100%[===================>] 696.58M  11.5MB/s    in 69s     \n",
            "\n",
            "2022-06-25 16:40:17 (10.2 MB/s) - ‘61.zip’ saved [730416332/730416332]\n",
            "\n"
          ]
        }
      ]
    },
    {
      "cell_type": "code",
      "source": [
        "!unzip /content/61.zip"
      ],
      "metadata": {
        "id": "zN4CGW8RPxAw",
        "colab": {
          "base_uri": "https://localhost:8080/"
        },
        "outputId": "8891e4e9-f914-4fd3-c63a-0fa946f0f5d5"
      },
      "execution_count": 25,
      "outputs": [
        {
          "output_type": "stream",
          "name": "stdout",
          "text": [
            "Archive:  /content/61.zip\n",
            "  inflating: LIST                    \n",
            "  inflating: meta.json               \n",
            "  inflating: model.bin               \n",
            "  inflating: model.txt               \n",
            "  inflating: README                  \n"
          ]
        }
      ]
    },
    {
      "cell_type": "code",
      "source": [
        "vector_embed_file = \"/content/model.txt\"\n",
        "embed_dim = 100"
      ],
      "metadata": {
        "id": "QtB3TTOCwVz7"
      },
      "execution_count": 26,
      "outputs": []
    },
    {
      "cell_type": "code",
      "source": [
        "embeddings_index = load_vectors(vector_embed_file)\n",
        "len(embeddings_index)"
      ],
      "metadata": {
        "colab": {
          "base_uri": "https://localhost:8080/"
        },
        "id": "2TwvwhSJwdhD",
        "outputId": "a9f0e08c-5562-49d4-ad5c-84fd70aa8464"
      },
      "execution_count": 27,
      "outputs": [
        {
          "output_type": "execute_result",
          "data": {
            "text/plain": [
              "966446"
            ]
          },
          "metadata": {},
          "execution_count": 27
        }
      ]
    },
    {
      "cell_type": "code",
      "source": [
        "embedding_matrix, miss_word = get_embedding_matrix(word_index, embeddings_index, embed_dim)\n",
        "del embeddings_index\n",
        "print(len(miss_word))"
      ],
      "metadata": {
        "colab": {
          "base_uri": "https://localhost:8080/"
        },
        "id": "e41GSd_8wh2u",
        "outputId": "cfcd3292-c1c6-4725-a338-10645150d0c2"
      },
      "execution_count": 28,
      "outputs": [
        {
          "output_type": "stream",
          "name": "stdout",
          "text": [
            "5592\n"
          ]
        }
      ]
    },
    {
      "cell_type": "code",
      "source": [
        "print(miss_word)"
      ],
      "metadata": {
        "colab": {
          "base_uri": "https://localhost:8080/"
        },
        "id": "eB4gkom2woDE",
        "outputId": "0db5fc5e-328a-4922-bbd7-2417d55af6b5"
      },
      "execution_count": 29,
      "outputs": [
        {
          "output_type": "stream",
          "name": "stdout",
          "text": [
            "{'snappfood', 'بگذزارند', 'بسیارررررررر', 'یخزدش', 'متاسفانه200گرم', 'مشتریهاتونو', 'عاااللی', 'بوددددددددددددددددددددددددددددددددددددددددددددددد', '400لیتری', 'خششششک', 'چلوبرگ', 'بیکیفیته', 'بیشتربپذه', 'العاااااده', 'y0m8d1', 'وتشکروسپاس', 'ازپیکهابسباربی', 'marinade', 'خودده', 'مزههههه', 'سڀاس', 'چقدرررررر', 'یزدیشو', 'indaf', 'فرچیز', 'نسبتاپایین', 'بهذغذای', 'سزخ', 'فودسرعت', '5هزارتومنم', 'اذیذ', 'اصلانبود', '2٥00', 'ازسالم', 'دهرید', 'برمیگردنن', 'انتقادشو', 'لینوشیرین', 'بدتربن', 'بیشترخواهدبود', 'رسیدتولد', 'تحویلاتون', 'دیزاینشم', 'تحپیل', '2خوراک', 'استیکره', 'آنلاینتون', 'چایز', 'آشپزتون', 'کاکایوییش', 'دایمه', 'اوست', 'سشش', 'سفیییددد', 'گوشنش', 'پاروژ', 'موزهال', 'نخوردمش', 'غذابود', 'ولذیذبود', 'شویدش', 'استخوانتون', 'کترینگها', 'میدادمن', 'انتخابهامه', 'رسوندش', 'میعرزید', 'زحماتتوون', 'ذهنیتمون', 'نظیررررررر', 'روفرستادین', 'کروناستیزی', 'باقالاقاتق', 'بودطعم', 'سنپع', 'وسایلایی', 'پنید', 'خوبدپخته', 'ماانداختیم', 'پیتزا500', 'میکسیه', 'لصلا', 'آلبنی', 'بالاتربره', 'انقددددددررررر', 'کلااا', 'پکحینگش', 'الفردوش', 'روکمتر', 'زودخیلی', '5سیخ', 'رژیمیشون', 'سیب360', 'نمییرزید', 'سالادسس', 'پستزا', '4جعبه', 'ماهشامتون', 'پااستیک', 'کیشگا', 'نکنخ', 'چیزله', 'ازرستورانهای', 'نداشنید', 'شامانا', 'کیفیتدعدا', 'بایدونت', 'گوشفیلی', 'تامرغوب', 'قرمش', 'وافله', 'دورپیتزا', 'عالللللیییییی', 'اینحد', 'ملاته', 'آیاغذابایدیخ', 'صعیفتری', 'y0m24d6', 'برگرسردرا', 'نمالیده', 'مارگاریتاهای', 'فودیتون', 'باااورم', 'ماسنتر', 'ماتزارلاش', 'برگرتون', 'شدوکیفیت', '39000000', 'بودسپاس', 'پیتزاهاشون', 'کاتلری', 'بوووددد', '1آورده', 'bemoonin', 'عاااااالیییی', '6الی7', 'البالوه', 'ازتواصع', 'قلمکارتون', 'پیتزای2نفر', 'مطمئنتری', 'ساندویجش', 'نباشیدسوسیس', 'عالیییههههه', 'نوستم', 'نیمرودرو', 'پرووووووو', 'لوکیشنمون', 'پیراشیکی', 'باقیمتش', 'y0m4d30', 'میازه', 'سوپرمارکتهاس', 'شمزه', 'ازاسنپیااااکه', 'همبنقدر', 'التفاوتشو', 'نشاط2', 'خواهشاتوپخت', 'چیزبرگز', 'خونگیو', 'recd', 'سااااعت', 'کفیف', 'آلفروی', 'دیگه2تا', 'چندبارازغنچه', 'احناس', 'سوسیتون', 'چاکلتش', 'داغوووون', 'y0m6d26', 'زمینیشه', 'نمیمومد', 'سررررررد', 'بودباکلی', 'دقاقا', 'پیتزابه', '50٪', '2دفعه', 'یتزا', 'آبروبر', 'پاستارو', 'کردیمش', 'تمشکا', 'نبورده', 'عذاشون', 'همینکباب', 'لیمونادو', 'سفارشناقص', 'کوکلوچه', 'عاشرا', 'کنحدی', 'نوستالژیی', 'بابرخورد', 'متاسفانع', 'بسییااار', 'اماسس', 'نمیشدبخوری', 'تهچینش', 'زیرسبیلی', 'بدددددددددد', 'دوغشه', 'ستجابک', 'پکاشون', 'تارسیده', 'غذاسردوخیلی', 'خریدمونو', 'y0m5d1', 'عجییه', 'میشدبعد', 'به100تومن', 'پیتزاداخل', 'هیوج', 'هدودن', 'زوخمش', 'نایلنش', 'پیتزامخلوطش', 'درصمن', 'جنساتونم', 'سالادهاشو', 'مداریتون', 'رستورانشون', '79040', 'انتخابمه', 'ومقدارشم', 'متاسفاناه', 'بادتوجه', 'توظرف', 'پیتزاهم', 'بسیارباادب', 'مذاشتن', 'فودوهمه', 'قدردانشون', 'واقعاازپرپروک', 'شهدداشت', 'شورررر', '3هزارتومن', 'منتاسفانه', 'میگیرررم', 'نامظبوع', 'رلتی', 'بیشترید', 'چندبارشیرینی', 'خیلذ', 'وهمراش', 'شیرازیرگر', 'بایدونه', 'سرزمان', 'عدپ', '3سیخ', 'سفارشاتمون', 'غداهاشون', 'چیکنشم', 'وراضیم', 'سیختون', 'عموض', 'بشددددت', 'بدومزمینی', 'بعد40دقیقه', '45390', 'قیما', 'خوشمزهبه', 'پتیزاشو', 'بودوبرنجش', 'نبودزیرا', 'ازخدماتتون', 'اینطورباشد', 'بنیرشم', '؟؟؟؟؟؟؟؟؟؟', 'مبدهم', 'اناناسم', 'نیوردین', 'د6د', 'اشتراکشون', 'همنیاوردن', '3دفعه', 'دقیقا50دقیقه', 'رستورانهاست', 'سپرمارکتها', '35937', 'چیتزا', 'جومانه', '2سیخ', 'ناپیلونی', 'منجمدبی', 'غذار', 'باروژتون', 'y0m3d18', 'میبریدین', 'تمومش', 'بریکلا', 'انقدرکم', 'شفارشم', 'گندمکی', 'شکید', 'تارتی', 'انگارپیتزا', 'پارمزانش', 'گردوییتون', 'حسنشو', 'y0m4d3', 'داخلرباکس', 'نبایدبدم', 'شدددتتت', 'خضوری', 'اینننننننن', 'علیرعم', 'پسچیده', 'y0m7d4', 'کیکشونو', 'شیمیایرو', 'نذریتونم', 'نامبوعی', 'دوساندویچ', 'شدتتت', 'آوسام', 'سموسه', 'گیشاس', 'نیشاب', 'عروسکمون', 'دخکش', 'میفرسته', 'غداهاتون', 'مممنوووونممم', 'نزدیکexpireشدنه', 'دونفی', 'مصبتونو', 'وبادیگرتافتون', 'بخشه', 'حبوباته', 'بااستخوان', 'اینچیزام', 'اسسسنپ', 'y96m12d10', 'ساندویجه', 'باماندگاری', 'پرپیاز', 'یچیری', 'oخوراک', 'سردبودبطوری', 'سوسیساش', 'قیپت', 'دوتافتیردیگه', 'رسیبد', 'انثدر', 'عاااالیههه', 'خیسونده', 'سوپربرگر', 'کسبتون', 'بولکیهای', 'نبوو', 'سفارشام', '1سیخ', 'زمینیهاشون', 'کالاهش', 'مدیرتشون', 'برندارسالی', 'تابفهمید', 'بارچندمه', 'فرتگی', 'ترکیبشو', 'بیسکوییتش', 'وفلفلی', 'نمیدادو', 'کاملاسردبود', 'میخوریتا', 'پیراشمی', 'سوخاریا', 'رصلااا', 'نیمذارین', '،،،،', 'کردئم', 'ویامین', 'زیتوناش', 'کزاشته', 'ضررکنه', '19300محاسبه', 'هوسشنو', 'بودوسریع', 'رفتارس', 'جووکشمش', 'ممرغش', 'فیلاتو', 'واینبارم', 'ارزونترش', '٥000', 'اآیا', '٥تکه', 'ساعتتتت', 'نوشابش', 'نمیدوتن', 'بندریه', 'رستوری', 'پاستاهه', 'اصلاوابداخرید', 'دهدیم', 'اصلااااااا', 'مرغهاجداشده', 'ارزونای', 'مشبی', 'بددددترین', 'y0m3d11', 'خوراکیاتون', 'دوسریه', 'برمزه', 'داگای', 'ناپخت', 'داگش', 'موندهبود', 'میتزا', 'فشفه', 'اوکیک', 'پایتا', 'انگارنبایدگذاشت', 'بزرررگ', 'کالباساش', 'بکوشیدتا', 'مدغشو', 'اصلاراضی', 'شکرشون', 'لذیییییذ', 'سساشونم', 'گرقتم', 'oکیفیت', 'موهیتوی', 'شناسیتون', 'پومودور', 'ظخم', 'ملاتشو', 'تاسعا', 'لیستمحصولات', 'واقعادعالی', 'عااالییی', 'ریخنم', 'خیابانو', 'کنجیدی', 'غذائه', 'کوفتشو', 'دیررر', 'عااااالییییه', 'پنیرماسیده', 'خمیرنشه', 'رفتاد', 'طلمشو', 'چوکوکیک', 'مزیه', 'استرسپس', 'بیسکومن', '٥سانت', 'ایتالیاایی', 'قارچشون', '65دقیقه', 'اینبار5دقیقه', 'ترددیلا', 'مزتون', 'دستسازشون', 'رستورانیو', 'لذیده', 'رسیدولی', 'غذاهار', 'وچیکن', 'خریدزیر30تومن', 'پیراشکیش', 'نمیپ', '87900', 'بوداحساس', 'کوزدن', 'غذاسردبوداگه', 'سیمیتاش', 'استیکتونم', 'آنست', 'شیرینیاشون', 'پنیرشوو', 'توضیحاتمونم', 'عااااااااااااالللللللللللللیییی', 'زرفش', '000تومن', 'بهترنمیشد', 'معمولب', 'همجورع', 'فداسرتون', 'باربیکیوبرگر', 'ننشده', 'ولق', 'دیگرپیتزا', 'هایدابرگر', 'پیتژا', 'پیکاشون', 'بدوفود', 'هممممش', 'نانهاگرم', 'سووپرمارکت', 'اعتمادمون', 'دبزاین', 'پآیین', 'اصلاتنوع', '235000ریال', 'سورار', 'سیستمهاشون', 'حضوریتونم', 'پیازاهاشو', 'احینا', 'y0m6d6', 'واااافعا', '32400', '12550حساب', 'عالللللللللللللللللللللی', 'غداشون', 'وظیفش', '4بستنی', 'کلاخمیربود', 'شیلام', 'مقدارزیادغذا', 'گردوشون', 'مشتریشونم', 'اسنپو', 'وتشکرازماهک', 'چکوندم', 'اکباتانه', 'قیماتو', 'روزنکردن', 'رسیدممنونم', 'قارچاش', 'پلونی', '550گرمی', 'موجودیو', 'نبرگشتید', 'تدیگی', 'فودکه', 'گذاشتیمش', 'نایع', 'انجانغ', 'درخواستیمون', 'شوررررر', 'نظرلتی', 'sheddat', 'سخته', 'هولستون', 'بودآبروی', 'از4عدد', 'مشمبا', 'نوشیدنیا', 'نوتلاش', 'نزدیکس', 'پلاستیکاین', 'زردارسال', '20٪', 'قارچاشو', 'y0m3d1', 'واااقعن', 'برگراتوره', 'y13m9d97', 'یوخادی', 'نداردوخیلی', 'میرختید', 'چراپیک', 'بهترینه', 'ازلیست', 'کیفیتاتون', 'مبداد', 'یخخخخ', 'خشکککک', 'گنجدی', 'peyketon', 'قلرچ', 'ظاهرخوب', 'نهکم', 'غذانسبت', 'واسنپو', 'نسبتل', 'گرونتره', 'y0m12d20', 'دائمیتون', 'باشیدوپایدار', 'تتد', 'متریالش', 'کلللللی', 'اشنپ', 'بارپیش', 'نمیونم', 'roletha', 'باشهدبهتره', 'نیملیتری', '0٪', 'خوشمزنو', 'دادممممممم', 'اصرافه', '٥00', 'کدومش', 'سوسشم', 'عااااااالیییییی', 'پیگیراست', 'شدیییییدا', 'خریدهامو', 'زمیتی', 'عااالیییی', 'نشتری', 'مهمونهام', 'hardafe', '2گوجه', 'شیرکوزش', 'رسوندنع', 'رسیر', 'باقبلیش', 'جامبوجوس', '5تیکه', 'جدیدام', 'ربخت', 'خرماییشو', 'بیحودی', 'شدتارت', 'شیرماله', 'ویبژه', 'fogholadast', 'درصدجعبه', 'کبابع', 'نچخته', 'اکثرل', 'هندونش', 'چیسبورگر', 'اسپاتگی', 'سرداه', 'برگرهاتون', 'خوراکشونم', 'هرظب', 'ابداا', '2هزارتومن', '4تیکه', 'کالاهاتون', 'دومیکا', 'یخورد', 'آروسترو', '9500تومن', 'یفارش', 'امانداشت', 'عاللللللللللللللللللللللللللی', 'دلسترهم', 'یکیلو', 'فناااااااااست', 'اوناخیلی', 'گاردنش', 'هرپرس', 'داگتون', 'رساورانهایی', 'کوچکتره', 'مافنین', '40دیقه', 'نوشتالژیکشو', 'خوشمزززززززززه', 'بمزه', 'پشبمون', '95٪', 'فرومیرن', 'نوشابهطرد', 'حالبکه', 'بهتروشکیل', 'فریادمیزد', 'رسیذ', 'قدبم', 'خویدم', 'باتشکرازمدیریم', 'بیطعم', 'تندیملایم', 'نمیرارن', 'راباعکس', 'نمیدنم', 'سفارشهارو', 'لودند', 'جنستو', 'غداشونم', 'نوتلارو', 'سرررد', 'قیمتهاشونم', 'غداتون', 'انبارتونو', 'درصدس', 'عاااااللللللللیییییییییی', '1سس', 'مدتهاااا', 'بودازنوع', 'مفایرت', 'اونحال', 'پستوک', 'احوالا', 'بینظیرو', 'سلارش', 'چنگالاش', 'پیتزادخشک', 'پاسخگوییشون', 'سبوسداره', 'پرکنجدش', 'مرسیده', 'چقددددددرررر', 'سفاارشات', 'بودیدتشکر', 'کلانا', 'پیشنهامیشه', 'برد6', 'غوق', 'کراکفو', 'بذاریوسیب', 'بعصضی', 'سردددددد', 'استثنائدرتمام', 'الباقیشو', 'بخوریدفرقی', 'نبوددددددددددددددددددددددددددددددددد', 'آفریکانا', 'بودبیار', 'واقعامزخف', 'غذارواوردن', 'براتونننن', 'وگدر', 'مارشاملو', 'باقاله', 'ازینحا', 'بیسترو', 'انسانیتون', '282828بودیعنی', 'اماسیب', 'متتسفم', 'زوخم', '430گرم', 'نظارتتون', 'رژیمیتون', 'شددرحالیکه', 'تددشتم', 'بسیارسفت', 'جنساشونم', 'افتضاااح', 'عالللی', 'مخلفاتو', 'تورنادویی', '20تیکه', 'کرغم', 'ازناتلی', 'خوراکاتون', 'امسدوارم', 'سیرشودوست', 'اززحمتی', 'نمگیرم', 'دوکیلویی', '150تا200گرم', 'سرتایم', 'پنیرلبنه', 'جیبشونن', 'نیاوردتن', 'اژدرو', 'سوخترو', 'یدمزه', 'امتیازتونو', 'برثدی', 'قسمتایه', 'ناپلیونیه', 'وباکالباس', 'درخواستایی', 'میفرسه', 'نولند', 'لنوار', 'ناردونی', 'پیتزامو', 'ضحمش', 'اصلااااااااااااا', 'فود3', 'زیادرس', 'و160گرم', 'طلیکارانه', 'حعبع', 'انقدریکه', 'کالباسا', 'اولالاست', 'درنظرش', 'شگد', 'کالاست', '200٪', 'شووور', 'همبرگرشو', 'نازکتره', 'ثابتشونم', 'آدامسو', 'بودابروم', 'کنیلونی', 'نظمیو', 'کفیتتون', 'عالیببیییی', 'y0m2018d10', 'مکرویو', 'بابارحیم', '29700', 'زوابیا', 'عصبانیو', 'فقطططط', 'غذااومده', '3٥0', 'بودروش', 'فودشون', 'وسرموقع', 'سلیقگیتون', 'اعتمادخواهدشد', 'حلیمو', 'واسنپ', 'پنیزش', 'میزاریدو', 'قدیمتون', '3کیک', 'چبپس', 'پبیک', 'خشمزست', 'تمنس', 'زینگراتور', 'بیمزگی', 'یکفیت', 'نشانتون', 'نانن', 'هاتداگم', 'چیپلت', 'نبودکاملا', 'y5m6d98', 'نکنیدلطفا', 'رستاران', 'ادنم', 'اردش', 'بدمزززه', 'کپچک', 'اسنج', 'یطرفش', 'پودراشو', 'تافتان', 'نزشتع', 'حررررف', 'فرنگیشو', 'ابعادخیلی', 'افتضاحتون', 'ککنجد', 'ساندویجهای', 'رسیرگی', 'نمیکی', 'همشوانداختم', 'مادرمم', 'تویحات', 'بییرن', 'حاضرید', 'مائالشعیر', 'منتظرغذابودیم', 'نمکینن', 'مصرفیتون', 'بالاترببرن', 'نازاضی', 'دلسترهایی', 'اصلاخوشمزه', 'غذا5دقیقه', 'برنجتو', 'سوسیشو', 'غذااااااا', 'کاملتره', 'چاپاتای', 'هایدای', 'بالانمیاره', '1٥٪', 'اصصصصلاخوب', 'دوووو', 'سیبزمینیشم', 'غذامونم', 'چانوی', 'پررررر', 'تولددوستم', 'انقدرفلفل', 'نفرستان', 'آروستو', 'بالاست', 'متنایب', 'بستهئ', 'پیتاز', 'افتضاحححح', 'دورچینه', 'العاهده', 'چندومین', 'سزارسفارش', 'شکلانی', 'چنتاشونم', 'روخمیر', 'ساندویچیای', 'ترهاشون', 'نامحترمابه', 'پاسایل', 'خشمزس', 'بودوسوپ', 'گارمیت', 'شدمممبس', 'نقصیر', 'بببددد', 'اورئو', 'امادا', 'خوردمش', 'غیرتکراریست', 'جاهاست', 'عااااالیییی', 'لنتظار', 'خوب3', 'هستدکه', 'شوندباعث', 'عددثبت', '2سات', 'حضوریشون', 'باشیرموز', 'غذاریخته', 'کشیدتابرسه', 'پیشنهادمیشود', 'افدزاح', 'ویگیری', 'نبایدخریدکرد', 'یکست', 'عکسهاست', 'مغاییرت', 'دلوری', 'پملپ', 'بعقیش', 'توحیل', 'بالااا', 'جآیگزین', 'نگمممم', 'طعمو', 'بتوضیحات', 'البالوهاش', 'اورودن', 'ردولوت', 'خمیییرررررر', 'اشپزه', 'بهدجای', 'دورچبن', 'راپیداکرد', 'پرملاط', 'سردومونده', 'دزخواست', 'ناپلونیش', 'رانندخ', 'زمینیاشم', 'سلدم', 'کیفیتیو', 'کاراملایز', 'mishea', 'panjereyi', '7عددی', 'تازهئ', 'رررررررررپیک', 'میدادبرنج', '٥کیلو', 'ترچون', 'گرااااااااااااااااااااااااااااااااااااااااااااااااااااااااااااااااااااااااااااااااان', 'خیارشوربود', 'جدیدترمیخواستم', 'حضوریتون', 'خردبودن', 'کیفیتوپیتزا', 'چیززززز', 'قیمتش7300', 'ثابتتون', 'دوتافیله', 'رشتهپلو', 'سالاد32', 'شامپر', 'نوتلابسته', 'پاستاهم', 'سیراستیک', 'امرغها', 'برگرایی', 'بشاملش', 'واقعاخرید', 'کاملاااااا', '74500', 'ویژش', 'ممقدار', 'برانیتون', 'بیسلیقگی', 'خریدهیچ', 'سالادددددم', 'تورده', 'حبفه', 'است0ممنون', 'انارداشت', 'مارگارتیا', 'بومیداد', 'کوچیککک', 'ایرادیو', 'پیتزاخوب', 'شدبم', 'گذاتشته', 'ازکیفت', 'مدودیت', 'باگد', 'کاماا', 'پلیونی', 'سیگارگرونتردادن', '2ظرف', 'درساندویج', 'گردوهم', 'رولبیا', 'عذارسید', 'tandoori', 'دوناتهای', 'تزئئنی', 'کااااااااملا', 'بودانقدرجحمش', 'موادساندویچ', 'ادویهاشم', 'خوباسو', 'باسفارشمان', 'انتخابمونه', 'فودیه', 'تحویلشونم', 'سزاریه', 'مبکنید', 'تقریبا200', 'گرووون', 'عدرخواهی', 'ومحترمانه', 'y0m9d5', 'کبابارو', 'دوسیخ', 'تیرامیسوش', 'سورپرازمون', 'سوپتونم', 'تخوردم', 'سنگکک', 'فرنگیخدا', 'پرسیتون', 'سریقه', 'سرررررررد', 'ندااااشت', 'آلپارو', 'خووووووشمزه', 'هرگزززززز', 'نمیرنن', '8000تومنی', 'دوبرابرنامی', 'درصدخیلی', 'انقدربی', 'میادددد', 'y0m3d2', 'عااااااااااااااااااالیییییییییی', 'سدهدبود', 'داثره', '150تا170گرم', 'السیروعالی', 'پاچینیش', 'گرونید', 'وبدهست', 'نبودخمیرش', 'kبرای', 'پیسنهادش', 'الوپیک', 'عجججججججب', 'سردیییییی', 'سبزمینی', 'ماکارونیشم', 'انقدرررررررر', 'دیزیشو', 'کپفیت', 'بودهمچنین', 'ااب', 'بلسپاس', 'لحاظحجم', 'خنیری', 'برشارو', 'غذابسیارطولانی', 'سوپرماکت', 'بستنیدموجود', 'پیتزاسبزیجاتی', 'غذارورنگ', 'دولارم', 'وظاهرش', '11400ثبت', 'y0m0d94', 'شکفتزده', 'ببات', 'عالیییییییههههه', 'تاخیرر', 'فرلموش', 'کجاست', 'دوتاام', 'تیتاپ', 'هاداخل', 'بودش', 'میرزاقاسمیش', 'واقعاتنوری', 'بندیبسیار', 'پرخاشخاش', 'ورموجودی', 'پلوسرد', 'کردید220گرم', 'دیفریز', 'رسمااااااااااا', 'اسفنجهاشون', '28دادی', 'اقلامه', '23سفارش', 'ذخمس', 'رسورانها', 'خیلیییییییییییییییییییییییییییییییییییییی', 'حدودابین', 'زیاده', 'کبابیا', 'ساندویجم', 'وبیشترش', 'ساندویچاشو', 'حغذا', 'میندازیمش', 'درمنیو', 'مانزدیک', 'بالاتره', 'چانوتونم', 'عشقههههههه', 'پیتزاخام', 'اومد2طبقه', 'شایستشه', 'گرونترشده', 'تماااام', 'چلوماهی', 'بودریال', 'بوددوما', 'دوبللللل', 'نطارتی', 'تاسبس', 'ندلشت', 'اسلایسها', 'کرغ', 'شیرمز', 'کمیتشون', 'سوپمم', 'متشکرممممممم', 'رسیپ', 'غذاعه', 'انگشتامم', 'ولی90درصد', 'ووزنش', 'چیووو', 'زده3500', 'یریع', 'پیتزاپسرخوب', 'باکفیت', 'چلوگوشتش', 'فودمسئول', 'چیزجابمونه', 'زمینیتون', 'دسط', 'توتوضیخات', 'تاحالامشکلی', 'رولتهاتون', 'برگزها', 'معایرت', 'برسنان', 'میصرفید', 'اسنتپ', 'طفم', 'وکیفیتم', 'نبودد', 'کاااااملا', 'فلفلیاش', 'موادبانه', 'تداشتن', 'پیازوجعفری', 'انگلر', '2پرس', 'امریکاایی', 'بارسفارش', 'روکردید', 'کرونایی', '11تومن', 'فرنگیاش', 'افتضاحححححححح', 'برامهمانی', 'فیلع', 'پرروغن', 'مقدارس', 'باسبزی', 'دردوبطری', 'یارزید', 'ضائقه', 'سووخته', 'مشملی', 'واقققققعا', 'سعارش', 'ریتوران', 'فودراضی', 'نپختهههه', 'انقضا21دی', 'روبخونن', 'کالبلسشم', 'بودوگرم', 'انگشتاشم', 'خوشممممزه', 'اسپایسیه', '19تاجنس', 'باگپ', 'میگیریمم', 'باروژه', 'اونجاست', 'خریدکنه', 'سوماغ', 'کورنیلو', 'شیرموزها', 'ساندویجشون', 'لمسر', 'همبرگرتون', '485گرمی', 'سزاز', 'y0m0d96', 'باقالاقاتوق', 'ماستا', 'شبرموز', 'انقضاداره', 'سزارشون', 'باپنیر', 'بررگتری', 'اسنپم', 'برگرخوب', 'فرنگیتونم', 'خشمززع', 'تنددیده', 'پواچا', 'سوپرداگ', 'پیتزش', 'رسترن', 'سبزیتون', 'خمیربود', 'را6', 'خداروشکرمشتری', '،،،', '6تومنی', 'ازشکلش', 'ناراصی', 'شبرینی', 'پیتزادر', 'لهشذه', 'سبزیهرو', '25٪', 'میگوارو', 'وخن', 'پیتزاعالیییی', 'موادب', 'مغاییر', 'پیتزابسیار', '6800میدید', 'کیفست', 'هویجتون', 'گشنمهههههههه', 'معموووولیه', 'پیگیریشون', 'یادشونم', 'هزشتع', 'چیزلاوربرگر', 'برمیگردوندنم', 'پارمژانا', 'همیشهههه', 'سوپریوم', 'پیتزاهاشو', 'کالباسشو', 'نیمدانسته', 'نخوداش', 'y0m0d97', 'خساسست', 'باقاوا', 'همبرش', '48700', 'زعفرونم', 'اینجاست', 'وبعدازپیگیری', 'انقدررررر', '8باره', 'میخر', 'هردوهم', 'آبلیموناد', 'کرسان', 'مبذم', 'پرملاتی', 'تاسفففففففف', 'بیاته', 'فصلتون', 'چیزفوده', '22سانته', 'موکایی', 'بودبرگر', '1٥', 'مجددوقت', 'تومنیای', 'خیارنرسیده', 'خمیررررر', '،؟؟؟', 'رستودان', 'لوبیپلو', 'شیرنیم', '4ای', 'اجناسیو', 'بروزتره', 'ازتولیدش', 'نانهاشون', 'عالیو', 'نفردوست', 'دروکنجدی', 'تندوریش', 'وظایفمونو', 'زمیینی', 'ازکباب', 'تندیه', 'مریزادنانشان', 'ماستاش', 'بسیاربسیارممنون', 'مدبب', 'اشتباست', 'زیادس', 'قیمتمو', 'کیفیتفست', 'موهبتو', 'بیاریین', '2900پول', 'سبوسدارسفارش', 'ررفتار', 'بهتارین', 'پاکتهاتون', 'وطعمشم', 'پیراشگی', 'نآن', 'عالیییییتر', 'بخورمشنه', '؟؟؟؟؟؟؟؟؟؟؟؟؟', 'سخاریشم', 'کالدو', 'آمولای', 'مرغهاحداکثر', 'وتشکرکاش', 'پیتزاهاتونو', '9روزبراش', 'فلفلاش', 'تورستوران', '،،', 'هوفنبرگ', 'جانیافتاده', 'بسیارربسیار', 'اسمارتیزای', 'دورچینش', 'ثامنا', 'ماهیچس', 'بودperefect', 'زاهرش', 'ریحونی', 'مارگاریتایی', 'استرپس', 'نمیکنیدبرای', 'سانوپدویچ', 'بادمجونشم', 'سخوته', 'پبتزا', 'موهیتوش', 'دراورر', 'y3m4d97', 'خمبر', 'برایتعداد', 'غذااسراف', 'نمیدونتستم', 'و4تکه', 'سافرش', 'نوهستش', 'برگرخیلی', 'نوتلاتون', 'کروسانهای', 'لذیذن', 'برگرارسالی', 'میخاستمش', 'وحستناکی', 'غذابسیارسرد', 'پیتزاهاست', 'هایداومور', 'غذاهاست', 'واااقعاااا', 'کیفیتون', 'لاستیکیه', 'سوخاریه', '11900ولی', 'ازشاهو', 'هنیش6', 'افتزا', 'پبتزاهاش', 'سیرداشت', 'فرستادناعلام', 'زودبدستم', 'کارنوسو', 'بوددورچین', 'تعدادرونداشتن', 'سیمست', 'مزخرففف', 'keifiyat', 'افتضاححح', 'ماندیدیم', 'لقمخ', 'عالللللییی', 'برگراشون', 'پاستاشون', 'دیتش', 'کشیدتابیارن', 'لدلببل', 'از2017نوشته', 'زیااده', 'پاستاتون', 'خریدنکنید', 'فروشیاست', 'شکلاتیایی', 'وشایدبرایشان', 'باتشکرواحترام', 'میزنیذ', 'محشرههه', 'مالیاتشونم', 'لقمست', 'آوردیدمن', 'مسره', 'موردنظرسفارشهای', 'دردصورتیکه', 'سیرواستیکشون', 'درلیست', 'ازهایداوپشتیبانی', 'ماراسبانی', 'بستنیو', 'باااار', 'varaftegi', 'وهردوهم', 'متذسفانه', 'همجاش', 'ننننمیدم', 'ونپخته', 'شگلاتی', 'سیسگار', 'راضم', '60بود', 'میعی', 'برکتتون', 'غذااااااااااااتون', 'تاخیرداشت', 'ویتامینشو', 'سپپاس', 'پپرونیاش', 'غذاتعداد', 'بااسنپ', 'بذخورد', 'بگهشما', 'سفارشدادم', 'تنوریشون', 'فریزرشون', '27000ت', 'خودش', 'سوخاریشون', '؟؟؟؟؟؟؟؟؟؟؟', 'پارینه', 'بسیاااااااااااااااار', 'باراولم', 'بدخورد', 'خیارشورهاس', 'توضاحاتش', 'باربیکرو', 'صدرطهران', '230میل', 'ژورکی', 'اولینتجربع', 'پذیرز', '4اسکوپ', 'امریکانو', 'حساااابی', 'گیشاتون', 'نداشتیدو', 'مبودم', 'ردولوتش', 'پنپش', 'بین4تا6قسمت', 'شنزاره', 'کلمشون', 'معندی', 'کاملانون', 'ومخلفات', 'شیرشکلاتی', 'دراورویم', 'دآورد', 'ماازشماراضی', 'ریحونا', 'چیکم', 'سییهم', 'پیگیریاشون', 'یچیزیش', 'فودهو', 'پرکنجدسون', 'سفارشگذاری', 'روپیشنهادنمیکنم', 'محترماته', 'شیزینی', 'وموندگی', 'بسیارمونده', '135800', 'خوببا', 'تندیشو', 'چداربود', 'y0m50d23', 'همونچیزایی', 'تویینیگز', 'لسمارتیز', 'سنیچ', 'کتفو', 'بگیریبالاخره', 'افتضاححححححح', 'هیییییچچچچ', 'تاخوده', 'بسیییییااااار', 'وخیلیییییی', 'یذونه', 'خمشو', 'بلشرایط', 'بودیدنان', 'بانونه', 'مطکرد', 'بودکمتر', 'برگرا', 'قارچشه', 'باوهمون', 'دارباشید', 'قنادیتون', 'رستورات', 'وزن1200', 'شیرینیشونم', 'بودمرغش', 'بسیارکوچیکه', 'رسیدا', 'نمیاوردین', 'باشکرواب', 'بگدش', 'کاریاس', 'ددرست', 'پیکمون', 'اگرحداقل', 'غذااا', 'کنسرور', 'هرگاز', 'هامطابق', 'دهندهیه', '30رسید', 'بیفش', 'رلیگان', 'torshi', 'استریپسشم', 'بودمدرصورتیکه', 'خریدمی', 'ازآبمیوه', 'سردبودانگارتویخچال', 'غذامونده', 'بلکولاد', 'نمیفرسته', 'وعی', 'بخورممم', 'همبرگرهاشو', 'درستکاریه', 'آروستوپ', '1پیتزای', 'ودورچینش', 'سرددد', 'شوکووان', 'دزاینش', 'غذاا', 'سایزهاشون', '6و50دقیقه', 'تابرسه', 'مرغاشون', 'slad', 'پرررررررررررررررررررر', 'ازماهک', 'فیلرو', 'تعداد20تایی', 'تکهرهای', 'ارسالشونم', 'دوسخ', 'امابیش', 'تازع', 'ودرکوتاه', 'گافیست', 'خیلییییب', 'ایسپک', 'لوسیده', 'همیشهههههه', 'ژوزک', 'راآورد', 'لیتره', 'ایتالیاست', 'نوخته', 'ظعم', 'اغتضاح', 'کاتاش', 'بدددد', 'ژوکو', 'کراکفش', 'گندکشیده', 'واقعاکوچیک', 'پنیرشه', 'مجبورشدیم', 'دستتنم', 'تنوریا', 'پذیراییه', 'وامکانا', 'پنیرپیتزای', 'afzayeish', 'افففففتضاح', 'ازماری', 'پیتزاهاتونم', 'چبکن', 'لزیز', 'سوسیش', 'تتگ', 'گروننه', 'کنااار', 'وسالادونوشابه', 'شکنندست', 'غذادیگه', '5تومانی', 'غذاهاتونم', 'تایمو', 'امروزنون', 'اینقدز', 'bgirim', 'کاملااااا', 'باماهاس', 'موجودنداشتن', 'پیدزا', 'ونخودچی', 'پیتزاییه', 'مدییریت', 'سوخاریتونم', 'لجناسی', 'پلاتسک', 'اوببود', 'البالوهای', '5٪', 'میرسبم', 'بهرحالدازهمسایگان', 'تاخیرارسال', 'آلویزی', 'هموتیی', 'جداآوردند', 'سیبذزمینی', 'رسییییید', 'پایینتون', 'مخصی', 'خاطرحمل', 'باگتا', 'اسغنجیش', 'گوستتون', 'نباشیدظمنااززحمات', 'کنارغذا', 'بسییییییییااااااااار', 'واقعازیاده', 'بیسکودایت', 'رسییید', 'تازهن', 'آلودگیا', 'کالباسهاتون', 'هنبرگر', '،؟', 'وپروپاقرص', 'انگارخونگی', 'وبسیارمودب', 'بگیک', 'خوشمززه', '199000ریال', 'طعماش', 'صفاشو', 'میخونینشون', 'پاستاهاتون', 'مسیرغذا', 'سوپرتون', 'چیکین', 'نریختین', 'ژامبونای', 'میتکنید', 'مسافتمون', 'سیرواستیک', 'مرتبس', '53800', 'سیربیش', 'همراشم', 'باتاییدمارک', 'اشپزتون', 'چرررررب', 'y0m1d3', 'درخشانتون', 'بسسسیاد', 'بهمراهش', 'نفرستبن', 'و1تکه', 'نوشتش', 'گوجم', '10ذدقیقه', 'شوداستقبال', 'سمارتیز', 'رستوراناشور', 'ماکاتی', 'متتسفانه', 'زرددرجه', 'سالهاست', 'شکرنه', 'اسلایساش', 'همبیگر', 'مفهمیدم', 'ویژتون', 'وطعمش', 'غداش', 'زیرنیم', 'کوبشم', 'جهرم', 'پارمیدابدباشه', 'باتشکرازمدیریت', 'سبزیخیلی', 'کپنی', 'پالمو', 'فرستادن3', 'زمینیاتون', 'خوقع', '2ومه', 'دوناتها', 'همبرگراماده', 'سنجتون', 'سفارشس', 'xsblue', 'نمییده', 'چیزبیگر', 'چتنتا', 'نوشتثابه', 'ومحترمش', 'اسبپ', 'غذاهرو', 'تند9ا', 'باتشکرازآقاشاطرومدیریت', 'سفارسات', 'شیشلیکه', 'طغم', 'چهارتکه', 'مخصوصشونم', 'شماوسپاس', 'شبرینیهای', 'یفرستین', 'داغوناش', 'میدادوقتی', 'هستیدید', 'ریحونش', 'اینجوریع', 'اژدرزاپاتا', 'بسیاااااااااااار', 'مححححشر', 'یهرولت', 'نسکوییک', 'گذتشتند', 'مععععمولی', 'مجموعشونو', 'حتماخدایی', 'انگارنصف', 'کردههه', 'ولی3000ت', 'وبدطعم', 'روکششو', '12بود', 'گارنیش', 'تاخیراااش', 'میپختن', 'وموادش', 'روغش', 'رسیپد', 'استیکاش', 'اناناسشم', 'انداختیمش', 'آرامبخشه', 'بادنجانتاتان', '15باری', 'سادویچ', 'ازمسول', 'نمککک', 'بروجکن', 'ثبلا', 'پیتزاکلفت', 'فوداش', 'فرستادیییین', 'غذاهاسرد', 'ابداااا', 'خیلیع', 'گرمممممممممم', 'کلاااااا', 'بزرگتره', 'نمیرسیدتوش', 'میکشهارسال', 'مسیردار', 'tarkibe', 'داغشونو', 'y0m6d31', 'شدددددت', 'نمیدادواقعا', 'بذاریمش', 'پوختش', 'اریگوانا', 'y0m6d5', 'باربیکو', 'سوپرمارکتم', 'رسدنش', 'زدید35', 'سامدویچم', 'گیشاست', 'عالیهو', '،؛', 'ناپلونیهاش', 'رستاده', 'پکیجشون', 'برشششته', 'زنندس', 'غداخوب', 'ساندویچهاتون', 'غذاومخلفاتش', 'بودممممم', '15سفارش', 'کویینتون', 'ردولولت', 'بودولپه', 'چیزبزگر', 'میخوادسیربشه', 'قازچ', '5تومنی', 'مونده2', 'وبسختی', 'کنیدبینظیرمیشه', 'دلپذیرتره', 'دانمادکی', 'تازهههه', 'همینطورمشتری', 'شیرازیشون', 'حتمااااااااا', 'مرینه', 'بسیااااااررر', 'آلومینیونی', 'شدسپاس', 'ظرفاتون', 'پیکنم', 'پادمجون', '360و', 'زیتنون', 'وساندویچم', 'روپیک', 'امروزرنبوده', 'اند98', 'تاخیربسیاررسید', 'ییییخخخخ', '6تاییی', 'باقلواهاتون', 'کروند', 'حجتو', 'چرررب', 'ممشخصا', 'خوشمزی', 'ببرولش', '2500را', '84٪اوردن', 'ادویش', 'قارچارو', 'بدددددددد', 'شلز', 'تاخیرولی', 'مقداروزنی', 'اهتماد', 'هر2بارم', 'کیفبتش', 'دسرسروته', 'رسیدیعنی2ساعت', 'جوجشم', 'نوتلابه', 'افتضااااح', 'بیشترسرویس', 'نثارخوشمزه', 'ثابتتونم', 'باگتم', 'موجودیشون', 'پایییییییییین', '805گرم', 'دقیقههههه', 'پرطرفدارتونه', 'کنیدسپاسگزارم', 'آوردهاعصابم', 'تمیییییز', 'راضیذکننده', 'دانمارکیشون', 'پیشنعاد', 'کوکولوچه', 'ازپیگیریتون', 'نبوداشک', 'دائمشون', 'پسفرداش', 'انتقضا', 'همهشه', 'جاست', 'کبلویی', 'تعزیف', 'پیکتونم', '4عددبود', 'ماکردفر', 'هزارتومنم', 'مالاگانوتلا', 'یپنیر', 'مگرنان', 'استرپیس', 'y0m12d21', 'اسپشیالشم', 'پنییر', '1سیب', 'هاواقعاتندبود', 'وپیکاشونم', 'ازپیتزا', 'بودمخصوا', 'اخذمیشود', 'مرغاش', 'مافینه', 'زودرسید', '؛؛', 'انباشنه', 'میدادولی', 'تنیز', 'برگام', 'نمشوته', 'لندولیعصر', 'بودودرکل', 'زوبیا', 'کیکهنه', 'بیسسسسیییااار', 'اسنبپ', 'برخردارنبود', 'سگنیچر', 'قبلناس', 'باگتتتت', 'جلوکباب', 'ازنظروزن', 'y0m0d10', 'برگراتون', 'بارروغن', 'فقژ', 'نیوردت', 'ناااااراضی', 'میفت', 'ساطوریشون', 'بعدخوردن', 'نعلوم', 'سانودیچ', 'مبلغمم', 'نیکردین', 'اصنکیفیتش', 'سبوسدارش', 'انقدرمونده', 'مثبتشونه', 'پروپرک', 'فلافلیهای', 'کیفیفتش', 'کلابش', 'شماازشعبه', 'وشیرینیش', 'مشتریو', 'ملانزانا', 'وخیارفرستاده', 'کیپیااااییهام', 'چلوجوجه', 'داغتونم', 'رودسستتون', 'بهداشنتی', 'دلیورش', 'نمیذاست', 'اسپرایتشم', 'زمینیاش', 'افتضاحبود', 'گوشتاتون', 'سالادمون', 'روپخت', 'آمادرو', 'y0m6d55', 'سالمونی', 'نوترابارم', 'بودوبرخورداسنپ', 'نبودپای', 'توپاکت', '48هزارتومان', 'سورپریزمون', 'نیوردید', 'بندیتونو', 'واقلا', 'پتیتو', 'y0m30d1', 'اشانتونش', 'شیشلک', 'طعکگم', 'سرددددددد', 'پشیمووووون', 'روزباشه', 'ازسوپرسفارش', 'استریپسش', 'انصافانفهمیدم', '1تکه', 'سیرتون', 'پیتزاشه', 'چراحذف', 'شیرنیو', 'بددن', 'پیتزامونو', 'ازاکبرجوجه', 'برخاطر', 'خوشمزززززززه', 'پیتزهاا', 'چوناکثرا', 'y0m11d8', 'انداحتیم', 'امکاناتمون', 'پیتزاشون', '33cm', 'پیتزتپا', 'غذادیررسید', '80٪', 'نلچار', 'غذاکاملا', 'بومیداددرضمن', 'ردبولها', 'ونامرتب', 'بپزش', 'وپرملات', 'غذاخوب', 'بهترپخته', 'وکبابش', 'اجناسک', 'اذسال', 'غذامم', 'سسسسسرررررد', '9٥00', 'اینوبرای', 'دقیقاااااا', 'اچن', 'قارچام', 'برتد', 'شددددت', 'وطعمشون', 'besbat', '9000تومن', 'سالادشون', 'سسو', 'سردددددددددد', 'بودیددرکل', 'همبرگش', 'دوغذا', 'ناجورن', 'y99m1d15', 'طبخشه', 'اینطورمسائل', 'هایپری', 'نداررررریم', 'میکروسالاد', 'اییینهمه', 'خریدداشته', 'کلابها', 'بیفشم', 'وفینگر', 'رولتایی', 'پیتزاقارچ', 'ساندویچشون', 'تماااس', 'خولستیم', 'زعفرو', 'کاردچنگال', 'سوخاریاش', 'اسموکیش', 'سالادرو', 'ررگ', 'آوردیدلطفاتوجه', 'شنیستل', 'بسسسسسسسیار', 'فودتون', 'سوپرترنج', 'شدمعاشقتم', 'چرادقت', 'صراحتآ', '9124546519', 'محبوبیتتون', 'شلوغتره', 'شیرینیاهش', 'اصلاااااااااا', 'امابایدبه', 'پیتزاهاتون', 'دنری', 'بدترینننننن', 'بفرستناز', 'قشنگتره', 'هردوسفارش', 'طراوته', 'دامستوس', 'سالادکاسته', 'ازفتیرها', 'برنگردوندم', 'ماکارانیش', 'تاحالاباچنین', 'پیراشکیا', 'ساندویچشو', 'بارکیو', 'اندومی', 'کزفیتتون', 'طبیعتتون', 'میاونم', 'بلشید', 'موردهارو', 'باسلقش', 'ندارنممنونم', 'املتو', 'سریعممنون', 'اتتظارم', 'سرطانزاست', 'استریپستون', 'پیکاتونو', 'وبعدبادست', '2000تومن', 'یولکی', 'سسیکه', '36سفارش', 'گوشتاشم', 'ناندان', 'بیرونبر', 'فرستادناین', 'غذارنمیاره', 'داگشم', 'خووود', 'کوچیکتره', 'میچکید21', 'غلیرغم', 'بودم0', '٥٥دقیقه', 'نودلش', 'تاخیییییییییر', 'ثابتشونیم', 'اودد', 'لاوازا', 'مثلماکارونیه', 'بودغذا', 'faghad', 'بودوممنونم', 'کجاهاست', 'پنیرپروچیز', 'صبحانرو', 'بوودار', 'اجیلش', 'پیکشونم', 'مزهئ', 'مسمویت', 'کهبعداز', 'وبادفت', 'ساندوسچ', '24950', 'محتویاتمبیرون', 'اسمپ', 'باااااااایددددد', 'میخواخم', 'شیرینب', '4عددی', 'آلفردوش', 'استخونشو', 'سالادمونم', 'عابی', 'dafe', 'تردواندازه', 'مارگاریتاتون', 'دادنسپاس', 'آشپزتونم', 'ماینوزی', '10٪', 'سفترش', 'لواااااش', '189500ریال', 'ساندپیچ', 'سالادفصل', 'عالللللیییی', 'شبیرینی', 'کراسان', 'ازخوده', 'تاخی', 'بدردنخورد', 'منچندین', 'خوزمزس', 'ایتالیاییشون', 'عااااللللیییی', 'اصلاطعم', 'سنگگهایی', 'تونایلون', 'حتمامابایدبریم', 'ابلیمویی', 'بخچالی', 'انگاااار', 'بدطمع', 'عااللی', 'خجالته', 'احیل', 'اگرمیشد', 'نمیخوردمش', 'ضعیففففففففففف', 'گردش', 'doroz', 'ومرتبی', 'بادوژ', 'foode', 'ملاسیک', 'مائالشعیرها', 'شوووووربختانه', '460گرمی', 'گرونترش', '18تومنی', 'آیااااااا', 'امروژ', 'چکده', 'هاخشک', 'بایودنت', 'تاخیرررر', 'ابرورفتن', 'دلستربود', 'اسنب', 'تندهست', 'نامدبرانه', 'وپولش', 'کنچرب', 'ارسالیشون', 'وواینکه', 'peperonishonam', 'پورشن', 'نوترابار', 'بودوخامی', 'جزیلا', 'لیموشو', 'برکتشون', 'کراکزف', 'کاملامضرهست', 'ومختصز', 'وشمانون', 'زمینیشون', 'نبودهمینطور', 'استارمیکس', 'رسیتوران', 'نطیرن', 'چیزکیکا', 'وجتریانا', 'پرکنجده', 'گروووووون', 'چلوکوبیده', 'آرسامو', 'قیمتارومناسب', 'محوتای', 'کارنیتا', 'توضیحاتمم', '1جنس', 'اکسپرسا', 'ریختخ', 'ظرفاشم', 'بپدم', 'سبارش', 'آیسپک', 'میداددددد', 'بزارمم', 'بامنوی', 'کچیکتر', 'سسا', 'طودانی', 'اختلاففففففففف', 'چاوکباب', 'سالاداش', 'بدپخته', 'فسط', 'اضافیو', 'وحشتناااااااک', 'چندمیه', 'دوغاتونم', 'پیتزارو', 'اماازنظرمزه', 'دمتونگرمممم', 'سردتحویل', '20٪تخفیف', 'اسلایسایی', 'العااااااااده', 'پیکییع', 'آمربکایی', 'پیتزاعه', 'تنوریو', 'اواردن', 'مشخل', 'فرایزی', 'ترودسرخریدم', 'ایرادبگیری', 'کرایشو', 'ساندویچمو', 'مشتریهاتون', 'گذاشتش', 'مالیاتو', 'تلبکار', 'دورچینمش', 'لظیظ', 'ساااااااااااعته', 'میخواستممو', 'عذزخواهی', 'ناپلیونیشم', 'ظرفایی', 'کتریتگ', 'چیکنس', 'تشکرمیشود', 'اماغذا', 'دوسش', 'پرداختیمو', 'خشکبارنوروز', 'سالمتره', 'ممعجون', 'کالباسه', 'لذیذذ', 'پروروک', 'نبودومالیات', '؟؟؟؟؟؟؟؟', 'مرغاشم', 'بیکنتون', 'کمنون', 'ذولبیا', 'زولیا', 'جداست', 'resine', 'افتضاححححححححح', 'دسرشونم', 'اومدنش', 'واقعامناسب', '1کیلوبزرگ', 'نکنع', 'فودیی', '4٥دقیقه', 'شیشهذای', 'انداززززززه', 'بریزیمش', 'میویفته', 'ولییییی', 'وحشتنااااااک', 'مخواست', 'ترینید', 'یکساعتو', 'فرمایید4100', 'فودمرسی', 'پپروک', 'برخوردبعضی', 'دارچینو', 'سیبشون', 'شهسواره', '،،،،،', 'کردنیتون', 'باراست', 'دونرکبابهای', 'pogu', 'ایییییین', 'افتضااااااااح', 'نبودکدوم', 'عخیلی', 'رسیدزیر', 'حدفش', 'سفلرش', '30هزارتمن', 'تولیدوانقضا', '3تیکه', 'خمیریود', 'پیتزابا', 'سفارشمم', 'ماوپیگیری', 'مارسپان', 'لوواش', 'بزادین', 'سوپرمارکتای', 'تنوریاش', 'کوبیدتون', 'غیرازین', 'ادامسا', 'رسیدممرسی', 'فودعزیز', '2سیب', 'وپیتزاش', 'هییییییچی', 'قبمتش', '30٪', 'ساندپیج', 'بسیاررعالی', 'وبهتربودباسس', 'پول2تا', '26هست', 'مرغذسوخاری', 'غذابسیارکم', 'پیتزر', 'ژعم', 'بعدفریز', 'کوبیدشون', 'نظیرر', 'کمههههه', 'غدارو', '15غذاروسفارش', '12تومنی', 'ونتونسم', '5ویفر', 'مهمانامون', 'میفریتن', 'جاهااااا', 'وپاستافیله', '2جعبه', 'نیاواردن', 'شفتهئ', 'مینویسیمم', 'بیشترازدوقاشق', 'روداخل', 'هرچندباید', 'ماسیدگی', 'بودشیرینی', 'سومرمارکت', 'یکربعه', 'بودسالهاست', 'پایخگو', 'بالاببرین', 'خوشممممممممززززززززه', 'دلسل', 'بهترهارو', 'اندازع', 'ترررد', 'انقددددددرررر', 'سریعامیکروب', 'مقداااااار', 'بودوحداقل', 'مشتریتونم', 'نوشیدنیهاتونو', 'همیرگر', 'بهترناس', 'انتقادبه', 'فودای', 'گوستها', 'بدستمان', 'نامناسبشون', 'برنگردوندند', 'فرسنادین', 'pashman', 'همبرشم', 'تاجب', 'بارنیتا', 'خودم', 'داخلدبرگر', 'کرانبری', 'همجیع', 'بینظره', 'خوبوخوشمزه', 'رسیدوطعم', 'بدترینا', 'استریوس', 'خیارشو', 'فودیم', 'ساندویچمون', 'تنوریتون', 'مدیرییتی', 'هاگلز', 'میریختین', 'سنزیجت', 'گردادنده', 'آشپزهم', 'خشکارو', 'یفارشی', 'ولییییییی', 'رهواقعا', 'گهته', 'لیمونادا', 'مکنان', '30سانتیمتریتون', 'پایبنی', 'مززه', 'میخواشتی', 'میخچان', 'دربیارمشون', 'روزلنهدسفارش', 'کوبیدشم', 'لطفاشیر', '20عددی', 'هستییییین', 'الویته', 'استخوانا', 'وهمکارم', 'توتذفرنگی', 'دوبطری', '؟؟،', 'بودپیک', 'مقدارساندویچ', 'سالاداصلا', 'زولبیابامیه', 'عاال', 'تیاکو', 'باتشکرازشماهم', 'شیریتی', 'درجائیکه', 'درمنوسالادشیرازی', 'دونرگاردن', 'پامم', 'سیرکن', 'تاخیر40', 'شیرینیشون', '4500حساب', 'باژور', 'حدبرشته', 'پنیرسفارش', 'نبودمم', 'همینجاست', 'نزدیکمونه', 'انسپ', 'اندازهو', 'ناموجوده', 'اخهه', 'بریونش', 'بامالیات', 'اگرباگت', 'تاشیرینی', 'پااااایین', 'هردوتاشم', 'واصلاوابداشبیه', 'دونوعش', 'پنیراتون', 'بریانتون', 'خوووشگل', 'ساتدویچ', 'کارخوان', 'سبیزیجاتش', 'گوجشم', 'منتشکرم', 'مالیاتتو', 'خمیشه', 'دیرارسال', 'بدمش', 'اینهنه', 'خریدمش', 'باتشکرازشمابه', 'اومره', 'خاطرمورد', 'شدبرام', 'نونشه', 'زیربارنرفتن', 'دقتند', 'چهارغله', 'زمنیی', 'فرسته', 'پلاکچینی', 'چیزبرگرو', 'همینطورباشین', 'معق', 'طعمشونم', 'پیکاشو', 'گلاااااااب', 'ثابتتونیم', 'برششششته', 'پیتذا', 'ماینزش', 'غذاخیلی', 'پنیرهاباعث', 'نزدیکتونه', 'زیاااد', 'دئودرانتی', 'مداشت', 'پیتزاسیب', 'دستکشاشو', 'عالیلود', 'بادمجان63', 'مقدارشیرینی', 'تازگیشون', 'خیلییییییب', 'نبودوهمونجوری', 'یکوچولو', 'دوروکنجددارمعمولی', 'منوبزارن', 'داگاشونو', 'ازنانوایی', 'بیاتذبود', 'میفرسید', 'دانماریش', 'بودپیشنهادمیکنم', 'ریریخته', 'فرانسویشون', 'کیکهاتون', 'بدهمستاره', 'زیباست', 'تروتمیزه', 'سفارشدکمی', 'ناپلئنی', 'قارچسفارش', 'مخلفاتم', 'پارمسانش', 'سوخنه', 'خوشمززززه', 'سالاداسفناج', 'سرازخود', 'ضعییف', 'بقیوشو', 'کشش', 'سیخندان', 'ببکین', 'تخفیفاتشونم', 'سفارم', 'ادستتون', 'موردنظروجودندارد', 'ادیروز', 'بودئگوجه', 'ایندفع', 'مدلیههه', 'اشپذ', 'اصلاشبیه', '1000گرمی', 'دردیتزا', 'شایستگیشو', 'خربزهایی', 'کالزونش', 'ارساا', 'خوشمزهههه', 'ارزونتره', 'y0m8d3', '100میدم', 'برداریدحتی', 'شدیییید', 'ازنظربهداشتی', 'نکتارهلو', 'خریدحضوری', 'رومحترنمی', 'ریدار', 'عرقیجاتش', 'آصلا', 'تازتون', 'زمانبتدی', 'اسکرامبلد', 'ایتالیایو', 'هستتتم', 'بادستو', 'بددددددد', 'پکتون', 'افنضاحه', 'پاکتشون', 'اسنپه', 'عاااااااللیییییییی', 'گنجدش', 'مشماهای', 'پنیراستفاده', 'مبلغیه', 'تاآسانسورهم', 'کاکاعو', 'کشبد', 'شیرمانده', 'پنیرشون', 'شیرینیهاکاملا', 'نرغ', 'سالامیه', 'استخوونه', 'غزروف', 'اچجوری', '45دیقه', 'افتضااااححه', 'سوخاریمون', '100در100مشتری', 'y0m6d7', 'غذا20', 'بودکاملا', 'نمیخوردین', 'فلفلشونو', 'بودوپرازسس', 'وبالاتره', 'باپلو', 'استیکتون', 'بعیدع', 'ابرمون', 'وکیفیتش', 'دقتن', 'شولولات', 'دورچینم', 'پپرونیشه', 'میفرسی', 'خوددن', 'قیمنش', 'pitzza', 'ڇرب', 'نداشین', 'دوتاقطعه', 'تیستند', 'باقلواتون', 'وظیفم', 'تاپیتزا', 'بیسکوییتای', 'خخوبی', 'وانقضا', 'پزگیری', 'خوشعطر', 'آلبالوئه', 'یکبارمصرفی', 'استریپز', 'ازشماغذانمیگیرم', 'خبس', 'میدادیکاش', 'هاداگ', 'یربع', 'پیگسری', 'ناضایتی', 'فلفلشو', 'خیررر', '1500تومانی', 'زیااد', 'نداشتسین', 'چهارتادونه', '0وبرای', 'y4m7d98', 'سوپرمارکتاس', 'پپرونیشو', 'y0m0d80', 'خریدهامون', 'میزاقاسمی', 'آوروند', 'فودهایی', 'حیروون', 'اممممممیدوارم', 'پیتزه', 'باتشکرازاسنپ', 'مامل', 'بودهیکی', 'بحوره', 'کااااافی', 'فرستدین', '90تماس', 'سوختگه', 'یقیقا', 'شیرازیو', 'بودیدماپول', 'کنهست', 'آلبالوتون', 'میگیرفتم', 'هاتداگو', 'سسیس', 'snapp', '09میباشد', 'رودرش', 'سمستون', '35٪', 'بترش', 'آشپزشون', 'نظیییییر', 'میچیندند', 'سفارشمونو', 'ساندویچوووو', 'پنیریه', 'کیست', 'طبخیه', '1کیلومتری', 'مخصوصاشیروماست', 'هجمو', 'بسیااااررر', 'y0m600d4', 'بیفم', 'العادسسسس', 'بهاشو', 'تاااااخیر', 'کوبیدش', 'کجاهست', 'باوژ', 'یابل', 'توسالاد', 'بینظیراز', 'نداشتنو', '1٪', 'سویتال', '3تخم', 'برگزدونین', 'جوجه300', 'کاملامشخصه', 'ایتالیی', '2بند', 'ساندویچهاشون', 'نذارینش', 'توجهتونو', 'سیراشون', 'همبرگرااااااااش', 'خیارشود', 'شیرینیارو', 'نیخواد', 'مخرف', 'بیشتره', 'انقضائ', 'میهمانام', 'لازنیا', 'limoyi', 'خوسمزش', 'اجناستون', 'وپیتزاپپرونی', 'نوستالژیش', '500تومنی', 'حالاسه', 'خیارمثل', 'مااالیات', '20رسید', 'اعتمادمشتری', 'خداییبا', 'دادم3تا', 'رمولادا', 'ایرادراوابسته', '1نان', 'ظمخت', 'افتضاحح', 'سفآرش', 'دکترکباب', 'دستموم', 'اینسفارش', 'استریس', 'قوتشونه', 'نخوردیمش', 'بیشتراز1ساعت', 'متاسفانهتعداد', 'بادمجاااااااااااااااان', 'ظریفتتون', 'نوشابشم', 'دوباکس', 'عجیبهکه', 'تومنم', 'بخوریدواقعا', 'نوشابمونو', 'نوناش', 'مرغمتاسفانه', '31هزارتومان', 'وارسته', 'پشتببانی', 'جعفریاش', 'عااااالیی', 'مهمتره', 'نمیرزید', 'برمج', 'رادحفظ', 'تنهاایرادش', '5تاش', 'امدمه', '1تیکه', 'دیدمش', 'راااحت', '400مترم', 'فودش', 'ررگر', 'باچون', 'پنیرپیتزاش', 'شادشدیم', 'چیزبرگرهایشان', 'عاااااااااااااااااالییییییییی', 'poore', 'مدیرییتع', 'نمیدادمزه', 'خیلیدشیو', 'آبلبموئی', 'دیررررر', 'توخوردن', 'مهماناتون', 'میشوز', '2نفرس', 'وشصوح', 'انقدددددددر', 'متاسفمممممممممم', 'سبزجان', 'البالوپلو', 'شیشه6300تومان', 'خوریدم', 'y0m1d19', 'واحدمراجعه', '15٪', 'دوتاکاهو', 'برگراتو', 'دورمیشه', 'خفنههههه', 'مخافاتش', 'فصط', 'شدعالی', 'بارندگیه', 'فوییل', 'وخوشمزس', '20امیه', 'همهچیش', 'فووق', 'کارمندامون', 'پیتتزا', 'حاملا', 'واقعاپشیمون', 'گکشیدم', 'بیسکوئیته', '60دردصد', 'چیزبرگری', 'عالس', 'بیسکویبت', 'راضکی', 'تلللللخ', 'نوشتنhot', 'وااااقعاااا', 'سیبزیجاتش', 'y0m900d14', 'یعنییییی', 'وازکیفیتش', 'نارلضی', 'ورفتارشون', 'شیرینیاشونه', 'کوکارو', 'ننیشه', 'اصصصصصلا', 'پپرونیشون', 'میاوود', 'هرکدومش', 'ازنونهای', 'لستیکی', '2اب', 'شیرکم', 'قوطیو', 'فلبل', '11000تومن', 'رصایت', 'سوخاریتونو', 'بودخیلیم', 'نمیکنیدیابرای2عددبرگریک', '٥6', '1saat', 'جنسایی', 'بودگفقط', 'فزستادین', 'خکبتون', 'گریله', 'بررکت', 'حتمارسیدگی', 'باشنشون', 'بندیای', 'کربسپی', 'نگرفتنو', 'واسش', 'snapfood', 'برخورادر', 'جورنبودن', '18950', 'شیرینیخشک', 'مهمانهامون', 'واقعاغذاهاش', 'خپب', 'باززبود', 'باسفارشات', 'تفاورت', 'هژارتومن', 'فیلابرگر', 'تیتپ', 'افتضااح', 'کمیتتون', 'مرگریتشم', 'کاهووگوجه', 'مقادیربسیاربالای', 'الارغم', 'میکنندمخصوصاسوپرشکیبایی', 'دستشن', 'esmartizayenkheili', 'ژامبون202سفارش', 'بوووووودتازه', 'haalam', 'خمانند', 'بودوپیک', 'زیادبرشته', 'ازموادمانده', 'داگمون', 'تعوضش', 'نهاااایت', 'آنقذر', 'مدتهاست', 'رااضی', 'لذیدیه', 'اشتبک', 'تاطعم', 'ودانمارکی', 'پودرقهوه', 'دیگهسفارش', 'ژامبونا', 'تاپلئونی', 'بعداز30', 'اخلش', 'مخصوصاعالی', 'غذت', 'تخمهئ', 'یخخخخخخ', 'استتتتتت', 'feshordeh', 'دوغتون', 'باقلوایه', 'مودبتون', 'صاحبخونست', 'ریهونش', 'لفمه', 'کروسانها', 'باگتو', 'پییزا', 'لذیذو', 'سبوبسدار', 'بشششششدت', 'بودخشک', 'بااونجا', 'خسسسته', 'بولوبری', 'شمردشون', 'زمینیتونو', 'کاغذزیرش', 'زینگوراتور', 'نبودوغذاسردتحویل', 'وکیفتشم', 'نبوددددم', 'بودایشالله', 'اینقدسردبود', 'پرسنلتون', 'خداسرشاهده', 'بیسکیوییت', 'سردددد', 'پیرایشکی', 'معمووووول', 'مارسبانی', 'وضعشههههه', 'بهترییییییییین', 'پپرونیش', 'روچر', 'نسوره', 'کیترینگها', 'سالادهارو', 'سوخاریاتون', 'کارکنانشون', 'زیااادی', 'بودمتاسفم', 'برداشتمشون', 'همههههه', 'واشنباه', 'نمیاریدچه', 'زیییییاااااادددددههههه', 'اکلرو', 'ماتفاوت', 'بازازهمینجاسفارش', '333333', 'کبابهاتون', 'دنییبیببیا', 'دیتزا', 'باوتجه', 'ادسییم', 'اوردشون', 'ماکارون700گرمی', '90٪', 'بهدهمیشه', 'نرنین', 'عاووولی', '199750', 'مسئولیتتون', '8تکه', 'سرگیس', 'نسفش', 'موندتونو', 'باتبحر', 'برگرهاشون', 'یکپرس', 'نمیتونسیم', '1کوچولو', 'تنوی', 'ارزانتروروغن', 'برگزدرخت', 'بیفی', 'ازشماخریدکردم', 'مرخزف', 'اونطرفتره', 'بندی3', 'کااااامل', 'خیلللییی', 'باگتشون', 'گوداتون', 'چیزدرحد', 'خوبهاست', 'گررررررم', 'فرستاددددددددددد', 'کیفتیتش', 'خیارسرکه', 'رستوراناییه', 'بشرته', 'واقعامحشربود', 'garmoon', 'قرارندن', 'کوکلچه', 'حلاشون', 'مخلفاات', 'مستمون', 'سیرنشدم', 'همیییییشه', 'انارتون', '59هزارتومن', 'فسدفود', 'ساندویچتون', 'دندونامم', 'یلیتری', 'سطوحactive', 'پاستاخیلی', 'ارزیدو', 'ابگوشتم', 'زرشکتون', 'بساه', 'بودمشخص', 'جااب', 'اانگار', 'لوفتون', 'نامرقوبی', 'مللتش', 'مشمبایی', 'تتوری', 'فووود', 'میریختنش', 'کهررایگان', 'فسنجونای', 'فودهاست', 'یکنفرست', 'متفین', 'ضمناتقاضای', 'هستش', 'پییزاتون', 'شیرینیا', '31900هزار', 'پخشه', 'کاغذساندویچ', 'مرعشم', 'امااااااااااااااااااااا', 'کارنسو', 'نمیزازید', 'بیشترکنه', 'کااااملا', 'ایتالیلایی', 'اینپ', '4500ت', 'العاددددده', 'رفتارمحترمانه', 'چندباریم', 'ترمیکس', 'یونانیتون', 'تهفیف', 'شدیدااااااااااااااا', 'شمورد', 'بینظیرید', 'مزدیک', 'وماوج', 'بشههمینجوری', 'کاملاتوجه', 'خدانگهدارشما', 'چیباتا', 'کنیددددد', 'وباتاخیررسید', 'قنادیو', 'کارزنا', 'متکارونی', 'غذو', 'نامسب', 'حدود20دقیقه', 'زیزاش', 'بسییییییااااار', 'میزارینو', 'پرخمیر', 'کارزانا', 'نمیمد', 'وازانجاییکه', 'هربرکت', 'یسریها', 'افتتضاح', 'هیمنجوری', 'یکدساعت', 'سزاروسس', 'چندبارآخر', 'اونقدرم', 'اسانسوراز', '9٥٪', 'ایرانیرو', 'میلکوم', 'خریدغذا', 'گودایی', 'ودنر', 'وسروقت', 'یدمره', 'پرتفالی', 'کوبیدشو', 'اصلامعلوم', 'سوناب', 'کمسه', 'اگپرس', 'ذحم', 'نرسوندن', 'نیاوده', 'اینقدرررررر', 'ساندویجو', 'مزهدخاصی', 'نبودوقتی', 'شکلاتارا', 'y0m37d8', 'یاندویچ', 'تنهااا', 'یوجا', 'رستورلن', 'خیارسالادی', 'ونارو', '4000تومنی', 'دارنبود', 'نوشاه', 'خودتو', 'خدایییییییییییییییییییییییییییییییییییی', 'زکان', 'بندبثی', 'لواشو', 'بزرین', 'طولیه', 'وتودانشگاهم', 'هیچچچ', 'سلوووم', 'هر3نفر', 'پیکتن', 'نامیدکننده', 'برگرلند', '14500فاکتور', 'خییییلیییییی', 'بودتش', 'bastebandi', 'غذاسرد', 'وزیادسفارش', 'دونینوز', 'تعجم', 'تخفیفاتشو', 'y0m20d20', 'زده4700بعد', 'پیداست', 'چنجشنبه', 'فرمنر', 'بشیندرضمن', 'باسبزیجات', 'آچما', 'وهمینطورممنون', 'بودوازروغنی', 'ترینه', 'نقدیو', 'افتضااااااح', 'رغیق', 'امیررصا', 'نپوخته', 'متتهی', 'دااااااااره', 'بارهارو', 'مخلفاتتون', 'عاالییییی', 'یذارن', 'واندرلایف', 'نمیداش', 'پاستاام', 'دففه', 'سزارتون', 'یاخیارسرکه', 'پایینتراز', 'باروژم', 'کروسانی', 'بالاسسس', 'حالاخوردم', 'آمدهمقدار', 'یفمری', 'خستگیمونو', 'جوجها', 'تزییتش', 'غذابسیار', 'رستوزان', 'جلووووو', 'موادمصرفیش', 'انقصاش', 'کالباسو', 'پیتزاکویین', 'ابپزشو', 'خیارشورم', '3میدم', 'دوتاخواسته', 'تحملو', 'مطمئناسفارش', 'نداشتهمه', 'بهروشم', 'نه40', 'خااام', 'حدود1ساعت', '14300تومان', 'گیرسید', 'y0m7d98', 'کوچمونه', 'سفارشاتتون', 'نوونی', 'بودپیتزار', '1بالا', 'خواهشمنداست', 'پروپاقرصشون', 'عذارو', 'تاغذا', 'زمانبندیش', '9400ارسال', 'نگهداریتونو', 'هاتداگش', 'اسنپی', 'لیمونادپاکتی', 'بعدازسرخ', 'غذازود', 'لیتریشون', 'همبرگرشون', 'سزگار', 'ونستند', 'اففتضاح', 'وانمیستاد', 'دروووووووور', 'برنجاش', 'دلایلمو', 'نگریرین', 'متاسفانا', 'حودسر', 'افتضاحححححححححح', 'غذارم', 'بروتچن', 'سفارشتونو', 'y0m45d1', 'ثحبت', 'قارچیشو', 'سوپریمش', 'وسردبودنان', 'زیاااااااد', 'خریداول', '35000هزارتومن', 'قرمزکمتربزنید', 'ریخیم', '90دردصد', 'میبینیش', 'qarar', 'بیگیفیت', 'تلیلت', 'کرافشم', 'متسکرم', 'روونداشت', '2٪', 'تحویلگیرنده', '13000ت', 'توضیحمو', 'y0m2d18', 'ولی45دقیقه', 'مظیره', 'پیکشون', 'مزززززه', 'رادویاسه', 'خودتون550', 'کاملاسردتحویل', 'کجاپ', 'رقیبانتون', 'اگسپرس', 'اصللاا', 'بستبندی', 'برگرارو', 'غداترش', 'میغرسته', 'اسمربه', 'فودامیدوارم', 'شماونیروهای', 'وبرشته', 'بوشار', 'بهمحل', 'جیکن', 'وخوشمزش', 'طعمهاشو', 'لقمش', '4تومنی', 'کوچولوعه', 'وادامس', 'شرمتده', 'نفرآبرو', 'موجودیکه', 'دپموجود', 'ترازشکلات', 'وشیرینیهاتون', 'هستندادر', 'درموردتاریخ', 'آشیز', 'میماسید', 'نذادن', 'امتیازاتیس', 'آخرمم', 'یاجابجا', 'سوپراش', 'پیکهانون', 'بفرسته', '24000بشه', 'ممنووووونم', 'هرپنشنبه', 'اینترنتیا', 'روگنان', 'هوشمزه', 'تیتابی', '24عددی', 'ماشرومی', 'فوداتون', 'کردکیفیت', 'شمعمم', '60٪', 'پیروزو', 'نشدینه', 'رستورنت', 'بوددیم', 'پیکاش', 'چنذین', 'نداشتش', 'eftezah', 'بهارنارنجتون', 'کنمتری', 'کاهویه', 'پیتزایه', 'فرستیدو', 'هابزرگتر', 'رستوراندارهای', 'زرشکو', 'هادت', 'نودلیت', 'افتضضضاااح', 'فیلینگی', 'نعناهای', 'کلمتون', 'داگهایی', 'پیتزاپپرونی', 'بیچینیدچند', 'ولوتش', 'لسیار', 'بدوق', 'قطغذا', 'فودپارتی', 'چاباتا', 'گریپسی', 'مخیتو', 'اساسیتون', 'پاستاس', 'ارسالشو', 'خییییییییلیییییییییی', 'لواشه', 'خوردیمش', 'امروزمهلت', 'میررزا', 'رصایتو', '27هزارتومنی', 'یکطرفش', 'افتضاااااح', 'وپنیرشو', 'مشترهای', 'آلفردوچیز', 'برخوردارنبود', 'داریمچه', 'کیلومتره', 'بستشو', 'دااغ', 'مزیتشون', 'دیییر', 'کراسون', 'وعااالی', 'پیشگیریاز', 'شمااکسپرس', 'چقققققدر', 'زیتده', 'سوخارئ', 'بستنیام', 'وحالمم', 'کالاهاشون', 'ببشتری', 'دیربازگشت', 'صففر', 'میرقلمی', 'غذامثل', 'نکردننیم', 'عااالس', 'باروژکوروش', 'کیفیتشووووووو', 'خوشبرخورد', 'وقیمتش', 'اینوارو', 'آفم', 'گذاشتینم', 'باروژقبل', 'ویگنه', 'رولهی', 'میرسرن', 'بارخرید', 'دقتید', 'لاآب', 'ودمتون', 'سفارشاست', 'سبارشم', 'وماست', 'نوشایه', '2٥', 'باروژو', 'سقیدهم', 'یکدونشم', 'برگردونبد', 'وشکرکمترمصرف', 'یامرغ', 'بودزسیب', 'پروویتاش', 'نرمتروچرب', 'قارچاشون', 'برتجیو', 'رستوووران', 'اشتهامون', 'چراکهانگار', 'نارنجشون', '3٥00', 'آلواورا', 'تخفیفاتتون', 'شدتتتتت', 'دوتاادم', 'میلفوی', 'جابجاشد', 'برنگرداندن', 'بودجوجه', 'اندازهآن', 'سفارشیو', 'ولی2', 'چندام', 'سیترول', 'دنرگاردن', 'بوووی', 'نوشابم', 'قبلتونو', 'فقققط', 'ساندویچاتون', 'پودراشون', 'همینطورپایداربمونه', 'ذرتتون', 'تولیستش', 'مقدارموادآن', 'کبابهارو', 'همیشششههههه', 'پولوش', 'سررررد', 'بادرشکسته', 'ضعیقترین', 'کزش', 'کاااملا', 'fتضاح', 'هریدم', 'نمتونین', 'قشننگ', 'کوچیکتد', 'سابقونداشت', 'ذکرمیشه', 'شیدیدی', 'سکلاتیش', 'شددددددددددددددددددددددددددددددددددددددددت', 'پلاکچه', 'ردولت', 'پابین', 'فودهمکاری', 'مخشخص', 'dandon', '3تا4سانت', 'لذذذیذ', 'تخغیف', 'مشتریشو', 'آپاچینو', 'ماکارانی1', 'همیشگبتون', 'قبلکه', '15عددی', 'ازچندقاشق', 'افتضاااااااح', 'میشدمرجوع', 'نچشیدمش', 'بامقدارکم', 'ژامپ', 'شوخاری', 'کرنبریش', 'ومیزاریدبابا', 'حرررف', 'بدهارو', 'چندباراین', '؟؟؟؟؟', '400گرمه', 'mahdode', 'کرفتید', 'پسرخوبم', 'پبتزای', 'خردنشده', 'شووووور', 'اصلاتازه', 'مشمی', 'دوقلمش', 'جندعدد', 'نمریزن', 'محلمونه', 'رستورانهاییه', 'همینحور', 'ferestadid', 'تجربهئ', 'امولای', 'طعمزغذا', 'برگردوندمش', 'ریخیتم', 'حیارشوری', 'دایمتون', 'اصلامزه', 'ترششششش', 'ولیکاش', 'نبودمتاسفانه', 'pooreye', 'غذاهاخیلی', 'اینوریه', 'پوزشونو', 'براگراتور', 'زیادددد', 'زیاددددددددددد', 'گوسفندیه', 'چیکوچی', 'تپخ', 'بیییییییییی', 'وشیرینیهای', 'فوپی', 'استیریپس', 'بعدغذادلیوردشد', 'سغارش', 'الاندارم', 'اونجگر', 'بینهلیت', 'فوتوچینی', 'y0m10d30', 'حساپی', 'افزودس', 'بیشترشیرینی', 'نظرفقط', '11سفارش', 'فوندانش', 'میداذ', 'دوتایک', 'کیفیا', 'اسنپفودم', 'رانداشتید', 'پیتزاکم', 'مارگاریتاش', 'سافارش', 'حدانتظاری', 'اسنپفود', 'غدات', 'نکنهنان', 'غذابسیاربسیارپایین', 'بوداصلاجای', 'لوقمه', 'رسف', 'غذارودیرارسال', 'سفیدوقرمزوکاهوشده', 'ووارفته', 'نیداد', 'واقعاازهمه', 'خودخیلی', 'قوروچ', 'وپیمون', 'بسیییییییییییییییییییییییییییییییییییار', 'امذوز', 'آبدوخیار', 'عددذکر', 'روسکر', 'چیمس', 'میفرسین', 'خشخشاش', 'برگرونید', 'نبودبیشتر', 'رولتا', 'شیلاست', 'باروژیم', 'زیادتعریفی', 'بریونه', 'افتضضااااااااح', 'نکشیئه', 'بهرجای', 'متمیز', 'ishala', 'ذعفرونی', 'عالیست', 'پیتزامنترال', 'چسز', 'همیشگیتونم', 'اومدوقیمت', 'نمیگنم', 'پرملاته', 'تیتاپی', 'متاسفآنه', 'جعبرو', 'پرسیر', '33بود', '200ولی', 'املتشون', 'اناتا', 'داااااغ', 'پیتزازسرد', 'خوراکیاتونو', 'دوبارتاحالا', 'مقدارخام', 'خیارشورهاش', 'وااااقعاا', 'واقعاراضیم', 'دوعددپولشودادم', 'وزن1600', 'نئاشت', 'قارچشو', 'کیلوییو', 'کنتکاکی', 'مدیریتتون', 'سزارتونم', 'سریییییییع', 'طلاست', '6تاتخم', 'درصدپایین', 'اسفنجاش', 'بدشددد', 'بسایرین', 'نمره22', 'جالبیداشت', '؟؟؟؟؟؟؟؟؟؟؟؟؟؟؟', 'تومواد', 'توتفرنگیهاش', 'مخصوصاکردویی', '12و50', '؟؟؟؟؟؟', '٥٪', 'بکد', 'ظرفاشونم', 'توسرما', 'دروچین', 'شدتتتتتت', 'میوهاش', 'مزخ', 'گذاشتتد', 'تنوجه', 'ییسکوئیت', 'عاللییی', 'مگفتند', 'باکیفیتتون', 'پیتزادونفره', 'خوشمزشه', 'تاغذارسید', 'ساندویژ', 'حموص', 'سالهاااا', '63840', 'گوچیکی', 'نزدیکتین', 'پرخورد', 'دادشیرینی', 'کالباساشون', 'y0m4d15', 'ولیخیلی', 'پیتزاست', 'هودتون', 'پرپروکش', 'صبرکنن', 'اینکارک', 'اتنقاد', 'ابگوشتش', 'نپختس', 'تالذت', 'نوشبدنیهاتون', 'سردویخ', 'چزکیک', 'خوشمزا', 'ساندویچارو', 'تایمتون', 'بندیهاتونو', 'راضیماما', 'نوشبیع', 'هویح', 'پفو', 'اففففففتتتتتتضضضضضااااااح', 'ونپختگی', 'پایداروسربلند', 'مایونزه', 'بودوپیتزا', 'اخرینشم', 'مالبده', 'دقیییقا', 'تخوش', 'فتادوشه', 'کوچست', 'بینظیرررررری', 'بپیشچن', 'awli', 'خداروشیرینی', 'کوکایا', 'عحیبه', 'ژلاتو', 'عذرخواهیو', 'مالیزان', 'سبزیشون', 'هورنلی', 'بسیاربسیارخوب', '؟؟؟', 'استافدکراست', 'چسببد', 'همیشههه', 'مونذاشته', 'العااااده', 'y98m10d17', 'مدقع', 'دیرررررررررررر', 'فشارمون', 'چیست', 'سرخشده', 'لاوربرگر', 'مخلافتش', 'عاااااالیییییییی', 'ندتشتن', 'فودین', 'اکردن', 'پریروزه', 'شمادستمال', 'نمیتونیدبفرستیدخب', 'نونایه', 'سردهه', 'کوفتشوبه', 'نفربدشانسو', 'پاسخگوباشید', '1٥هزار', 'پالمیه', 'سفارشهامو', '110گرمه', 'سوپرمارکتتون', 'قطعااااا', 'دیرکردتون', 'کالباسیه', 'خساستشون', 'بودتبریک', 'gheymatha', 'کاهوو', 'بزوم', 'فرستادع', 'سوخاریایی', '11هزارتومن', 'مارکتهایی', 'وپرچرب', 'بودندمخصوصا', 'درکنارش', 'ناگته', 'کارکت', 'خوشنزه', 'موعدبه', 'میتوننن', 'مقدارناچیز', 'بودبانون', 'پیراکشی', 'ساندوبچ', 'و8و50دقیقه', 'دستپم', 'موردیاسفارش', 'فلفرش', 'زعفرونشه', 'سساش', 'طعیم', 'ممنونمهم', '٥0٪', 'دامستون', 'رسییدگی', 'درستهدمتون', 'وشباهتی', '1500اوردند', 'سالادهاشون', 'اینبارش', 'کیکفیت', 'بسییییااااار', 'بروچن', '41700', 'y0m8d13', 'آغسته', 'ساندیوچ', 'للعاده', 'همینطورسالم', 'فلافلاش', 'گرونتربود', 'رسیدمثل', 'باگتمون', 'همبرگز', 'متاسفناه', 'آوران4000', 'سپاااااس', 'بیشتد', 'وبهتره', 'حضدار', 'ومیاورید', 'اشتهامونو', 'توضیحاتگفتهبودم', 'بوووددددد', 'نفرسین', 'مستریاتون', 'مطممئنا', 'انقضاشه', 'کیفتشم', '45مین', 'پیتزاا', 'پیتزاتونم', 'سوپرخریدمیکردم', '04دقیقه', 'بعداشتی', 'کیکوک', 'اینجودی', 'کاولا', 'کاملابهم', 'sholam', 'پرازگوشت', '16تکه', 'عجببم', 'بودن27500', 'چانکی', 'عذرخودهی', 'پیتزاگوشت', 'سوپربرگرو', 'مامانبزرگمو', 'میکستونو', 'فرداسچه', 'درپیتزا', 'شیرینایی', 'من1کیلو', 'وجودبیاد', 'میراشتینم', '60سالم', 'قیمتاتونم', 'اتموم', 'انداخنتد', 'مختلفاتی', 'عالییییییییییییییییییییییییییییییییییییییییییییییییییییی', 'برنجتونم', 'داگم', 'کاملادسرد', 'سرآشپزتون', 'چوکوبری', 'اینقدابلیموزده', 'دردنکندهمه', 'نمیندزن', 'ونزدبک', 'ماهاست', 'وجیتاس', 'آیتماست', 'میراشکی', 'یرخلاف', 'نگذاشتون', 'شعبشون', 'کاشمثل', 'نمیخواستاینو', 'ماسیدا', 'y0m4d1', 'یاغذا', 'آمیره', 'بودوپاستاهم', 'طعملذت', '2vomin', 'پیتزاتوکیو', 'آوردد', 'گاقعا', 'ععااللییی', 'وحشتناککککک', 'شیرپسته', 'معمولیبدون', 'وپلاسیده', 'از15دقیقه', 'هاریبوی', 'انشائا', '4تادونه', 'رشتوران', 'معرررکه', 'بودحتما', 'تاکویی', 'پیتزاشونو', 'پشیمو', 'درهاشون', 'ذرشکای', 'راضب', 'بزارمد', 'وبفر', 'باسفارشم', 'حلیمشون', 'عاااللللییی', 'لبپه', 'سیبزمینیا', 'دوتاتیکه', 'ٔدونم', 'گاتاش', 'هایداست', 'کرانچیک', 'نوشاباش', 'بالل', 'مغزداروبی', 'سیب360درجه', 'برتولیش', 'ازییییین', 'میچیدین', 'سرویساشم', 'بیشترکاهو', 'دیزیاشونم', 'عمیشه', 'موادبیشتر', 'فاکتورخودشان', 'فسنجونش', 'سوناپ', 'همممش', '8400هزینه', 'دیرموقع', 'ازبدمزه', 'افتثلح', 'سیبزمینیشون', 'مصرفا', 'ساندویچا', 'گرفتیمش', 'کردنش3000', 'میلکا', 'دراوردیمش', 'استیکهارو', 'میشههمه', 'لطفط', 'بدبرخورد', 'طعمعالی', 'ازاسنپفود', 'گردرد', 'اقااااا', 'خییییللللیییی', 'غملا', 'بودسپاسگذارم', 'بودوباتاخیر', 'کفیته', 'دیراومد', 'پتیزاش', 'قرونپول', 'فرستادندکه', 'چهارتد', 'ماهرتون', 'هزاااااار', 'اصلاااااااا', 'خاهمه', '1ساعتو', 'ماکارکن', 'سسشون', 'بعیدبود', 'اروستو', 'جوربازار', 'نمیکشوندن', 'نمیخوونه', '٥0', 'بندیشونم', 'پیسنهادات', 'بدمزهدر', '990109', 'efteeeeeeezaaaaaaah', 'بودیت', 'اماکیفبیت', 'خوباس', 'راظی', 'کاپریچیوزا', 'نخلفات', 'پیگیریمو', 'شایستشون', 'همبرگراش', 'بسیارکم', 'بعدسوخاری', 'ولذید', 'کاربلدش', 'شماست', 'اسپرایس', 'کیفتتون', 'نمیبرین', 'میلکشکع', 'gharche', 'سوپرازم', '42سفارش', 'وظبف', 'خوشمزههههه', 'نوناشونم', 'نامباسب', 'ضننا', 'صفرررر', 'شیرینیهاتون', 'نامناسبیه', 'نشکو', '1قلم', 'اونهاست', 'merciiu', 'رلضی', 'رفتارپیکم', 'برگراتور', 'پاژان', 'ارسرع', 'شیر2روزپیش', 'پرپروکم', 'ماعک', 'y0m6d23', 'بپد', 'چیپساش', 'باعکسش', 'نربخته', 'کنجدذو', 'دراپلیکیشن', 'y0m2d1', '2کتلت', 'بهداشتیتونه', 'بسیارباشخصیت', 'برنگردوندن', 'ویژگیهاست', 'بارژو', 'طورمشهودی', 'دیپلماتو', 'نیووردید', 'تنهاامشب', 'تحویلدادن', 'محشرررررر', 'شنیسلی', 'و5امتیازحقشه', 'شوئینگر', 'ازپیک', 'بنسبتن', 'فودوتمام', 'الپارو', 'ندشتن', 'شیرهارو', 'واقعااسنپ', 'ججش', 'چنگاالی', 'سوپشون', 'فوذ', 'بودبرنجش', 'فودمیدانندنه', 'غذاواقعادیررسید', 'اننقققد', '4400به', 'صبحانتون', 'باگردن', 'هرینرو', 'بدکیفیتی', 'وازاسنپ', 'کرواسانها', 'پیورچیکن', 'کزیکی', 'مدارهست', 'تاززززه', 'ممنونمممم', 'بگیدم', 'سیبزمین', 'دارته', '4٥', 'پودرپسته', '100٪', 'چیییییز', 'پیازاش', 'عاااااللی', 'نگفتنه', 'حتتتما', 'میرزاقاسمیتون', 'بودتد', 'اصصلا', 'پتجره', 'شوربود', 'نگهبانیه', 'راندارندویاامکان', 'چندایی', 'پیتزاسوخته', 'بیسکویتو', 'غذاهتون', 'عااااللللییی', 'لاپلو', 'شکلاتیشون', 'y0m2d7', 'انشاللا', 'وتشکرازهمگی', 'بددددددترین', 'فزانسوی', 'بیشترازبنده', 'شپا', 'کلناراضی', 'کذلشتم', 'تسنپ', 'استخوناشون', 'ناسالمه', 'شادباشد', 'هایدایی', 'العادسامیدوارم', 'بیکنو', 'تاگوجه', 'شدددت', 'موتده', 'مخری', 'پرفیله', 'هرینه', 'باکسشون', 'خوشمذه', 'نبخته', 'مغزوزبان', 'عالللییی', 'هبرگر', 'بطورئ', 'وخیلیی', 'خوشمزتونم', 'غورابیج', 'بارخ', '11سانتی', 'باپنیرسفارش', 'العادههههه', 'خرماتون', 'میدادکره', 'میدادپودر', 'بنظرم', '55تومن', 'افریکانا', 'متاسفممممممم', 'رسید2', 'دقیقخ', 'دائمشونم', 'عالییییب', '5500تومن', 'شورنمیدونم', 'چیزفود', 'بخورمبا', 'ماسکارپ', 'خمیرررر', 'ازاینجاروتوصیه', '70٪', 'میشستین', '0پیتزاها', 'وردرز', 'بابرج', 'قارح', 'بودمواقعا', 'ایدفعه', 'حساسیتشون', 'یهدمزه', 'فیلینگش', 'تعمن', 'ایتالیلییافتضاح', 'دپر', 'ادسیش', 'امقصد', 'باپقیمتش', 'شیرینیمثل', 'هاکاملا', 'زیادشو', 'سهدی', 'زودتادیروقت', 'ازهویج', 'وافلها', '1نیست', 'کرانچینگ', 'سفاراشات', 'ومونده', 'سوسیسا', 'کمترازاندازه', 'نباشیددددد', 'موندگیه', 'درسفارسات', 'سنگکسبوس', 'سیرخیلی', 'علثالی', 'روغنتونم', '9تایی', 'حقیفتا', 'چیزکیکش', 'چیکنش', 'ایادرست', 'مواردازپیک', 'وپیتزاهاش', 'سفارشامو', 'بهنظرم', 'پیتزاهش', 'غیردبهداشتی', 'برعکش', 'بدمزش', 'کیکشون', 'دورتره', 'رنگامیزیه', 'لاواتزا', 'فثقاشق', 'تندفلفل', 'میباست', 'ایچش', 'صمممممممیمانه', '5تومنیه', 'فسفودیای', '40٪', 'کردیددیگه', 'سوئاستفاده', 'انیدر', 'پبزه', 'ویابپرسبد', 'عجبببب', 'تنوریه', 'درنظریک', 'دورچیناش', 'پایدارباشید', 'وکاملایخ', 'هیلیی', 'ممنوو', 'هایپها', 'بخوادم', 'پنیربود', 'قراردادبودداخل', 'rooham', 'خععععلی', 'افتضاااااااااااح', 'خااااامه', 'گیاهخوارم', 'ممنونازینکه', 'فانتای', 'هاگرجی', 'فاکتورخودشون', 'نیکنی', 'ریخیتیم', 'پیکاتون', 'نبووودم', 'توووپی', 'ظاهرشیرینی', 'سررررردی', 'برسرش', 'دائمتون', 'حلیماشون', 'بسیاربدی', 'پیترایی', 'وعاالی', 'کاااااملاااااا', 'انقضاست', 'سلطانیو', 'سوپرمارکته', 'دومدلی', 'اتخابم', 'تاخیرا', 'ماندویچ', 'فکرسو', 'باقالیش', 'محصولاتون', 'منوهمکارم', 'مییچسبد', 'بسیاربسیاربدبود', 'پیگیزی', 'نالکس', 'مالیاتتون', 'مخلافاتی', 'پنیراش', 'بخودتان', 'زجبیلی', 'پرخامه', 'رسیدآشش', 'قاشقشو', 'نمرش', 'ویخته', 'میرسیدبه', 'غذاهاکیفیت', 'یدشن', 'واقعاراضی', 'شیرینیمو', 'شیرینه', 'عاای', 'کالسنتر', 'دمتوون', 'کوچولوبود', 'fogholade', 'زیاااااااااااااااااااااده', 'مارکت4', 'دیروزساعت8از', 'بببنم', 'هردوروداشت', 'اممنونم', 'برتولیه', 'نوتلایی', 'asln', 'گغتن', 'نداردوهردفعه', 'برخوردخودشون', 'ازسوپرشکیبایی', 'خوشمزززززه', 'عذلی', 'فیلههه', 'شیرازبرگر', '75گرنی', 'رسیدممنون', 'سراشپزدرست', 'خورشتک', 'بیسسسسسست', 'وبودارضده', '،،،،،،', 'پروتچن', 'دتره', 'اسانسوره', 'میکسشون', 'سوخاریشم', 'نوشتبه', 'دلسترشو', 'سیگاررانفرستادن', 'داگهای', 'وبمانید', 'پیشبود', 'میزاشن', 'چرررررررب', 'اخرش', 'تواسموکی', 'وجترن', 'واقعاسرگردنه', 'دادع', 'mizad', 'mrci', 'قیمتاتونو', 'چاپاتا', 'اومدماست', 'دورچینشم', 'پیرلشگی', 'بوستاکا', 'میذاریدباوجودی', 'اوودوز', 'پولوهای', 'اسکویید', 'بهترینهاست', 'اونطرفشو', 'سوختری', 'y0m12d2', 'سرومیع', 'شرینیهای', 'بعدازگداشتن', 'فلیمر', 'دیربرسه', 'khodaee', 'واکثرجنساش', 'سفرشمونو', 'دورچینای', 'بادومش', 'مرتببه', 'بمبیه', 'بوداصلاهیچ', 'داغوناشو', 'عطش', 'قزاا', 'ازهمچین', 'روبخوای', 'بعدازتحویل', 'دربغ', 'روکولا', 'متاسفتانه', 'y0m1d24', 'اسلایسشو', 'تدیگ', 'عالیییییپیک', 'وسفارشم', 'دادیم0انگار', 'درسته', 'شزارشم', 'درورده', 'مزهههه', 'سنگککی', 'اومدد', 'شیرینهافوق', 'سریاشم', 'فندقاش', 'میخرممنم', 'پیتراهاش', 'ارسالی24سانتی', 'ازکیفیتتون', 'پیتزایخ', 'کتجد', 'بدین', 'توسایزپیتزاها', 'یساعت', 'دگئی', 'شناستون', '27000هزار', 'عااالیی', 'مهنونم', 'بایدجدامیکردم', 'بسیارتازه', 'رستبیف', 'تنوعبسیار', 'پیتزانازک', 'شلقلمکار', 'وباتشکرازسوپرمارکت', 'پرپاخت', 'وبینظیر', 'مزههههههه', 'شییرینی', 'اصلاارزش', 'خودشوم', 'قیمهبادمجون', '3شفارش', 'زخپ', '10دیقس', 'پرکردید', 'ادرسمون', 'تجدیدنظرکنید', 'بدمزس', 'باهث', 'غذااصلا', 'چیکنتون', 'مبزنن', 'طردن', 'سوخاریو', 'معمووولی', '30600', 'پاورماشروم', 'بادمجانهاشو', 'زیبسی', 'ژامیون', 'اشانیتون', 'وووولی', 'بودمممممممم', 'نمیصرفید', 'اسلایسش', 'مدنظرشونه', 'چوریتسو', 'آوردناما', 'دمجموع', 'ببسنه', '؟،', 'سرکباب', 'اسپیرایت', 'سوخاریهاشون', 'تینقدر', 'مستدادم', 'فرداست', 'فودبخاطر', 'نپاشیدن', 'براگفتن', 'فسفود3', 'چینشو', 'خیلیاست', 'الدفشن', 'ساااد', '3000تومانی', 'خمیرنشده', 'متره', 'دریافت6هزارتومن', '37تحویل', 'چقدرررررررررررر', 'پرکنجد', 'فیبرکس', 'بهترمیشد', 'اگزم', 'برگراتورم', 'بگذیرم', 'پرپروکه', 'ناگتش', 'انداشت', 'رولته', 'کنستانتره', 'سیگاراتون', 'عااااااالللبسه', 'zamini', 'مطمنم', 'کچابش', 'باقلواگذاشته', 'مقدارکوچک', 'روتادوروز', 'y0m12d2019', 'ماکارونها', 'مخصوصتون', 'ازتونبهترینید', 'شائلله', 'kalbasash', 'وصدگرم', 'میگذازم', 'سانتیشون', 'مقواشو', 'متاصفم', 'پوبش', 'سوپرایزتون', 'غذامیگیرم', 'شورر', 'زیارد', 'زیاااده', 'انقددددددددددددددددددددر', 'خورشتشون', 'مسداد', 'سسهاتون', 'mahsolat', 'تاخیییییییییررررر', 'تااازه', 'ومتشخص', 'اسموکیه', 'لطفااگرخوراکی', 'نوصابه', 'دایجستیوی', 'رستورانمو', 'گوداش', 'هالوچیز', 'کشیدند2نان', '4٥00', 'کیکایی', 'پیازمیداد', 'عجلگی', 'مصرفییییییییی', 'رستوراناش', 'تمییزبود', 'آبگیریه', 'قزشون', 'درمنودرج', 'اشتهت', 'مرغشه', 'نوسابه', 'پیازتوی', 'مزززه', 'سوپربرگرش', 'ببابت', 'مارکتم', 'درخریدهای', 'ووقارچ', 'بهدگفته', 'کنم40سانتی', 'دفعاد', 'مهمانهارفت', 'ماهیچیه', 'ostkhon', 'تعداش', 'رسیددد', 'فرستادا', 'تاخیررررررذ', 'هصبانی', 'بسیاراشتهابرانکیز', 'مرغاین', 'نوآورنه', '7هزارتومان', 'سپااااااااااااس', 'مقدارژامبونش', '20رسیده', 'مائالشعیر1500', 'وریختم', 'mizadin', 'بودوسیب', 'اماشیرباید', 'تستکی', 'میشه20تومن', 'پلاچنتای', 'تازهههههه', 'نااااااااااموسن', 'بودموقع', 'واقعارولتاتون', 'انهارابه', 'افتضااااااااااااااااااااااااااااااااااااااااااااااااااااااااااااح', 'پپرونیه', 'دلجسب', 'بایدزودتر', '1٥00', 'نامتناسبه', 'داماک', 'لسنپ', 'خوشمزهههههه', 'لتبانوفی', 'غذاگرفتم', 'اینطوربیان', 'پیتزاخیلی', 'خوشمزگیشو', 'منوتونه', 'کریسپای', 'نمیگذاشتتد', 'اسپاسی', 'ساسپگزارم', 'افتضاححححح', 'بودبهتریناروبراتون', 'کالزرون', '3٥هزار', 'نطظرم', 'برای3هفته', 'برگرشون', 'ژانبوناش', 'سفارشامون', 'غذاتونم', 'چیکیم', 'حتلا', 'قبلولی', 'پیتزامیکس', 'کاپریچوزا', 'زیادیشه', 'نیسسسس', 'هاتداگی', 'ظایعات', 'سااااااااعت', 'راببرم', 'بزنجشونم', 'خوراکهاتون', 'بخوریمش', 'وقارچش', 'شکرداشت', 'افتخارداریم', 'خخخخییییلللییی', 'چییزبرگر', 'خشکههههه', 'زمانینه', 'خییلییییی', '2420ت', 'هستیدفقط', 'دوپاکت', 'کباباتون', 'وجوجهاش', 'دیگرثبت', 'رامیزنه', 'اصلاوپیشنهاد', 'کمییتبه', 'دیقش', 'پیتزاااااااا', 'مناسبشونه', 'کیفتتش', 'الییع', 'فلفلایی', 'اورجیال', 'نبردیده', 'میراشکیش', 'sandeviche', 'چیزبرگرش', 'ومقدارش', 'افتابگردانی', '7290000', 'برتولی', 'بتواندچنانچه', 'معمولییه', 'خااااام', 'اعلامیشون', 'لطفاهمینجوری', 'سیراشونم', 'سیغ', 'نظیررررر', 'موادخوب', 'وبرخورنده', 'ساندویچموندهبود', 'قنلن', 'عاشقتونمممم', 'کالایابرندکالابه', 'گوشتاشو', 'واقعانکه', '23٥0', 'آجیلشون', '2پر', 'چیزعالی', 'ثابتون', 'بودوانگارموندهبودغذا', 'درکالای', 'اتتخابم', 'شیرهاشونم', 'نانشون', 'زرشکهارو', 'مخلفاط', 'سفارشاتمو', 'نمیکنمممم', 'رلت', 'طعمتون', 'هستییید', 'فروشندش', 'بود9', 'خلالیه', 'اکقر', 'بخوریماااا', 'ومیزانش', 'وپرازنون', 'تاخیییییر', 'هیچچچچی', 'ازبادمجانها', 'شد4٥دقیقه', 'نگینیه', 'بهههترین', 'دهندش', 'سرددددد', 'میدادظ', 'سوحاری', 'پاقعا', 'پرکنجدی', 'باسفارشاتم', 'کارابونا', 'تچین', 'نرررررم', 'غذاصفر', 'نمیدمممم', 'شا6و', 'ننیدونم', 'پیتزافروش', 'واثلا', 'پلومرغ', 'چت', 'دادتوضیحات', 'شهدشکربود', 'ماالشعیری', 'غذارسید', 'قانونهاتون', 'پلاچنتا', 'رسوندنشون', 'ومیشن', 'ریحونای', 'lezzat', 'رستورانهارو', 'غذاتووووووووووووووووون', 'ااشیرینی', 'استریپسو', 'کریسبی', '1zare', 'تشکرازاخلاق', 'امروز18دی', 'پایینتره', 'نونبرگر', 'اکسپرسه', 'تماشد', 'کمترباشه', 'شکموا', 'جدوی', 'سنپفود', 'بودآبروم', 'فیمه', 'بکساعت', 'چورتسو', 'پارمازان', 'ییسکوییت', 'وبدمزه', 'بفرستیدآدم', 'زرزرزرزرزرزره', 'تکونمم', 'وخیارشورداخل', 'دایمیشون', 'خمیرپیتزاخیلی', 'فرستادیدحتی', 'درخداست', 'نمیفرستادین', 'پراشکیا', 'دلیوریشونم', 'بسیارکیفیت', 'بهدصرفه', 'خلافرمنو', 'رستدران', 'نداششششت', 'دونتونو', 'عالییییههههه', 'عذاتون', 'توکیک', 'بیستنیها', 'چیزفودم', 'افتضاااااااااح', 'سبزیشو', 'فقلدع', 'بردممممممممم', 'تجدیدنظرمی', 'فودم', 'ندیدمش', 'ماشرومش', 'خودحلیم', 'تشگیلاتی', 'ازسفارشم', '45سفارش', '30دقیق', 'سیرنمیداد', 'ازخوردنش', 'y0m4d7', 'رسژد', 'فروروشه', 'ازنظرتازگی', 'همبرگرا', 'y0m0d82', 'رونفرستاده', 'علاالدینم', 'برخورو', 'وگوشتش', 'ناپلئوخی', 'نامرقوب', 'بخوووری', 'آردسوخاری', 'کنرینگ', 'ثابتمم', 'راضیهستم', 'نوندسنگکش', 'بسیارافت', 'عااااالللللی', 'بلوکمون', 'رستورع', 'بغلتونه', 'مناسبد2نفره', 'بشنپیتزا', 'چررب', 'efesها', 'حشده', 'سیرشو', 'فوووووق', 'ایتیک', '1ساندویچ', 'خاهرم', 'دیزیش', 'نننننننپپپپپپخخخختتتهههههه', 'غاشون', 'یدونشم', 'پختیدش', 'پشیمونی', '2٥0', '٥00گرمی', 'اخرمون', '341گرم', 'بودقابل', 'ملاتحلالت', 'مشتریاتونو', 'تعدادسس', 'اازهررستورانی', 'روحیف', 'اکسپدس', 'موندش', '220گرمی', 'y0m5d2', 'حضووری', 'ازاسنپ', 'اسکرمبلد', 'مشتریرو', 'اصلادتازه', 'سفارشاشون', 'پنیرسوخته', 'نوستاژی', 'شدکیفیت', 'خیارشورشم', '1گوجه', 'تولیدروزباشه', 'سالادسزارشو', '؟؟؟؟', 'توقعشو', 'چگنال', 'بیشترنان', 'سبزیجاتایی', 'توصیحاتو', 'اییتونم', 'ساندویخ', 'میکروسگوپ', 'اوردش', 'کبابسرا', 'ناجیز', 'گذاشتیدهمراش', 'وبیمزه', 'توذوقم', 'گرغته', 'چیع', 'پاقرصش', 'سیرشه', 'سرواکنی', 'بودوطبق', 'بهترینست', 'جنگلیشو', 'بودویکساعت', 'هابانرو', 'انقدرم', 'هاذشیرموزی', 'خوبهفقط', 'کاهوئه', 'وربات', 'داردحسنش', 'اماژامبونش', 'پیتزاسیرواستیک', 'هالوپ', 'ساندویجها', 'موهیتوها', 'بوددید', 'بودطمع', '10میدادم', 'انگارداری', 'کبابیشون', 'زیااااادی', 'اینباربال', 'خوشبرخوردتون', 'میخوریی', 'هالیپ', 'شفارشتون', 'منونوشته', 'بسییییا', 'قطعاتپیتزا', 'خوسمزه', 'ارزونشو', 'میشدنن', 'ماستیده', 'چیاباتا', 'یبارمصرفم', 'سالادکلم', 'ولی٥عدد', '؟؟؟؟؟؟؟؟؟؟؟؟', 'گذاشتا', 'مداریشون', 'پیتزاس', 'پرروزی', 'ایتجاست', 'سسسسسواقعا', 'خدابرکت', 'مشتریشونو', 'عاللیییی', 'جزقاله', 'داغوننن', 'اژدهها', 'اصلاگوشت', 'دوسراوردن', '2کوچه', 'پیتزاگذاشته', 'دراکثرمواقع', 'وامیدوارم', 'قارچتون', 'برگرتونم', 'عالللللللی', 'okموافقم', 'سانداویچ', 'کبیده', 'باقلوابیشترازبقیه', 'دربشو', 'فرستاندند', 'قسمتثبت', 'تشکراسنپ', 'سالادشیرازی', 'کترینگم', 'وااااااااااقعا', 'ثابتشوم', 'فرایزا', 'نماسیده', 'عاللللللی', 'پائینتره', 'ناپلعونی', 'پنیرررر', 'میرشد', 'بندریاتون', 'دسروامتحان', 'اگرقراره', 'ماازاسنپ', 'ندارع', '4ونیم', 'یبارمصرف', '؟؟؟؟؟؟؟؟؟', 'گاردینواین', 'دوغشون', 'بگیییییر', 'رساوران', '4بارزمان', 'اماخوراک', 'خوشحالمممممم', 'شدبزند', 'زمینیییییییی', 'سریییع', 'اسپایسیش', 'سردمنطقی', 'ناندخوب', 'عکاوی', 'دقتیه', 'اکوافینا', 'رادقید', 'چاشنه', 'سلیقههه', 'رویش', 'یچخال', 'اصلانذاشته', 'منطورشه', 'عدساش', 'تمیزهانتظار', 'کوچییک', 'هبانی', 'عاولیه', 'چندتیکه', 'میباشدحتما', '16000هزار', 'عاااااااااالیییییی', 'رویالتون', '2سلعت', '14000ت', 'سقارشات', 'خواهشما', 'وخییییلی', 'بودشاید6تا', 'انتقادیا', 'بسیکوییت', 'بدنودیگه', 'اصافا', 'بدبودخیلللللللللیییییی', 'خاااام', 'دراوردنش', 'وافلش', 'دیررسید', 'زیاداست', 'بروسکتای', 'سبزوتوت', 'نزرا', 'مواردبسیار', 'بهههه', 'داغبود', 'ژامبوناش', 'ژامبونششش', 'هوصوع', 'غذاعالی', 'حسدمیکنم', 'کنارتش', 'بندریو', 'خییییییلیییی', 'مدیررت', 'شیوکیک', '6هزارتومن', 'نزاریدباسوپ', 'خواهیشو', 'زماااااااان', 'چهاربارازاین', '؟؟؟؟؟؟؟', 'العاددده', 'بریانشون', 'عاللللی', 'هیچچچی', 'بهتره', 'موادپیتزا', 'پیتزامثل', 'خرجکردیم', 'کاکائوییه', 'پاستاشو', '455گرمی', 'پدتای', 'فودیای', 'رسیدباکلی', 'خمیرشده', 'سرررررد', 'کاملاداغ', 'شدچ', 'وباکیفیته', 'دییییییرررررررر', 'آلکینیومی', 'y0m11d29', 'پنسر', '14تومن', 'بندیهابهتر', 'فلمکار', 'وحالموبدکرد', 'اثردهید', 'وژامبونش', 'همیشون', 'شدع', 'گوگولیاشون', 'اسمارتیسی', 'پذیرکار', 'نداشتمته', 'هییچیی', 'بیسکوپیچ', 'واسه9دی', 'برنجشو', 'تندار', 'سخاریا', 'میخوایدش', '930گرم', 'اتصافا', 'گوشوش', 'پلوبا', 'جاااا', 'بارژ', 'بهقبل', 'بودوحجمش', 'بیظیر', 'نبپد', 'یوبس', 'بوستاک', 'ارثشون', 'رستورانتون', 'دایجستای', 'رسترونت', 'بودامیدوارم', 'بنوشن', 'کدچه', '1ع', 'بکارمیبرندهم', 'باییر', 'زیاددارند', 'سوپشونم', 'داگیه', 'سفالیشون', 'گرندگوشت', '86الی', 'هدفونشون', 'املته', 'فتضاح', '4هزارتومان', 'عطروطعم', 'میرنن', 'گرفته1', 'باگته', 'شوووور', 'غذاهاتونو', 'sosesh', 'نوناتون', 'وفادارباشه', 'ازنطر', 'اسفویلیو', 'بشدددددددت', 'وخوشمزست', 'ظهربهتر', 'خیارشون', 'سوخای', 'دقتا', 'رستورانیه', 'چون4تکه', 'استریپسی', 'بعدازپیگیری', 'روراضی', 'تاخیرهاتون', 'میفرستدین', 'باخوراک', 'غذاسفارش', '2500حساب', 'رسیدر', 'آبادتون', 'محصولمون', 'ارنپ', 'طلقش', 'میشودبهتر', 'زمینیشو', 'تاداز', 'برگرمرغ', 'منوبایدسس', 'اصلااستفاده', 'ازاسنب', 'برخوردپیک', 'سوپرمارکتا', 'شکلاتشون', 'کنیدفکرکنم', 'بودگرفته', 'dchide', 'باید42', 'راحتیمشتریان', 'فووووول', 'چیزبرگرها', 'ونصفش', 'مرا', 'افتضاحححححححححححححححح', 'نبوددد', 'منوتون', 'سوچیک', 'اندازش', 'اعلاالدین', 'اقالطف', 'ریحونم', 'سویئسی', 'بددددددتتتتتتتر', 'وافلی', '2000لیتری', 'بددددد', 'سدوخته', 'میرسیه', 'برنددیگه', 'ممنوننن', 'برگبو', 'وشماسیب', 'حیفشون', 'میگوتون', 'مرغ18000', 'قووول', 'پیازداخ', 'سیبب', 'آلفردویی', 'ساپگی', 'ازخریدم', 'وغدا', 'نداست', 'سزراش', 'بودازاین', 'کمتره', 'کریپسی', 'هدداگ', 'هتقل', 'دیزیایی', 'لاکتیویای', 'توماندهم', 'واقعادمشون', 'یژدی', '60٪که', 'چارپنجتا', 'مظرم', 'جدیدصداقتن', 'پرپرووک', 'سایرغذاها', 'نبوودم', 'همریخته', 'خیبیلی', 'سرداش', 'سالاداتون', 'لوبیاپلوسفارش', 'قولیتون', 'جمعا11', 'بیانز', 'شددددددت', 'کیفتتونو', 'پررر', 'دقیقااا', 'موجودداخلش', 'پلوشو', 'سوممه', 'تردیشو', 'بمبیای', 'فونگی', 'ترشتون', 'فانتاااااااا', 'y98m11d15', 'آوردش', 'فسنجونتون', 'رسیدتحویل', 'دوزچین', 'پیبتزای', 'تاخیرررررررر', 'آناناسو', 'هممع', 'خیلللی', 'ظردف', 'نخوررم', 'ساندویچایی', 'خجاب', 'هزارتومنیم', 'هایچ', 'پاستااز', 'y0m3d16', 'حلیمجای', 'یکیفت', 'مبگیریم', 'سفارشاتشون', 'ویفرشکلاتی', '14تمن', 'لانجیند', 'طمعشون', 'ریختیمش', 'نبودمزه', 'بامبه', 'العاااااااااااااده', 'میزریم', 'پیکیه', 'نبودااا', 'نمیکیرم', 'زودفودی', 'برگریه', 'بونصف', 'بسیارنامنظم', 'نداشتنثم', '؟؟؟؟؟؟؟؟؟؟؟؟؟؟؟؟', 'همبرگرخوب', 'اوردنش', 'رگن', 'neveshtin', 'نتنستم', 'سیبزمینیش', 'چیزبرگرد', 'امکاااان', 'اصلاتوصیه', 'keyfiate', 'نیادحتما', 'بخاطرطعم', '150تومنی', 'هویچش', 'آشپر', 'ناپلیونی', 'پنیرکبابی', 'افتضاااااااااااااااح', 'ردولوتی', 'بدبوئه', 'وبیکیفیت', 'نبوووووووووده', 'فوتوچینیاش', 'محششششره', 'سپااااس', '14عددی', 'وتازست', 'مرغ18مهرماه', 'نارگیلیاش', 'اختلافشه', 'سادویج', 'وسرتایم', 'شیرهویج', 'دیگیاشم', 'بخاطرنظرات', 'تحوبیل', 'برنگیزه', 'برگرلندم', 'ازسوپرمارکت', 'دلسترم', 'خشککککککک', 'ماسکشونو', 'زوکت', 'ادرسرو', 'اینهاست', 'رولتهارو', 'بستبندیشونم', 'شیرتاریخ', 'همییییشه', 'غذابیشتر', 'چیزکیکتون', 'ایول25', 'خیارشورگوجه', 'شیریبی', 'ازتوجهتون', 'خریدنیست', 'سوهاری', 'شدموچیز', 'فکذ', 'خوشششش', 'حپه', 'نداشتاصلا', 'کیفیتتونو', 'اماخوشمزست', 'تایمشون', 'استیکشون', 'ودمشون', 'پلاکمون', 'دلمزه', 'فاکتورشون', 'هالوچیزکن', 'کنیدتکرارنشه', 'برقرارباشید', 'y0m6d29', 'پاکخ', 'چیییییز20', 'ادامسها', 'حابه', 'امافکر', 'kefiyateton', 'قهوع', 'شدییییید', 'آلوچش', 'کبابترکی', 'اعریف', '50٪تخفیف', 'چلوبرگی', 'بهمن97', 'موزارالا', 'انقدرررررر', 'هستیمموفق', 'سخاریش', 'چندمهاین', 'بدکیفیت', 'سسسسس', 'خیارشورش', 'نثارپلو', 'کبابشو', 'راری', '9٪', 'behtaro', 'گاردینو', 'قیمتونو', 'برندتون', 'فورماجیو', 'رران', 'مکررسوپرهربارجهت', 'گلپرشو', 'تابستنی', 'رودور', 'اصلاکیفیت', 'رولتتون', 'اماممنونم', 'ادسال', 'پرمزه', 'بربزی', 'کاملاااا', 'توجیحشون', 'ترابیکا', 'صابل', 'آرستو', 'شکلتی', 'پیشنهادنمیکنم', 'مناسفم', 'فنتا', 'انقدرر', 'بودنوهمینجوری', '3قلم', 'سرسعم', 'آالعاده', '٥دقیقه', 'پسفرداست', 'همبرگرای', 'پیتزاهارو', 'پنیرااای', 'اپاچینو', 'دوبرش', 'اغذیع', 'کینوای', 'ححجم', 'معنولی', 'فقط3تیکه', 'سودتودشون', 'العادهههه', 'عاااالیییی', 'نیاورن', 'سفارشارو', 'اصصصصلن', 'اگرواقعاخواهان', 'چیوزا', 'کالاهارا', 'چیگن', 'لکیشن', 'طولااااانی', '2500گرمی', 'خیارشورای', 'khorak', 'درموردش', 'نفرسید', 'جافتاده', 'بینهاست', 'تعیییر', 'بنظرن', 'ادرستونم', '1جوجه', 'تحویلشو', 'صافا', 'آجیله', 'ارزانتره', 'عذاهایی', 'وناجور', 'ساندویچو', 'کمتربودکه', 'مفمولی', 'ال5اده', 'y0m2d2', '1فیله', 'y0m500d7', 'اقلام1000تومنی', 'میجویدیش', '6000برای', 'کالزن', 'والتیوس', 'عاللی', 'بودمجبور', 'باتشکرازسرویس', 'لیمونعناعی', 'غذابدون', 'خوببب', 'پختشم', 'نوتلاس', 'مسئکل', 'نمبشد', 'رلتش', '18تومن', 'بدترییییین', 'فبلیم', 'گرسنگیرو', 'ظرفاش', 'جوجهدخوب', 'اوزیرا', 'هادداگ', 'قیکه', 'فاکتورمم', 'مخلفاتشو', 'پتزا', 'چیزکیکی', 'برنجشون', 'بودومزه', 'لکسپرس', 'عالییییییییییییییییییییییییییییییییییییییییییییییییییییییی', 'غرذا', 'اخخ', 'پاستاشم', 'دورریختم', 'پرگوشته', 'غذافوق', 'شیریناتون', 'دییقه', 'ناگتی', 'بدپخت', 'ازشیرینیهای', 'خیارشورشو', 'ماهیشو', 'ژامبن', 'گردیددست', 'غیرمعقوله', 'سالادسزار', 'پوستع', 'آمریکانو', 'وبروبیای', '8قلم', 'ادیوه', '1نون', 'غیرحضوریتون', 'قیمیای', 'شیش6ای', 'ظرفعای', 'ظولانی', 'عالللللللللللللللللللللللللللللللللللللللللللللللللللللللللللللیییییییییییییییییییییییییییییی', 'تمییییز', 'ناخشایند', 'تمییزو', 'نظییییر', 'مجموووع', 'داشتغذا', 'ماهشام', 'برگرشو', 'واااااااااااااقعا', 'فیاه', 'ویحوم', 'قزم', 'فاجعهههه', 'دستتشون', 'مشنبی', 'تاازه', 'کاباس', 'بووووددد', 'شیرینیتون', 'طمش', 'پنیرا', 'افتضاحححححح', 'هاام', 'گاهوهاش', 'mmnon', 'قائلند', 'y0m0d17', 'میفرستادین', 'پرپرروک', 'سراشپزشونه', 'ایننننننننن', 'کوتاه3هزار', 'سلادشم', 'براموون', '5500حساب', 'سییییب', 'خوشمزده', 'خشششک', 'راسحه', 'فلفلا', 'وانیلیه'}\n"
          ]
        }
      ]
    },
    {
      "cell_type": "markdown",
      "source": [
        "#Compare lstm and cnn"
      ],
      "metadata": {
        "id": "hEI21YB1poWb"
      }
    },
    {
      "cell_type": "markdown",
      "source": [
        "##Model using cnn"
      ],
      "metadata": {
        "id": "fkWTCzx4NAAQ"
      }
    },
    {
      "cell_type": "markdown",
      "source": [
        "###get model"
      ],
      "metadata": {
        "id": "cfsuOarKw894"
      }
    },
    {
      "cell_type": "code",
      "source": [
        "\n",
        "def get_model_cnn(embedding_matrix, word_index_len, embed_dim, max_len, save_model_path):\n",
        "    \"\"\"\n",
        "    load model if exists else create a model and return compiled model\n",
        "    \"\"\"\n",
        "    if os.path.exists(save_model_path):\n",
        "        model = tf.keras.models.load_model(save_model_path)\n",
        "        return model, False\n",
        "    \n",
        "    else:\n",
        "      input_layer = Input(shape=(max_len,), dtype='int32')\n",
        "      embedding_layer = Embedding(word_index_len + 1,\n",
        "                                  embed_dim,\n",
        "                                  weights=[embedding_matrix],\n",
        "                                  input_length=max_len,\n",
        "                                  trainable=True, \n",
        "                                  mask_zero=True)\n",
        "      embedded_sequences = embedding_layer(input_layer)\n",
        "      x = Conv1D(128, 3, activation='relu')(embedded_sequences)\n",
        "      x = MaxPooling1D(2)(x)\n",
        "      x = Flatten()(x)\n",
        "      x = Dropout(0.5)(x)\n",
        "      x = Dense(32, activation='relu')(x)\n",
        "      preds = Dense(1, activation='sigmoid')(x)\n",
        "\n",
        "      model = Model(input_layer, preds)\n",
        "      model.compile(loss=\"binary_crossentropy\",\n",
        "                    optimizer='adam',\n",
        "                    metrics=['accuracy'])\n",
        "      return model, True"
      ],
      "metadata": {
        "id": "z9sOCDFrLQIZ"
      },
      "execution_count": 46,
      "outputs": []
    },
    {
      "cell_type": "code",
      "source": [
        "save_model_path = \"/content/drive/MyDrive/snappfood_comment/cnn_model.h5\"\n",
        "model, need_train = get_model_cnn(embedding_matrix, len(word_index), embed_dim, max_len, save_model_path)"
      ],
      "metadata": {
        "id": "N8gzmhCOwE6J"
      },
      "execution_count": 47,
      "outputs": []
    },
    {
      "cell_type": "code",
      "source": [
        "model.summary()"
      ],
      "metadata": {
        "colab": {
          "base_uri": "https://localhost:8080/"
        },
        "id": "TQ63HDzdw30P",
        "outputId": "6d8bc0dd-93fb-4099-d88e-a94da4ed04b8"
      },
      "execution_count": 48,
      "outputs": [
        {
          "output_type": "stream",
          "name": "stdout",
          "text": [
            "Model: \"model_3\"\n",
            "_________________________________________________________________\n",
            " Layer (type)                Output Shape              Param #   \n",
            "=================================================================\n",
            " input_4 (InputLayer)        [(None, 128)]             0         \n",
            "                                                                 \n",
            " embedding_3 (Embedding)     (None, 128, 100)          2540000   \n",
            "                                                                 \n",
            " conv1d_6 (Conv1D)           (None, 126, 128)          38528     \n",
            "                                                                 \n",
            " max_pooling1d_6 (MaxPooling  (None, 63, 128)          0         \n",
            " 1D)                                                             \n",
            "                                                                 \n",
            " flatten_3 (Flatten)         (None, 8064)              0         \n",
            "                                                                 \n",
            " dropout_3 (Dropout)         (None, 8064)              0         \n",
            "                                                                 \n",
            " dense_6 (Dense)             (None, 32)                258080    \n",
            "                                                                 \n",
            " dense_7 (Dense)             (None, 1)                 33        \n",
            "                                                                 \n",
            "=================================================================\n",
            "Total params: 2,836,641\n",
            "Trainable params: 2,836,641\n",
            "Non-trainable params: 0\n",
            "_________________________________________________________________\n"
          ]
        }
      ]
    },
    {
      "cell_type": "markdown",
      "source": [
        "###train model"
      ],
      "metadata": {
        "id": "WCZZZVZ8rhcW"
      }
    },
    {
      "cell_type": "code",
      "source": [
        "if need_train:\n",
        "    history = model.fit(train_data, train_df.label_id, epochs=5, \n",
        "                        validation_data=(validation_data, validation_df.label_id),\n",
        "                        callbacks=[tf.keras.callbacks.EarlyStopping(monitor='val_loss', mode='min', patience=1)])\n",
        "    model.save(save_model_path)"
      ],
      "metadata": {
        "colab": {
          "base_uri": "https://localhost:8080/"
        },
        "id": "GHlhvsnkbSKa",
        "outputId": "94134f0d-9d68-4391-c43d-1f1ce959402a"
      },
      "execution_count": 49,
      "outputs": [
        {
          "output_type": "stream",
          "name": "stdout",
          "text": [
            "Epoch 1/5\n",
            "1772/1772 [==============================] - 102s 57ms/step - loss: 0.3744 - accuracy: 0.8370 - val_loss: 0.3306 - val_accuracy: 0.8654\n",
            "Epoch 2/5\n",
            "1772/1772 [==============================] - 97s 55ms/step - loss: 0.3104 - accuracy: 0.8717 - val_loss: 0.3267 - val_accuracy: 0.8643\n",
            "Epoch 3/5\n",
            "1772/1772 [==============================] - 97s 55ms/step - loss: 0.2775 - accuracy: 0.8868 - val_loss: 0.3370 - val_accuracy: 0.8592\n"
          ]
        }
      ]
    },
    {
      "cell_type": "markdown",
      "source": [
        "####train plot"
      ],
      "metadata": {
        "id": "-mmSuYr-rVWn"
      }
    },
    {
      "cell_type": "code",
      "source": [
        "plt.plot(history.history['accuracy'])\n",
        "plt.plot(history.history['val_accuracy'])\n",
        "plt.title('model accuracy')\n",
        "plt.ylabel('accuracy')\n",
        "plt.xlabel('epoch')\n",
        "plt.legend(['train', 'val'], loc='upper left')\n",
        "plt.show()"
      ],
      "metadata": {
        "colab": {
          "base_uri": "https://localhost:8080/",
          "height": 295
        },
        "id": "OyakQ2N-ye0h",
        "outputId": "f3ab47f5-80a2-4af0-93f9-b0b68919ae05"
      },
      "execution_count": 50,
      "outputs": [
        {
          "output_type": "display_data",
          "data": {
            "text/plain": [
              "<Figure size 432x288 with 1 Axes>"
            ],
            "image/png": "[encoded data removed]"
          },
          "metadata": {
            "needs_background": "light"
          }
        }
      ]
    },
    {
      "cell_type": "code",
      "source": [
        "plt.plot(history.history['loss'])\n",
        "plt.plot(history.history['val_loss'])\n",
        "plt.title('model loss')\n",
        "plt.ylabel('loss')\n",
        "plt.xlabel('epoch')\n",
        "plt.legend(['train', 'val'], loc='upper left')\n",
        "plt.show()"
      ],
      "metadata": {
        "colab": {
          "base_uri": "https://localhost:8080/",
          "height": 295
        },
        "id": "0dMZbD8krTwy",
        "outputId": "fd145460-882c-45c1-d8c4-eef8bbe0c7f6"
      },
      "execution_count": 51,
      "outputs": [
        {
          "output_type": "display_data",
          "data": {
            "text/plain": [
              "<Figure size 432x288 with 1 Axes>"
            ],
            "image/png": "[encoded data removed]"
          },
          "metadata": {
            "needs_background": "light"
          }
        }
      ]
    },
    {
      "cell_type": "markdown",
      "source": [
        "###evaluate model"
      ],
      "metadata": {
        "id": "cpCK0IE9rn7P"
      }
    },
    {
      "cell_type": "code",
      "source": [
        "test_path = \"/content/drive/MyDrive/DM/dev.csv\""
      ],
      "metadata": {
        "id": "fxHdnRR1rqCI"
      },
      "execution_count": 52,
      "outputs": []
    },
    {
      "cell_type": "code",
      "source": [
        "test_df = pd.read_csv(test_path, delimiter='\\t' , index_col=0)\n",
        "test_df['clean_comment'] = test_df['comment'].apply(TextCleaner.clean_text)\n",
        "test_sequences = tokenizer.texts_to_sequences(test_df.clean_comment)\n",
        "test_data = pad_sequences(test_sequences, maxlen=max_len)"
      ],
      "metadata": {
        "id": "Qidhu0QBsMVH",
        "colab": {
          "base_uri": "https://localhost:8080/"
        },
        "outputId": "b2314b07-4ee0-44b7-8718-d23d36dfd375"
      },
      "execution_count": 53,
      "outputs": [
        {
          "output_type": "stream",
          "name": "stdout",
          "text": [
            "error\n",
            "error\n"
          ]
        }
      ]
    },
    {
      "cell_type": "code",
      "source": [
        "y_pred = model.predict(test_data)"
      ],
      "metadata": {
        "id": "6keiZrZZuMLQ"
      },
      "execution_count": 54,
      "outputs": []
    },
    {
      "cell_type": "code",
      "source": [
        "y_pred.shape"
      ],
      "metadata": {
        "colab": {
          "base_uri": "https://localhost:8080/"
        },
        "id": "0imkEo05vCgr",
        "outputId": "003b191c-6013-47bf-d610-7e2ba5d11aad"
      },
      "execution_count": 55,
      "outputs": [
        {
          "output_type": "execute_result",
          "data": {
            "text/plain": [
              "(6300, 1)"
            ]
          },
          "metadata": {},
          "execution_count": 55
        }
      ]
    },
    {
      "cell_type": "code",
      "source": [
        "y_pred = np.array(y_pred > 0.5).astype(\"int32\")"
      ],
      "metadata": {
        "id": "ToSEa131vF4k"
      },
      "execution_count": 56,
      "outputs": []
    },
    {
      "cell_type": "code",
      "source": [
        "print(classification_report(test_df.label_id, y_pred))"
      ],
      "metadata": {
        "colab": {
          "base_uri": "https://localhost:8080/"
        },
        "id": "9IMrCBszuPSf",
        "outputId": "d7cfad2c-1874-4df9-807a-514bcfce1eee"
      },
      "execution_count": 57,
      "outputs": [
        {
          "output_type": "stream",
          "name": "stdout",
          "text": [
            "              precision    recall  f1-score   support\n",
            "\n",
            "           0       0.91      0.80      0.85      3150\n",
            "           1       0.82      0.92      0.87      3150\n",
            "\n",
            "    accuracy                           0.86      6300\n",
            "   macro avg       0.86      0.86      0.86      6300\n",
            "weighted avg       0.86      0.86      0.86      6300\n",
            "\n"
          ]
        }
      ]
    },
    {
      "cell_type": "code",
      "source": [
        "print(\"precision_score\", precision_score(test_df.label_id, y_pred , average=\"macro\"))\n",
        "print(\"recall_score\", recall_score(test_df.label_id, y_pred , average=\"macro\"))\n",
        "print(\"f1_score\", f1_score(test_df.label_id, y_pred , average=\"macro\"))"
      ],
      "metadata": {
        "colab": {
          "base_uri": "https://localhost:8080/"
        },
        "id": "UoHvLW6Zsipe",
        "outputId": "52204db1-94c1-4fac-b5c2-bc2fcb0c52d4"
      },
      "execution_count": 58,
      "outputs": [
        {
          "output_type": "stream",
          "name": "stdout",
          "text": [
            "precision_score 0.8643146109863359\n",
            "recall_score 0.8592063492063493\n",
            "f1_score 0.8587110761732657\n"
          ]
        }
      ]
    },
    {
      "cell_type": "markdown",
      "source": [
        "##Model using lstm"
      ],
      "metadata": {
        "id": "LGhBinw_xo-N"
      }
    },
    {
      "cell_type": "markdown",
      "source": [
        "###get model"
      ],
      "metadata": {
        "id": "XRR9WvEZwu77"
      }
    },
    {
      "cell_type": "code",
      "source": [
        "\n",
        "def get_model_lstm(embedding_matrix, word_index_len, embed_dim, max_len, save_model_path):\n",
        "    \"\"\"\n",
        "    load model if exists else create a model and return compiled model\n",
        "    \"\"\"\n",
        "    if os.path.exists(save_model_path):\n",
        "        model = tf.keras.models.load_model(save_model_path)\n",
        "        return model, False\n",
        "    \n",
        "    else:\n",
        "      input_layer = Input(shape=(max_len,), dtype='int32')\n",
        "      embedding_layer = Embedding(word_index_len + 1,\n",
        "                                  embed_dim,\n",
        "                                  weights=[embedding_matrix],\n",
        "                                  input_length=max_len,\n",
        "                                  trainable=True, \n",
        "                                  mask_zero=True)\n",
        "      embedded_sequences = embedding_layer(input_layer)\n",
        "      x = LSTM(128)(embedded_sequences)\n",
        "      x = Dropout(0.5)(x)\n",
        "      preds = Dense(1, activation='sigmoid')(x)\n",
        "\n",
        "      model = Model(input_layer, preds)\n",
        "      model.compile(loss=\"binary_crossentropy\",\n",
        "                    optimizer='adam',\n",
        "                    metrics=['accuracy'])\n",
        "      return model, True"
      ],
      "metadata": {
        "id": "Te_7T2aH714F"
      },
      "execution_count": 59,
      "outputs": []
    },
    {
      "cell_type": "code",
      "source": [
        "save_model_path = \"/content/drive/MyDrive/snappfood_comment/lstm_model.h5\"\n",
        "model, need_train = get_model_lstm(embedding_matrix, len(word_index), embed_dim, max_len, save_model_path)"
      ],
      "metadata": {
        "id": "VEKq89XkwrCL"
      },
      "execution_count": 60,
      "outputs": []
    },
    {
      "cell_type": "code",
      "source": [
        "model.summary()"
      ],
      "metadata": {
        "id": "W-_JWEF0xAFD",
        "colab": {
          "base_uri": "https://localhost:8080/"
        },
        "outputId": "28bc9568-ecaf-4b6d-fa30-e654143d56b7"
      },
      "execution_count": 61,
      "outputs": [
        {
          "output_type": "stream",
          "name": "stdout",
          "text": [
            "Model: \"model_4\"\n",
            "_________________________________________________________________\n",
            " Layer (type)                Output Shape              Param #   \n",
            "=================================================================\n",
            " input_5 (InputLayer)        [(None, 128)]             0         \n",
            "                                                                 \n",
            " embedding_4 (Embedding)     (None, 128, 100)          2540000   \n",
            "                                                                 \n",
            " lstm (LSTM)                 (None, 128)               117248    \n",
            "                                                                 \n",
            " dropout_4 (Dropout)         (None, 128)               0         \n",
            "                                                                 \n",
            " dense_8 (Dense)             (None, 1)                 129       \n",
            "                                                                 \n",
            "=================================================================\n",
            "Total params: 2,657,377\n",
            "Trainable params: 2,657,377\n",
            "Non-trainable params: 0\n",
            "_________________________________________________________________\n"
          ]
        }
      ]
    },
    {
      "cell_type": "markdown",
      "source": [
        "###train model"
      ],
      "metadata": {
        "id": "ZXwGTLKtxK01"
      }
    },
    {
      "cell_type": "code",
      "source": [
        "if need_train:\n",
        "    history = model.fit(train_data, train_df.label_id, epochs=50, \n",
        "                        validation_data=(validation_data, validation_df.label_id), \n",
        "                        callbacks=[tf.keras.callbacks.EarlyStopping(monitor='val_loss', mode='min', patience=1)])\n",
        "    model.save(save_model_path)"
      ],
      "metadata": {
        "id": "_aulpbL4xAmd",
        "colab": {
          "base_uri": "https://localhost:8080/"
        },
        "outputId": "0c79d754-80a8-4b8a-8e03-76ea1157c6c5"
      },
      "execution_count": 62,
      "outputs": [
        {
          "output_type": "stream",
          "name": "stdout",
          "text": [
            "Epoch 1/50\n",
            "1772/1772 [==============================] - 359s 200ms/step - loss: 0.3714 - accuracy: 0.8446 - val_loss: 0.3278 - val_accuracy: 0.8586\n",
            "Epoch 2/50\n",
            "1772/1772 [==============================] - 355s 200ms/step - loss: 0.3053 - accuracy: 0.8735 - val_loss: 0.3229 - val_accuracy: 0.8638\n",
            "Epoch 3/50\n",
            "1772/1772 [==============================] - 352s 199ms/step - loss: 0.2719 - accuracy: 0.8884 - val_loss: 0.3261 - val_accuracy: 0.8632\n"
          ]
        }
      ]
    },
    {
      "cell_type": "markdown",
      "source": [
        "####plot history of train"
      ],
      "metadata": {
        "id": "2mqX43yjxNMe"
      }
    },
    {
      "cell_type": "code",
      "source": [
        "plt.plot(history.history['accuracy'])\n",
        "plt.plot(history.history['val_accuracy'])\n",
        "plt.title('model accuracy')\n",
        "plt.ylabel('accuracy')\n",
        "plt.xlabel('epoch')\n",
        "plt.legend(['train', 'val'], loc='upper left')\n",
        "plt.show()"
      ],
      "metadata": {
        "id": "e5CXn5TGxE35",
        "colab": {
          "base_uri": "https://localhost:8080/",
          "height": 295
        },
        "outputId": "86af66ff-aa12-4c2e-8f20-ef884f58add6"
      },
      "execution_count": 63,
      "outputs": [
        {
          "output_type": "display_data",
          "data": {
            "text/plain": [
              "<Figure size 432x288 with 1 Axes>"
            ],
            "image/png": "[encoded data removed]"
          },
          "metadata": {
            "needs_background": "light"
          }
        }
      ]
    },
    {
      "cell_type": "code",
      "source": [
        "plt.plot(history.history['loss'])\n",
        "plt.plot(history.history['val_loss'])\n",
        "plt.title('model loss')\n",
        "plt.ylabel('loss')\n",
        "plt.xlabel('epoch')\n",
        "plt.legend(['train', 'val'], loc='upper left')\n",
        "plt.show()"
      ],
      "metadata": {
        "id": "fE12zYdjxHyu",
        "colab": {
          "base_uri": "https://localhost:8080/",
          "height": 295
        },
        "outputId": "f1fdea70-fad8-4221-b3c0-99f46afe76f7"
      },
      "execution_count": 64,
      "outputs": [
        {
          "output_type": "display_data",
          "data": {
            "text/plain": [
              "<Figure size 432x288 with 1 Axes>"
            ],
            "image/png": "[encoded data removed]"
          },
          "metadata": {
            "needs_background": "light"
          }
        }
      ]
    },
    {
      "cell_type": "markdown",
      "source": [
        "###evaluate model"
      ],
      "metadata": {
        "id": "vb2SM6pPx7O3"
      }
    },
    {
      "cell_type": "code",
      "source": [
        "test_path = \"/content/drive/MyDrive/DM/dev.csv\""
      ],
      "metadata": {
        "id": "8yek04XSxRQL"
      },
      "execution_count": 65,
      "outputs": []
    },
    {
      "cell_type": "code",
      "source": [
        "test_df = pd.read_csv(test_path, delimiter='\\t' , index_col=0)\n",
        "test_df['clean_comment'] = test_df['comment'].apply(TextCleaner.clean_text)\n",
        "test_sequences = tokenizer.texts_to_sequences(test_df.clean_comment)\n",
        "test_data = pad_sequences(test_sequences, maxlen=max_len)"
      ],
      "metadata": {
        "id": "PM4jYeU3xT6Y",
        "colab": {
          "base_uri": "https://localhost:8080/"
        },
        "outputId": "d231bac4-264a-4ff4-f381-4b7d451bba51"
      },
      "execution_count": 66,
      "outputs": [
        {
          "output_type": "stream",
          "name": "stdout",
          "text": [
            "error\n",
            "error\n"
          ]
        }
      ]
    },
    {
      "cell_type": "code",
      "source": [
        "y_pred = model.predict(test_data)"
      ],
      "metadata": {
        "id": "jrzk1PLoc5ka"
      },
      "execution_count": 67,
      "outputs": []
    },
    {
      "cell_type": "code",
      "source": [
        "y_pred = np.array(y_pred > 0.5).astype(\"int32\")"
      ],
      "metadata": {
        "id": "7V0szNDNc-xH"
      },
      "execution_count": 68,
      "outputs": []
    },
    {
      "cell_type": "code",
      "source": [
        "print(classification_report(test_df.label_id, y_pred))"
      ],
      "metadata": {
        "id": "XZ34q-FlyDGS",
        "colab": {
          "base_uri": "https://localhost:8080/"
        },
        "outputId": "85ba3650-4672-4b23-d95a-089349f3af30"
      },
      "execution_count": 69,
      "outputs": [
        {
          "output_type": "stream",
          "name": "stdout",
          "text": [
            "              precision    recall  f1-score   support\n",
            "\n",
            "           0       0.90      0.82      0.86      3150\n",
            "           1       0.83      0.91      0.87      3150\n",
            "\n",
            "    accuracy                           0.86      6300\n",
            "   macro avg       0.87      0.86      0.86      6300\n",
            "weighted avg       0.87      0.86      0.86      6300\n",
            "\n"
          ]
        }
      ]
    },
    {
      "cell_type": "code",
      "source": [
        "print(\"precision_score\", precision_score(test_df.label_id, y_pred , average=\"macro\"))\n",
        "print(\"recall_score\", recall_score(test_df.label_id, y_pred , average=\"macro\"))\n",
        "print(\"f1_score\", f1_score(test_df.label_id, y_pred , average=\"macro\"))"
      ],
      "metadata": {
        "id": "6LgvuNgNyFg9",
        "colab": {
          "base_uri": "https://localhost:8080/"
        },
        "outputId": "afdaf5fb-3534-48e8-9de5-1d9a0e252222"
      },
      "execution_count": 70,
      "outputs": [
        {
          "output_type": "stream",
          "name": "stdout",
          "text": [
            "precision_score 0.8659434182990394\n",
            "recall_score 0.8631746031746032\n",
            "f1_score 0.8629152992947808\n"
          ]
        }
      ]
    }
  ]
}